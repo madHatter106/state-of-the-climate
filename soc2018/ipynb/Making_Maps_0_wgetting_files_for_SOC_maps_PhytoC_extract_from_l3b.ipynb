{
 "cells": [
  {
   "cell_type": "code",
   "execution_count": 1,
   "metadata": {},
   "outputs": [],
   "source": [
    "import subprocess\n",
    "import pathlib\n",
    "import wget\n",
    "import tqdm"
   ]
  },
  {
   "cell_type": "code",
   "execution_count": 2,
   "metadata": {},
   "outputs": [],
   "source": [
    "datapath = '/accounts/ekarakoy/DATA/SOC/SOC_2018/Aqua_MC/IOP/'\n",
    "l3m_ext = '.L3m_MC_bbp_443_giop_9km.nc'\n",
    "url = 'https://oceandata.sci.gsfc.nasa.gov/cgi/getfile/'\n",
    "prod = 'bbp_443_giop'"
   ]
  },
  {
   "cell_type": "code",
   "execution_count": 3,
   "metadata": {},
   "outputs": [],
   "source": [
    "with open('../bbp443giop_mc.txt') as f:\n",
    "    mc_file_list = [line.strip('\\n') for line in f.readlines()]"
   ]
  },
  {
   "cell_type": "code",
   "execution_count": 4,
   "metadata": {},
   "outputs": [
    {
     "data": {
      "text/plain": [
       "['A20030012011031.L3b_MC_IOP.nc',\n",
       " 'A20030322011059.L3b_MC_IOP.nc',\n",
       " 'A20030602011090.L3b_MC_IOP.nc',\n",
       " 'A20030912011120.L3b_MC_IOP.nc',\n",
       " 'A20031212011151.L3b_MC_IOP.nc',\n",
       " 'A20031522011181.L3b_MC_IOP.nc',\n",
       " 'A20031822011212.L3b_MC_IOP.nc',\n",
       " 'A20032132011243.L3b_MC_IOP.nc',\n",
       " 'A20032442011273.L3b_MC_IOP.nc',\n",
       " 'A20032742011304.L3b_MC_IOP.nc',\n",
       " 'A20033052011334.L3b_MC_IOP.nc',\n",
       " 'A20033352011365.L3b_MC_IOP.nc']"
      ]
     },
     "execution_count": 4,
     "metadata": {},
     "output_type": "execute_result"
    }
   ],
   "source": [
    "mc_file_list"
   ]
  },
  {
   "cell_type": "code",
   "execution_count": 5,
   "metadata": {},
   "outputs": [],
   "source": [
    "mc_l3_conv_dict = {k:f\"{k.split('.')[0]}{l3m_ext}\" for k in mc_file_list}"
   ]
  },
  {
   "cell_type": "code",
   "execution_count": 6,
   "metadata": {},
   "outputs": [
    {
     "data": {
      "text/plain": [
       "{'A20030012011031.L3b_MC_IOP.nc': 'A20030012011031.L3m_MC_bbp_443_giop_9km.nc',\n",
       " 'A20030322011059.L3b_MC_IOP.nc': 'A20030322011059.L3m_MC_bbp_443_giop_9km.nc',\n",
       " 'A20030602011090.L3b_MC_IOP.nc': 'A20030602011090.L3m_MC_bbp_443_giop_9km.nc',\n",
       " 'A20030912011120.L3b_MC_IOP.nc': 'A20030912011120.L3m_MC_bbp_443_giop_9km.nc',\n",
       " 'A20031212011151.L3b_MC_IOP.nc': 'A20031212011151.L3m_MC_bbp_443_giop_9km.nc',\n",
       " 'A20031522011181.L3b_MC_IOP.nc': 'A20031522011181.L3m_MC_bbp_443_giop_9km.nc',\n",
       " 'A20031822011212.L3b_MC_IOP.nc': 'A20031822011212.L3m_MC_bbp_443_giop_9km.nc',\n",
       " 'A20032132011243.L3b_MC_IOP.nc': 'A20032132011243.L3m_MC_bbp_443_giop_9km.nc',\n",
       " 'A20032442011273.L3b_MC_IOP.nc': 'A20032442011273.L3m_MC_bbp_443_giop_9km.nc',\n",
       " 'A20032742011304.L3b_MC_IOP.nc': 'A20032742011304.L3m_MC_bbp_443_giop_9km.nc',\n",
       " 'A20033052011334.L3b_MC_IOP.nc': 'A20033052011334.L3m_MC_bbp_443_giop_9km.nc',\n",
       " 'A20033352011365.L3b_MC_IOP.nc': 'A20033352011365.L3m_MC_bbp_443_giop_9km.nc'}"
      ]
     },
     "execution_count": 6,
     "metadata": {},
     "output_type": "execute_result"
    }
   ],
   "source": [
    "mc_l3_conv_dict"
   ]
  },
  {
   "cell_type": "code",
   "execution_count": 7,
   "metadata": {},
   "outputs": [
    {
     "name": "stdout",
     "output_type": "stream",
     "text": [
      "l3b: A20030012011031.L3b_MC_IOP.nc\n",
      "l3m: A20030012011031.L3m_MC_bbp_443_giop_9km.nc\n",
      "A20030012011031.L3b_MC_IOP.nc found - skipping download\n",
      "converting A20030012011031.L3b_MC_IOP.nc to A20030012011031.L3m_MC_bbp_443_giop_9km.nc\n",
      "l3b: A20030322011059.L3b_MC_IOP.nc\n",
      "l3m: A20030322011059.L3m_MC_bbp_443_giop_9km.nc\n",
      "A20030322011059.L3b_MC_IOP.nc found - skipping download\n",
      "converting A20030322011059.L3b_MC_IOP.nc to A20030322011059.L3m_MC_bbp_443_giop_9km.nc\n",
      "l3b: A20030602011090.L3b_MC_IOP.nc\n",
      "l3m: A20030602011090.L3m_MC_bbp_443_giop_9km.nc\n",
      "A20030602011090.L3b_MC_IOP.nc found - skipping download\n",
      "converting A20030602011090.L3b_MC_IOP.nc to A20030602011090.L3m_MC_bbp_443_giop_9km.nc\n",
      "l3b: A20030912011120.L3b_MC_IOP.nc\n",
      "l3m: A20030912011120.L3m_MC_bbp_443_giop_9km.nc\n",
      "A20030912011120.L3b_MC_IOP.nc found - skipping download\n",
      "converting A20030912011120.L3b_MC_IOP.nc to A20030912011120.L3m_MC_bbp_443_giop_9km.nc\n",
      "l3b: A20031212011151.L3b_MC_IOP.nc\n",
      "l3m: A20031212011151.L3m_MC_bbp_443_giop_9km.nc\n",
      "A20031212011151.L3b_MC_IOP.nc found - skipping download\n",
      "converting A20031212011151.L3b_MC_IOP.nc to A20031212011151.L3m_MC_bbp_443_giop_9km.nc\n",
      "l3b: A20031522011181.L3b_MC_IOP.nc\n",
      "l3m: A20031522011181.L3m_MC_bbp_443_giop_9km.nc\n",
      "A20031522011181.L3b_MC_IOP.nc found - skipping download\n",
      "converting A20031522011181.L3b_MC_IOP.nc to A20031522011181.L3m_MC_bbp_443_giop_9km.nc\n",
      "l3b: A20031822011212.L3b_MC_IOP.nc\n",
      "l3m: A20031822011212.L3m_MC_bbp_443_giop_9km.nc\n",
      "A20031822011212.L3b_MC_IOP.nc found - skipping download\n",
      "converting A20031822011212.L3b_MC_IOP.nc to A20031822011212.L3m_MC_bbp_443_giop_9km.nc\n",
      "l3b: A20032132011243.L3b_MC_IOP.nc\n",
      "l3m: A20032132011243.L3m_MC_bbp_443_giop_9km.nc\n",
      "A20032132011243.L3b_MC_IOP.nc found - skipping download\n",
      "converting A20032132011243.L3b_MC_IOP.nc to A20032132011243.L3m_MC_bbp_443_giop_9km.nc\n",
      "l3b: A20032442011273.L3b_MC_IOP.nc\n",
      "l3m: A20032442011273.L3m_MC_bbp_443_giop_9km.nc\n",
      "A20032442011273.L3b_MC_IOP.nc found - skipping download\n",
      "converting A20032442011273.L3b_MC_IOP.nc to A20032442011273.L3m_MC_bbp_443_giop_9km.nc\n",
      "l3b: A20032742011304.L3b_MC_IOP.nc\n",
      "l3m: A20032742011304.L3m_MC_bbp_443_giop_9km.nc\n",
      "A20032742011304.L3b_MC_IOP.nc found - skipping download\n",
      "converting A20032742011304.L3b_MC_IOP.nc to A20032742011304.L3m_MC_bbp_443_giop_9km.nc\n",
      "l3b: A20033052011334.L3b_MC_IOP.nc\n",
      "l3m: A20033052011334.L3m_MC_bbp_443_giop_9km.nc\n",
      "A20033052011334.L3b_MC_IOP.nc found - skipping download\n",
      "converting A20033052011334.L3b_MC_IOP.nc to A20033052011334.L3m_MC_bbp_443_giop_9km.nc\n",
      "l3b: A20033352011365.L3b_MC_IOP.nc\n",
      "l3m: A20033352011365.L3m_MC_bbp_443_giop_9km.nc\n",
      "A20033352011365.L3b_MC_IOP.nc found - skipping download\n",
      "converting A20033352011365.L3b_MC_IOP.nc to A20033352011365.L3m_MC_bbp_443_giop_9km.nc\n"
     ]
    }
   ],
   "source": [
    "for l3b, l3m in mc_l3_conv_dict.items():\n",
    "    path_l3b = pathlib.PosixPath(f'{datapath}{l3b}')\n",
    "    path_l3m = pathlib.PosixPath(f'{datapath}{l3m}')\n",
    "    cmd_list = ''.join(['smigen', f' ifile={path_l3b.as_posix()}',\n",
    "                       f' ofile={path_l3m.as_posix()}', f' prod={prod}'])\n",
    "    print(f'l3b: {path_l3b.name}')\n",
    "    print(f'l3m: {path_l3m.name}')\n",
    "    if path_l3b.exists():\n",
    "        print(f'{path_l3b.name} found - skipping download')\n",
    "    else: \n",
    "        try:\n",
    "            print(f'downloading {path_l3b.name}')\n",
    "            wget.download(f'{url}{l3b}', out=f'{path_l3b.as_posix()}')\n",
    "        except HTTPError:\n",
    "            print(f'{file} not found on server', flush=True)\n",
    "    if path_l3m.exists():\n",
    "        print(f'{path_l3m.name} found - skipping conversion')\n",
    "        continue\n",
    "    else:\n",
    "        print(f'converting {l3b} to {l3m}')\n",
    "        subprocess.run(cmd_list, shell=True)\n",
    "print('done!')"
   ]
  },
  {
   "cell_type": "code",
   "execution_count": null,
   "metadata": {},
   "outputs": [],
   "source": []
  }
 ],
 "metadata": {
  "kernelspec": {
   "display_name": "Python [conda env:anaconda3]",
   "language": "python",
   "name": "conda-env-anaconda3-py"
  },
  "language_info": {
   "codemirror_mode": {
    "name": "ipython",
    "version": 3
   },
   "file_extension": ".py",
   "mimetype": "text/x-python",
   "name": "python",
   "nbconvert_exporter": "python",
   "pygments_lexer": "ipython3",
   "version": "3.6.7"
  }
 },
 "nbformat": 4,
 "nbformat_minor": 2
}
