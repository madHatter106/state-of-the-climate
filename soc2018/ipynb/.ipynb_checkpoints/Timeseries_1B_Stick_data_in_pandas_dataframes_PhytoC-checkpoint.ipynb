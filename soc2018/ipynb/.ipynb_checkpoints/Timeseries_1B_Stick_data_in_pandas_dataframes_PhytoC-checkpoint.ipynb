{
 "cells": [
  {
   "cell_type": "markdown",
   "metadata": {},
   "source": [
    "This notebook loads data stored in text files, formats and stored into pandas dataframes. Some additional producs are computed and stored in dataframes, including uncertainty band and chl anomaly. The dataframes are then pickled for plotting in a later notebook."
   ]
  },
  {
   "cell_type": "code",
   "execution_count": 1,
   "metadata": {
    "collapsed": true
   },
   "outputs": [],
   "source": [
    "import pandas as pd\n",
    "import pathlib\n",
    "from datetime import datetime\n",
    "import pickle\n",
    "from scipy.stats import mode\n",
    "import numpy as np\n",
    "from IPython.core.display import HTML, display\n",
    "from matplotlib import rcParams"
   ]
  },
  {
   "cell_type": "code",
   "execution_count": 2,
   "metadata": {
    "collapsed": true
   },
   "outputs": [],
   "source": [
    "%matplotlib inline"
   ]
  },
  {
   "cell_type": "code",
   "execution_count": 10,
   "metadata": {
    "collapsed": true
   },
   "outputs": [],
   "source": [
    "def convert_secs2dt(sec):\n",
    "    \"\"\"\n",
    "    Converts seconds to python datetime object.\n",
    "    :param sec \n",
    "    :return: datetime object\n",
    "    \"\"\"\n",
    "    zd00 = datetime(2000, 1, 1)\n",
    "    zd70 = datetime(1970, 1, 1)\n",
    "    offset = (zd00 - zd70).total_seconds()\n",
    "    z = datetime.utcfromtimestamp(sec + offset)\n",
    "    return z\n",
    "\n",
    "\n",
    "def get_doy(secs):\n",
    "    \"\"\"\n",
    "    Converts seconds to fractional day of year.\n",
    "    :param secs\n",
    "    :return: fractional day of year \n",
    "    \"\"\"\n",
    "    z = convert_secs2dt(secs)\n",
    "    y = z.year\n",
    "    return (secs + (datetime(2000, 1, 1) - datetime(y, 1, 1)).total_seconds()) / 86400\n",
    "\n",
    "\n",
    "def load_format_data(filepath, minimal=True, columns=None, quantity='chl_a'):\n",
    "    \"\"\"\n",
    "    Loads chlorophyll data into a pandas dataframe,\n",
    "    formats time entries, and creates a datetime index.\n",
    "    :param filepath: string or pathlib object  \n",
    "    :param minimal: if True returns only chl_a_mean; drops the rest.\n",
    "    :return: pandas datetime indexed dataframe\n",
    "    \"\"\"\n",
    "    if columns is None:\n",
    "        columns = ['time', 'nbins', 'mean', 'median', 'stdv']\n",
    "    \n",
    "    df = pd.read_csv(filepath, delim_whitespace=True, names=columns)\n",
    "    df['datetime'] = df.time.apply(convert_secs2dt)\n",
    "    df.set_index('datetime', inplace=True)\n",
    "    if minimal:\n",
    "        df = df[['mean']]\n",
    "    df.rename(columns={'mean': '%s_mean' % quantity}, inplace=True)\n",
    "    return df\n",
    "\n",
    "\n",
    "def regress_phyto_c(df, mean_col_label='bbp_443_giop_mean',\n",
    "                   reg_slope=12128, reg_bias=0.59):\n",
    "    df['phyto_c'] = df[mean_col_label] * reg_slope + reg_bias\n",
    "    return df\n",
    "\n",
    "\n",
    "def get_monthly_means(df, **kwargs):\n",
    "    \"\"\"\n",
    "    Groups data by month and compute annual cycle based on monthly means.\n",
    "    :param df: \n",
    "        datetime indexed pandas dataframe\n",
    "    :param kwargs:\n",
    "        year_start (optional): string, slice start\n",
    "        year_end (optional): string, slice end\n",
    "    :return: \n",
    "        month-indexed pandas dataframe with monthly means\n",
    "    \"\"\"\n",
    "    year_start = kwargs.pop('year_start', df.index.year[0])\n",
    "    year_end = kwargs.pop('year_end', df.index.year[-1])\n",
    "    return df.loc[str(year_start): str(year_end)].groupby(lambda x: x.month).aggregate('mean')\n",
    "\n",
    "\n",
    "def get_anomaly(df, df_ann_cycle, name='chl_a_mean', anomaly_name='anomaly'):\n",
    "    \"\"\"\n",
    "    Computes annomaly by removing monthly mean for a given month\n",
    "    :param df:\n",
    "        pandas dataframe with [name] parameter column\n",
    "    :param df_ann_cycle:\n",
    "        pandas dataframe of length 12 containing monthly means\n",
    "    :param name:\n",
    "        str, label of quantity to get anomaly from\n",
    "    :return:\n",
    "        None\n",
    "    \"\"\"\n",
    "\n",
    "    for month in df_ann_cycle.index:\n",
    "        idx = df.index.month == month\n",
    "        df.loc[idx, anomaly_name] = df.loc[idx, name] - df_ann_cycle.loc[month, name]\n",
    "\n",
    "\n",
    "def test(datadir):\n",
    "    testfile = datadir / 'ar2018.0m_AtlN55_chlor_a.txt'\n",
    "    df_test = load_format_data(testfile, minimal=False)\n",
    "    t0 = df_test.time[0]    \n",
    "    z0 = convert_secs2dt(t0)\n",
    "    zstr0 = z0.strftime('%Y%j%H%M%S')\n",
    "    try:\n",
    "        assert zstr0 + '000' == str(2002197194740000)\n",
    "    except AssertionError as e:\n",
    "        print(e)\n",
    "        print(zstr0)\n",
    "    assert z0.year == 2002\n",
    "    doy0 = get_doy(t0)\n",
    "    assert doy0 == 196.82476851851851\n",
    "    tl = df_test.tail(1).time.values\n",
    "    zl = convert_secs2dt(tl)\n",
    "    zstrl = zl.strftime('%Y%j%H%M%S')\n",
    "    assert zstrl + '000' == str(2016321013320000)\n",
    "    assert zl.year == 2016\n",
    "    doyl = get_doy(tl)\n",
    "    assert doyl == 320.06481481481484\n",
    "    print(\"all tests passed\")"
   ]
  },
  {
   "cell_type": "code",
   "execution_count": 4,
   "metadata": {},
   "outputs": [
    {
     "data": {
      "text/html": [
       "<style>.container {width: 90%}</style>"
      ],
      "text/plain": [
       "<IPython.core.display.HTML object>"
      ]
     },
     "metadata": {},
     "output_type": "display_data"
    }
   ],
   "source": [
    "# Global graphics setup\n",
    "display(HTML(\"<style>.container {width: 90%}</style>\"))\n",
    "plot_colors = {'swf': '#000000',\n",
    "               'aqua': '#348ABD',\n",
    "               'viirs': '#A60628',\n",
    "               'mei': '#467821',\n",
    "               }\n",
    "rcParams['axes.labelsize'] = 15\n",
    "rcParams['xtick.labelsize'] = 15\n",
    "rcParams['ytick.labelsize'] = 15\n",
    "rcParams['font.size'] = 15\n",
    "rcParams['ytick.major.size'] = 8\n",
    "rcParams['ytick.minor.size'] = 3\n",
    "rcParams['xtick.major.size'] = 8\n",
    "rcParams['xtick.minor.size'] = 3\n",
    "rcParams['xtick.top'] = True\n",
    "rcParams['ytick.direction'] = 'in'\n",
    "rcParams['xtick.direction'] = 'in'"
   ]
  },
  {
   "cell_type": "code",
   "execution_count": 5,
   "metadata": {
    "collapsed": true
   },
   "outputs": [],
   "source": [
    "# Paths\n",
    "home = pathlib.Path.home()\n",
    "dataMain = home / 'DEV-ALL/State_of_the_Climate/soc2018/TIMESERIES/'\n",
    "aquaIOPdir = dataMain / 'ar2018.0IOPm_ar2018.0IOPm/stats'\n",
    "swfIOPdir = dataMain / 'sr2018.0IOPm_sr2018.0IOPm/stats'\n",
    "viirsIOPdir = dataMain / 'vr2018.0IOPm_vr2018.0IOPm/stats'\n",
    "fp_bbp_443_giop_aqua = aquaIOPdir / 'ar2018.0IOPm_eqsst_bbp_443_giop.txt'\n",
    "fp_bbp_443_giop_swf = swfIOPdir / 'sr2018.0IOPm_eqsst_bbp_443_giop.txt'\n",
    "fp_bbp_443_giop_viirs = viirsIOPdir / 'vr2018.0IOPm_eqsst_bbp_443_giop.txt'\n",
    "#test(test_aquadir)"
   ]
  },
  {
   "cell_type": "code",
   "execution_count": 14,
   "metadata": {
    "collapsed": true
   },
   "outputs": [],
   "source": [
    "df_swf_bbp = load_format_data(fp_bbp_443_giop_swf, quantity='bbp_443_giop')\n",
    "df_aqua_bbp = load_format_data(fp_bbp_443_giop_aqua, quantity='bbp_443_giop')\n",
    "df_viirs_bbp = load_format_data(fp_bbp_443_giop_viirs, quantity='bbp_443_giop')"
   ]
  },
  {
   "cell_type": "code",
   "execution_count": 15,
   "metadata": {
    "collapsed": true
   },
   "outputs": [],
   "source": [
    "df_swf_bbp = regress_phyto_c(df_swf_bbp)"
   ]
  },
  {
   "cell_type": "code",
   "execution_count": 16,
   "metadata": {
    "collapsed": true
   },
   "outputs": [],
   "source": [
    "df_aqua_bbp = regress_phyto_c(df_aqua_bbp)\n",
    "df_viirs_bbp = regress_phyto_c(df_viirs_bbp)"
   ]
  },
  {
   "cell_type": "code",
   "execution_count": 17,
   "metadata": {},
   "outputs": [
    {
     "data": {
      "text/html": [
       "<div>\n",
       "<style scoped>\n",
       "    .dataframe tbody tr th:only-of-type {\n",
       "        vertical-align: middle;\n",
       "    }\n",
       "\n",
       "    .dataframe tbody tr th {\n",
       "        vertical-align: top;\n",
       "    }\n",
       "\n",
       "    .dataframe thead th {\n",
       "        text-align: right;\n",
       "    }\n",
       "</style>\n",
       "<table border=\"1\" class=\"dataframe\">\n",
       "  <thead>\n",
       "    <tr style=\"text-align: right;\">\n",
       "      <th></th>\n",
       "      <th>bbp_443_giop_mean</th>\n",
       "      <th>phyto_c</th>\n",
       "    </tr>\n",
       "    <tr>\n",
       "      <th>datetime</th>\n",
       "      <th></th>\n",
       "      <th></th>\n",
       "    </tr>\n",
       "  </thead>\n",
       "  <tbody>\n",
       "    <tr>\n",
       "      <th>2002-07-16 22:10:00</th>\n",
       "      <td>0.001823</td>\n",
       "      <td>22.701891</td>\n",
       "    </tr>\n",
       "    <tr>\n",
       "      <th>2002-08-19 09:03:30</th>\n",
       "      <td>0.001815</td>\n",
       "      <td>22.599288</td>\n",
       "    </tr>\n",
       "    <tr>\n",
       "      <th>2002-09-16 01:52:30</th>\n",
       "      <td>0.001882</td>\n",
       "      <td>23.419383</td>\n",
       "    </tr>\n",
       "    <tr>\n",
       "      <th>2002-10-16 13:17:30</th>\n",
       "      <td>0.001882</td>\n",
       "      <td>23.416473</td>\n",
       "    </tr>\n",
       "    <tr>\n",
       "      <th>2002-11-16 01:15:00</th>\n",
       "      <td>0.001899</td>\n",
       "      <td>23.621193</td>\n",
       "    </tr>\n",
       "  </tbody>\n",
       "</table>\n",
       "</div>"
      ],
      "text/plain": [
       "                     bbp_443_giop_mean    phyto_c\n",
       "datetime                                         \n",
       "2002-07-16 22:10:00           0.001823  22.701891\n",
       "2002-08-19 09:03:30           0.001815  22.599288\n",
       "2002-09-16 01:52:30           0.001882  23.419383\n",
       "2002-10-16 13:17:30           0.001882  23.416473\n",
       "2002-11-16 01:15:00           0.001899  23.621193"
      ]
     },
     "execution_count": 17,
     "metadata": {},
     "output_type": "execute_result"
    }
   ],
   "source": [
    "df_aqua_bbp.head()"
   ]
  },
  {
   "cell_type": "code",
   "execution_count": 18,
   "metadata": {
    "collapsed": true
   },
   "outputs": [],
   "source": [
    "# Compute annual cycle and monthly anomalies\n",
    "aqua_ann_cycle = get_monthly_means(df_aqua_bbp[['phyto_c']],\n",
    "                                   year_start=2003, year_end=2011)\n",
    "for dfi in [df_swf_bbp, df_aqua_bbp, df_viirs_bbp]:\n",
    "        get_anomaly(dfi, aqua_ann_cycle, name='phyto_c', anomaly_name='phyto_C_anomaly')"
   ]
  },
  {
   "cell_type": "code",
   "execution_count": 40,
   "metadata": {},
   "outputs": [
    {
     "data": {
      "text/html": [
       "<div>\n",
       "<style scoped>\n",
       "    .dataframe tbody tr th:only-of-type {\n",
       "        vertical-align: middle;\n",
       "    }\n",
       "\n",
       "    .dataframe tbody tr th {\n",
       "        vertical-align: top;\n",
       "    }\n",
       "\n",
       "    .dataframe thead th {\n",
       "        text-align: right;\n",
       "    }\n",
       "</style>\n",
       "<table border=\"1\" class=\"dataframe\">\n",
       "  <thead>\n",
       "    <tr style=\"text-align: right;\">\n",
       "      <th></th>\n",
       "      <th>phyto_c</th>\n",
       "    </tr>\n",
       "  </thead>\n",
       "  <tbody>\n",
       "    <tr>\n",
       "      <th>1</th>\n",
       "      <td>22.325020</td>\n",
       "    </tr>\n",
       "    <tr>\n",
       "      <th>2</th>\n",
       "      <td>21.942961</td>\n",
       "    </tr>\n",
       "    <tr>\n",
       "      <th>3</th>\n",
       "      <td>21.928124</td>\n",
       "    </tr>\n",
       "    <tr>\n",
       "      <th>4</th>\n",
       "      <td>22.338698</td>\n",
       "    </tr>\n",
       "    <tr>\n",
       "      <th>5</th>\n",
       "      <td>22.505619</td>\n",
       "    </tr>\n",
       "    <tr>\n",
       "      <th>6</th>\n",
       "      <td>22.223684</td>\n",
       "    </tr>\n",
       "    <tr>\n",
       "      <th>7</th>\n",
       "      <td>21.685982</td>\n",
       "    </tr>\n",
       "    <tr>\n",
       "      <th>8</th>\n",
       "      <td>21.919877</td>\n",
       "    </tr>\n",
       "    <tr>\n",
       "      <th>9</th>\n",
       "      <td>22.446192</td>\n",
       "    </tr>\n",
       "    <tr>\n",
       "      <th>10</th>\n",
       "      <td>23.328343</td>\n",
       "    </tr>\n",
       "    <tr>\n",
       "      <th>11</th>\n",
       "      <td>23.813018</td>\n",
       "    </tr>\n",
       "    <tr>\n",
       "      <th>12</th>\n",
       "      <td>23.199543</td>\n",
       "    </tr>\n",
       "  </tbody>\n",
       "</table>\n",
       "</div>"
      ],
      "text/plain": [
       "      phyto_c\n",
       "1   22.325020\n",
       "2   21.942961\n",
       "3   21.928124\n",
       "4   22.338698\n",
       "5   22.505619\n",
       "6   22.223684\n",
       "7   21.685982\n",
       "8   21.919877\n",
       "9   22.446192\n",
       "10  23.328343\n",
       "11  23.813018\n",
       "12  23.199543"
      ]
     },
     "execution_count": 40,
     "metadata": {},
     "output_type": "execute_result"
    }
   ],
   "source": [
    "aqua_ann_cycle"
   ]
  },
  {
   "cell_type": "code",
   "execution_count": 19,
   "metadata": {},
   "outputs": [
    {
     "data": {
      "text/html": [
       "<div>\n",
       "<style scoped>\n",
       "    .dataframe tbody tr th:only-of-type {\n",
       "        vertical-align: middle;\n",
       "    }\n",
       "\n",
       "    .dataframe tbody tr th {\n",
       "        vertical-align: top;\n",
       "    }\n",
       "\n",
       "    .dataframe thead th {\n",
       "        text-align: right;\n",
       "    }\n",
       "</style>\n",
       "<table border=\"1\" class=\"dataframe\">\n",
       "  <thead>\n",
       "    <tr style=\"text-align: right;\">\n",
       "      <th></th>\n",
       "      <th>bbp_443_giop_mean</th>\n",
       "      <th>phyto_c</th>\n",
       "      <th>phyto_C_anomaly</th>\n",
       "    </tr>\n",
       "    <tr>\n",
       "      <th>datetime</th>\n",
       "      <th></th>\n",
       "      <th></th>\n",
       "      <th></th>\n",
       "    </tr>\n",
       "  </thead>\n",
       "  <tbody>\n",
       "    <tr>\n",
       "      <th>2002-07-16 22:10:00</th>\n",
       "      <td>0.001823</td>\n",
       "      <td>22.701891</td>\n",
       "      <td>1.015909</td>\n",
       "    </tr>\n",
       "    <tr>\n",
       "      <th>2002-08-19 09:03:30</th>\n",
       "      <td>0.001815</td>\n",
       "      <td>22.599288</td>\n",
       "      <td>0.679411</td>\n",
       "    </tr>\n",
       "    <tr>\n",
       "      <th>2002-09-16 01:52:30</th>\n",
       "      <td>0.001882</td>\n",
       "      <td>23.419383</td>\n",
       "      <td>0.973191</td>\n",
       "    </tr>\n",
       "    <tr>\n",
       "      <th>2002-10-16 13:17:30</th>\n",
       "      <td>0.001882</td>\n",
       "      <td>23.416473</td>\n",
       "      <td>0.088130</td>\n",
       "    </tr>\n",
       "    <tr>\n",
       "      <th>2002-11-16 01:15:00</th>\n",
       "      <td>0.001899</td>\n",
       "      <td>23.621193</td>\n",
       "      <td>-0.191825</td>\n",
       "    </tr>\n",
       "  </tbody>\n",
       "</table>\n",
       "</div>"
      ],
      "text/plain": [
       "                     bbp_443_giop_mean    phyto_c  phyto_C_anomaly\n",
       "datetime                                                          \n",
       "2002-07-16 22:10:00           0.001823  22.701891         1.015909\n",
       "2002-08-19 09:03:30           0.001815  22.599288         0.679411\n",
       "2002-09-16 01:52:30           0.001882  23.419383         0.973191\n",
       "2002-10-16 13:17:30           0.001882  23.416473         0.088130\n",
       "2002-11-16 01:15:00           0.001899  23.621193        -0.191825"
      ]
     },
     "execution_count": 19,
     "metadata": {},
     "output_type": "execute_result"
    }
   ],
   "source": [
    "df_aqua_bbp.head()"
   ]
  },
  {
   "cell_type": "code",
   "execution_count": 27,
   "metadata": {},
   "outputs": [
    {
     "data": {
      "text/html": [
       "<div>\n",
       "<style scoped>\n",
       "    .dataframe tbody tr th:only-of-type {\n",
       "        vertical-align: middle;\n",
       "    }\n",
       "\n",
       "    .dataframe tbody tr th {\n",
       "        vertical-align: top;\n",
       "    }\n",
       "\n",
       "    .dataframe thead th {\n",
       "        text-align: right;\n",
       "    }\n",
       "</style>\n",
       "<table border=\"1\" class=\"dataframe\">\n",
       "  <thead>\n",
       "    <tr style=\"text-align: right;\">\n",
       "      <th></th>\n",
       "      <th>bbp_443_giop_mean</th>\n",
       "      <th>phyto_c</th>\n",
       "      <th>phyto_C_anomaly</th>\n",
       "    </tr>\n",
       "    <tr>\n",
       "      <th>datetime</th>\n",
       "      <th></th>\n",
       "      <th></th>\n",
       "      <th></th>\n",
       "    </tr>\n",
       "  </thead>\n",
       "  <tbody>\n",
       "    <tr>\n",
       "      <th>2002-07-16 22:10:00</th>\n",
       "      <td>0.001823</td>\n",
       "      <td>22.701891</td>\n",
       "      <td>1.015909</td>\n",
       "    </tr>\n",
       "    <tr>\n",
       "      <th>2002-08-19 09:03:30</th>\n",
       "      <td>0.001815</td>\n",
       "      <td>22.599288</td>\n",
       "      <td>0.679411</td>\n",
       "    </tr>\n",
       "    <tr>\n",
       "      <th>2002-09-16 01:52:30</th>\n",
       "      <td>0.001882</td>\n",
       "      <td>23.419383</td>\n",
       "      <td>0.973191</td>\n",
       "    </tr>\n",
       "    <tr>\n",
       "      <th>2002-10-16 13:17:30</th>\n",
       "      <td>0.001882</td>\n",
       "      <td>23.416473</td>\n",
       "      <td>0.088130</td>\n",
       "    </tr>\n",
       "    <tr>\n",
       "      <th>2002-11-16 01:15:00</th>\n",
       "      <td>0.001899</td>\n",
       "      <td>23.621193</td>\n",
       "      <td>-0.191825</td>\n",
       "    </tr>\n",
       "  </tbody>\n",
       "</table>\n",
       "</div>"
      ],
      "text/plain": [
       "                     bbp_443_giop_mean    phyto_c  phyto_C_anomaly\n",
       "datetime                                                          \n",
       "2002-07-16 22:10:00           0.001823  22.701891         1.015909\n",
       "2002-08-19 09:03:30           0.001815  22.599288         0.679411\n",
       "2002-09-16 01:52:30           0.001882  23.419383         0.973191\n",
       "2002-10-16 13:17:30           0.001882  23.416473         0.088130\n",
       "2002-11-16 01:15:00           0.001899  23.621193        -0.191825"
      ]
     },
     "execution_count": 27,
     "metadata": {},
     "output_type": "execute_result"
    }
   ],
   "source": [
    "df_aqua_bbp.head()"
   ]
  },
  {
   "cell_type": "code",
   "execution_count": 37,
   "metadata": {
    "collapsed": true
   },
   "outputs": [],
   "source": [
    "# Create a new dataframe to compute and store an \"uncertainty\" band based on SWF/Aqua overlapping data.\n",
    "anomaly_name = 'phyto_C_anomaly'\n",
    "df_swf_aqua = pd.concat((df_swf_bbp[[anomaly_name]], df_aqua_bbp[[anomaly_name]]), axis=1)\n",
    "df_swf_aqua.columns=['swf_%s' % anomaly_name, 'aqua_%s' % anomaly_name]"
   ]
  },
  {
   "cell_type": "code",
   "execution_count": null,
   "metadata": {
    "collapsed": true
   },
   "outputs": [],
   "source": [
    "df_swf_aqua_bbp = pd.concat((df_swf_bbp))"
   ]
  },
  {
   "cell_type": "code",
   "execution_count": 38,
   "metadata": {
    "collapsed": true
   },
   "outputs": [],
   "source": [
    "# synchronize data\n",
    "df_swf_aqua = df_swf_aqua.resample('M').mean()"
   ]
  },
  {
   "cell_type": "code",
   "execution_count": 39,
   "metadata": {},
   "outputs": [
    {
     "data": {
      "text/html": [
       "<div>\n",
       "<style scoped>\n",
       "    .dataframe tbody tr th:only-of-type {\n",
       "        vertical-align: middle;\n",
       "    }\n",
       "\n",
       "    .dataframe tbody tr th {\n",
       "        vertical-align: top;\n",
       "    }\n",
       "\n",
       "    .dataframe thead th {\n",
       "        text-align: right;\n",
       "    }\n",
       "</style>\n",
       "<table border=\"1\" class=\"dataframe\">\n",
       "  <thead>\n",
       "    <tr style=\"text-align: right;\">\n",
       "      <th></th>\n",
       "      <th>swf_phyto_C_anomaly</th>\n",
       "      <th>aqua_phyto_C_anomaly</th>\n",
       "      <th>mean</th>\n",
       "      <th>diff</th>\n",
       "      <th>diff_pos</th>\n",
       "      <th>diff_neg</th>\n",
       "    </tr>\n",
       "    <tr>\n",
       "      <th>datetime</th>\n",
       "      <th></th>\n",
       "      <th></th>\n",
       "      <th></th>\n",
       "      <th></th>\n",
       "      <th></th>\n",
       "      <th></th>\n",
       "    </tr>\n",
       "  </thead>\n",
       "  <tbody>\n",
       "    <tr>\n",
       "      <th>2002-07-31</th>\n",
       "      <td>-1.308665</td>\n",
       "      <td>1.015909</td>\n",
       "      <td>-0.146378</td>\n",
       "      <td>2.324574</td>\n",
       "      <td>1.054594</td>\n",
       "      <td>-1.347351</td>\n",
       "    </tr>\n",
       "    <tr>\n",
       "      <th>2002-08-31</th>\n",
       "      <td>-0.667404</td>\n",
       "      <td>0.679411</td>\n",
       "      <td>0.006003</td>\n",
       "      <td>1.346814</td>\n",
       "      <td>1.206976</td>\n",
       "      <td>-1.194969</td>\n",
       "    </tr>\n",
       "    <tr>\n",
       "      <th>2002-09-30</th>\n",
       "      <td>-0.728367</td>\n",
       "      <td>0.973191</td>\n",
       "      <td>0.122412</td>\n",
       "      <td>1.701558</td>\n",
       "      <td>1.323385</td>\n",
       "      <td>-1.078561</td>\n",
       "    </tr>\n",
       "    <tr>\n",
       "      <th>2002-10-31</th>\n",
       "      <td>-1.626527</td>\n",
       "      <td>0.088130</td>\n",
       "      <td>-0.769198</td>\n",
       "      <td>1.714657</td>\n",
       "      <td>0.431774</td>\n",
       "      <td>-1.970171</td>\n",
       "    </tr>\n",
       "    <tr>\n",
       "      <th>2002-11-30</th>\n",
       "      <td>-2.258678</td>\n",
       "      <td>-0.191825</td>\n",
       "      <td>-1.225251</td>\n",
       "      <td>2.066854</td>\n",
       "      <td>-0.024279</td>\n",
       "      <td>-2.426224</td>\n",
       "    </tr>\n",
       "  </tbody>\n",
       "</table>\n",
       "</div>"
      ],
      "text/plain": [
       "            swf_phyto_C_anomaly  aqua_phyto_C_anomaly      mean      diff  \\\n",
       "datetime                                                                    \n",
       "2002-07-31            -1.308665              1.015909 -0.146378  2.324574   \n",
       "2002-08-31            -0.667404              0.679411  0.006003  1.346814   \n",
       "2002-09-30            -0.728367              0.973191  0.122412  1.701558   \n",
       "2002-10-31            -1.626527              0.088130 -0.769198  1.714657   \n",
       "2002-11-30            -2.258678             -0.191825 -1.225251  2.066854   \n",
       "\n",
       "            diff_pos  diff_neg  \n",
       "datetime                        \n",
       "2002-07-31  1.054594 -1.347351  \n",
       "2002-08-31  1.206976 -1.194969  \n",
       "2002-09-30  1.323385 -1.078561  \n",
       "2002-10-31  0.431774 -1.970171  \n",
       "2002-11-30 -0.024279 -2.426224  "
      ]
     },
     "execution_count": 39,
     "metadata": {},
     "output_type": "execute_result"
    }
   ],
   "source": [
    "df_swf_aqua['mean'] = df_swf_aqua.mean(axis=1)\n",
    "df_swf_aqua.dropna(inplace=True)\n",
    "df_swf_aqua['diff'] = np.abs(df_swf_aqua.swf_phyto_C_anomaly.values - df_swf_aqua.aqua_phyto_C_anomaly.values)\n",
    "df_swf_aqua['diff_pos'] = df_swf_aqua['mean'] + df_swf_aqua['diff'].mean()\n",
    "df_swf_aqua['diff_neg'] = df_swf_aqua['mean'] - df_swf_aqua['diff'].mean()\n",
    "df_swf_aqua.head()"
   ]
  },
  {
   "cell_type": "code",
   "execution_count": 23,
   "metadata": {
    "collapsed": true
   },
   "outputs": [],
   "source": [
    "# Pickle the dataframes \n",
    "with open('../PklJar/dict_df_phytoC.pkl', 'wb') as f:\n",
    "    datadict = {'swf': df_swf_bbp,\n",
    "                'aqua': df_aqua_bbp,\n",
    "                'viirs': df_viirs_bbp,\n",
    "                'swf_aqua': df_swf_aqua,\n",
    "                }\n",
    "    pickle.dump(datadict, f, protocol=pickle.HIGHEST_PROTOCOL)"
   ]
  },
  {
   "cell_type": "code",
   "execution_count": null,
   "metadata": {
    "collapsed": true
   },
   "outputs": [],
   "source": []
  }
 ],
 "metadata": {
  "kernelspec": {
   "display_name": "Python 3",
   "language": "python",
   "name": "python3"
  },
  "language_info": {
   "codemirror_mode": {
    "name": "ipython",
    "version": 3
   },
   "file_extension": ".py",
   "mimetype": "text/x-python",
   "name": "python",
   "nbconvert_exporter": "python",
   "pygments_lexer": "ipython3",
   "version": "3.6.3"
  }
 },
 "nbformat": 4,
 "nbformat_minor": 2
}
