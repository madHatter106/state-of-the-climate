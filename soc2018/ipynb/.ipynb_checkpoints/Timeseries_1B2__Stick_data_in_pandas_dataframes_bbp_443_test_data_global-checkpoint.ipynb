{
 "cells": [
  {
   "cell_type": "markdown",
   "metadata": {},
   "source": [
    "This notebook loads data stored in text files, formats and stored into pandas dataframes. Some additional producs are computed and stored in dataframes, including uncertainty band and chl anomaly. The dataframes are then pickled for plotting in a later notebook."
   ]
  },
  {
   "cell_type": "code",
   "execution_count": 2,
   "metadata": {
    "collapsed": true
   },
   "outputs": [],
   "source": [
    "import pandas as pd\n",
    "import pathlib\n",
    "from datetime import datetime\n",
    "import pickle\n",
    "from scipy.stats import mode\n",
    "import numpy as np\n",
    "from IPython.core.display import HTML, display\n",
    "import matplotlib.pyplot as pl\n",
    "from matplotlib import rcParams\n",
    "import matplotlib.dates as mdates\n",
    "import matplotlib.ticker as mtick\n",
    "import pymc3 as pm"
   ]
  },
  {
   "cell_type": "code",
   "execution_count": 3,
   "metadata": {
    "collapsed": true
   },
   "outputs": [],
   "source": [
    "%matplotlib inline"
   ]
  },
  {
   "cell_type": "code",
   "execution_count": 4,
   "metadata": {
    "collapsed": true
   },
   "outputs": [],
   "source": [
    "def convert_secs2dt(sec):\n",
    "    \"\"\"\n",
    "    Converts seconds to python datetime object.\n",
    "    :param sec \n",
    "    :return: datetime object\n",
    "    \"\"\"\n",
    "    zd00 = datetime(2000, 1, 1)\n",
    "    zd70 = datetime(1970, 1, 1)\n",
    "    offset = (zd00 - zd70).total_seconds()\n",
    "    z = datetime.utcfromtimestamp(sec + offset)\n",
    "    return z\n",
    "\n",
    "\n",
    "def get_doy(secs):\n",
    "    \"\"\"\n",
    "    Converts seconds to fractional day of year.\n",
    "    :param secs\n",
    "    :return: fractional day of year \n",
    "    \"\"\"\n",
    "    z = convert_secs2dt(secs)\n",
    "    y = z.year\n",
    "    return (secs + (datetime(2000, 1, 1) - datetime(y, 1, 1)).total_seconds()) / 86400\n",
    "\n",
    "\n",
    "def load_format_data(filepath, minimal=True, columns=None, quantity='chl_a'):\n",
    "    \"\"\"\n",
    "    Loads chlorophyll data into a pandas dataframe,\n",
    "    formats time entries, and creates a datetime index.\n",
    "    :param filepath: string or pathlib object  \n",
    "    :param minimal: if True returns only chl_a_mean; drops the rest.\n",
    "    :return: pandas datetime indexed dataframe\n",
    "    \"\"\"\n",
    "    if columns is None:\n",
    "        columns = ['time', 'nbins', 'mean', 'median', 'stdv']\n",
    "    \n",
    "    df = pd.read_csv(filepath, delim_whitespace=True, names=columns)\n",
    "    df['datetime'] = df.time.apply(convert_secs2dt)\n",
    "    df.set_index('datetime', inplace=True)\n",
    "    if minimal:\n",
    "        df = df[['mean']]\n",
    "    df.rename(columns={'mean': '%s_mean' % quantity}, inplace=True)\n",
    "    return df\n",
    "\n",
    "\n",
    "def regress_phyto_c(df, mean_col_label='bbp_443_giop_mean',\n",
    "                   reg_slope=12128, reg_bias=0.59):\n",
    "    df['phyto_c'] = df[mean_col_label] * reg_slope + reg_bias\n",
    "    return df\n",
    "\n",
    "\n",
    "def get_monthly_means(df, **kwargs):\n",
    "    \"\"\"\n",
    "    Groups data by month and compute annual cycle based on monthly means.\n",
    "    :param df: \n",
    "        datetime indexed pandas dataframe\n",
    "    :param kwargs:\n",
    "        year_start (optional): string, slice start\n",
    "        year_end (optional): string, slice end\n",
    "    :return: \n",
    "        month-indexed pandas dataframe with monthly means\n",
    "    \"\"\"\n",
    "    year_start = kwargs.pop('year_start', df.index.year[0])\n",
    "    year_end = kwargs.pop('year_end', df.index.year[-1])\n",
    "    return df.loc[str(year_start): str(year_end)].groupby(lambda x: x.month).aggregate('mean')\n",
    "\n",
    "\n",
    "def get_anomaly(df, df_ann_cycle, name='chl_a_mean', anomaly_name='anomaly'):\n",
    "    \"\"\"\n",
    "    Computes annomaly by removing monthly mean for a given month\n",
    "    :param df:\n",
    "        pandas dataframe with [name] parameter column\n",
    "    :param df_ann_cycle:\n",
    "        pandas dataframe of length 12 containing monthly means\n",
    "    :param name:\n",
    "        str, label of quantity to get anomaly from\n",
    "    :return:\n",
    "        None\n",
    "    \"\"\"\n",
    "\n",
    "    for month in df_ann_cycle.index:\n",
    "        idx = df.index.month == month\n",
    "        df.loc[idx, anomaly_name] = df.loc[idx, name] - df_ann_cycle.loc[month, name]\n",
    "\n",
    "\n",
    "def test(datadir):\n",
    "    testfile = datadir / 'ar2018.0m_AtlN55_chlor_a.txt'\n",
    "    df_test = load_format_data(testfile, minimal=False)\n",
    "    t0 = df_test.time[0]    \n",
    "    z0 = convert_secs2dt(t0)\n",
    "    zstr0 = z0.strftime('%Y%j%H%M%S')\n",
    "    try:\n",
    "        assert zstr0 + '000' == str(2002197194740000)\n",
    "    except AssertionError as e:\n",
    "        print(e)\n",
    "        print(zstr0)\n",
    "    assert z0.year == 2002\n",
    "    doy0 = get_doy(t0)\n",
    "    assert doy0 == 196.82476851851851\n",
    "    tl = df_test.tail(1).time.values\n",
    "    zl = convert_secs2dt(tl)\n",
    "    zstrl = zl.strftime('%Y%j%H%M%S')\n",
    "    assert zstrl + '000' == str(2016321013320000)\n",
    "    assert zl.year == 2016\n",
    "    doyl = get_doy(tl)\n",
    "    assert doyl == 320.06481481481484\n",
    "    print(\"all tests passed\")"
   ]
  },
  {
   "cell_type": "code",
   "execution_count": 5,
   "metadata": {},
   "outputs": [
    {
     "data": {
      "text/html": [
       "<style>.container {width: 90%}</style>"
      ],
      "text/plain": [
       "<IPython.core.display.HTML object>"
      ]
     },
     "metadata": {},
     "output_type": "display_data"
    }
   ],
   "source": [
    "# Global graphics setup\n",
    "display(HTML(\"<style>.container {width: 90%}</style>\"))\n",
    "plot_colors = {'consolidated': '#000000',\n",
    "               'aqua': '#348ABD',\n",
    "               'swf': '#A60628',\n",
    "               'mei': '#467821',\n",
    "               }\n",
    "rcParams['axes.labelsize'] = 15\n",
    "rcParams['xtick.labelsize'] = 15\n",
    "rcParams['ytick.labelsize'] = 15\n",
    "rcParams['font.size'] = 15\n",
    "rcParams['ytick.major.size'] = 8\n",
    "rcParams['ytick.minor.size'] = 3\n",
    "rcParams['xtick.major.size'] = 8\n",
    "rcParams['xtick.minor.size'] = 3\n",
    "rcParams['xtick.top'] = True\n",
    "rcParams['ytick.direction'] = 'in'\n",
    "rcParams['xtick.direction'] = 'in'\n",
    "rcParams['axes.formatter.limits'] = (-2, 3)"
   ]
  },
  {
   "cell_type": "code",
   "execution_count": 6,
   "metadata": {
    "collapsed": true
   },
   "outputs": [],
   "source": [
    "# Paths\n",
    "home = pathlib.Path.home()\n",
    "dataMain = home / 'DEV-ALL/State_of_the_Climate/soc2018/TIMESERIES/'\n",
    "test_aquadir = dataMain / 'ar2018.0m_ar2018.0m/stats'\n",
    "\n",
    "aquadir = dataMain / 'ar2018.0m_ar2018.0m/stats'\n",
    "aquaIOPdir = dataMain / 'ar2018.0IOPm_ar2018.0IOPm/stats'\n",
    "\n",
    "swfdir = dataMain / 'sr2018.0m_sr2018.0m/stats'\n",
    "swfIOPdir = dataMain / 'sr2018.0IOPm_sr2018.0IOPm/stats'\n",
    "\n",
    "fp_chlor_a_aqua = aquadir / 'ar2018.0m_eqsst_chlor_a.txt'\n",
    "fp_chlor_a_swf = swfdir / 'sr2018.0m_eqsst_chlor_a.txt'\n",
    "\n",
    "fp_bbp_443_giop_aqua = aquaIOPdir / 'ar2018.0IOPm_eqsst_bbp_443_giop.txt'\n",
    "fp_bbp_443_giop_swf = swfIOPdir / 'sr2018.0IOPm_eqsst_bbp_443_giop.txt'\n",
    "#test(test_aquadir)"
   ]
  },
  {
   "cell_type": "code",
   "execution_count": 7,
   "metadata": {
    "collapsed": true
   },
   "outputs": [],
   "source": [
    "# Load the data into pandas dataframes, with some datetime formatting\n",
    "df_swf = load_format_data(fp_chlor_a_swf,)\n",
    "df_aqua = load_format_data(fp_chlor_a_aqua)\n",
    "\n",
    "df_swf_bbp = load_format_data(fp_bbp_443_giop_swf, quantity='bbp_443_giop')\n",
    "df_aqua_bbp = load_format_data(fp_bbp_443_giop_aqua, quantity='bbp_443_giop')"
   ]
  },
  {
   "cell_type": "code",
   "execution_count": 8,
   "metadata": {},
   "outputs": [
    {
     "data": {
      "text/html": [
       "<div>\n",
       "<style scoped>\n",
       "    .dataframe tbody tr th:only-of-type {\n",
       "        vertical-align: middle;\n",
       "    }\n",
       "\n",
       "    .dataframe tbody tr th {\n",
       "        vertical-align: top;\n",
       "    }\n",
       "\n",
       "    .dataframe thead th {\n",
       "        text-align: right;\n",
       "    }\n",
       "</style>\n",
       "<table border=\"1\" class=\"dataframe\">\n",
       "  <thead>\n",
       "    <tr style=\"text-align: right;\">\n",
       "      <th></th>\n",
       "      <th>chl_a_mean</th>\n",
       "    </tr>\n",
       "    <tr>\n",
       "      <th>datetime</th>\n",
       "      <th></th>\n",
       "    </tr>\n",
       "  </thead>\n",
       "  <tbody>\n",
       "    <tr>\n",
       "      <th>2018-08-16 13:43:20</th>\n",
       "      <td>0.143987</td>\n",
       "    </tr>\n",
       "    <tr>\n",
       "      <th>2018-09-16 01:30:00</th>\n",
       "      <td>0.144530</td>\n",
       "    </tr>\n",
       "    <tr>\n",
       "      <th>2018-10-16 13:33:20</th>\n",
       "      <td>0.134381</td>\n",
       "    </tr>\n",
       "    <tr>\n",
       "      <th>2018-11-16 01:30:00</th>\n",
       "      <td>0.126977</td>\n",
       "    </tr>\n",
       "    <tr>\n",
       "      <th>2018-12-16 13:23:20</th>\n",
       "      <td>0.135522</td>\n",
       "    </tr>\n",
       "  </tbody>\n",
       "</table>\n",
       "</div>"
      ],
      "text/plain": [
       "                     chl_a_mean\n",
       "datetime                       \n",
       "2018-08-16 13:43:20    0.143987\n",
       "2018-09-16 01:30:00    0.144530\n",
       "2018-10-16 13:33:20    0.134381\n",
       "2018-11-16 01:30:00    0.126977\n",
       "2018-12-16 13:23:20    0.135522"
      ]
     },
     "execution_count": 8,
     "metadata": {},
     "output_type": "execute_result"
    }
   ],
   "source": [
    "df_aqua.tail()"
   ]
  },
  {
   "cell_type": "code",
   "execution_count": 9,
   "metadata": {},
   "outputs": [
    {
     "data": {
      "text/html": [
       "<div>\n",
       "<style scoped>\n",
       "    .dataframe tbody tr th:only-of-type {\n",
       "        vertical-align: middle;\n",
       "    }\n",
       "\n",
       "    .dataframe tbody tr th {\n",
       "        vertical-align: top;\n",
       "    }\n",
       "\n",
       "    .dataframe thead th {\n",
       "        text-align: right;\n",
       "    }\n",
       "</style>\n",
       "<table border=\"1\" class=\"dataframe\">\n",
       "  <thead>\n",
       "    <tr style=\"text-align: right;\">\n",
       "      <th></th>\n",
       "      <th>bbp_443_giop_mean</th>\n",
       "    </tr>\n",
       "    <tr>\n",
       "      <th>datetime</th>\n",
       "      <th></th>\n",
       "    </tr>\n",
       "  </thead>\n",
       "  <tbody>\n",
       "    <tr>\n",
       "      <th>2018-08-16 13:43:20</th>\n",
       "      <td>0.001792</td>\n",
       "    </tr>\n",
       "    <tr>\n",
       "      <th>2018-09-16 01:30:00</th>\n",
       "      <td>0.001829</td>\n",
       "    </tr>\n",
       "    <tr>\n",
       "      <th>2018-10-16 13:33:20</th>\n",
       "      <td>0.001925</td>\n",
       "    </tr>\n",
       "    <tr>\n",
       "      <th>2018-11-16 01:30:00</th>\n",
       "      <td>0.001915</td>\n",
       "    </tr>\n",
       "    <tr>\n",
       "      <th>2018-12-16 13:23:20</th>\n",
       "      <td>0.001852</td>\n",
       "    </tr>\n",
       "  </tbody>\n",
       "</table>\n",
       "</div>"
      ],
      "text/plain": [
       "                     bbp_443_giop_mean\n",
       "datetime                              \n",
       "2018-08-16 13:43:20           0.001792\n",
       "2018-09-16 01:30:00           0.001829\n",
       "2018-10-16 13:33:20           0.001925\n",
       "2018-11-16 01:30:00           0.001915\n",
       "2018-12-16 13:23:20           0.001852"
      ]
     },
     "execution_count": 9,
     "metadata": {},
     "output_type": "execute_result"
    }
   ],
   "source": [
    "df_aqua_bbp.tail()"
   ]
  },
  {
   "cell_type": "code",
   "execution_count": 10,
   "metadata": {},
   "outputs": [
    {
     "name": "stdout",
     "output_type": "stream",
     "text": [
      "<class 'pandas.core.frame.DataFrame'>\n",
      "DatetimeIndex: 198 entries, 2002-07-16 22:10:00 to 2018-12-16 13:23:20\n",
      "Data columns (total 1 columns):\n",
      "bbp_443_giop_mean    198 non-null float64\n",
      "dtypes: float64(1)\n",
      "memory usage: 3.1 KB\n"
     ]
    }
   ],
   "source": [
    "df_aqua_bbp.info()"
   ]
  },
  {
   "cell_type": "code",
   "execution_count": 11,
   "metadata": {},
   "outputs": [
    {
     "name": "stdout",
     "output_type": "stream",
     "text": [
      "<class 'pandas.core.frame.DataFrame'>\n",
      "DatetimeIndex: 198 entries, 2002-07-16 22:10:00 to 2018-12-16 13:23:20\n",
      "Data columns (total 1 columns):\n",
      "chl_a_mean    198 non-null float64\n",
      "dtypes: float64(1)\n",
      "memory usage: 3.1 KB\n"
     ]
    }
   ],
   "source": [
    "df_aqua.info()"
   ]
  },
  {
   "cell_type": "code",
   "execution_count": 12,
   "metadata": {},
   "outputs": [
    {
     "data": {
      "text/html": [
       "<div>\n",
       "<style scoped>\n",
       "    .dataframe tbody tr th:only-of-type {\n",
       "        vertical-align: middle;\n",
       "    }\n",
       "\n",
       "    .dataframe tbody tr th {\n",
       "        vertical-align: top;\n",
       "    }\n",
       "\n",
       "    .dataframe thead th {\n",
       "        text-align: right;\n",
       "    }\n",
       "</style>\n",
       "<table border=\"1\" class=\"dataframe\">\n",
       "  <thead>\n",
       "    <tr style=\"text-align: right;\">\n",
       "      <th></th>\n",
       "      <th>chl_a_mean</th>\n",
       "    </tr>\n",
       "    <tr>\n",
       "      <th>datetime</th>\n",
       "      <th></th>\n",
       "    </tr>\n",
       "  </thead>\n",
       "  <tbody>\n",
       "    <tr>\n",
       "      <th>2002-07-16 22:10:00</th>\n",
       "      <td>0.134046</td>\n",
       "    </tr>\n",
       "    <tr>\n",
       "      <th>2002-08-19 09:03:30</th>\n",
       "      <td>0.144239</td>\n",
       "    </tr>\n",
       "    <tr>\n",
       "      <th>2002-09-16 01:52:30</th>\n",
       "      <td>0.162506</td>\n",
       "    </tr>\n",
       "    <tr>\n",
       "      <th>2002-10-16 13:17:30</th>\n",
       "      <td>0.144815</td>\n",
       "    </tr>\n",
       "    <tr>\n",
       "      <th>2002-11-16 01:15:00</th>\n",
       "      <td>0.138069</td>\n",
       "    </tr>\n",
       "  </tbody>\n",
       "</table>\n",
       "</div>"
      ],
      "text/plain": [
       "                     chl_a_mean\n",
       "datetime                       \n",
       "2002-07-16 22:10:00    0.134046\n",
       "2002-08-19 09:03:30    0.144239\n",
       "2002-09-16 01:52:30    0.162506\n",
       "2002-10-16 13:17:30    0.144815\n",
       "2002-11-16 01:15:00    0.138069"
      ]
     },
     "execution_count": 12,
     "metadata": {},
     "output_type": "execute_result"
    }
   ],
   "source": [
    "df_aqua.head()"
   ]
  },
  {
   "cell_type": "code",
   "execution_count": 13,
   "metadata": {
    "collapsed": true
   },
   "outputs": [],
   "source": [
    "with open('./pklJar/pooled_params.pkl', 'rb') as fb:\n",
    "    pooled_params_dict = pickle.load(fb)\n",
    "slope = pooled_params_dict['slope']\n",
    "slope = slope.reshape(-1, 1)\n",
    "intercept = pooled_params_dict['intercept']\n",
    "intercept = intercept.reshape(-1, 1)"
   ]
  },
  {
   "cell_type": "code",
   "execution_count": 14,
   "metadata": {},
   "outputs": [
    {
     "data": {
      "text/plain": [
       "array([[11326.71323861],\n",
       "       [11575.60502179],\n",
       "       [13388.84532016],\n",
       "       ...,\n",
       "       [11477.07027525],\n",
       "       [11940.15722534],\n",
       "       [10296.00932882]])"
      ]
     },
     "execution_count": 14,
     "metadata": {},
     "output_type": "execute_result"
    }
   ],
   "source": [
    "slope"
   ]
  },
  {
   "cell_type": "code",
   "execution_count": 13,
   "metadata": {
    "collapsed": true
   },
   "outputs": [],
   "source": [
    "def set_time_axis(ax):\n",
    "    x_minorlocator = mdates.YearLocator()\n",
    "    x_majorformatter = mdates.DateFormatter('%b\\n%Y')\n",
    "    ax.xaxis.set_minor_locator(x_minorlocator)\n",
    "    ax.xaxis.set_tick_params(rotation=0)\n",
    "    ax.xaxis.set_major_formatter(x_majorformatter)\n",
    "    ax.set_xlabel('')\n",
    "    \n",
    "def compute_phyto_C_stats(df_):\n",
    "    bbp_443_ = df_.bbp_443_giop_mean.values.reshape(1,-1)\n",
    "    phyto_c_trace_ = intercept + bbp_443_ * slope\n",
    "    phyto_c_mean = phyto_c_trace_.mean(axis=0)\n",
    "    phyto_c_hpd = pm.hpd(phyto_c_trace_)\n",
    "    df_.insert(loc=1, column='phyto_C_2.5%', value=phyto_c_hpd[:, 0])\n",
    "    df_.insert(loc=2, column='phyto_C_97.5%', value=phyto_c_hpd[:, 1])\n",
    "    df_.insert(loc=2, column='phyto_C_mean', value=phyto_c_mean)"
   ]
  },
  {
   "cell_type": "code",
   "execution_count": 15,
   "metadata": {
    "collapsed": true
   },
   "outputs": [],
   "source": [
    "df_a = pd.concat((df_aqua, df_aqua_bbp), axis=1)"
   ]
  },
  {
   "cell_type": "code",
   "execution_count": 17,
   "metadata": {
    "collapsed": true
   },
   "outputs": [],
   "source": [
    "df_s = pd.concat((df_swf, df_swf_bbp), axis=1)"
   ]
  },
  {
   "cell_type": "code",
   "execution_count": 18,
   "metadata": {
    "collapsed": true
   },
   "outputs": [],
   "source": [
    "df_s.columns = ['s_%s' % col for col in df_s.columns]"
   ]
  },
  {
   "cell_type": "code",
   "execution_count": 19,
   "metadata": {
    "collapsed": true
   },
   "outputs": [],
   "source": [
    "swf_good_per_ends = '2007-12-31'"
   ]
  },
  {
   "cell_type": "code",
   "execution_count": 20,
   "metadata": {
    "collapsed": true
   },
   "outputs": [],
   "source": [
    "df_s = df_s.loc[:swf_good_per_ends]"
   ]
  },
  {
   "cell_type": "code",
   "execution_count": 21,
   "metadata": {},
   "outputs": [
    {
     "name": "stdout",
     "output_type": "stream",
     "text": [
      "<class 'pandas.core.frame.DataFrame'>\n",
      "DatetimeIndex: 122 entries, 1997-11-15 22:47:10 to 2007-12-16 10:50:00\n",
      "Data columns (total 2 columns):\n",
      "s_chl_a_mean           122 non-null float64\n",
      "s_bbp_443_giop_mean    122 non-null float64\n",
      "dtypes: float64(2)\n",
      "memory usage: 2.9 KB\n"
     ]
    }
   ],
   "source": [
    "df_s.info()"
   ]
  },
  {
   "cell_type": "code",
   "execution_count": 22,
   "metadata": {
    "collapsed": true
   },
   "outputs": [],
   "source": [
    "df_a.columns = ['a_%s' % col for col in df_a.columns]"
   ]
  },
  {
   "cell_type": "code",
   "execution_count": 23,
   "metadata": {
    "collapsed": true
   },
   "outputs": [],
   "source": [
    "df_all = pd.concat(\n",
    "                    (df_s.resample('MS', loffset=pd.Timedelta(14, 'd')).first(),\n",
    "                    df_a.resample('MS', loffset=pd.Timedelta(14, 'd')).first()),\n",
    "    axis=1)"
   ]
  },
  {
   "cell_type": "code",
   "execution_count": 24,
   "metadata": {},
   "outputs": [
    {
     "data": {
      "text/html": [
       "<div>\n",
       "<style scoped>\n",
       "    .dataframe tbody tr th:only-of-type {\n",
       "        vertical-align: middle;\n",
       "    }\n",
       "\n",
       "    .dataframe tbody tr th {\n",
       "        vertical-align: top;\n",
       "    }\n",
       "\n",
       "    .dataframe thead th {\n",
       "        text-align: right;\n",
       "    }\n",
       "</style>\n",
       "<table border=\"1\" class=\"dataframe\">\n",
       "  <thead>\n",
       "    <tr style=\"text-align: right;\">\n",
       "      <th></th>\n",
       "      <th>s_chl_a_mean</th>\n",
       "      <th>s_bbp_443_giop_mean</th>\n",
       "      <th>a_chl_a_mean</th>\n",
       "      <th>a_bbp_443_giop_mean</th>\n",
       "    </tr>\n",
       "    <tr>\n",
       "      <th>datetime</th>\n",
       "      <th></th>\n",
       "      <th></th>\n",
       "      <th></th>\n",
       "      <th></th>\n",
       "    </tr>\n",
       "  </thead>\n",
       "  <tbody>\n",
       "    <tr>\n",
       "      <th>1997-11-15</th>\n",
       "      <td>0.128396</td>\n",
       "      <td>0.001788</td>\n",
       "      <td>NaN</td>\n",
       "      <td>NaN</td>\n",
       "    </tr>\n",
       "    <tr>\n",
       "      <th>1997-12-15</th>\n",
       "      <td>0.128360</td>\n",
       "      <td>0.001712</td>\n",
       "      <td>NaN</td>\n",
       "      <td>NaN</td>\n",
       "    </tr>\n",
       "    <tr>\n",
       "      <th>1998-01-15</th>\n",
       "      <td>0.128007</td>\n",
       "      <td>0.001673</td>\n",
       "      <td>NaN</td>\n",
       "      <td>NaN</td>\n",
       "    </tr>\n",
       "    <tr>\n",
       "      <th>1998-02-15</th>\n",
       "      <td>0.126971</td>\n",
       "      <td>0.001660</td>\n",
       "      <td>NaN</td>\n",
       "      <td>NaN</td>\n",
       "    </tr>\n",
       "    <tr>\n",
       "      <th>1998-03-15</th>\n",
       "      <td>0.128490</td>\n",
       "      <td>0.001686</td>\n",
       "      <td>NaN</td>\n",
       "      <td>NaN</td>\n",
       "    </tr>\n",
       "  </tbody>\n",
       "</table>\n",
       "</div>"
      ],
      "text/plain": [
       "            s_chl_a_mean  s_bbp_443_giop_mean  a_chl_a_mean  \\\n",
       "datetime                                                      \n",
       "1997-11-15      0.128396             0.001788           NaN   \n",
       "1997-12-15      0.128360             0.001712           NaN   \n",
       "1998-01-15      0.128007             0.001673           NaN   \n",
       "1998-02-15      0.126971             0.001660           NaN   \n",
       "1998-03-15      0.128490             0.001686           NaN   \n",
       "\n",
       "            a_bbp_443_giop_mean  \n",
       "datetime                         \n",
       "1997-11-15                  NaN  \n",
       "1997-12-15                  NaN  \n",
       "1998-01-15                  NaN  \n",
       "1998-02-15                  NaN  \n",
       "1998-03-15                  NaN  "
      ]
     },
     "execution_count": 24,
     "metadata": {},
     "output_type": "execute_result"
    }
   ],
   "source": [
    "df_all.head()"
   ]
  },
  {
   "cell_type": "code",
   "execution_count": 25,
   "metadata": {},
   "outputs": [
    {
     "data": {
      "text/html": [
       "<div>\n",
       "<style scoped>\n",
       "    .dataframe tbody tr th:only-of-type {\n",
       "        vertical-align: middle;\n",
       "    }\n",
       "\n",
       "    .dataframe tbody tr th {\n",
       "        vertical-align: top;\n",
       "    }\n",
       "\n",
       "    .dataframe thead th {\n",
       "        text-align: right;\n",
       "    }\n",
       "</style>\n",
       "<table border=\"1\" class=\"dataframe\">\n",
       "  <thead>\n",
       "    <tr style=\"text-align: right;\">\n",
       "      <th></th>\n",
       "      <th>s_chl_a_mean</th>\n",
       "      <th>s_bbp_443_giop_mean</th>\n",
       "      <th>a_chl_a_mean</th>\n",
       "      <th>a_bbp_443_giop_mean</th>\n",
       "    </tr>\n",
       "    <tr>\n",
       "      <th>datetime</th>\n",
       "      <th></th>\n",
       "      <th></th>\n",
       "      <th></th>\n",
       "      <th></th>\n",
       "    </tr>\n",
       "  </thead>\n",
       "  <tbody>\n",
       "    <tr>\n",
       "      <th>2018-08-15</th>\n",
       "      <td>NaN</td>\n",
       "      <td>NaN</td>\n",
       "      <td>0.143987</td>\n",
       "      <td>0.001792</td>\n",
       "    </tr>\n",
       "    <tr>\n",
       "      <th>2018-09-15</th>\n",
       "      <td>NaN</td>\n",
       "      <td>NaN</td>\n",
       "      <td>0.144530</td>\n",
       "      <td>0.001829</td>\n",
       "    </tr>\n",
       "    <tr>\n",
       "      <th>2018-10-15</th>\n",
       "      <td>NaN</td>\n",
       "      <td>NaN</td>\n",
       "      <td>0.134381</td>\n",
       "      <td>0.001925</td>\n",
       "    </tr>\n",
       "    <tr>\n",
       "      <th>2018-11-15</th>\n",
       "      <td>NaN</td>\n",
       "      <td>NaN</td>\n",
       "      <td>0.126977</td>\n",
       "      <td>0.001915</td>\n",
       "    </tr>\n",
       "    <tr>\n",
       "      <th>2018-12-15</th>\n",
       "      <td>NaN</td>\n",
       "      <td>NaN</td>\n",
       "      <td>0.135522</td>\n",
       "      <td>0.001852</td>\n",
       "    </tr>\n",
       "  </tbody>\n",
       "</table>\n",
       "</div>"
      ],
      "text/plain": [
       "            s_chl_a_mean  s_bbp_443_giop_mean  a_chl_a_mean  \\\n",
       "datetime                                                      \n",
       "2018-08-15           NaN                  NaN      0.143987   \n",
       "2018-09-15           NaN                  NaN      0.144530   \n",
       "2018-10-15           NaN                  NaN      0.134381   \n",
       "2018-11-15           NaN                  NaN      0.126977   \n",
       "2018-12-15           NaN                  NaN      0.135522   \n",
       "\n",
       "            a_bbp_443_giop_mean  \n",
       "datetime                         \n",
       "2018-08-15             0.001792  \n",
       "2018-09-15             0.001829  \n",
       "2018-10-15             0.001925  \n",
       "2018-11-15             0.001915  \n",
       "2018-12-15             0.001852  "
      ]
     },
     "execution_count": 25,
     "metadata": {},
     "output_type": "execute_result"
    }
   ],
   "source": [
    "df_all.tail()"
   ]
  },
  {
   "cell_type": "code",
   "execution_count": 31,
   "metadata": {},
   "outputs": [
    {
     "data": {
      "text/plain": [
       "<matplotlib.axes._subplots.AxesSubplot at 0x7f9c1bb70898>"
      ]
     },
     "execution_count": 31,
     "metadata": {},
     "output_type": "execute_result"
    },
    {
     "data": {
      "image/png": "[encoded data removed]",
      "text/plain": [
       "<Figure size 864x720 with 2 Axes>"
      ]
     },
     "metadata": {
      "needs_background": "light"
     },
     "output_type": "display_data"
    }
   ],
   "source": [
    "_, ax = pl.subplots(nrows=2, figsize=(12, 10))\n",
    "df_all.plot(y=['s_chl_a_mean', 'a_chl_a_mean'], ax=ax[0])\n",
    "df_all.plot(y=['s_bbp_443_giop_mean', 'a_bbp_443_giop_mean'], ax=ax[1])"
   ]
  },
  {
   "cell_type": "code",
   "execution_count": 26,
   "metadata": {
    "collapsed": true
   },
   "outputs": [],
   "source": [
    "df_both=df_all.dropna().copy()"
   ]
  },
  {
   "cell_type": "code",
   "execution_count": 27,
   "metadata": {},
   "outputs": [
    {
     "data": {
      "text/html": [
       "<div>\n",
       "<style scoped>\n",
       "    .dataframe tbody tr th:only-of-type {\n",
       "        vertical-align: middle;\n",
       "    }\n",
       "\n",
       "    .dataframe tbody tr th {\n",
       "        vertical-align: top;\n",
       "    }\n",
       "\n",
       "    .dataframe thead th {\n",
       "        text-align: right;\n",
       "    }\n",
       "</style>\n",
       "<table border=\"1\" class=\"dataframe\">\n",
       "  <thead>\n",
       "    <tr style=\"text-align: right;\">\n",
       "      <th></th>\n",
       "      <th>s_chl_a_mean</th>\n",
       "      <th>s_bbp_443_giop_mean</th>\n",
       "      <th>a_chl_a_mean</th>\n",
       "      <th>a_bbp_443_giop_mean</th>\n",
       "    </tr>\n",
       "    <tr>\n",
       "      <th>datetime</th>\n",
       "      <th></th>\n",
       "      <th></th>\n",
       "      <th></th>\n",
       "      <th></th>\n",
       "    </tr>\n",
       "  </thead>\n",
       "  <tbody>\n",
       "    <tr>\n",
       "      <th>1997-11-15</th>\n",
       "      <td>0.128396</td>\n",
       "      <td>0.001788</td>\n",
       "      <td>NaN</td>\n",
       "      <td>NaN</td>\n",
       "    </tr>\n",
       "    <tr>\n",
       "      <th>1997-12-15</th>\n",
       "      <td>0.128360</td>\n",
       "      <td>0.001712</td>\n",
       "      <td>NaN</td>\n",
       "      <td>NaN</td>\n",
       "    </tr>\n",
       "    <tr>\n",
       "      <th>1998-01-15</th>\n",
       "      <td>0.128007</td>\n",
       "      <td>0.001673</td>\n",
       "      <td>NaN</td>\n",
       "      <td>NaN</td>\n",
       "    </tr>\n",
       "    <tr>\n",
       "      <th>1998-02-15</th>\n",
       "      <td>0.126971</td>\n",
       "      <td>0.001660</td>\n",
       "      <td>NaN</td>\n",
       "      <td>NaN</td>\n",
       "    </tr>\n",
       "    <tr>\n",
       "      <th>1998-03-15</th>\n",
       "      <td>0.128490</td>\n",
       "      <td>0.001686</td>\n",
       "      <td>NaN</td>\n",
       "      <td>NaN</td>\n",
       "    </tr>\n",
       "  </tbody>\n",
       "</table>\n",
       "</div>"
      ],
      "text/plain": [
       "            s_chl_a_mean  s_bbp_443_giop_mean  a_chl_a_mean  \\\n",
       "datetime                                                      \n",
       "1997-11-15      0.128396             0.001788           NaN   \n",
       "1997-12-15      0.128360             0.001712           NaN   \n",
       "1998-01-15      0.128007             0.001673           NaN   \n",
       "1998-02-15      0.126971             0.001660           NaN   \n",
       "1998-03-15      0.128490             0.001686           NaN   \n",
       "\n",
       "            a_bbp_443_giop_mean  \n",
       "datetime                         \n",
       "1997-11-15                  NaN  \n",
       "1997-12-15                  NaN  \n",
       "1998-01-15                  NaN  \n",
       "1998-02-15                  NaN  \n",
       "1998-03-15                  NaN  "
      ]
     },
     "execution_count": 27,
     "metadata": {},
     "output_type": "execute_result"
    }
   ],
   "source": [
    "df_all.head()"
   ]
  },
  {
   "cell_type": "code",
   "execution_count": 28,
   "metadata": {},
   "outputs": [
    {
     "data": {
      "text/html": [
       "<div>\n",
       "<style scoped>\n",
       "    .dataframe tbody tr th:only-of-type {\n",
       "        vertical-align: middle;\n",
       "    }\n",
       "\n",
       "    .dataframe tbody tr th {\n",
       "        vertical-align: top;\n",
       "    }\n",
       "\n",
       "    .dataframe thead th {\n",
       "        text-align: right;\n",
       "    }\n",
       "</style>\n",
       "<table border=\"1\" class=\"dataframe\">\n",
       "  <thead>\n",
       "    <tr style=\"text-align: right;\">\n",
       "      <th></th>\n",
       "      <th>s_chl_a_mean</th>\n",
       "      <th>s_bbp_443_giop_mean</th>\n",
       "      <th>a_chl_a_mean</th>\n",
       "      <th>a_bbp_443_giop_mean</th>\n",
       "    </tr>\n",
       "    <tr>\n",
       "      <th>datetime</th>\n",
       "      <th></th>\n",
       "      <th></th>\n",
       "      <th></th>\n",
       "      <th></th>\n",
       "    </tr>\n",
       "  </thead>\n",
       "  <tbody>\n",
       "    <tr>\n",
       "      <th>2002-07-15</th>\n",
       "      <td>0.150883</td>\n",
       "      <td>0.001632</td>\n",
       "      <td>0.134046</td>\n",
       "      <td>0.001823</td>\n",
       "    </tr>\n",
       "    <tr>\n",
       "      <th>2002-08-15</th>\n",
       "      <td>0.157160</td>\n",
       "      <td>0.001704</td>\n",
       "      <td>0.144239</td>\n",
       "      <td>0.001815</td>\n",
       "    </tr>\n",
       "    <tr>\n",
       "      <th>2002-09-15</th>\n",
       "      <td>0.158189</td>\n",
       "      <td>0.001742</td>\n",
       "      <td>0.162506</td>\n",
       "      <td>0.001882</td>\n",
       "    </tr>\n",
       "    <tr>\n",
       "      <th>2002-10-15</th>\n",
       "      <td>0.141323</td>\n",
       "      <td>0.001741</td>\n",
       "      <td>0.144815</td>\n",
       "      <td>0.001882</td>\n",
       "    </tr>\n",
       "    <tr>\n",
       "      <th>2002-11-15</th>\n",
       "      <td>0.137566</td>\n",
       "      <td>0.001729</td>\n",
       "      <td>0.138069</td>\n",
       "      <td>0.001899</td>\n",
       "    </tr>\n",
       "  </tbody>\n",
       "</table>\n",
       "</div>"
      ],
      "text/plain": [
       "            s_chl_a_mean  s_bbp_443_giop_mean  a_chl_a_mean  \\\n",
       "datetime                                                      \n",
       "2002-07-15      0.150883             0.001632      0.134046   \n",
       "2002-08-15      0.157160             0.001704      0.144239   \n",
       "2002-09-15      0.158189             0.001742      0.162506   \n",
       "2002-10-15      0.141323             0.001741      0.144815   \n",
       "2002-11-15      0.137566             0.001729      0.138069   \n",
       "\n",
       "            a_bbp_443_giop_mean  \n",
       "datetime                         \n",
       "2002-07-15             0.001823  \n",
       "2002-08-15             0.001815  \n",
       "2002-09-15             0.001882  \n",
       "2002-10-15             0.001882  \n",
       "2002-11-15             0.001899  "
      ]
     },
     "execution_count": 28,
     "metadata": {},
     "output_type": "execute_result"
    }
   ],
   "source": [
    "df_both.head()"
   ]
  },
  {
   "cell_type": "code",
   "execution_count": 29,
   "metadata": {
    "collapsed": true
   },
   "outputs": [],
   "source": [
    "df_both.insert(0, 'chl_mean',\n",
    "               df_both[['s_chl_a_mean',\n",
    "                        'a_chl_a_mean']].mean(axis=1))\n",
    "df_both.insert(1, 'bbp443_mean',\n",
    "               df_both[['s_bbp_443_giop_mean',\n",
    "                        'a_bbp_443_giop_mean']].mean(axis=1))"
   ]
  },
  {
   "cell_type": "code",
   "execution_count": 30,
   "metadata": {
    "collapsed": true
   },
   "outputs": [],
   "source": [
    "df_both.insert(1, 'aqua-chl_mean', df_both.a_chl_a_mean - df_both.chl_mean)\n",
    "df_both.insert(1, 'chl_mean-swf', df_both.chl_mean - df_both.s_chl_a_mean)"
   ]
  },
  {
   "cell_type": "code",
   "execution_count": 31,
   "metadata": {
    "collapsed": true
   },
   "outputs": [],
   "source": [
    "df_both.insert(4, 'aqua-bbp443_mean', df_both.a_bbp_443_giop_mean - df_both.bbp443_mean)\n",
    "df_both.insert(4, 'bbp443_mean-swf', df_both.bbp443_mean - df_both.s_bbp_443_giop_mean)"
   ]
  },
  {
   "cell_type": "code",
   "execution_count": 32,
   "metadata": {},
   "outputs": [
    {
     "data": {
      "text/html": [
       "<div>\n",
       "<style scoped>\n",
       "    .dataframe tbody tr th:only-of-type {\n",
       "        vertical-align: middle;\n",
       "    }\n",
       "\n",
       "    .dataframe tbody tr th {\n",
       "        vertical-align: top;\n",
       "    }\n",
       "\n",
       "    .dataframe thead th {\n",
       "        text-align: right;\n",
       "    }\n",
       "</style>\n",
       "<table border=\"1\" class=\"dataframe\">\n",
       "  <thead>\n",
       "    <tr style=\"text-align: right;\">\n",
       "      <th>datetime</th>\n",
       "      <th>2002-07-15 00:00:00</th>\n",
       "      <th>2002-08-15 00:00:00</th>\n",
       "      <th>2002-09-15 00:00:00</th>\n",
       "      <th>2002-10-15 00:00:00</th>\n",
       "      <th>2002-11-15 00:00:00</th>\n",
       "    </tr>\n",
       "  </thead>\n",
       "  <tbody>\n",
       "    <tr>\n",
       "      <th>chl_mean</th>\n",
       "      <td>0.142464</td>\n",
       "      <td>0.150699</td>\n",
       "      <td>0.160347</td>\n",
       "      <td>0.143069</td>\n",
       "      <td>0.137818</td>\n",
       "    </tr>\n",
       "    <tr>\n",
       "      <th>chl_mean-swf</th>\n",
       "      <td>-0.008418</td>\n",
       "      <td>-0.006461</td>\n",
       "      <td>0.002158</td>\n",
       "      <td>0.001746</td>\n",
       "      <td>0.000251</td>\n",
       "    </tr>\n",
       "    <tr>\n",
       "      <th>aqua-chl_mean</th>\n",
       "      <td>-0.008418</td>\n",
       "      <td>-0.006460</td>\n",
       "      <td>0.002159</td>\n",
       "      <td>0.001746</td>\n",
       "      <td>0.000251</td>\n",
       "    </tr>\n",
       "    <tr>\n",
       "      <th>bbp443_mean</th>\n",
       "      <td>0.001727</td>\n",
       "      <td>0.001759</td>\n",
       "      <td>0.001812</td>\n",
       "      <td>0.001811</td>\n",
       "      <td>0.001814</td>\n",
       "    </tr>\n",
       "    <tr>\n",
       "      <th>bbp443_mean-swf</th>\n",
       "      <td>0.000096</td>\n",
       "      <td>0.000056</td>\n",
       "      <td>0.000070</td>\n",
       "      <td>0.000071</td>\n",
       "      <td>0.000085</td>\n",
       "    </tr>\n",
       "    <tr>\n",
       "      <th>aqua-bbp443_mean</th>\n",
       "      <td>0.000096</td>\n",
       "      <td>0.000056</td>\n",
       "      <td>0.000070</td>\n",
       "      <td>0.000071</td>\n",
       "      <td>0.000085</td>\n",
       "    </tr>\n",
       "    <tr>\n",
       "      <th>s_chl_a_mean</th>\n",
       "      <td>0.150883</td>\n",
       "      <td>0.157160</td>\n",
       "      <td>0.158189</td>\n",
       "      <td>0.141323</td>\n",
       "      <td>0.137566</td>\n",
       "    </tr>\n",
       "    <tr>\n",
       "      <th>s_bbp_443_giop_mean</th>\n",
       "      <td>0.001632</td>\n",
       "      <td>0.001704</td>\n",
       "      <td>0.001742</td>\n",
       "      <td>0.001741</td>\n",
       "      <td>0.001729</td>\n",
       "    </tr>\n",
       "    <tr>\n",
       "      <th>a_chl_a_mean</th>\n",
       "      <td>0.134046</td>\n",
       "      <td>0.144239</td>\n",
       "      <td>0.162506</td>\n",
       "      <td>0.144815</td>\n",
       "      <td>0.138069</td>\n",
       "    </tr>\n",
       "    <tr>\n",
       "      <th>a_bbp_443_giop_mean</th>\n",
       "      <td>0.001823</td>\n",
       "      <td>0.001815</td>\n",
       "      <td>0.001882</td>\n",
       "      <td>0.001882</td>\n",
       "      <td>0.001899</td>\n",
       "    </tr>\n",
       "  </tbody>\n",
       "</table>\n",
       "</div>"
      ],
      "text/plain": [
       "datetime             2002-07-15  2002-08-15  2002-09-15  2002-10-15  \\\n",
       "chl_mean               0.142464    0.150699    0.160347    0.143069   \n",
       "chl_mean-swf          -0.008418   -0.006461    0.002158    0.001746   \n",
       "aqua-chl_mean         -0.008418   -0.006460    0.002159    0.001746   \n",
       "bbp443_mean            0.001727    0.001759    0.001812    0.001811   \n",
       "bbp443_mean-swf        0.000096    0.000056    0.000070    0.000071   \n",
       "aqua-bbp443_mean       0.000096    0.000056    0.000070    0.000071   \n",
       "s_chl_a_mean           0.150883    0.157160    0.158189    0.141323   \n",
       "s_bbp_443_giop_mean    0.001632    0.001704    0.001742    0.001741   \n",
       "a_chl_a_mean           0.134046    0.144239    0.162506    0.144815   \n",
       "a_bbp_443_giop_mean    0.001823    0.001815    0.001882    0.001882   \n",
       "\n",
       "datetime             2002-11-15  \n",
       "chl_mean               0.137818  \n",
       "chl_mean-swf           0.000251  \n",
       "aqua-chl_mean          0.000251  \n",
       "bbp443_mean            0.001814  \n",
       "bbp443_mean-swf        0.000085  \n",
       "aqua-bbp443_mean       0.000085  \n",
       "s_chl_a_mean           0.137566  \n",
       "s_bbp_443_giop_mean    0.001729  \n",
       "a_chl_a_mean           0.138069  \n",
       "a_bbp_443_giop_mean    0.001899  "
      ]
     },
     "execution_count": 32,
     "metadata": {},
     "output_type": "execute_result"
    }
   ],
   "source": [
    "df_both.head().T"
   ]
  },
  {
   "cell_type": "code",
   "execution_count": 33,
   "metadata": {
    "collapsed": true
   },
   "outputs": [],
   "source": [
    "df_all['adj_chl_s'] = df_all.s_chl_a_mean + df_both['chl_mean-swf'].mean()"
   ]
  },
  {
   "cell_type": "code",
   "execution_count": 34,
   "metadata": {
    "collapsed": true
   },
   "outputs": [],
   "source": [
    "df_all['adj_chl_a'] = df_all.a_chl_a_mean - df_both['aqua-chl_mean'].mean()\n",
    "df_all['adj_bbp_s'] = df_all.s_bbp_443_giop_mean + df_both['bbp443_mean-swf'].mean()"
   ]
  },
  {
   "cell_type": "code",
   "execution_count": 35,
   "metadata": {
    "collapsed": true
   },
   "outputs": [],
   "source": [
    "df_all['adj_bbp_a'] = df_all.a_bbp_443_giop_mean - df_both['aqua-bbp443_mean'].mean()"
   ]
  },
  {
   "cell_type": "code",
   "execution_count": 36,
   "metadata": {
    "collapsed": true
   },
   "outputs": [],
   "source": [
    "df_all['chl_adj_mean'] = df_all[['adj_chl_s', 'adj_chl_a']].mean(axis=1)\n",
    "df_all['bbp_adj_mean'] = df_all[['adj_bbp_s', 'adj_bbp_a']].mean(axis=1)"
   ]
  },
  {
   "cell_type": "code",
   "execution_count": 37,
   "metadata": {},
   "outputs": [
    {
     "data": {
      "text/plain": [
       "datetime\n",
       "2018-08-15    0.145831\n",
       "2018-09-15    0.146374\n",
       "2018-10-15    0.136225\n",
       "2018-11-15    0.128821\n",
       "2018-12-15    0.137366\n",
       "Name: adj_chl_a, dtype: float64"
      ]
     },
     "execution_count": 37,
     "metadata": {},
     "output_type": "execute_result"
    }
   ],
   "source": [
    "df_all['adj_chl_a'].tail()"
   ]
  },
  {
   "cell_type": "code",
   "execution_count": 38,
   "metadata": {},
   "outputs": [
    {
     "data": {
      "image/png": "[encoded data removed]",
      "text/plain": [
       "<Figure size 864x720 with 2 Axes>"
      ]
     },
     "metadata": {
      "needs_background": "light"
     },
     "output_type": "display_data"
    }
   ],
   "source": [
    "f, ax = pl.subplots(nrows=2, figsize=(12, 10), sharex=True)\n",
    "df_all.plot(y=['s_chl_a_mean', 'a_chl_a_mean', 'chl_adj_mean'], ax=ax[0], legend=False)\n",
    "df_all.plot(y=['s_bbp_443_giop_mean', 'a_bbp_443_giop_mean', 'bbp_adj_mean'], ax=ax[1], legend=False)\n",
    "ax[0].set_ylabel('chl.a $mg^{-3}$')\n",
    "ax[1].set_ylabel('bbp(443) $m^{-1}$')\n",
    "set_time_axis(ax[0])\n",
    "set_time_axis(ax[1])"
   ]
  },
  {
   "cell_type": "code",
   "execution_count": 39,
   "metadata": {
    "collapsed": true
   },
   "outputs": [],
   "source": [
    "df_both = df_all[['chl_adj_mean', 'bbp_adj_mean']].copy()"
   ]
  },
  {
   "cell_type": "code",
   "execution_count": 40,
   "metadata": {},
   "outputs": [
    {
     "data": {
      "text/plain": [
       "(8000, 1)"
      ]
     },
     "execution_count": 40,
     "metadata": {},
     "output_type": "execute_result"
    }
   ],
   "source": [
    "intercept.shape"
   ]
  },
  {
   "cell_type": "code",
   "execution_count": 41,
   "metadata": {
    "collapsed": true
   },
   "outputs": [],
   "source": [
    "phyto_C_trace = df_both.bbp_adj_mean.values.reshape(1,-1) * slope + intercept"
   ]
  },
  {
   "cell_type": "code",
   "execution_count": 42,
   "metadata": {
    "collapsed": true
   },
   "outputs": [],
   "source": [
    "df_both['phyto_C_mean'] = phyto_C_trace.mean(axis=0)"
   ]
  },
  {
   "cell_type": "code",
   "execution_count": 43,
   "metadata": {
    "collapsed": true
   },
   "outputs": [],
   "source": [
    "phyto_C_50ci = pm.hpd(phyto_C_trace, alpha=0.5)\n",
    "phyto_C_95ci = pm.hpd(phyto_C_trace, alpha=0.05)"
   ]
  },
  {
   "cell_type": "code",
   "execution_count": 44,
   "metadata": {
    "collapsed": true
   },
   "outputs": [],
   "source": [
    "df_both['phyto_C_50CI_hi'] = phyto_C_50ci[:, 1]\n",
    "df_both['phyto_C_95CI_hi'] = phyto_C_95ci[:, 1]"
   ]
  },
  {
   "cell_type": "code",
   "execution_count": 45,
   "metadata": {
    "collapsed": true
   },
   "outputs": [],
   "source": [
    "df_both.insert(2, 'phyto_C_50CI_lo', phyto_C_50ci[:, 0])\n",
    "df_both.insert(2, 'phyto_C_95CI_lo', phyto_C_95ci[:, 0])"
   ]
  },
  {
   "cell_type": "code",
   "execution_count": 46,
   "metadata": {},
   "outputs": [
    {
     "data": {
      "text/html": [
       "<div>\n",
       "<style scoped>\n",
       "    .dataframe tbody tr th:only-of-type {\n",
       "        vertical-align: middle;\n",
       "    }\n",
       "\n",
       "    .dataframe tbody tr th {\n",
       "        vertical-align: top;\n",
       "    }\n",
       "\n",
       "    .dataframe thead th {\n",
       "        text-align: right;\n",
       "    }\n",
       "</style>\n",
       "<table border=\"1\" class=\"dataframe\">\n",
       "  <thead>\n",
       "    <tr style=\"text-align: right;\">\n",
       "      <th></th>\n",
       "      <th>chl_adj_mean</th>\n",
       "      <th>bbp_adj_mean</th>\n",
       "      <th>phyto_C_95CI_lo</th>\n",
       "      <th>phyto_C_50CI_lo</th>\n",
       "      <th>phyto_C_mean</th>\n",
       "      <th>phyto_C_50CI_hi</th>\n",
       "      <th>phyto_C_95CI_hi</th>\n",
       "    </tr>\n",
       "    <tr>\n",
       "      <th>datetime</th>\n",
       "      <th></th>\n",
       "      <th></th>\n",
       "      <th></th>\n",
       "      <th></th>\n",
       "      <th></th>\n",
       "      <th></th>\n",
       "      <th></th>\n",
       "    </tr>\n",
       "  </thead>\n",
       "  <tbody>\n",
       "    <tr>\n",
       "      <th>1997-11-15</th>\n",
       "      <td>0.126552</td>\n",
       "      <td>0.001842</td>\n",
       "      <td>20.385325</td>\n",
       "      <td>21.552935</td>\n",
       "      <td>22.120413</td>\n",
       "      <td>22.762124</td>\n",
       "      <td>24.021646</td>\n",
       "    </tr>\n",
       "    <tr>\n",
       "      <th>1997-12-15</th>\n",
       "      <td>0.126516</td>\n",
       "      <td>0.001765</td>\n",
       "      <td>19.559207</td>\n",
       "      <td>20.546520</td>\n",
       "      <td>21.218630</td>\n",
       "      <td>21.699756</td>\n",
       "      <td>23.046890</td>\n",
       "    </tr>\n",
       "    <tr>\n",
       "      <th>1998-01-15</th>\n",
       "      <td>0.126163</td>\n",
       "      <td>0.001726</td>\n",
       "      <td>19.085081</td>\n",
       "      <td>20.162330</td>\n",
       "      <td>20.758506</td>\n",
       "      <td>21.287907</td>\n",
       "      <td>22.512791</td>\n",
       "    </tr>\n",
       "    <tr>\n",
       "      <th>1998-02-15</th>\n",
       "      <td>0.125127</td>\n",
       "      <td>0.001713</td>\n",
       "      <td>18.944551</td>\n",
       "      <td>20.015984</td>\n",
       "      <td>20.610071</td>\n",
       "      <td>21.132228</td>\n",
       "      <td>22.340050</td>\n",
       "    </tr>\n",
       "    <tr>\n",
       "      <th>1998-03-15</th>\n",
       "      <td>0.126646</td>\n",
       "      <td>0.001740</td>\n",
       "      <td>19.345028</td>\n",
       "      <td>20.307371</td>\n",
       "      <td>20.920938</td>\n",
       "      <td>21.442327</td>\n",
       "      <td>22.798734</td>\n",
       "    </tr>\n",
       "  </tbody>\n",
       "</table>\n",
       "</div>"
      ],
      "text/plain": [
       "            chl_adj_mean  bbp_adj_mean  phyto_C_95CI_lo  phyto_C_50CI_lo  \\\n",
       "datetime                                                                   \n",
       "1997-11-15      0.126552      0.001842        20.385325        21.552935   \n",
       "1997-12-15      0.126516      0.001765        19.559207        20.546520   \n",
       "1998-01-15      0.126163      0.001726        19.085081        20.162330   \n",
       "1998-02-15      0.125127      0.001713        18.944551        20.015984   \n",
       "1998-03-15      0.126646      0.001740        19.345028        20.307371   \n",
       "\n",
       "            phyto_C_mean  phyto_C_50CI_hi  phyto_C_95CI_hi  \n",
       "datetime                                                    \n",
       "1997-11-15     22.120413        22.762124        24.021646  \n",
       "1997-12-15     21.218630        21.699756        23.046890  \n",
       "1998-01-15     20.758506        21.287907        22.512791  \n",
       "1998-02-15     20.610071        21.132228        22.340050  \n",
       "1998-03-15     20.920938        21.442327        22.798734  "
      ]
     },
     "execution_count": 46,
     "metadata": {},
     "output_type": "execute_result"
    }
   ],
   "source": [
    "df_both.head()"
   ]
  },
  {
   "cell_type": "code",
   "execution_count": 47,
   "metadata": {
    "collapsed": true
   },
   "outputs": [],
   "source": [
    "chl_ann_cycle = get_monthly_means(df_both[['chl_adj_mean']],\n",
    "                                 year_start=2003, year_end=2011)\n",
    "carb_ann_cycle = get_monthly_means(df_both[['phyto_C_mean']],\n",
    "                                  year_start=2003, year_end=2011)"
   ]
  },
  {
   "cell_type": "code",
   "execution_count": 48,
   "metadata": {},
   "outputs": [
    {
     "data": {
      "text/html": [
       "<div>\n",
       "<style scoped>\n",
       "    .dataframe tbody tr th:only-of-type {\n",
       "        vertical-align: middle;\n",
       "    }\n",
       "\n",
       "    .dataframe tbody tr th {\n",
       "        vertical-align: top;\n",
       "    }\n",
       "\n",
       "    .dataframe thead th {\n",
       "        text-align: right;\n",
       "    }\n",
       "</style>\n",
       "<table border=\"1\" class=\"dataframe\">\n",
       "  <thead>\n",
       "    <tr style=\"text-align: right;\">\n",
       "      <th></th>\n",
       "      <th>chl_adj_mean</th>\n",
       "    </tr>\n",
       "  </thead>\n",
       "  <tbody>\n",
       "    <tr>\n",
       "      <th>1</th>\n",
       "      <td>0.140039</td>\n",
       "    </tr>\n",
       "    <tr>\n",
       "      <th>2</th>\n",
       "      <td>0.145164</td>\n",
       "    </tr>\n",
       "    <tr>\n",
       "      <th>3</th>\n",
       "      <td>0.144552</td>\n",
       "    </tr>\n",
       "    <tr>\n",
       "      <th>4</th>\n",
       "      <td>0.143244</td>\n",
       "    </tr>\n",
       "    <tr>\n",
       "      <th>5</th>\n",
       "      <td>0.141956</td>\n",
       "    </tr>\n",
       "    <tr>\n",
       "      <th>6</th>\n",
       "      <td>0.144788</td>\n",
       "    </tr>\n",
       "    <tr>\n",
       "      <th>7</th>\n",
       "      <td>0.148271</td>\n",
       "    </tr>\n",
       "    <tr>\n",
       "      <th>8</th>\n",
       "      <td>0.148510</td>\n",
       "    </tr>\n",
       "    <tr>\n",
       "      <th>9</th>\n",
       "      <td>0.150857</td>\n",
       "    </tr>\n",
       "    <tr>\n",
       "      <th>10</th>\n",
       "      <td>0.140950</td>\n",
       "    </tr>\n",
       "    <tr>\n",
       "      <th>11</th>\n",
       "      <td>0.135073</td>\n",
       "    </tr>\n",
       "    <tr>\n",
       "      <th>12</th>\n",
       "      <td>0.136113</td>\n",
       "    </tr>\n",
       "  </tbody>\n",
       "</table>\n",
       "</div>"
      ],
      "text/plain": [
       "    chl_adj_mean\n",
       "1       0.140039\n",
       "2       0.145164\n",
       "3       0.144552\n",
       "4       0.143244\n",
       "5       0.141956\n",
       "6       0.144788\n",
       "7       0.148271\n",
       "8       0.148510\n",
       "9       0.150857\n",
       "10      0.140950\n",
       "11      0.135073\n",
       "12      0.136113"
      ]
     },
     "execution_count": 48,
     "metadata": {},
     "output_type": "execute_result"
    }
   ],
   "source": [
    "chl_ann_cycle"
   ]
  },
  {
   "cell_type": "code",
   "execution_count": 49,
   "metadata": {},
   "outputs": [
    {
     "data": {
      "text/html": [
       "<div>\n",
       "<style scoped>\n",
       "    .dataframe tbody tr th:only-of-type {\n",
       "        vertical-align: middle;\n",
       "    }\n",
       "\n",
       "    .dataframe tbody tr th {\n",
       "        vertical-align: top;\n",
       "    }\n",
       "\n",
       "    .dataframe thead th {\n",
       "        text-align: right;\n",
       "    }\n",
       "</style>\n",
       "<table border=\"1\" class=\"dataframe\">\n",
       "  <thead>\n",
       "    <tr style=\"text-align: right;\">\n",
       "      <th></th>\n",
       "      <th>phyto_C_mean</th>\n",
       "    </tr>\n",
       "  </thead>\n",
       "  <tbody>\n",
       "    <tr>\n",
       "      <th>1</th>\n",
       "      <td>20.828649</td>\n",
       "    </tr>\n",
       "    <tr>\n",
       "      <th>2</th>\n",
       "      <td>20.601835</td>\n",
       "    </tr>\n",
       "    <tr>\n",
       "      <th>3</th>\n",
       "      <td>20.644877</td>\n",
       "    </tr>\n",
       "    <tr>\n",
       "      <th>4</th>\n",
       "      <td>20.954828</td>\n",
       "    </tr>\n",
       "    <tr>\n",
       "      <th>5</th>\n",
       "      <td>21.080523</td>\n",
       "    </tr>\n",
       "    <tr>\n",
       "      <th>6</th>\n",
       "      <td>20.830466</td>\n",
       "    </tr>\n",
       "    <tr>\n",
       "      <th>7</th>\n",
       "      <td>20.413331</td>\n",
       "    </tr>\n",
       "    <tr>\n",
       "      <th>8</th>\n",
       "      <td>20.701994</td>\n",
       "    </tr>\n",
       "    <tr>\n",
       "      <th>9</th>\n",
       "      <td>21.205369</td>\n",
       "    </tr>\n",
       "    <tr>\n",
       "      <th>10</th>\n",
       "      <td>21.871659</td>\n",
       "    </tr>\n",
       "    <tr>\n",
       "      <th>11</th>\n",
       "      <td>22.099369</td>\n",
       "    </tr>\n",
       "    <tr>\n",
       "      <th>12</th>\n",
       "      <td>21.522756</td>\n",
       "    </tr>\n",
       "  </tbody>\n",
       "</table>\n",
       "</div>"
      ],
      "text/plain": [
       "    phyto_C_mean\n",
       "1      20.828649\n",
       "2      20.601835\n",
       "3      20.644877\n",
       "4      20.954828\n",
       "5      21.080523\n",
       "6      20.830466\n",
       "7      20.413331\n",
       "8      20.701994\n",
       "9      21.205369\n",
       "10     21.871659\n",
       "11     22.099369\n",
       "12     21.522756"
      ]
     },
     "execution_count": 49,
     "metadata": {},
     "output_type": "execute_result"
    }
   ],
   "source": [
    "carb_ann_cycle"
   ]
  },
  {
   "cell_type": "code",
   "execution_count": 50,
   "metadata": {
    "collapsed": true
   },
   "outputs": [],
   "source": [
    "get_anomaly(df_both, chl_ann_cycle, name='chl_adj_mean', anomaly_name='chl_anomaly')\n",
    "get_anomaly(df_both, carb_ann_cycle, name='phyto_C_mean', anomaly_name='phyto_C_anomaly')"
   ]
  },
  {
   "cell_type": "code",
   "execution_count": 51,
   "metadata": {},
   "outputs": [
    {
     "data": {
      "text/html": [
       "<div>\n",
       "<style scoped>\n",
       "    .dataframe tbody tr th:only-of-type {\n",
       "        vertical-align: middle;\n",
       "    }\n",
       "\n",
       "    .dataframe tbody tr th {\n",
       "        vertical-align: top;\n",
       "    }\n",
       "\n",
       "    .dataframe thead th {\n",
       "        text-align: right;\n",
       "    }\n",
       "</style>\n",
       "<table border=\"1\" class=\"dataframe\">\n",
       "  <thead>\n",
       "    <tr style=\"text-align: right;\">\n",
       "      <th>datetime</th>\n",
       "      <th>1997-11-15 00:00:00</th>\n",
       "      <th>1997-12-15 00:00:00</th>\n",
       "      <th>1998-01-15 00:00:00</th>\n",
       "      <th>1998-02-15 00:00:00</th>\n",
       "      <th>1998-03-15 00:00:00</th>\n",
       "    </tr>\n",
       "  </thead>\n",
       "  <tbody>\n",
       "    <tr>\n",
       "      <th>chl_adj_mean</th>\n",
       "      <td>0.126552</td>\n",
       "      <td>0.126516</td>\n",
       "      <td>0.126163</td>\n",
       "      <td>0.125127</td>\n",
       "      <td>0.126646</td>\n",
       "    </tr>\n",
       "    <tr>\n",
       "      <th>bbp_adj_mean</th>\n",
       "      <td>0.001842</td>\n",
       "      <td>0.001765</td>\n",
       "      <td>0.001726</td>\n",
       "      <td>0.001713</td>\n",
       "      <td>0.001740</td>\n",
       "    </tr>\n",
       "    <tr>\n",
       "      <th>phyto_C_95CI_lo</th>\n",
       "      <td>20.385325</td>\n",
       "      <td>19.559207</td>\n",
       "      <td>19.085081</td>\n",
       "      <td>18.944551</td>\n",
       "      <td>19.345028</td>\n",
       "    </tr>\n",
       "    <tr>\n",
       "      <th>phyto_C_50CI_lo</th>\n",
       "      <td>21.552935</td>\n",
       "      <td>20.546520</td>\n",
       "      <td>20.162330</td>\n",
       "      <td>20.015984</td>\n",
       "      <td>20.307371</td>\n",
       "    </tr>\n",
       "    <tr>\n",
       "      <th>phyto_C_mean</th>\n",
       "      <td>22.120413</td>\n",
       "      <td>21.218630</td>\n",
       "      <td>20.758506</td>\n",
       "      <td>20.610071</td>\n",
       "      <td>20.920938</td>\n",
       "    </tr>\n",
       "    <tr>\n",
       "      <th>phyto_C_50CI_hi</th>\n",
       "      <td>22.762124</td>\n",
       "      <td>21.699756</td>\n",
       "      <td>21.287907</td>\n",
       "      <td>21.132228</td>\n",
       "      <td>21.442327</td>\n",
       "    </tr>\n",
       "    <tr>\n",
       "      <th>phyto_C_95CI_hi</th>\n",
       "      <td>24.021646</td>\n",
       "      <td>23.046890</td>\n",
       "      <td>22.512791</td>\n",
       "      <td>22.340050</td>\n",
       "      <td>22.798734</td>\n",
       "    </tr>\n",
       "    <tr>\n",
       "      <th>chl_anomaly</th>\n",
       "      <td>-0.008520</td>\n",
       "      <td>-0.009597</td>\n",
       "      <td>-0.013876</td>\n",
       "      <td>-0.020037</td>\n",
       "      <td>-0.017906</td>\n",
       "    </tr>\n",
       "    <tr>\n",
       "      <th>phyto_C_anomaly</th>\n",
       "      <td>0.021044</td>\n",
       "      <td>-0.304126</td>\n",
       "      <td>-0.070143</td>\n",
       "      <td>0.008237</td>\n",
       "      <td>0.276061</td>\n",
       "    </tr>\n",
       "  </tbody>\n",
       "</table>\n",
       "</div>"
      ],
      "text/plain": [
       "datetime         1997-11-15  1997-12-15  1998-01-15  1998-02-15  1998-03-15\n",
       "chl_adj_mean       0.126552    0.126516    0.126163    0.125127    0.126646\n",
       "bbp_adj_mean       0.001842    0.001765    0.001726    0.001713    0.001740\n",
       "phyto_C_95CI_lo   20.385325   19.559207   19.085081   18.944551   19.345028\n",
       "phyto_C_50CI_lo   21.552935   20.546520   20.162330   20.015984   20.307371\n",
       "phyto_C_mean      22.120413   21.218630   20.758506   20.610071   20.920938\n",
       "phyto_C_50CI_hi   22.762124   21.699756   21.287907   21.132228   21.442327\n",
       "phyto_C_95CI_hi   24.021646   23.046890   22.512791   22.340050   22.798734\n",
       "chl_anomaly       -0.008520   -0.009597   -0.013876   -0.020037   -0.017906\n",
       "phyto_C_anomaly    0.021044   -0.304126   -0.070143    0.008237    0.276061"
      ]
     },
     "execution_count": 51,
     "metadata": {},
     "output_type": "execute_result"
    }
   ],
   "source": [
    "df_both.head().T"
   ]
  },
  {
   "cell_type": "code",
   "execution_count": 52,
   "metadata": {},
   "outputs": [
    {
     "data": {
      "text/html": [
       "<div>\n",
       "<style scoped>\n",
       "    .dataframe tbody tr th:only-of-type {\n",
       "        vertical-align: middle;\n",
       "    }\n",
       "\n",
       "    .dataframe tbody tr th {\n",
       "        vertical-align: top;\n",
       "    }\n",
       "\n",
       "    .dataframe thead th {\n",
       "        text-align: right;\n",
       "    }\n",
       "</style>\n",
       "<table border=\"1\" class=\"dataframe\">\n",
       "  <thead>\n",
       "    <tr style=\"text-align: right;\">\n",
       "      <th></th>\n",
       "      <th>s_chl_a_mean</th>\n",
       "      <th>s_bbp_443_giop_mean</th>\n",
       "      <th>a_chl_a_mean</th>\n",
       "      <th>a_bbp_443_giop_mean</th>\n",
       "      <th>adj_chl_s</th>\n",
       "      <th>adj_chl_a</th>\n",
       "      <th>adj_bbp_s</th>\n",
       "      <th>adj_bbp_a</th>\n",
       "      <th>chl_adj_mean</th>\n",
       "      <th>bbp_adj_mean</th>\n",
       "    </tr>\n",
       "    <tr>\n",
       "      <th>datetime</th>\n",
       "      <th></th>\n",
       "      <th></th>\n",
       "      <th></th>\n",
       "      <th></th>\n",
       "      <th></th>\n",
       "      <th></th>\n",
       "      <th></th>\n",
       "      <th></th>\n",
       "      <th></th>\n",
       "      <th></th>\n",
       "    </tr>\n",
       "  </thead>\n",
       "  <tbody>\n",
       "    <tr>\n",
       "      <th>1997-11-15</th>\n",
       "      <td>0.128396</td>\n",
       "      <td>0.001788</td>\n",
       "      <td>NaN</td>\n",
       "      <td>NaN</td>\n",
       "      <td>0.126552</td>\n",
       "      <td>NaN</td>\n",
       "      <td>0.001842</td>\n",
       "      <td>NaN</td>\n",
       "      <td>0.126552</td>\n",
       "      <td>0.001842</td>\n",
       "    </tr>\n",
       "    <tr>\n",
       "      <th>1997-12-15</th>\n",
       "      <td>0.128360</td>\n",
       "      <td>0.001712</td>\n",
       "      <td>NaN</td>\n",
       "      <td>NaN</td>\n",
       "      <td>0.126516</td>\n",
       "      <td>NaN</td>\n",
       "      <td>0.001765</td>\n",
       "      <td>NaN</td>\n",
       "      <td>0.126516</td>\n",
       "      <td>0.001765</td>\n",
       "    </tr>\n",
       "    <tr>\n",
       "      <th>1998-01-15</th>\n",
       "      <td>0.128007</td>\n",
       "      <td>0.001673</td>\n",
       "      <td>NaN</td>\n",
       "      <td>NaN</td>\n",
       "      <td>0.126163</td>\n",
       "      <td>NaN</td>\n",
       "      <td>0.001726</td>\n",
       "      <td>NaN</td>\n",
       "      <td>0.126163</td>\n",
       "      <td>0.001726</td>\n",
       "    </tr>\n",
       "    <tr>\n",
       "      <th>1998-02-15</th>\n",
       "      <td>0.126971</td>\n",
       "      <td>0.001660</td>\n",
       "      <td>NaN</td>\n",
       "      <td>NaN</td>\n",
       "      <td>0.125127</td>\n",
       "      <td>NaN</td>\n",
       "      <td>0.001713</td>\n",
       "      <td>NaN</td>\n",
       "      <td>0.125127</td>\n",
       "      <td>0.001713</td>\n",
       "    </tr>\n",
       "    <tr>\n",
       "      <th>1998-03-15</th>\n",
       "      <td>0.128490</td>\n",
       "      <td>0.001686</td>\n",
       "      <td>NaN</td>\n",
       "      <td>NaN</td>\n",
       "      <td>0.126646</td>\n",
       "      <td>NaN</td>\n",
       "      <td>0.001740</td>\n",
       "      <td>NaN</td>\n",
       "      <td>0.126646</td>\n",
       "      <td>0.001740</td>\n",
       "    </tr>\n",
       "  </tbody>\n",
       "</table>\n",
       "</div>"
      ],
      "text/plain": [
       "            s_chl_a_mean  s_bbp_443_giop_mean  a_chl_a_mean  \\\n",
       "datetime                                                      \n",
       "1997-11-15      0.128396             0.001788           NaN   \n",
       "1997-12-15      0.128360             0.001712           NaN   \n",
       "1998-01-15      0.128007             0.001673           NaN   \n",
       "1998-02-15      0.126971             0.001660           NaN   \n",
       "1998-03-15      0.128490             0.001686           NaN   \n",
       "\n",
       "            a_bbp_443_giop_mean  adj_chl_s  adj_chl_a  adj_bbp_s  adj_bbp_a  \\\n",
       "datetime                                                                      \n",
       "1997-11-15                  NaN   0.126552        NaN   0.001842        NaN   \n",
       "1997-12-15                  NaN   0.126516        NaN   0.001765        NaN   \n",
       "1998-01-15                  NaN   0.126163        NaN   0.001726        NaN   \n",
       "1998-02-15                  NaN   0.125127        NaN   0.001713        NaN   \n",
       "1998-03-15                  NaN   0.126646        NaN   0.001740        NaN   \n",
       "\n",
       "            chl_adj_mean  bbp_adj_mean  \n",
       "datetime                                \n",
       "1997-11-15      0.126552      0.001842  \n",
       "1997-12-15      0.126516      0.001765  \n",
       "1998-01-15      0.126163      0.001726  \n",
       "1998-02-15      0.125127      0.001713  \n",
       "1998-03-15      0.126646      0.001740  "
      ]
     },
     "execution_count": 52,
     "metadata": {},
     "output_type": "execute_result"
    }
   ],
   "source": [
    "df_all.head()"
   ]
  },
  {
   "cell_type": "code",
   "execution_count": 53,
   "metadata": {},
   "outputs": [
    {
     "data": {
      "text/html": [
       "<div>\n",
       "<style scoped>\n",
       "    .dataframe tbody tr th:only-of-type {\n",
       "        vertical-align: middle;\n",
       "    }\n",
       "\n",
       "    .dataframe tbody tr th {\n",
       "        vertical-align: top;\n",
       "    }\n",
       "\n",
       "    .dataframe thead th {\n",
       "        text-align: right;\n",
       "    }\n",
       "</style>\n",
       "<table border=\"1\" class=\"dataframe\">\n",
       "  <thead>\n",
       "    <tr style=\"text-align: right;\">\n",
       "      <th></th>\n",
       "      <th>chl_adj_mean</th>\n",
       "      <th>bbp_adj_mean</th>\n",
       "      <th>phyto_C_95CI_lo</th>\n",
       "      <th>phyto_C_50CI_lo</th>\n",
       "      <th>phyto_C_mean</th>\n",
       "      <th>phyto_C_50CI_hi</th>\n",
       "      <th>phyto_C_95CI_hi</th>\n",
       "      <th>chl_anomaly</th>\n",
       "      <th>phyto_C_anomaly</th>\n",
       "    </tr>\n",
       "    <tr>\n",
       "      <th>datetime</th>\n",
       "      <th></th>\n",
       "      <th></th>\n",
       "      <th></th>\n",
       "      <th></th>\n",
       "      <th></th>\n",
       "      <th></th>\n",
       "      <th></th>\n",
       "      <th></th>\n",
       "      <th></th>\n",
       "    </tr>\n",
       "  </thead>\n",
       "  <tbody>\n",
       "    <tr>\n",
       "      <th>1997-11-15</th>\n",
       "      <td>0.126552</td>\n",
       "      <td>0.001842</td>\n",
       "      <td>20.385325</td>\n",
       "      <td>21.552935</td>\n",
       "      <td>22.120413</td>\n",
       "      <td>22.762124</td>\n",
       "      <td>24.021646</td>\n",
       "      <td>-0.008520</td>\n",
       "      <td>0.021044</td>\n",
       "    </tr>\n",
       "    <tr>\n",
       "      <th>1997-12-15</th>\n",
       "      <td>0.126516</td>\n",
       "      <td>0.001765</td>\n",
       "      <td>19.559207</td>\n",
       "      <td>20.546520</td>\n",
       "      <td>21.218630</td>\n",
       "      <td>21.699756</td>\n",
       "      <td>23.046890</td>\n",
       "      <td>-0.009597</td>\n",
       "      <td>-0.304126</td>\n",
       "    </tr>\n",
       "    <tr>\n",
       "      <th>1998-01-15</th>\n",
       "      <td>0.126163</td>\n",
       "      <td>0.001726</td>\n",
       "      <td>19.085081</td>\n",
       "      <td>20.162330</td>\n",
       "      <td>20.758506</td>\n",
       "      <td>21.287907</td>\n",
       "      <td>22.512791</td>\n",
       "      <td>-0.013876</td>\n",
       "      <td>-0.070143</td>\n",
       "    </tr>\n",
       "    <tr>\n",
       "      <th>1998-02-15</th>\n",
       "      <td>0.125127</td>\n",
       "      <td>0.001713</td>\n",
       "      <td>18.944551</td>\n",
       "      <td>20.015984</td>\n",
       "      <td>20.610071</td>\n",
       "      <td>21.132228</td>\n",
       "      <td>22.340050</td>\n",
       "      <td>-0.020037</td>\n",
       "      <td>0.008237</td>\n",
       "    </tr>\n",
       "    <tr>\n",
       "      <th>1998-03-15</th>\n",
       "      <td>0.126646</td>\n",
       "      <td>0.001740</td>\n",
       "      <td>19.345028</td>\n",
       "      <td>20.307371</td>\n",
       "      <td>20.920938</td>\n",
       "      <td>21.442327</td>\n",
       "      <td>22.798734</td>\n",
       "      <td>-0.017906</td>\n",
       "      <td>0.276061</td>\n",
       "    </tr>\n",
       "  </tbody>\n",
       "</table>\n",
       "</div>"
      ],
      "text/plain": [
       "            chl_adj_mean  bbp_adj_mean  phyto_C_95CI_lo  phyto_C_50CI_lo  \\\n",
       "datetime                                                                   \n",
       "1997-11-15      0.126552      0.001842        20.385325        21.552935   \n",
       "1997-12-15      0.126516      0.001765        19.559207        20.546520   \n",
       "1998-01-15      0.126163      0.001726        19.085081        20.162330   \n",
       "1998-02-15      0.125127      0.001713        18.944551        20.015984   \n",
       "1998-03-15      0.126646      0.001740        19.345028        20.307371   \n",
       "\n",
       "            phyto_C_mean  phyto_C_50CI_hi  phyto_C_95CI_hi  chl_anomaly  \\\n",
       "datetime                                                                  \n",
       "1997-11-15     22.120413        22.762124        24.021646    -0.008520   \n",
       "1997-12-15     21.218630        21.699756        23.046890    -0.009597   \n",
       "1998-01-15     20.758506        21.287907        22.512791    -0.013876   \n",
       "1998-02-15     20.610071        21.132228        22.340050    -0.020037   \n",
       "1998-03-15     20.920938        21.442327        22.798734    -0.017906   \n",
       "\n",
       "            phyto_C_anomaly  \n",
       "datetime                     \n",
       "1997-11-15         0.021044  \n",
       "1997-12-15        -0.304126  \n",
       "1998-01-15        -0.070143  \n",
       "1998-02-15         0.008237  \n",
       "1998-03-15         0.276061  "
      ]
     },
     "execution_count": 53,
     "metadata": {},
     "output_type": "execute_result"
    }
   ],
   "source": [
    "df_both.head()"
   ]
  },
  {
   "cell_type": "code",
   "execution_count": 75,
   "metadata": {
    "collapsed": true
   },
   "outputs": [],
   "source": [
    "def get_sensor(row):\n",
    "    if np.isfinite(row['adj_chl_s'] * row['adj_chl_a']):\n",
    "        return 'both'\n",
    "    else:\n",
    "        if np.isfinite(row['adj_chl_s']):\n",
    "            return 'swf'\n",
    "        else:\n",
    "            return 'aqua'\n",
    "df_both['sensor'] =df_all.apply(get_sensor, axis=1)"
   ]
  },
  {
   "cell_type": "code",
   "execution_count": 76,
   "metadata": {},
   "outputs": [
    {
     "data": {
      "text/html": [
       "<div>\n",
       "<style scoped>\n",
       "    .dataframe tbody tr th:only-of-type {\n",
       "        vertical-align: middle;\n",
       "    }\n",
       "\n",
       "    .dataframe tbody tr th {\n",
       "        vertical-align: top;\n",
       "    }\n",
       "\n",
       "    .dataframe thead th {\n",
       "        text-align: right;\n",
       "    }\n",
       "</style>\n",
       "<table border=\"1\" class=\"dataframe\">\n",
       "  <thead>\n",
       "    <tr style=\"text-align: right;\">\n",
       "      <th></th>\n",
       "      <th>chl_adj_mean</th>\n",
       "      <th>bbp_adj_mean</th>\n",
       "      <th>phyto_C_95CI_lo</th>\n",
       "      <th>phyto_C_50CI_lo</th>\n",
       "      <th>phyto_C_mean</th>\n",
       "      <th>phyto_C_50CI_hi</th>\n",
       "      <th>phyto_C_95CI_hi</th>\n",
       "      <th>chl_anomaly</th>\n",
       "      <th>phyto_C_anomaly</th>\n",
       "      <th>sensor</th>\n",
       "    </tr>\n",
       "    <tr>\n",
       "      <th>datetime</th>\n",
       "      <th></th>\n",
       "      <th></th>\n",
       "      <th></th>\n",
       "      <th></th>\n",
       "      <th></th>\n",
       "      <th></th>\n",
       "      <th></th>\n",
       "      <th></th>\n",
       "      <th></th>\n",
       "      <th></th>\n",
       "    </tr>\n",
       "  </thead>\n",
       "  <tbody>\n",
       "    <tr>\n",
       "      <th>1997-11-15</th>\n",
       "      <td>0.126552</td>\n",
       "      <td>0.001842</td>\n",
       "      <td>20.385325</td>\n",
       "      <td>21.552935</td>\n",
       "      <td>22.120413</td>\n",
       "      <td>22.762124</td>\n",
       "      <td>24.021646</td>\n",
       "      <td>-0.008520</td>\n",
       "      <td>0.021044</td>\n",
       "      <td>swf</td>\n",
       "    </tr>\n",
       "    <tr>\n",
       "      <th>1997-12-15</th>\n",
       "      <td>0.126516</td>\n",
       "      <td>0.001765</td>\n",
       "      <td>19.559207</td>\n",
       "      <td>20.546520</td>\n",
       "      <td>21.218630</td>\n",
       "      <td>21.699756</td>\n",
       "      <td>23.046890</td>\n",
       "      <td>-0.009597</td>\n",
       "      <td>-0.304126</td>\n",
       "      <td>swf</td>\n",
       "    </tr>\n",
       "    <tr>\n",
       "      <th>1998-01-15</th>\n",
       "      <td>0.126163</td>\n",
       "      <td>0.001726</td>\n",
       "      <td>19.085081</td>\n",
       "      <td>20.162330</td>\n",
       "      <td>20.758506</td>\n",
       "      <td>21.287907</td>\n",
       "      <td>22.512791</td>\n",
       "      <td>-0.013876</td>\n",
       "      <td>-0.070143</td>\n",
       "      <td>swf</td>\n",
       "    </tr>\n",
       "    <tr>\n",
       "      <th>1998-02-15</th>\n",
       "      <td>0.125127</td>\n",
       "      <td>0.001713</td>\n",
       "      <td>18.944551</td>\n",
       "      <td>20.015984</td>\n",
       "      <td>20.610071</td>\n",
       "      <td>21.132228</td>\n",
       "      <td>22.340050</td>\n",
       "      <td>-0.020037</td>\n",
       "      <td>0.008237</td>\n",
       "      <td>swf</td>\n",
       "    </tr>\n",
       "    <tr>\n",
       "      <th>1998-03-15</th>\n",
       "      <td>0.126646</td>\n",
       "      <td>0.001740</td>\n",
       "      <td>19.345028</td>\n",
       "      <td>20.307371</td>\n",
       "      <td>20.920938</td>\n",
       "      <td>21.442327</td>\n",
       "      <td>22.798734</td>\n",
       "      <td>-0.017906</td>\n",
       "      <td>0.276061</td>\n",
       "      <td>swf</td>\n",
       "    </tr>\n",
       "  </tbody>\n",
       "</table>\n",
       "</div>"
      ],
      "text/plain": [
       "            chl_adj_mean  bbp_adj_mean  phyto_C_95CI_lo  phyto_C_50CI_lo  \\\n",
       "datetime                                                                   \n",
       "1997-11-15      0.126552      0.001842        20.385325        21.552935   \n",
       "1997-12-15      0.126516      0.001765        19.559207        20.546520   \n",
       "1998-01-15      0.126163      0.001726        19.085081        20.162330   \n",
       "1998-02-15      0.125127      0.001713        18.944551        20.015984   \n",
       "1998-03-15      0.126646      0.001740        19.345028        20.307371   \n",
       "\n",
       "            phyto_C_mean  phyto_C_50CI_hi  phyto_C_95CI_hi  chl_anomaly  \\\n",
       "datetime                                                                  \n",
       "1997-11-15     22.120413        22.762124        24.021646    -0.008520   \n",
       "1997-12-15     21.218630        21.699756        23.046890    -0.009597   \n",
       "1998-01-15     20.758506        21.287907        22.512791    -0.013876   \n",
       "1998-02-15     20.610071        21.132228        22.340050    -0.020037   \n",
       "1998-03-15     20.920938        21.442327        22.798734    -0.017906   \n",
       "\n",
       "            phyto_C_anomaly sensor  \n",
       "datetime                            \n",
       "1997-11-15         0.021044    swf  \n",
       "1997-12-15        -0.304126    swf  \n",
       "1998-01-15        -0.070143    swf  \n",
       "1998-02-15         0.008237    swf  \n",
       "1998-03-15         0.276061    swf  "
      ]
     },
     "execution_count": 76,
     "metadata": {},
     "output_type": "execute_result"
    }
   ],
   "source": [
    "df_both.head()"
   ]
  },
  {
   "cell_type": "code",
   "execution_count": 80,
   "metadata": {},
   "outputs": [
    {
     "data": {
      "text/plain": [
       "aqua    132\n",
       "both     66\n",
       "swf      56\n",
       "Name: sensor, dtype: int64"
      ]
     },
     "execution_count": 80,
     "metadata": {},
     "output_type": "execute_result"
    }
   ],
   "source": [
    "df_both.sensor.value_counts()"
   ]
  },
  {
   "cell_type": "code",
   "execution_count": 81,
   "metadata": {
    "collapsed": true
   },
   "outputs": [],
   "source": [
    "df_both.to_pickle('./pklJar/df_consolidated.pkl')\n",
    "df_all.to_pickle('./pklJar/df_all.pkl')"
   ]
  },
  {
   "cell_type": "code",
   "execution_count": null,
   "metadata": {
    "collapsed": true
   },
   "outputs": [],
   "source": []
  }
 ],
 "metadata": {
  "kernelspec": {
   "display_name": "Python 3",
   "language": "python",
   "name": "python3"
  },
  "language_info": {
   "codemirror_mode": {
    "name": "ipython",
    "version": 3
   },
   "file_extension": ".py",
   "mimetype": "text/x-python",
   "name": "python",
   "nbconvert_exporter": "python",
   "pygments_lexer": "ipython3",
   "version": "3.6.7"
  }
 },
 "nbformat": 4,
 "nbformat_minor": 2
}
