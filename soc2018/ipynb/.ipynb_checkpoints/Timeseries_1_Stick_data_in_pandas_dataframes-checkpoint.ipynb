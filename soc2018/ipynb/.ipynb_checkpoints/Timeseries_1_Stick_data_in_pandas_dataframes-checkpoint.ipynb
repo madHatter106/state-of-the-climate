{
 "cells": [
  {
   "cell_type": "markdown",
   "metadata": {},
   "source": [
    "This notebook loads data stored in text files, formats and stored into pandas dataframes. Some additional producs are computed and stored in dataframes, including uncertainty band and chl anomaly. The dataframes are then pickled for plotting in a later notebook."
   ]
  },
  {
   "cell_type": "code",
   "execution_count": 1,
   "metadata": {
    "collapsed": true
   },
   "outputs": [],
   "source": [
    "import pandas as pd\n",
    "import pathlib\n",
    "from datetime import datetime\n",
    "import pickle\n",
    "from scipy.stats import mode\n",
    "import numpy as np\n",
    "from IPython.core.display import HTML, display"
   ]
  },
  {
   "cell_type": "code",
   "execution_count": 2,
   "metadata": {
    "collapsed": true
   },
   "outputs": [],
   "source": [
    "%matplotlib inline"
   ]
  },
  {
   "cell_type": "code",
   "execution_count": 3,
   "metadata": {
    "collapsed": true
   },
   "outputs": [],
   "source": [
    "def convert_secs2dt(sec):\n",
    "    \"\"\"\n",
    "    Converts seconds to python datetime object.\n",
    "    :param sec \n",
    "    :return: datetime object\n",
    "    \"\"\"\n",
    "    zd00 = datetime(2000, 1, 1)\n",
    "    zd70 = datetime(1970, 1, 1)\n",
    "    offset = (zd00 - zd70).total_seconds()\n",
    "    z = datetime.utcfromtimestamp(sec + offset)\n",
    "    return z\n",
    "\n",
    "\n",
    "def get_doy(secs):\n",
    "    \"\"\"\n",
    "    Converts seconds to fractional day of year.\n",
    "    :param secs\n",
    "    :return: fractional day of year \n",
    "    \"\"\"\n",
    "    z = convert_secs2dt(secs)\n",
    "    y = z.year\n",
    "    return (secs + (datetime(2000, 1, 1) - datetime(y, 1, 1)).total_seconds()) / 86400\n",
    "\n",
    "\n",
    "def load_format_data(filepath, minimal=True, columns=None):\n",
    "    \"\"\"\n",
    "    Loads chlorophyll data into a pandas dataframe,\n",
    "    formats time entries, and creates a datetime index.\n",
    "    :param filepath: string or pathlib object  \n",
    "    :param minimal: if True returns only chl_a_mean; drops the rest.\n",
    "    :return: pandas datetime indexed dataframe\n",
    "    \"\"\"\n",
    "    if columns is None:\n",
    "        columns = ['time', 'nbins', 'mean', 'median', 'stdv']\n",
    "    \n",
    "    df = pd.read_csv(filepath, delim_whitespace=True, names=columns)\n",
    "    df['datetime'] = df.time.apply(convert_secs2dt)\n",
    "    df.set_index('datetime', inplace=True)\n",
    "    if minimal:\n",
    "        df = df[['mean']]\n",
    "    df.rename(columns={'mean': 'chl_a_mean'}, inplace=True)\n",
    "    return df\n",
    "\n",
    "\n",
    "def get_monthly_means(df, **kwargs):\n",
    "    \"\"\"\n",
    "    Groups data by month and compute annual cycle based on monthly means.\n",
    "    :param df: \n",
    "        datetime indexed pandas dataframe\n",
    "    :param kwargs:\n",
    "        year_start (optional): string, slice start\n",
    "        year_end (optional): string, slice end\n",
    "    :return: \n",
    "        month-indexed pandas dataframe with monthly means\n",
    "    \"\"\"\n",
    "    year_start = kwargs.pop('year_start', df.index.year[0])\n",
    "    year_end = kwargs.pop('year_end', df.index.year[-1])\n",
    "    return df.loc[str(year_start): str(year_end)].groupby(lambda x: x.month).aggregate('mean')\n",
    "\n",
    "\n",
    "def get_anomaly(df, df_ann_cycle, name='chl_a_mean'):\n",
    "    \"\"\"\n",
    "    Computes annomaly by removing monthly mean for a given month\n",
    "    :param df:\n",
    "        pandas dataframe with [name] parameter column\n",
    "    :param df_ann_cycle:\n",
    "        pandas dataframe of length 12 containing monthly means\n",
    "    :param name:\n",
    "        str, label of quantity to get anomaly from\n",
    "    :return:\n",
    "        None\n",
    "    \"\"\"\n",
    "\n",
    "    for month in df_ann_cycle.index:\n",
    "        idx = df.index.month == month\n",
    "        df.loc[idx, 'chl_anomaly'] = df.loc[idx, name] - df_ann_cycle.loc[month, name]\n",
    "\n",
    "\n",
    "def test(datadir):\n",
    "    testfile = datadir / 'ar2014.0m_AtlN55_chlor_a.txt'\n",
    "    df_test = load_format_data(testfile, minimal=False)\n",
    "    t0 = df_test.time[0]    \n",
    "    z0 = convert_secs2dt(t0)\n",
    "    zstr0 = z0.strftime('%Y%j%H%M%S')\n",
    "    assert zstr0 + '000' == str(2002197194740000)\n",
    "    assert z0.year == 2002\n",
    "    doy0 = get_doy(t0)\n",
    "    assert doy0 == 196.82476851851851\n",
    "    tl = df_test.tail(1).time.values\n",
    "    zl = convert_secs2dt(tl)\n",
    "    zstrl = zl.strftime('%Y%j%H%M%S')\n",
    "    assert zstrl + '000' == str(2016321013320000)\n",
    "    assert zl.year == 2016\n",
    "    doyl = get_doy(tl)\n",
    "    assert doyl == 320.06481481481484\n",
    "    print(\"all tests passed\")"
   ]
  },
  {
   "cell_type": "code",
   "execution_count": 4,
   "metadata": {},
   "outputs": [
    {
     "data": {
      "text/html": [
       "<style>.container {width: 90%}</style>"
      ],
      "text/plain": [
       "<IPython.core.display.HTML object>"
      ]
     },
     "metadata": {},
     "output_type": "display_data"
    }
   ],
   "source": [
    "# Global graphics setup\n",
    "display(HTML(\"<style>.container {width: 90%}</style>\"))\n",
    "plot_colors = {'swf': '#000000',\n",
    "               'aqua': '#348ABD',\n",
    "               'viirs': '#A60628',\n",
    "               'mei': '#467821',\n",
    "               }\n",
    "rcParams['axes.labelsize'] = 15\n",
    "rcParams['xtick.labelsize'] = 15\n",
    "rcParams['ytick.labelsize'] = 15\n",
    "rcParams['font.size'] = 15\n",
    "rcParams['ytick.major.size'] = 8\n",
    "rcParams['ytick.minor.size'] = 3\n",
    "rcParams['xtick.major.size'] = 8\n",
    "rcParams['xtick.minor.size'] = 3\n",
    "rcParams['xtick.top'] = True\n",
    "rcParams['ytick.direction'] = 'in'\n",
    "rcParams['xtick.direction'] = 'in'"
   ]
  },
  {
   "cell_type": "code",
   "execution_count": 5,
   "metadata": {},
   "outputs": [
    {
     "name": "stdout",
     "output_type": "stream",
     "text": [
      "all tests passed\n"
     ]
    }
   ],
   "source": [
    "# Paths\n",
    "home = pathlib.Path.home()\n",
    "dataMain = home / 'DEV-ALL/State_of_the_Climate/TIMESERIES/'\n",
    "test_aquadir = dataMain / 'ar2014.0m_ar2014.0m/stats'\n",
    "aquadir = dataMain / 'ar2018.0m_ar2018.0m/stats'\n",
    "swfdir = dataMain / 'sr2018.0m_sr2018.0m/stats'\n",
    "viirsdir = dataMain / 'vr2018.0m_vr2018.0m/stats' \n",
    "fp_chlor_a_aqua = aquadir / 'ar2018.0m_eqsst_chlor_a.txt'\n",
    "fp_chlor_a_swf = swfdir / 'sr2018.0m_eqsst_chlor_a.txt'\n",
    "fp_chlor_a_viirs = viirsdir / 'vr2018.0m_eqsst_chlor_a.txt'\n",
    "\n",
    "test(test_aquadir)"
   ]
  },
  {
   "cell_type": "code",
   "execution_count": 6,
   "metadata": {
    "collapsed": true
   },
   "outputs": [],
   "source": [
    "# Load the data into pandas dataframes, with some datetime formatting\n",
    "df_swf = load_format_data(fp_chlor_a_swf,)\n",
    "df_aqua = load_format_data(fp_chlor_a_aqua)\n",
    "df_viirs = load_format_data(fp_chlor_a_viirs)"
   ]
  },
  {
   "cell_type": "code",
   "execution_count": 8,
   "metadata": {
    "collapsed": true
   },
   "outputs": [],
   "source": [
    "# Compute annual cycle and monthly anomalies\n",
    "aqua_ann_cycle = get_monthly_means(df_aqua[['chl_a_mean']],\n",
    "                                   year_start=2003, year_end=2011)\n",
    "for dfi in [df_swf, df_aqua, df_viirs]:\n",
    "        get_anomaly(dfi, aqua_ann_cycle)"
   ]
  },
  {
   "cell_type": "code",
   "execution_count": 28,
   "metadata": {},
   "outputs": [
    {
     "data": {
      "text/html": [
       "<div>\n",
       "<style scoped>\n",
       "    .dataframe tbody tr th:only-of-type {\n",
       "        vertical-align: middle;\n",
       "    }\n",
       "\n",
       "    .dataframe tbody tr th {\n",
       "        vertical-align: top;\n",
       "    }\n",
       "\n",
       "    .dataframe thead th {\n",
       "        text-align: right;\n",
       "    }\n",
       "</style>\n",
       "<table border=\"1\" class=\"dataframe\">\n",
       "  <thead>\n",
       "    <tr style=\"text-align: right;\">\n",
       "      <th></th>\n",
       "      <th>swf_chl_anom</th>\n",
       "      <th>aqua_chl_anom</th>\n",
       "      <th>mean</th>\n",
       "      <th>diff</th>\n",
       "      <th>diff_pos</th>\n",
       "      <th>diff_neg</th>\n",
       "    </tr>\n",
       "    <tr>\n",
       "      <th>datetime</th>\n",
       "      <th></th>\n",
       "      <th></th>\n",
       "      <th></th>\n",
       "      <th></th>\n",
       "      <th></th>\n",
       "      <th></th>\n",
       "    </tr>\n",
       "  </thead>\n",
       "  <tbody>\n",
       "    <tr>\n",
       "      <th>2002-07-31</th>\n",
       "      <td>0.005360</td>\n",
       "      <td>-0.011477</td>\n",
       "      <td>-0.003058</td>\n",
       "      <td>0.016837</td>\n",
       "      <td>0.002401</td>\n",
       "      <td>-0.008517</td>\n",
       "    </tr>\n",
       "    <tr>\n",
       "      <th>2002-08-31</th>\n",
       "      <td>0.012545</td>\n",
       "      <td>-0.000376</td>\n",
       "      <td>0.006085</td>\n",
       "      <td>0.012921</td>\n",
       "      <td>0.011544</td>\n",
       "      <td>0.000626</td>\n",
       "    </tr>\n",
       "    <tr>\n",
       "      <th>2002-09-30</th>\n",
       "      <td>0.009496</td>\n",
       "      <td>0.013813</td>\n",
       "      <td>0.011655</td>\n",
       "      <td>0.004317</td>\n",
       "      <td>0.017114</td>\n",
       "      <td>0.006196</td>\n",
       "    </tr>\n",
       "    <tr>\n",
       "      <th>2002-10-31</th>\n",
       "      <td>0.001834</td>\n",
       "      <td>0.005326</td>\n",
       "      <td>0.003580</td>\n",
       "      <td>0.003492</td>\n",
       "      <td>0.009039</td>\n",
       "      <td>-0.001879</td>\n",
       "    </tr>\n",
       "    <tr>\n",
       "      <th>2002-11-30</th>\n",
       "      <td>0.004290</td>\n",
       "      <td>0.004793</td>\n",
       "      <td>0.004541</td>\n",
       "      <td>0.000503</td>\n",
       "      <td>0.010000</td>\n",
       "      <td>-0.000918</td>\n",
       "    </tr>\n",
       "  </tbody>\n",
       "</table>\n",
       "</div>"
      ],
      "text/plain": [
       "            swf_chl_anom  aqua_chl_anom      mean      diff  diff_pos  \\\n",
       "datetime                                                                \n",
       "2002-07-31      0.005360      -0.011477 -0.003058  0.016837  0.002401   \n",
       "2002-08-31      0.012545      -0.000376  0.006085  0.012921  0.011544   \n",
       "2002-09-30      0.009496       0.013813  0.011655  0.004317  0.017114   \n",
       "2002-10-31      0.001834       0.005326  0.003580  0.003492  0.009039   \n",
       "2002-11-30      0.004290       0.004793  0.004541  0.000503  0.010000   \n",
       "\n",
       "            diff_neg  \n",
       "datetime              \n",
       "2002-07-31 -0.008517  \n",
       "2002-08-31  0.000626  \n",
       "2002-09-30  0.006196  \n",
       "2002-10-31 -0.001879  \n",
       "2002-11-30 -0.000918  "
      ]
     },
     "execution_count": 28,
     "metadata": {},
     "output_type": "execute_result"
    }
   ],
   "source": [
    "# Create a new dataframe to compute and store an \"uncertainty\" band based on SWF/Aqua overlapping data.\n",
    "\n",
    "df_swf_aqua = pd.concat((df_swf[['chl_anomaly']], df_aqua[['chl_anomaly']]), axis=1)\n",
    "df_swf_aqua.columns=['swf_chl_anom', 'aqua_chl_anom']\n",
    "# synchronize data\n",
    "df_swf_aqua = df_swf_aqua.resample('M').mean()\n",
    "\n",
    "df_swf_aqua['mean'] = df_swf_aqua.mean(axis=1)\n",
    "df_swf_aqua.dropna(inplace=True)\n",
    "df_swf_aqua['diff'] = np.abs(df_swf_aqua.swf_chl_anom.values - df_swf_aqua.aqua_chl_anom.values)\n",
    "df_swf_aqua['diff_pos'] = df_swf_aqua['mean'] + df_swf_aqua['diff'].mean()\n",
    "df_swf_aqua['diff_neg'] = df_swf_aqua['mean'] - df_swf_aqua['diff'].mean()\n",
    "df_swf_aqua.head()"
   ]
  },
  {
   "cell_type": "code",
   "execution_count": 29,
   "metadata": {
    "collapsed": true
   },
   "outputs": [],
   "source": [
    "# Pickle the dataframes \n",
    "with open('../PklJar/dict_df_chl.pkl', 'wb') as f:\n",
    "    datadict = {'swf': df_swf,\n",
    "                'aqua': df_aqua,\n",
    "                'viirs': df_viirs,\n",
    "                'swf_aqua': df_swf_aqua,\n",
    "                }\n",
    "    pickle.dump(datadict, f, protocol=pickle.HIGHEST_PROTOCOL)"
   ]
  }
 ],
 "metadata": {
  "kernelspec": {
   "display_name": "Python 3",
   "language": "python",
   "name": "python3"
  },
  "language_info": {
   "codemirror_mode": {
    "name": "ipython",
    "version": 3
   },
   "file_extension": ".py",
   "mimetype": "text/x-python",
   "name": "python",
   "nbconvert_exporter": "python",
   "pygments_lexer": "ipython3",
   "version": "3.6.4"
  }
 },
 "nbformat": 4,
 "nbformat_minor": 2
}
