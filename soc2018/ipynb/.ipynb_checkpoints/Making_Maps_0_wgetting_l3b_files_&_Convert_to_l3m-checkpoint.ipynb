{
 "cells": [
  {
   "cell_type": "code",
   "execution_count": 9,
   "metadata": {},
   "outputs": [],
   "source": [
    "import subprocess\n",
    "import pathlib\n",
    "from datetime import datetime\n",
    "import re\n",
    "import wget\n",
    "import tqdm"
   ]
  },
  {
   "cell_type": "code",
   "execution_count": 59,
   "metadata": {},
   "outputs": [
    {
     "data": {
      "text/plain": [
       "'BBP_443_GIOP'"
      ]
     },
     "execution_count": 59,
     "metadata": {},
     "output_type": "execute_result"
    }
   ],
   "source": [
    "bbp_443_prod.swapcase()"
   ]
  },
  {
   "cell_type": "code",
   "execution_count": 65,
   "metadata": {
    "collapsed": true
   },
   "outputs": [],
   "source": [
    "datapath_main = pathlib.Path('/accounts/ekarakoy/DATA/SOC/SOC_2018/Aqua_MC/')\n",
    "bbp_l3m_ext = '.L3m_MC_bbp_443_giop_9km.nc'\n",
    "chl_l3m_ext = '.L3m_MC_chl_9km.nc'\n",
    "sst_l3m_ext = '.L3m_MC_sst_9km.nc'\n",
    "url = 'https://oceandata.sci.gsfc.nasa.gov/cgi/getfile/'\n",
    "bbp_443_prod = 'bbp_443_giop'\n",
    "sst_prod = 'sst'\n",
    "chl_prod = 'chlor_a'\n",
    "mc_years = '2003_2017'\n",
    "AT168_files = {}\n",
    "SST_files = {}\n",
    "CHL_files = {}"
   ]
  },
  {
   "cell_type": "code",
   "execution_count": 41,
   "metadata": {
    "collapsed": true
   },
   "outputs": [],
   "source": [
    "dt_pat = re.compile('A([0-9]+).')"
   ]
  },
  {
   "cell_type": "code",
   "execution_count": 87,
   "metadata": {},
   "outputs": [],
   "source": [
    "with open('../climatology_03_17.txt') as f:\n",
    "    mc_file_list = [line.strip('\\n') for line in f.readlines() if len(line)>1]\n",
    "    for file in mc_file_list:\n",
    "        pat = dt_pat.findall(file)[0]\n",
    "        month = datetime.strptime(pat[:7], '%Y%j').strftime('%b')\n",
    "        if 'AT168' in file:\n",
    "            AT168_files[month] = file\n",
    "        elif 'CHL' in file:\n",
    "            CHL_files[month] = file\n",
    "        elif 'SST' in file:\n",
    "            SST_files[month] = file\n",
    "        else:\n",
    "            raise Exception"
   ]
  },
  {
   "cell_type": "code",
   "execution_count": 88,
   "metadata": {},
   "outputs": [
    {
     "data": {
      "text/plain": [
       "{'Apr': 'A20030912017120.L3b_MC_SST.nc',\n",
       " 'Aug': 'A20032132017243.L3b_MC_SST.nc',\n",
       " 'Dec': 'A20033352017365.L3b_MC_SST.nc',\n",
       " 'Feb': 'A20030322017059.L3b_MC_SST.nc',\n",
       " 'Jan': 'A20030012017031.L3b_MC_SST.nc',\n",
       " 'Jul': 'A20031822017212.L3b_MC_SST.nc',\n",
       " 'Jun': 'A20031522017181.L3b_MC_SST.nc',\n",
       " 'Mar': 'A20030602017090.L3b_MC_SST.nc',\n",
       " 'May': 'A20031212017151.L3b_MC_SST.nc',\n",
       " 'Nov': 'A20033052017334.L3b_MC_SST.nc',\n",
       " 'Oct': 'A20032742017304.L3b_MC_SST.nc',\n",
       " 'Sep': 'A20032442017273.L3b_MC_SST.nc'}"
      ]
     },
     "execution_count": 88,
     "metadata": {},
     "output_type": "execute_result"
    }
   ],
   "source": [
    "SST_files"
   ]
  },
  {
   "cell_type": "code",
   "execution_count": 89,
   "metadata": {},
   "outputs": [
    {
     "data": {
      "text/plain": [
       "{'Apr': 'A20030912017120.L3b_MC_AT168.nc',\n",
       " 'Aug': 'A20032132017243.L3b_MC_AT168.nc',\n",
       " 'Dec': 'A20033352017365.L3b_MC_AT168.nc',\n",
       " 'Feb': 'A20030322017059.L3b_MC_AT168.nc',\n",
       " 'Jan': 'A20030012017031.L3b_MC_AT168.nc',\n",
       " 'Jul': 'A20031822017212.L3b_MC_AT168.nc',\n",
       " 'Jun': 'A20031522017181.L3b_MC_AT168.nc',\n",
       " 'Mar': 'A20030602017090.L3b_MC_AT168.nc',\n",
       " 'May': 'A20031212017151.L3b_MC_AT168.nc',\n",
       " 'Nov': 'A20033052017334.L3b_MC_AT168.nc',\n",
       " 'Oct': 'A20032742017304.L3b_MC_AT168.nc',\n",
       " 'Sep': 'A20032442017273.L3b_MC_AT168.nc'}"
      ]
     },
     "execution_count": 89,
     "metadata": {},
     "output_type": "execute_result"
    }
   ],
   "source": [
    "AT168_files"
   ]
  },
  {
   "cell_type": "code",
   "execution_count": 44,
   "metadata": {},
   "outputs": [
    {
     "data": {
      "text/plain": [
       "['A20030012017031.L3b_MC_AT168.nc',\n",
       " 'A20030322017059.L3b_MC_AT168.nc',\n",
       " 'A20030602017090.L3b_MC_AT168.nc',\n",
       " 'A20030912017120.L3b_MC_AT168.nc',\n",
       " 'A20031212017151.L3b_MC_AT168.nc',\n",
       " 'A20031522017181.L3b_MC_AT168.nc',\n",
       " 'A20031822017212.L3b_MC_AT168.nc',\n",
       " 'A20032132017243.L3b_MC_AT168.nc',\n",
       " 'A20032442017273.L3b_MC_AT168.nc',\n",
       " 'A20032742017304.L3b_MC_AT168.nc',\n",
       " 'A20033052017334.L3b_MC_AT168.nc',\n",
       " 'A20033352017365.L3b_MC_AT168.nc',\n",
       " 'A20030012017031.L3b_MC_CHL.nc',\n",
       " 'A20030322017059.L3b_MC_CHL.nc',\n",
       " 'A20030602017090.L3b_MC_CHL.nc',\n",
       " 'A20030912017120.L3b_MC_CHL.nc',\n",
       " 'A20031212017151.L3b_MC_CHL.nc',\n",
       " 'A20031522017181.L3b_MC_CHL.nc',\n",
       " 'A20031822017212.L3b_MC_CHL.nc',\n",
       " 'A20032132017243.L3b_MC_CHL.nc',\n",
       " 'A20032442017273.L3b_MC_CHL.nc',\n",
       " 'A20032742017304.L3b_MC_CHL.nc',\n",
       " 'A20033052017334.L3b_MC_CHL.nc',\n",
       " 'A20033352017365.L3b_MC_CHL.nc',\n",
       " 'A20030012017031.L3b_MC_SST.nc',\n",
       " 'A20030322017059.L3b_MC_SST.nc',\n",
       " 'A20030602017090.L3b_MC_SST.nc',\n",
       " 'A20030912017120.L3b_MC_SST.nc',\n",
       " 'A20031212017151.L3b_MC_SST.nc',\n",
       " 'A20031522017181.L3b_MC_SST.nc',\n",
       " 'A20031822017212.L3b_MC_SST.nc',\n",
       " 'A20032132017243.L3b_MC_SST.nc',\n",
       " 'A20032442017273.L3b_MC_SST.nc',\n",
       " 'A20032742017304.L3b_MC_SST.nc',\n",
       " 'A20033052017334.L3b_MC_SST.nc',\n",
       " 'A20033352017365.L3b_MC_SST.nc']"
      ]
     },
     "execution_count": 44,
     "metadata": {},
     "output_type": "execute_result"
    }
   ],
   "source": [
    "mc_file_list"
   ]
  },
  {
   "cell_type": "code",
   "execution_count": 90,
   "metadata": {
    "collapsed": true
   },
   "outputs": [],
   "source": [
    "def convert_fname_2_l3m(file_dict, l3m_ext):\n",
    "    return {v:f\"{v.split('.')[0]}{l3m_ext}\" for v in file_dict.values()}"
   ]
  },
  {
   "cell_type": "code",
   "execution_count": 55,
   "metadata": {},
   "outputs": [],
   "source": [
    "sst_l3_conv_dict = convert_fname_2_l3m(SST_files, sst_l3m_ext)"
   ]
  },
  {
   "cell_type": "code",
   "execution_count": 91,
   "metadata": {
    "collapsed": true
   },
   "outputs": [],
   "source": [
    "bbp_l3_conv_dict = convert_fname_2_l3m(AT168_files, bbp_l3m_ext)"
   ]
  },
  {
   "cell_type": "code",
   "execution_count": 92,
   "metadata": {},
   "outputs": [
    {
     "data": {
      "text/plain": [
       "{'Apr': 'A20030912017120.L3b_MC_AT168.nc',\n",
       " 'Aug': 'A20032132017243.L3b_MC_AT168.nc',\n",
       " 'Dec': 'A20033352017365.L3b_MC_AT168.nc',\n",
       " 'Feb': 'A20030322017059.L3b_MC_AT168.nc',\n",
       " 'Jan': 'A20030012017031.L3b_MC_AT168.nc',\n",
       " 'Jul': 'A20031822017212.L3b_MC_AT168.nc',\n",
       " 'Jun': 'A20031522017181.L3b_MC_AT168.nc',\n",
       " 'Mar': 'A20030602017090.L3b_MC_AT168.nc',\n",
       " 'May': 'A20031212017151.L3b_MC_AT168.nc',\n",
       " 'Nov': 'A20033052017334.L3b_MC_AT168.nc',\n",
       " 'Oct': 'A20032742017304.L3b_MC_AT168.nc',\n",
       " 'Sep': 'A20032442017273.L3b_MC_AT168.nc'}"
      ]
     },
     "execution_count": 92,
     "metadata": {},
     "output_type": "execute_result"
    }
   ],
   "source": [
    "AT168_files"
   ]
  },
  {
   "cell_type": "code",
   "execution_count": 93,
   "metadata": {},
   "outputs": [
    {
     "data": {
      "text/plain": [
       "{'A20030012017031.L3b_MC_AT168.nc': 'A20030012017031.L3m_MC_bbp_443_giop_9km.nc',\n",
       " 'A20030322017059.L3b_MC_AT168.nc': 'A20030322017059.L3m_MC_bbp_443_giop_9km.nc',\n",
       " 'A20030602017090.L3b_MC_AT168.nc': 'A20030602017090.L3m_MC_bbp_443_giop_9km.nc',\n",
       " 'A20030912017120.L3b_MC_AT168.nc': 'A20030912017120.L3m_MC_bbp_443_giop_9km.nc',\n",
       " 'A20031212017151.L3b_MC_AT168.nc': 'A20031212017151.L3m_MC_bbp_443_giop_9km.nc',\n",
       " 'A20031522017181.L3b_MC_AT168.nc': 'A20031522017181.L3m_MC_bbp_443_giop_9km.nc',\n",
       " 'A20031822017212.L3b_MC_AT168.nc': 'A20031822017212.L3m_MC_bbp_443_giop_9km.nc',\n",
       " 'A20032132017243.L3b_MC_AT168.nc': 'A20032132017243.L3m_MC_bbp_443_giop_9km.nc',\n",
       " 'A20032442017273.L3b_MC_AT168.nc': 'A20032442017273.L3m_MC_bbp_443_giop_9km.nc',\n",
       " 'A20032742017304.L3b_MC_AT168.nc': 'A20032742017304.L3m_MC_bbp_443_giop_9km.nc',\n",
       " 'A20033052017334.L3b_MC_AT168.nc': 'A20033052017334.L3m_MC_bbp_443_giop_9km.nc',\n",
       " 'A20033352017365.L3b_MC_AT168.nc': 'A20033352017365.L3m_MC_bbp_443_giop_9km.nc'}"
      ]
     },
     "execution_count": 93,
     "metadata": {},
     "output_type": "execute_result"
    }
   ],
   "source": [
    "bbp_l3_conv_dict"
   ]
  },
  {
   "cell_type": "code",
   "execution_count": 96,
   "metadata": {
    "collapsed": true
   },
   "outputs": [],
   "source": [
    "chl_l3_conv_dict = convert_fname_2_l3m(CHL_files, chl_l3m_ext)"
   ]
  },
  {
   "cell_type": "code",
   "execution_count": 81,
   "metadata": {},
   "outputs": [],
   "source": [
    "def Download(mc_l3_conv_dict, datapath, prod, verbose=False):\n",
    "    for l3b, l3m in tqdm.tqdm_notebook(mc_l3_conv_dict.items()):\n",
    "        path_l3b = datapath / l3b\n",
    "        path_l3m = datapath / l3m\n",
    "        cmd_list = ''.join(['smigen', f' ifile={path_l3b.as_posix()}',\n",
    "                       f' ofile={path_l3m.as_posix()}', f' prod={prod}'])\n",
    "        if verbose:\n",
    "            print(f'l3b: {path_l3b.name}')\n",
    "            print(f'l3m: {path_l3m.name}')\n",
    "        if path_l3b.exists():\n",
    "            if verbose:\n",
    "                print(f'{path_l3b.name} found - skipping download')\n",
    "        else: \n",
    "            try:\n",
    "                print(f'downloading {path_l3b.name}')\n",
    "                wget.download(f'{url}{l3b}', out=f'{path_l3b.as_posix()}')\n",
    "            except Exception as e:\n",
    "                if 'HTTPError' in e:\n",
    "                    print(f'{file} not found on server', flush=True)\n",
    "                else:\n",
    "                    print('Unknown error', flush=True)\n",
    "        if path_l3m.exists():\n",
    "            if verbose:\n",
    "                print(f'{path_l3m.name} found - skipping conversion')\n",
    "            continue\n",
    "        else:\n",
    "            if verbose:\n",
    "                print(f'converting {l3b} to {l3m}')\n",
    "            subprocess.run(cmd_list, shell=True)\n",
    "    print('done!')"
   ]
  },
  {
   "cell_type": "code",
   "execution_count": 62,
   "metadata": {},
   "outputs": [
    {
     "data": {
      "text/plain": [
       "'BBP_443_GIOP_2003_2017'"
      ]
     },
     "execution_count": 62,
     "metadata": {},
     "output_type": "execute_result"
    }
   ],
   "source": [
    "bbp_443_prod.swapcase() + '_' + mc_years"
   ]
  },
  {
   "cell_type": "code",
   "execution_count": 67,
   "metadata": {},
   "outputs": [],
   "source": [
    "bbp_data_path = datapath_main / f'{bbp_443_prod.swapcase()}_{mc_years}'\n",
    "chl_data_path = datapath_main / f'{chl_prod.swapcase()}_{mc_years}'\n",
    "sst_data_path = datapath_main / f'{sst_prod.swapcase()}_{mc_years}'"
   ]
  },
  {
   "cell_type": "code",
   "execution_count": 78,
   "metadata": {},
   "outputs": [
    {
     "data": {
      "text/plain": [
       "PosixPath('/accounts/ekarakoy/DATA/SOC/SOC_2018/Aqua_MC/SST_2003_2017')"
      ]
     },
     "execution_count": 78,
     "metadata": {},
     "output_type": "execute_result"
    }
   ],
   "source": [
    "sst_data_path"
   ]
  },
  {
   "cell_type": "code",
   "execution_count": 80,
   "metadata": {},
   "outputs": [
    {
     "name": "stdout",
     "output_type": "stream",
     "text": [
      "l3b: A20030012017031.L3b_MC_SST.nc\n",
      "l3m: A20030012017031.L3m_MC_sst_9km.nc\n",
      "downloading A20030012017031.L3b_MC_SST.nc\n",
      "converting A20030012017031.L3b_MC_SST.nc to A20030012017031.L3m_MC_sst_9km.nc\n",
      "l3b: A20030322017059.L3b_MC_SST.nc\n",
      "l3m: A20030322017059.L3m_MC_sst_9km.nc\n",
      "downloading A20030322017059.L3b_MC_SST.nc\n",
      "converting A20030322017059.L3b_MC_SST.nc to A20030322017059.L3m_MC_sst_9km.nc\n",
      "l3b: A20030602017090.L3b_MC_SST.nc\n",
      "l3m: A20030602017090.L3m_MC_sst_9km.nc\n",
      "downloading A20030602017090.L3b_MC_SST.nc\n",
      "converting A20030602017090.L3b_MC_SST.nc to A20030602017090.L3m_MC_sst_9km.nc\n",
      "l3b: A20030912017120.L3b_MC_SST.nc\n",
      "l3m: A20030912017120.L3m_MC_sst_9km.nc\n",
      "downloading A20030912017120.L3b_MC_SST.nc\n",
      "converting A20030912017120.L3b_MC_SST.nc to A20030912017120.L3m_MC_sst_9km.nc\n",
      "l3b: A20031212017151.L3b_MC_SST.nc\n",
      "l3m: A20031212017151.L3m_MC_sst_9km.nc\n",
      "downloading A20031212017151.L3b_MC_SST.nc\n",
      "converting A20031212017151.L3b_MC_SST.nc to A20031212017151.L3m_MC_sst_9km.nc\n",
      "l3b: A20031522017181.L3b_MC_SST.nc\n",
      "l3m: A20031522017181.L3m_MC_sst_9km.nc\n",
      "downloading A20031522017181.L3b_MC_SST.nc\n",
      "converting A20031522017181.L3b_MC_SST.nc to A20031522017181.L3m_MC_sst_9km.nc\n",
      "l3b: A20031822017212.L3b_MC_SST.nc\n",
      "l3m: A20031822017212.L3m_MC_sst_9km.nc\n",
      "downloading A20031822017212.L3b_MC_SST.nc\n",
      "converting A20031822017212.L3b_MC_SST.nc to A20031822017212.L3m_MC_sst_9km.nc\n",
      "l3b: A20032132017243.L3b_MC_SST.nc\n",
      "l3m: A20032132017243.L3m_MC_sst_9km.nc\n",
      "downloading A20032132017243.L3b_MC_SST.nc\n",
      "converting A20032132017243.L3b_MC_SST.nc to A20032132017243.L3m_MC_sst_9km.nc\n",
      "l3b: A20032442017273.L3b_MC_SST.nc\n",
      "l3m: A20032442017273.L3m_MC_sst_9km.nc\n",
      "downloading A20032442017273.L3b_MC_SST.nc\n",
      "converting A20032442017273.L3b_MC_SST.nc to A20032442017273.L3m_MC_sst_9km.nc\n",
      "l3b: A20032742017304.L3b_MC_SST.nc\n",
      "l3m: A20032742017304.L3m_MC_sst_9km.nc\n",
      "downloading A20032742017304.L3b_MC_SST.nc\n",
      "converting A20032742017304.L3b_MC_SST.nc to A20032742017304.L3m_MC_sst_9km.nc\n",
      "l3b: A20033052017334.L3b_MC_SST.nc\n",
      "l3m: A20033052017334.L3m_MC_sst_9km.nc\n",
      "downloading A20033052017334.L3b_MC_SST.nc\n",
      "converting A20033052017334.L3b_MC_SST.nc to A20033052017334.L3m_MC_sst_9km.nc\n",
      "l3b: A20033352017365.L3b_MC_SST.nc\n",
      "l3m: A20033352017365.L3m_MC_sst_9km.nc\n",
      "downloading A20033352017365.L3b_MC_SST.nc\n",
      "converting A20033352017365.L3b_MC_SST.nc to A20033352017365.L3m_MC_sst_9km.nc\n",
      "done!\n"
     ]
    }
   ],
   "source": [
    "Download(sst_l3_conv_dict, sst_data_path, prod=sst_prod)"
   ]
  },
  {
   "cell_type": "code",
   "execution_count": 95,
   "metadata": {},
   "outputs": [
    {
     "data": {
      "application/vnd.jupyter.widget-view+json": {
       "model_id": "575202e2179d4bc6851c7bc84b149137"
      }
     },
     "metadata": {},
     "output_type": "display_data"
    },
    {
     "name": "stdout",
     "output_type": "stream",
     "text": [
      "downloading A20030012017031.L3b_MC_AT168.nc\n",
      "downloading A20030322017059.L3b_MC_AT168.nc\n",
      "downloading A20030602017090.L3b_MC_AT168.nc\n",
      "downloading A20030912017120.L3b_MC_AT168.nc\n",
      "downloading A20031212017151.L3b_MC_AT168.nc\n",
      "downloading A20031522017181.L3b_MC_AT168.nc\n",
      "downloading A20031822017212.L3b_MC_AT168.nc\n",
      "downloading A20032132017243.L3b_MC_AT168.nc\n",
      "downloading A20032442017273.L3b_MC_AT168.nc\n",
      "downloading A20032742017304.L3b_MC_AT168.nc\n",
      "downloading A20033052017334.L3b_MC_AT168.nc\n",
      "downloading A20033352017365.L3b_MC_AT168.nc\n",
      "\n",
      "done!\n"
     ]
    }
   ],
   "source": [
    "Download(bbp_l3_conv_dict, bbp_data_path, prod=bbp_443_prod)"
   ]
  },
  {
   "cell_type": "code",
   "execution_count": 97,
   "metadata": {},
   "outputs": [
    {
     "data": {
      "application/vnd.jupyter.widget-view+json": {
       "model_id": "f0952eec2fed494a851d2e3a91e940b4"
      }
     },
     "metadata": {},
     "output_type": "display_data"
    },
    {
     "name": "stdout",
     "output_type": "stream",
     "text": [
      "downloading A20030012017031.L3b_MC_CHL.nc\n",
      "downloading A20030322017059.L3b_MC_CHL.nc\n",
      "downloading A20030602017090.L3b_MC_CHL.nc\n",
      "downloading A20030912017120.L3b_MC_CHL.nc\n",
      "downloading A20031212017151.L3b_MC_CHL.nc\n",
      "downloading A20031522017181.L3b_MC_CHL.nc\n",
      "downloading A20031822017212.L3b_MC_CHL.nc\n",
      "downloading A20032132017243.L3b_MC_CHL.nc\n",
      "downloading A20032442017273.L3b_MC_CHL.nc\n",
      "downloading A20032742017304.L3b_MC_CHL.nc\n",
      "downloading A20033052017334.L3b_MC_CHL.nc\n",
      "downloading A20033352017365.L3b_MC_CHL.nc\n",
      "\n",
      "done!\n"
     ]
    }
   ],
   "source": [
    "Download(chl_l3_conv_dict, chl_data_path, prod=chl_prod)"
   ]
  },
  {
   "cell_type": "code",
   "execution_count": null,
   "metadata": {
    "collapsed": true
   },
   "outputs": [],
   "source": []
  }
 ],
 "metadata": {
  "kernelspec": {
   "display_name": "Python 3",
   "language": "python",
   "name": "python3"
  },
  "language_info": {
   "codemirror_mode": {
    "name": "ipython",
    "version": 3
   },
   "file_extension": ".py",
   "mimetype": "text/x-python",
   "name": "python",
   "nbconvert_exporter": "python",
   "pygments_lexer": "ipython3",
   "version": "3.6.7"
  }
 },
 "nbformat": 4,
 "nbformat_minor": 2
}
