{
 "cells": [
  {
   "cell_type": "markdown",
   "metadata": {},
   "source": [
    "In the previous two notebooks, I aggregated data into xarray [datasets](http://xarray.pydata.org/en/stable/data-structures.html#dataset). Here, I load the anomalies dataset to create a 3-panel figures of global geographic anomaly distribution maps for aqua chl anomaly, aqua sst anomaly and aqua chl/sst sign relationship"
   ]
  },
  {
   "cell_type": "code",
   "execution_count": 1,
   "metadata": {},
   "outputs": [],
   "source": [
    "import pathlib\n",
    "import os\n",
    "\n",
    "import pandas as pd\n",
    "import xarray as xr\n",
    "import numpy as np\n",
    "import matplotlib.pyplot as pl\n",
    "import matplotlib.ticker as mtick\n",
    "from matplotlib import rcParams\n",
    "from cmocean import cm \n",
    "import cartopy.crs as ccrs\n",
    "import cartopy.feature as cf\n",
    "from cartopy.mpl.ticker import LongitudeFormatter, LatitudeFormatter\n",
    "from cartopy.mpl.geoaxes import GeoAxes\n",
    "from IPython.core.display import HTML, display"
   ]
  },
  {
   "cell_type": "code",
   "execution_count": 2,
   "metadata": {},
   "outputs": [
    {
     "data": {
      "text/html": [
       "<style>.container {width: 90%!important}</style>"
      ],
      "text/plain": [
       "<IPython.core.display.HTML object>"
      ]
     },
     "metadata": {},
     "output_type": "display_data"
    }
   ],
   "source": [
    "% matplotlib inline\n",
    "display(HTML(\"<style>.container {width: 90%!important}</style>\"))"
   ]
  },
  {
   "cell_type": "code",
   "execution_count": 3,
   "metadata": {},
   "outputs": [],
   "source": [
    "# Global graphic settings\n",
    "rcParams['figure.titlesize'] = 20\n",
    "rcParams['axes.titlesize'] = 18\n",
    "rcParams['axes.labelsize'] = 15\n",
    "rcParams['xtick.labelsize'] = 15\n",
    "rcParams['ytick.labelsize'] = 15\n",
    "rcParams['ytick.minor.visible']=True"
   ]
  },
  {
   "cell_type": "code",
   "execution_count": 4,
   "metadata": {},
   "outputs": [],
   "source": [
    "def set_ticks(ax, lat_ticks, lon_ticks, transform):\n",
    "    if lon_ticks:\n",
    "        lon_formatter = LongitudeFormatter(zero_direction_label=True)\n",
    "        ax.xaxis.set_major_formatter(lon_formatter)\n",
    "        ax.xaxis.set_minor_locator(mtick.FixedLocator(range(-180, 181, 10)))\n",
    "        ax.set_xticks(lon_ticks, minor=True, crs=transform)\n",
    "    ax.set_yticks(lat_ticks, crs=transform)\n",
    "    ax.yaxis.set_minor_locator(mtick.FixedLocator(range(-90, 90, 10)))\n",
    "    lat_formatter = LatitudeFormatter()\n",
    "    ax.yaxis.set_major_formatter(lat_formatter)\n",
    "    return None\n",
    "\n",
    "def set_map(ax, transform, set_xticks):    \n",
    "    ax.add_feature(cf.COASTLINE)\n",
    "    ax.add_feature(cf.LAND, facecolor='gray')\n",
    "    ax.add_feature(cf.OCEAN, zorder=0, facecolor='k')\n",
    "    if set_xticks:\n",
    "        lon_ticks = range(0, 361, 60)\n",
    "    else:\n",
    "        lon_ticks = None\n",
    "    lat_ticks = range(-60, 61, 60) \n",
    "    isot=dict(north=df_north, south=df_south)\n",
    "    plot_isotherm(ax, isot['north'], transform=transform)\n",
    "    plot_isotherm(ax, isot['south'], transform=transform)\n",
    "    set_ticks(ax, lat_ticks, lon_ticks, transform=transform)\n",
    "    return None\n",
    "\n",
    "def map_anom(ax, data_array, **kwargs):\n",
    "    vmin = kwargs.pop('vmin', data_array.min())\n",
    "    vmax = kwargs.pop('vmax', data_array.max())\n",
    "    step = kwargs.pop('step', 10)\n",
    "    cb_lbl = kwargs.pop('cb_lbl', r'$mg\\ m^{-3}$')\n",
    "    cmap = kwargs.pop('cmap', cm.balance)\n",
    "    add_cbar = kwargs.pop('add_cbar', True)\n",
    "    set_xticks = kwargs.pop('set_xticks', True)\n",
    "    cb_payload = kwargs.pop('cb_payload', {'orientation': 'vertical',\n",
    "                                           'fraction': 0.03, 'pad': -0.005,\n",
    "                                           'label': cb_lbl,\n",
    "                                           'extend':'neither',\n",
    "                                           'aspect': 20,\n",
    "                                           'shrink': 0.7}                     )\n",
    "    transform = kwargs.pop('transform', ccrs.PlateCarree())\n",
    "    set_map(ax, transform, set_xticks)\n",
    "    artist_payload = dict(x='lon', y='lat', ax=ax, transform=transform,\n",
    "                         cmap=cmap, vmin=vmin, vmax=vmax, add_colorbar=add_cbar)\n",
    "    if add_cbar:\n",
    "        bar_ticks = mtick.FixedLocator(np.arange(vmin, vmax+step, step))\n",
    "        cb_payload.update({'ticks': bar_ticks,})\n",
    "        artist_payload.update(dict(cbar_kwargs=cb_payload))\n",
    "    \n",
    "    artist = data_array.plot.pcolormesh(**artist_payload)\n",
    "    ax.set_xlabel('')\n",
    "    ax.set_ylabel('')\n",
    "    return artist\n",
    "\n",
    "\n",
    "def format_cbar_ticks(quadmesh, ax, ticks=None,\n",
    "                      tick_labels=['Chl- SST-', 'Chl- SST+', 'Chl+ SST-', 'Chl+ SST+'],\n",
    "                     **kwargs):\n",
    "    cax = pl.colorbar(mappable=quadmesh, ax=ax, fraction=0.02, pad=0.01)\n",
    "    if ticks is None:\n",
    "        cax.set_ticks(np.arange(len(tick_labels)))\n",
    "    else:\n",
    "        cax.set_ticks(ticks)\n",
    "    if tick_labels:\n",
    "        cax.set_ticklabels(tick_labels)\n",
    "    return cax\n",
    "\n",
    "\n",
    "def plot_isotherm(ax, df, transform):\n",
    "    ax.plot(df.lon, df.lat, zorder=1, lw=3, color='k', transform=transform)  "
   ]
  },
  {
   "cell_type": "code",
   "execution_count": 5,
   "metadata": {},
   "outputs": [],
   "source": [
    "xr_anom = xr.open_dataset('./xr_anom_2018.nc')"
   ]
  },
  {
   "cell_type": "code",
   "execution_count": 6,
   "metadata": {},
   "outputs": [
    {
     "data": {
      "text/plain": [
       "<xarray.Dataset>\n",
       "Dimensions:                  (lat: 2160, lon: 4320, time: 9)\n",
       "Coordinates:\n",
       "  * time                     (time) datetime64[ns] 2018-01-01 2018-02-01 ...\n",
       "  * lat                      (lat) float32 89.958336 89.875 89.79167 ...\n",
       "  * lon                      (lon) float32 -179.95833 -179.875 -179.79166 ...\n",
       "Data variables:\n",
       "    aqua_chl_anom            (time, lat, lon) float64 ...\n",
       "    viirs_chl_anom           (time, lat, lon) float64 ...\n",
       "    aqua_sst_anom            (time, lat, lon) float64 ...\n",
       "    time_avg_aqua_chl_anom   (lat, lon) float64 ...\n",
       "    time_avg_viirs_chl_anom  (lat, lon) float64 ...\n",
       "    time_avg_sst_anom        (lat, lon) float64 ...\n",
       "    aqua_chl_sst_anom_sign   (lat, lon) float64 ...\n",
       "    viirs_chl_sst_anom_sign  (lat, lon) float64 ..."
      ]
     },
     "execution_count": 6,
     "metadata": {},
     "output_type": "execute_result"
    }
   ],
   "source": [
    "xr_anom"
   ]
  },
  {
   "cell_type": "code",
   "execution_count": 8,
   "metadata": {},
   "outputs": [],
   "source": [
    "df_south = pd.read_csv('../sst_iso_south.txt', delim_whitespace=True,\n",
    "                       names=['lon', 'lat'])\n",
    "df_north = pd.read_csv('../sst_iso_north.txt', delim_whitespace=True,\n",
    "                      names=['lon', 'lat'])"
   ]
  },
  {
   "cell_type": "code",
   "execution_count": 9,
   "metadata": {},
   "outputs": [
    {
     "name": "stdout",
     "output_type": "stream",
     "text": [
      "<class 'pandas.core.frame.DataFrame'>\n",
      "RangeIndex: 3378 entries, 0 to 3377\n",
      "Data columns (total 2 columns):\n",
      "lon    3378 non-null float64\n",
      "lat    3378 non-null float64\n",
      "dtypes: float64(2)\n",
      "memory usage: 52.9 KB\n"
     ]
    }
   ],
   "source": [
    "df_south.info()"
   ]
  },
  {
   "cell_type": "code",
   "execution_count": 10,
   "metadata": {
    "scrolled": true
   },
   "outputs": [
    {
     "name": "stdout",
     "output_type": "stream",
     "text": [
      "<class 'pandas.core.frame.DataFrame'>\n",
      "RangeIndex: 2218 entries, 0 to 2217\n",
      "Data columns (total 2 columns):\n",
      "lon    2218 non-null float64\n",
      "lat    2218 non-null float64\n",
      "dtypes: float64(2)\n",
      "memory usage: 34.7 KB\n"
     ]
    }
   ],
   "source": [
    "df_north.info()"
   ]
  },
  {
   "cell_type": "code",
   "execution_count": 11,
   "metadata": {},
   "outputs": [
    {
     "ename": "AttributeError",
     "evalue": "'GeoAxesSubplot' object has no attribute '_hold'",
     "output_type": "error",
     "traceback": [
      "\u001b[0;31m---------------------------------------------------------------------------\u001b[0m",
      "\u001b[0;31mAttributeError\u001b[0m                            Traceback (most recent call last)",
      "\u001b[0;32m<ipython-input-11-fd95c8d23a2a>\u001b[0m in \u001b[0;36m<module>\u001b[0;34m()\u001b[0m\n\u001b[1;32m     11\u001b[0m \u001b[0mf_chl\u001b[0m\u001b[0;34m.\u001b[0m\u001b[0msubplots_adjust\u001b[0m\u001b[0;34m(\u001b[0m\u001b[0mhspace\u001b[0m\u001b[0;34m=\u001b[0m\u001b[0;36m0\u001b[0m\u001b[0;34m)\u001b[0m\u001b[0;34m\u001b[0m\u001b[0m\n\u001b[1;32m     12\u001b[0m qmesh_0 = map_anom(axs[0], chl_anom, vmin=-50, vmax=50, cb_lbl=r'Chlorophyll Anomaly ($\\%$)',\n\u001b[0;32m---> 13\u001b[0;31m                   set_xticks=False, add_cbar=False)\n\u001b[0m\u001b[1;32m     14\u001b[0m \u001b[0mcax\u001b[0m \u001b[0;34m=\u001b[0m \u001b[0mformat_cbar_ticks\u001b[0m\u001b[0;34m(\u001b[0m\u001b[0mqmesh_0\u001b[0m\u001b[0;34m,\u001b[0m \u001b[0max\u001b[0m\u001b[0;34m=\u001b[0m\u001b[0maxs\u001b[0m\u001b[0;34m[\u001b[0m\u001b[0;36m0\u001b[0m\u001b[0;34m]\u001b[0m\u001b[0;34m,\u001b[0m \u001b[0mticks\u001b[0m\u001b[0;34m=\u001b[0m\u001b[0mrange\u001b[0m\u001b[0;34m(\u001b[0m\u001b[0;34m-\u001b[0m\u001b[0;36m50\u001b[0m\u001b[0;34m,\u001b[0m \u001b[0;36m51\u001b[0m\u001b[0;34m,\u001b[0m \u001b[0;36m10\u001b[0m\u001b[0;34m)\u001b[0m\u001b[0;34m,\u001b[0m \u001b[0mtick_labels\u001b[0m\u001b[0;34m=\u001b[0m\u001b[0;32mNone\u001b[0m\u001b[0;34m)\u001b[0m\u001b[0;34m\u001b[0m\u001b[0m\n\u001b[1;32m     15\u001b[0m \u001b[0mcax\u001b[0m\u001b[0;34m.\u001b[0m\u001b[0mset_label\u001b[0m\u001b[0;34m(\u001b[0m\u001b[0;34mr'Chlorophyll Anomaly ($\\%$)'\u001b[0m\u001b[0;34m)\u001b[0m\u001b[0;34m\u001b[0m\u001b[0m\n",
      "\u001b[0;32m<ipython-input-4-9f6b83e4f5f3>\u001b[0m in \u001b[0;36mmap_anom\u001b[0;34m(ax, data_array, **kwargs)\u001b[0m\n\u001b[1;32m     49\u001b[0m         \u001b[0martist_payload\u001b[0m\u001b[0;34m.\u001b[0m\u001b[0mupdate\u001b[0m\u001b[0;34m(\u001b[0m\u001b[0mdict\u001b[0m\u001b[0;34m(\u001b[0m\u001b[0mcbar_kwargs\u001b[0m\u001b[0;34m=\u001b[0m\u001b[0mcb_payload\u001b[0m\u001b[0;34m)\u001b[0m\u001b[0;34m)\u001b[0m\u001b[0;34m\u001b[0m\u001b[0m\n\u001b[1;32m     50\u001b[0m \u001b[0;34m\u001b[0m\u001b[0m\n\u001b[0;32m---> 51\u001b[0;31m     \u001b[0martist\u001b[0m \u001b[0;34m=\u001b[0m \u001b[0mdata_array\u001b[0m\u001b[0;34m.\u001b[0m\u001b[0mplot\u001b[0m\u001b[0;34m.\u001b[0m\u001b[0mpcolormesh\u001b[0m\u001b[0;34m(\u001b[0m\u001b[0;34m**\u001b[0m\u001b[0martist_payload\u001b[0m\u001b[0;34m)\u001b[0m\u001b[0;34m\u001b[0m\u001b[0m\n\u001b[0m\u001b[1;32m     52\u001b[0m     \u001b[0max\u001b[0m\u001b[0;34m.\u001b[0m\u001b[0mset_xlabel\u001b[0m\u001b[0;34m(\u001b[0m\u001b[0;34m''\u001b[0m\u001b[0;34m)\u001b[0m\u001b[0;34m\u001b[0m\u001b[0m\n\u001b[1;32m     53\u001b[0m     \u001b[0max\u001b[0m\u001b[0;34m.\u001b[0m\u001b[0mset_ylabel\u001b[0m\u001b[0;34m(\u001b[0m\u001b[0;34m''\u001b[0m\u001b[0;34m)\u001b[0m\u001b[0;34m\u001b[0m\u001b[0m\n",
      "\u001b[0;32m~/anaconda3/envs/machine_learning/lib/python3.6/site-packages/xarray/plot/plot.py\u001b[0m in \u001b[0;36mplotmethod\u001b[0;34m(_PlotMethods_obj, x, y, figsize, size, aspect, ax, row, col, col_wrap, xincrease, yincrease, add_colorbar, add_labels, vmin, vmax, cmap, colors, center, robust, extend, levels, infer_intervals, subplot_kws, cbar_ax, cbar_kwargs, **kwargs)\u001b[0m\n\u001b[1;32m    752\u001b[0m         \u001b[0;32mfor\u001b[0m \u001b[0marg\u001b[0m \u001b[0;32min\u001b[0m \u001b[0;34m[\u001b[0m\u001b[0;34m'_PlotMethods_obj'\u001b[0m\u001b[0;34m,\u001b[0m \u001b[0;34m'newplotfunc'\u001b[0m\u001b[0;34m,\u001b[0m \u001b[0;34m'kwargs'\u001b[0m\u001b[0;34m]\u001b[0m\u001b[0;34m:\u001b[0m\u001b[0;34m\u001b[0m\u001b[0m\n\u001b[1;32m    753\u001b[0m             \u001b[0;32mdel\u001b[0m \u001b[0mallargs\u001b[0m\u001b[0;34m[\u001b[0m\u001b[0marg\u001b[0m\u001b[0;34m]\u001b[0m\u001b[0;34m\u001b[0m\u001b[0m\n\u001b[0;32m--> 754\u001b[0;31m         \u001b[0;32mreturn\u001b[0m \u001b[0mnewplotfunc\u001b[0m\u001b[0;34m(\u001b[0m\u001b[0;34m**\u001b[0m\u001b[0mallargs\u001b[0m\u001b[0;34m)\u001b[0m\u001b[0;34m\u001b[0m\u001b[0m\n\u001b[0m\u001b[1;32m    755\u001b[0m \u001b[0;34m\u001b[0m\u001b[0m\n\u001b[1;32m    756\u001b[0m     \u001b[0;31m# Add to class _PlotMethods\u001b[0m\u001b[0;34m\u001b[0m\u001b[0;34m\u001b[0m\u001b[0m\n",
      "\u001b[0;32m~/anaconda3/envs/machine_learning/lib/python3.6/site-packages/xarray/plot/plot.py\u001b[0m in \u001b[0;36mnewplotfunc\u001b[0;34m(darray, x, y, figsize, size, aspect, ax, row, col, col_wrap, xincrease, yincrease, add_colorbar, add_labels, vmin, vmax, cmap, center, robust, extend, levels, infer_intervals, colors, subplot_kws, cbar_ax, cbar_kwargs, **kwargs)\u001b[0m\n\u001b[1;32m    701\u001b[0m                              \u001b[0mvmin\u001b[0m\u001b[0;34m=\u001b[0m\u001b[0mcmap_params\u001b[0m\u001b[0;34m[\u001b[0m\u001b[0;34m'vmin'\u001b[0m\u001b[0;34m]\u001b[0m\u001b[0;34m,\u001b[0m\u001b[0;34m\u001b[0m\u001b[0m\n\u001b[1;32m    702\u001b[0m                              \u001b[0mvmax\u001b[0m\u001b[0;34m=\u001b[0m\u001b[0mcmap_params\u001b[0m\u001b[0;34m[\u001b[0m\u001b[0;34m'vmax'\u001b[0m\u001b[0;34m]\u001b[0m\u001b[0;34m,\u001b[0m\u001b[0;34m\u001b[0m\u001b[0m\n\u001b[0;32m--> 703\u001b[0;31m                              **kwargs)\n\u001b[0m\u001b[1;32m    704\u001b[0m \u001b[0;34m\u001b[0m\u001b[0m\n\u001b[1;32m    705\u001b[0m         \u001b[0;31m# Label the plot with metadata\u001b[0m\u001b[0;34m\u001b[0m\u001b[0;34m\u001b[0m\u001b[0m\n",
      "\u001b[0;32m~/anaconda3/envs/machine_learning/lib/python3.6/site-packages/xarray/plot/plot.py\u001b[0m in \u001b[0;36mpcolormesh\u001b[0;34m(x, y, z, ax, infer_intervals, **kwargs)\u001b[0m\n\u001b[1;32m    932\u001b[0m             \u001b[0my\u001b[0m \u001b[0;34m=\u001b[0m \u001b[0m_infer_interval_breaks\u001b[0m\u001b[0;34m(\u001b[0m\u001b[0my\u001b[0m\u001b[0;34m,\u001b[0m \u001b[0maxis\u001b[0m\u001b[0;34m=\u001b[0m\u001b[0;36m0\u001b[0m\u001b[0;34m)\u001b[0m\u001b[0;34m\u001b[0m\u001b[0m\n\u001b[1;32m    933\u001b[0m \u001b[0;34m\u001b[0m\u001b[0m\n\u001b[0;32m--> 934\u001b[0;31m     \u001b[0mprimitive\u001b[0m \u001b[0;34m=\u001b[0m \u001b[0max\u001b[0m\u001b[0;34m.\u001b[0m\u001b[0mpcolormesh\u001b[0m\u001b[0;34m(\u001b[0m\u001b[0mx\u001b[0m\u001b[0;34m,\u001b[0m \u001b[0my\u001b[0m\u001b[0;34m,\u001b[0m \u001b[0mz\u001b[0m\u001b[0;34m,\u001b[0m \u001b[0;34m**\u001b[0m\u001b[0mkwargs\u001b[0m\u001b[0;34m)\u001b[0m\u001b[0;34m\u001b[0m\u001b[0m\n\u001b[0m\u001b[1;32m    935\u001b[0m \u001b[0;34m\u001b[0m\u001b[0m\n\u001b[1;32m    936\u001b[0m     \u001b[0;31m# by default, pcolormesh picks \"round\" values for bounds\u001b[0m\u001b[0;34m\u001b[0m\u001b[0;34m\u001b[0m\u001b[0m\n",
      "\u001b[0;32m~/anaconda3/envs/machine_learning/lib/python3.6/site-packages/cartopy/mpl/geoaxes.py\u001b[0m in \u001b[0;36mpcolormesh\u001b[0;34m(self, *args, **kwargs)\u001b[0m\n\u001b[1;32m   1449\u001b[0m                              ' consider using PlateCarree/RotatedPole.')\n\u001b[1;32m   1450\u001b[0m         \u001b[0mkwargs\u001b[0m\u001b[0;34m.\u001b[0m\u001b[0msetdefault\u001b[0m\u001b[0;34m(\u001b[0m\u001b[0;34m'transform'\u001b[0m\u001b[0;34m,\u001b[0m \u001b[0mt\u001b[0m\u001b[0;34m)\u001b[0m\u001b[0;34m\u001b[0m\u001b[0m\n\u001b[0;32m-> 1451\u001b[0;31m         \u001b[0mresult\u001b[0m \u001b[0;34m=\u001b[0m \u001b[0mself\u001b[0m\u001b[0;34m.\u001b[0m\u001b[0m_pcolormesh_patched\u001b[0m\u001b[0;34m(\u001b[0m\u001b[0;34m*\u001b[0m\u001b[0margs\u001b[0m\u001b[0;34m,\u001b[0m \u001b[0;34m**\u001b[0m\u001b[0mkwargs\u001b[0m\u001b[0;34m)\u001b[0m\u001b[0;34m\u001b[0m\u001b[0m\n\u001b[0m\u001b[1;32m   1452\u001b[0m         \u001b[0mself\u001b[0m\u001b[0;34m.\u001b[0m\u001b[0mautoscale_view\u001b[0m\u001b[0;34m(\u001b[0m\u001b[0;34m)\u001b[0m\u001b[0;34m\u001b[0m\u001b[0m\n\u001b[1;32m   1453\u001b[0m         \u001b[0;32mreturn\u001b[0m \u001b[0mresult\u001b[0m\u001b[0;34m\u001b[0m\u001b[0m\n",
      "\u001b[0;32m~/anaconda3/envs/machine_learning/lib/python3.6/site-packages/cartopy/mpl/geoaxes.py\u001b[0m in \u001b[0;36m_pcolormesh_patched\u001b[0;34m(self, *args, **kwargs)\u001b[0m\n\u001b[1;32m   1467\u001b[0m         \u001b[0;32mimport\u001b[0m \u001b[0mmatplotlib\u001b[0m\u001b[0;34m.\u001b[0m\u001b[0mcollections\u001b[0m \u001b[0;32mas\u001b[0m \u001b[0mmcoll\u001b[0m\u001b[0;34m\u001b[0m\u001b[0m\n\u001b[1;32m   1468\u001b[0m \u001b[0;34m\u001b[0m\u001b[0m\n\u001b[0;32m-> 1469\u001b[0;31m         \u001b[0;32mif\u001b[0m \u001b[0;32mnot\u001b[0m \u001b[0mself\u001b[0m\u001b[0;34m.\u001b[0m\u001b[0m_hold\u001b[0m\u001b[0;34m:\u001b[0m\u001b[0;34m\u001b[0m\u001b[0m\n\u001b[0m\u001b[1;32m   1470\u001b[0m             \u001b[0mself\u001b[0m\u001b[0;34m.\u001b[0m\u001b[0mcla\u001b[0m\u001b[0;34m(\u001b[0m\u001b[0;34m)\u001b[0m\u001b[0;34m\u001b[0m\u001b[0m\n\u001b[1;32m   1471\u001b[0m \u001b[0;34m\u001b[0m\u001b[0m\n",
      "\u001b[0;31mAttributeError\u001b[0m: 'GeoAxesSubplot' object has no attribute '_hold'"
     ]
    },
    {
     "data": {
      "image/png": "[encoded data removed]",
      "text/plain": [
       "<Figure size 792x1296 with 3 Axes>"
      ]
     },
     "metadata": {
      "needs_background": "light"
     },
     "output_type": "display_data"
    }
   ],
   "source": [
    "central_long = -150\n",
    "tran = ccrs.PlateCarree(central_longitude=central_long)\n",
    "lat = xr_anom.lat\n",
    "lon = xr_anom.lon\n",
    "chl_anom = xr_anom.time_avg_aqua_chl_anom\n",
    "sst_anom = xr_anom.time_avg_sst_anom\n",
    "anom_sign = xr_anom.aqua_chl_sst_anom_sign\n",
    "f_chl, axs = pl.subplots(nrows=3, figsize=(11, 18),\n",
    "                         subplot_kw={'projection': tran})\n",
    "\n",
    "f_chl.subplots_adjust(hspace=0)\n",
    "qmesh_0 = map_anom(axs[0], chl_anom, vmin=-50, vmax=50, cb_lbl=r'Chlorophyll Anomaly ($\\%$)',\n",
    "                  set_xticks=False, add_cbar=False)\n",
    "cax = format_cbar_ticks(qmesh_0, ax=axs[0], ticks=range(-50, 51, 10), tick_labels=None)\n",
    "cax.set_label(r'Chlorophyll Anomaly ($\\%$)')\n",
    "qmesh_1 = map_anom(axs[1], sst_anom, vmin=-1, vmax=1, step=0.2, cb_lbl=r'SST Anomaly ($^\\circ C$)',\n",
    "                  set_xticks=False, add_cbar=False)\n",
    "cax = format_cbar_ticks(qmesh_1, ax=axs[1], ticks=np.arange(-1, 1.2, 0.2), tick_labels=None)\n",
    "cax.set_label(r'SST Anomaly ($^\\circ C$)')\n",
    "qmesh_2 = map_anom(axs[2], anom_sign, vmin=-.5, vmax=3.5, step=1, cmap=pl.cm.get_cmap('PuBu', 4), add_cbar=False)\n",
    "cax = format_cbar_ticks(quadmesh=qmesh_2, ax=axs[2])"
   ]
  },
  {
   "cell_type": "code",
   "execution_count": 239,
   "metadata": {
    "collapsed": true
   },
   "outputs": [],
   "source": [
    "f_chl.savefig('../FigJar/three_panels.png', dpi=300)"
   ]
  }
 ],
 "metadata": {
  "kernelspec": {
   "display_name": "Python [default]",
   "language": "python",
   "name": "python3"
  },
  "language_info": {
   "codemirror_mode": {
    "name": "ipython",
    "version": 3
   },
   "file_extension": ".py",
   "mimetype": "text/x-python",
   "name": "python",
   "nbconvert_exporter": "python",
   "pygments_lexer": "ipython3",
   "version": "3.6.6"
  }
 },
 "nbformat": 4,
 "nbformat_minor": 2
}
