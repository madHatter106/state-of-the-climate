{
 "cells": [
  {
   "cell_type": "markdown",
   "metadata": {},
   "source": [
    "This notebook loads data stored in text files, formats and stored into pandas dataframes. Some additional producs are computed and stored in dataframes, including uncertainty band and chl anomaly. The dataframes are then pickled for plotting in a later notebook."
   ]
  },
  {
   "cell_type": "code",
   "execution_count": 1,
   "metadata": {
    "collapsed": true
   },
   "outputs": [],
   "source": [
    "import pandas as pd\n",
    "import pathlib\n",
    "from datetime import datetime\n",
    "import pickle\n",
    "from scipy.stats import mode\n",
    "import numpy as np\n",
    "from IPython.core.display import HTML, display\n",
    "import matplotlib.pyplot as pl\n",
    "from matplotlib import rcParams\n",
    "import matplotlib.dates as mdates\n",
    "import matplotlib.ticker as mtick\n",
    "import pymc3 as pm"
   ]
  },
  {
   "cell_type": "code",
   "execution_count": 2,
   "metadata": {
    "collapsed": true
   },
   "outputs": [],
   "source": [
    "%matplotlib inline"
   ]
  },
  {
   "cell_type": "code",
   "execution_count": 3,
   "metadata": {
    "collapsed": true
   },
   "outputs": [],
   "source": [
    "def convert_secs2dt(sec):\n",
    "    \"\"\"\n",
    "    Converts seconds to python datetime object.\n",
    "    :param sec \n",
    "    :return: datetime object\n",
    "    \"\"\"\n",
    "    zd00 = datetime(2000, 1, 1)\n",
    "    zd70 = datetime(1970, 1, 1)\n",
    "    offset = (zd00 - zd70).total_seconds()\n",
    "    z = datetime.utcfromtimestamp(sec + offset)\n",
    "    return z\n",
    "\n",
    "\n",
    "def get_doy(secs):\n",
    "    \"\"\"\n",
    "    Converts seconds to fractional day of year.\n",
    "    :param secs\n",
    "    :return: fractional day of year \n",
    "    \"\"\"\n",
    "    z = convert_secs2dt(secs)\n",
    "    y = z.year\n",
    "    return (secs + (datetime(2000, 1, 1) - datetime(y, 1, 1)).total_seconds()) / 86400\n",
    "\n",
    "\n",
    "def load_format_data(filepath, minimal=True, columns=None, quantity='chl_a'):\n",
    "    \"\"\"\n",
    "    Loads chlorophyll data into a pandas dataframe,\n",
    "    formats time entries, and creates a datetime index.\n",
    "    :param filepath: string or pathlib object  \n",
    "    :param minimal: if True returns only chl_a_mean; drops the rest.\n",
    "    :return: pandas datetime indexed dataframe\n",
    "    \"\"\"\n",
    "    if columns is None:\n",
    "        columns = ['time', 'nbins', 'mean', 'median', 'stdv']\n",
    "    \n",
    "    df = pd.read_csv(filepath, delim_whitespace=True, names=columns)\n",
    "    df['datetime'] = df.time.apply(convert_secs2dt)\n",
    "    df.set_index('datetime', inplace=True)\n",
    "    if minimal:\n",
    "        df = df[['mean']]\n",
    "    df.rename(columns={'mean': '%s_mean' % quantity}, inplace=True)\n",
    "    return df\n",
    "\n",
    "\n",
    "def regress_phyto_c(df, mean_col_label='bbp_443_giop_mean',\n",
    "                   reg_slope=12128, reg_bias=0.59):\n",
    "    df['phyto_c'] = df[mean_col_label] * reg_slope + reg_bias\n",
    "    return df\n",
    "\n",
    "\n",
    "def get_monthly_means(df, **kwargs):\n",
    "    \"\"\"\n",
    "    Groups data by month and compute annual cycle based on monthly means.\n",
    "    :param df: \n",
    "        datetime indexed pandas dataframe\n",
    "    :param kwargs:\n",
    "        year_start (optional): string, slice start\n",
    "        year_end (optional): string, slice end\n",
    "    :return: \n",
    "        month-indexed pandas dataframe with monthly means\n",
    "    \"\"\"\n",
    "    year_start = kwargs.pop('year_start', df.index.year[0])\n",
    "    year_end = kwargs.pop('year_end', df.index.year[-1])\n",
    "    return df.loc[str(year_start): str(year_end)].groupby(lambda x: x.month).aggregate('mean')\n",
    "\n",
    "\n",
    "def get_anomaly(df, df_ann_cycle, name='chl_a_mean', anomaly_name='anomaly'):\n",
    "    \"\"\"\n",
    "    Computes annomaly by removing monthly mean for a given month\n",
    "    :param df:\n",
    "        pandas dataframe with [name] parameter column\n",
    "    :param df_ann_cycle:\n",
    "        pandas dataframe of length 12 containing monthly means\n",
    "    :param name:\n",
    "        str, label of quantity to get anomaly from\n",
    "    :return:\n",
    "        None\n",
    "    \"\"\"\n",
    "\n",
    "    for month in df_ann_cycle.index:\n",
    "        idx = df.index.month == month\n",
    "        df.loc[idx, anomaly_name] = df.loc[idx, name] - df_ann_cycle.loc[month, name]\n",
    "\n",
    "\n",
    "def test(datadir):\n",
    "    testfile = datadir / 'ar2018.0m_AtlN55_chlor_a.txt'\n",
    "    df_test = load_format_data(testfile, minimal=False)\n",
    "    t0 = df_test.time[0]    \n",
    "    z0 = convert_secs2dt(t0)\n",
    "    zstr0 = z0.strftime('%Y%j%H%M%S')\n",
    "    try:\n",
    "        assert zstr0 + '000' == str(2002197194740000)\n",
    "    except AssertionError as e:\n",
    "        print(e)\n",
    "        print(zstr0)\n",
    "    assert z0.year == 2002\n",
    "    doy0 = get_doy(t0)\n",
    "    assert doy0 == 196.82476851851851\n",
    "    tl = df_test.tail(1).time.values\n",
    "    zl = convert_secs2dt(tl)\n",
    "    zstrl = zl.strftime('%Y%j%H%M%S')\n",
    "    assert zstrl + '000' == str(2016321013320000)\n",
    "    assert zl.year == 2016\n",
    "    doyl = get_doy(tl)\n",
    "    assert doyl == 320.06481481481484\n",
    "    print(\"all tests passed\")"
   ]
  },
  {
   "cell_type": "code",
   "execution_count": 4,
   "metadata": {},
   "outputs": [
    {
     "data": {
      "text/html": [
       "<style>.container {width: 90%}</style>"
      ],
      "text/plain": [
       "<IPython.core.display.HTML object>"
      ]
     },
     "metadata": {},
     "output_type": "display_data"
    }
   ],
   "source": [
    "# Global graphics setup\n",
    "display(HTML(\"<style>.container {width: 90%}</style>\"))\n",
    "plot_colors = {'consolidated': '#000000',\n",
    "               'aqua': '#348ABD',\n",
    "               'swf': '#A60628',\n",
    "               'mei': '#467821',\n",
    "               }\n",
    "rcParams['axes.labelsize'] = 15\n",
    "rcParams['xtick.labelsize'] = 15\n",
    "rcParams['ytick.labelsize'] = 15\n",
    "rcParams['font.size'] = 15\n",
    "rcParams['ytick.major.size'] = 8\n",
    "rcParams['ytick.minor.size'] = 3\n",
    "rcParams['xtick.major.size'] = 8\n",
    "rcParams['xtick.minor.size'] = 3\n",
    "rcParams['xtick.top'] = True\n",
    "rcParams['ytick.direction'] = 'in'\n",
    "rcParams['xtick.direction'] = 'in'\n",
    "rcParams['axes.formatter.limits'] = (-2, 3)"
   ]
  },
  {
   "cell_type": "code",
   "execution_count": 7,
   "metadata": {
    "collapsed": true
   },
   "outputs": [],
   "source": [
    "# Paths\n",
    "home = pathlib.Path.home()\n",
    "dataMain = home / 'DEV-ALL/State_of_the_Climate/soc2018/TIMESERIES/'\n",
    "test_dir = dataMain / 'pso_test/'\n",
    "\n",
    "aquadir = dataMain / 'ar2018.0m_ar2018.0m/stats'\n",
    "aquaIOPdir = dataMain / 'ar2018.0IOPm_ar2018.0IOPm/stats'\n",
    "\n",
    "swfdir = dataMain / 'sr2018.0m_sr2018.0m/stats'\n",
    "swfIOPdir = dataMain / 'sr2018.0IOPm_sr2018.0IOPm/stats'\n",
    "\n",
    "fp_chlor_a_aqua = aquadir / 'ar2018.0m_eqsst_chlor_a.txt'\n",
    "fp_chlor_a_swf = swfdir / 'sr2018.0m_eqsst_chlor_a.txt'\n",
    "\n",
    "fp_bbp_443_giop_aqua = test_dir/'at168m_eqsst_bbp_443_giop.txt'\n",
    "fp_bbp_443_giop_swf = test_dir /'st134m_eqsst_bbp_443_giop.txt'\n",
    "#test(test_aquadir)"
   ]
  },
  {
   "cell_type": "code",
   "execution_count": 8,
   "metadata": {},
   "outputs": [],
   "source": [
    "# Load the data into pandas dataframes, with some datetime formatting\n",
    "df_swf = load_format_data(fp_chlor_a_swf,)\n",
    "df_aqua = load_format_data(fp_chlor_a_aqua)\n",
    "\n",
    "df_swf_bbp = load_format_data(fp_bbp_443_giop_swf, quantity='bbp_443_giop')\n",
    "df_aqua_bbp = load_format_data(fp_bbp_443_giop_aqua, quantity='bbp_443_giop')"
   ]
  },
  {
   "cell_type": "code",
   "execution_count": 9,
   "metadata": {},
   "outputs": [
    {
     "data": {
      "text/html": [
       "<div>\n",
       "<style scoped>\n",
       "    .dataframe tbody tr th:only-of-type {\n",
       "        vertical-align: middle;\n",
       "    }\n",
       "\n",
       "    .dataframe tbody tr th {\n",
       "        vertical-align: top;\n",
       "    }\n",
       "\n",
       "    .dataframe thead th {\n",
       "        text-align: right;\n",
       "    }\n",
       "</style>\n",
       "<table border=\"1\" class=\"dataframe\">\n",
       "  <thead>\n",
       "    <tr style=\"text-align: right;\">\n",
       "      <th></th>\n",
       "      <th>chl_a_mean</th>\n",
       "    </tr>\n",
       "    <tr>\n",
       "      <th>datetime</th>\n",
       "      <th></th>\n",
       "    </tr>\n",
       "  </thead>\n",
       "  <tbody>\n",
       "    <tr>\n",
       "      <th>2018-08-16 13:43:20</th>\n",
       "      <td>0.143987</td>\n",
       "    </tr>\n",
       "    <tr>\n",
       "      <th>2018-09-16 01:30:00</th>\n",
       "      <td>0.144530</td>\n",
       "    </tr>\n",
       "    <tr>\n",
       "      <th>2018-10-16 13:33:20</th>\n",
       "      <td>0.134381</td>\n",
       "    </tr>\n",
       "    <tr>\n",
       "      <th>2018-11-16 01:30:00</th>\n",
       "      <td>0.126977</td>\n",
       "    </tr>\n",
       "    <tr>\n",
       "      <th>2018-12-16 13:23:20</th>\n",
       "      <td>0.135522</td>\n",
       "    </tr>\n",
       "  </tbody>\n",
       "</table>\n",
       "</div>"
      ],
      "text/plain": [
       "                     chl_a_mean\n",
       "datetime                       \n",
       "2018-08-16 13:43:20    0.143987\n",
       "2018-09-16 01:30:00    0.144530\n",
       "2018-10-16 13:33:20    0.134381\n",
       "2018-11-16 01:30:00    0.126977\n",
       "2018-12-16 13:23:20    0.135522"
      ]
     },
     "execution_count": 9,
     "metadata": {},
     "output_type": "execute_result"
    }
   ],
   "source": [
    "df_aqua.tail()"
   ]
  },
  {
   "cell_type": "code",
   "execution_count": 10,
   "metadata": {},
   "outputs": [
    {
     "data": {
      "text/html": [
       "<div>\n",
       "<style scoped>\n",
       "    .dataframe tbody tr th:only-of-type {\n",
       "        vertical-align: middle;\n",
       "    }\n",
       "\n",
       "    .dataframe tbody tr th {\n",
       "        vertical-align: top;\n",
       "    }\n",
       "\n",
       "    .dataframe thead th {\n",
       "        text-align: right;\n",
       "    }\n",
       "</style>\n",
       "<table border=\"1\" class=\"dataframe\">\n",
       "  <thead>\n",
       "    <tr style=\"text-align: right;\">\n",
       "      <th></th>\n",
       "      <th>bbp_443_giop_mean</th>\n",
       "    </tr>\n",
       "    <tr>\n",
       "      <th>datetime</th>\n",
       "      <th></th>\n",
       "    </tr>\n",
       "  </thead>\n",
       "  <tbody>\n",
       "    <tr>\n",
       "      <th>2018-08-16 13:43:20</th>\n",
       "      <td>0.001921</td>\n",
       "    </tr>\n",
       "    <tr>\n",
       "      <th>2018-09-16 01:30:00</th>\n",
       "      <td>0.001958</td>\n",
       "    </tr>\n",
       "    <tr>\n",
       "      <th>2018-10-16 13:33:20</th>\n",
       "      <td>0.002058</td>\n",
       "    </tr>\n",
       "    <tr>\n",
       "      <th>2018-11-16 01:30:00</th>\n",
       "      <td>0.002047</td>\n",
       "    </tr>\n",
       "    <tr>\n",
       "      <th>2018-12-16 13:23:20</th>\n",
       "      <td>0.001954</td>\n",
       "    </tr>\n",
       "  </tbody>\n",
       "</table>\n",
       "</div>"
      ],
      "text/plain": [
       "                     bbp_443_giop_mean\n",
       "datetime                              \n",
       "2018-08-16 13:43:20           0.001921\n",
       "2018-09-16 01:30:00           0.001958\n",
       "2018-10-16 13:33:20           0.002058\n",
       "2018-11-16 01:30:00           0.002047\n",
       "2018-12-16 13:23:20           0.001954"
      ]
     },
     "execution_count": 10,
     "metadata": {},
     "output_type": "execute_result"
    }
   ],
   "source": [
    "df_aqua_bbp.tail()"
   ]
  },
  {
   "cell_type": "code",
   "execution_count": 11,
   "metadata": {},
   "outputs": [
    {
     "name": "stdout",
     "output_type": "stream",
     "text": [
      "<class 'pandas.core.frame.DataFrame'>\n",
      "DatetimeIndex: 198 entries, 2002-07-16 22:17:30 to 2018-12-16 13:23:20\n",
      "Data columns (total 1 columns):\n",
      "bbp_443_giop_mean    198 non-null float64\n",
      "dtypes: float64(1)\n",
      "memory usage: 3.1 KB\n"
     ]
    }
   ],
   "source": [
    "df_aqua_bbp.info()"
   ]
  },
  {
   "cell_type": "code",
   "execution_count": 12,
   "metadata": {},
   "outputs": [
    {
     "name": "stdout",
     "output_type": "stream",
     "text": [
      "<class 'pandas.core.frame.DataFrame'>\n",
      "DatetimeIndex: 198 entries, 2002-07-16 22:10:00 to 2018-12-16 13:23:20\n",
      "Data columns (total 1 columns):\n",
      "chl_a_mean    198 non-null float64\n",
      "dtypes: float64(1)\n",
      "memory usage: 3.1 KB\n"
     ]
    }
   ],
   "source": [
    "df_aqua.info()"
   ]
  },
  {
   "cell_type": "code",
   "execution_count": 13,
   "metadata": {},
   "outputs": [
    {
     "data": {
      "text/html": [
       "<div>\n",
       "<style scoped>\n",
       "    .dataframe tbody tr th:only-of-type {\n",
       "        vertical-align: middle;\n",
       "    }\n",
       "\n",
       "    .dataframe tbody tr th {\n",
       "        vertical-align: top;\n",
       "    }\n",
       "\n",
       "    .dataframe thead th {\n",
       "        text-align: right;\n",
       "    }\n",
       "</style>\n",
       "<table border=\"1\" class=\"dataframe\">\n",
       "  <thead>\n",
       "    <tr style=\"text-align: right;\">\n",
       "      <th></th>\n",
       "      <th>chl_a_mean</th>\n",
       "    </tr>\n",
       "    <tr>\n",
       "      <th>datetime</th>\n",
       "      <th></th>\n",
       "    </tr>\n",
       "  </thead>\n",
       "  <tbody>\n",
       "    <tr>\n",
       "      <th>2002-07-16 22:10:00</th>\n",
       "      <td>0.134046</td>\n",
       "    </tr>\n",
       "    <tr>\n",
       "      <th>2002-08-19 09:03:30</th>\n",
       "      <td>0.144239</td>\n",
       "    </tr>\n",
       "    <tr>\n",
       "      <th>2002-09-16 01:52:30</th>\n",
       "      <td>0.162506</td>\n",
       "    </tr>\n",
       "    <tr>\n",
       "      <th>2002-10-16 13:17:30</th>\n",
       "      <td>0.144815</td>\n",
       "    </tr>\n",
       "    <tr>\n",
       "      <th>2002-11-16 01:15:00</th>\n",
       "      <td>0.138069</td>\n",
       "    </tr>\n",
       "  </tbody>\n",
       "</table>\n",
       "</div>"
      ],
      "text/plain": [
       "                     chl_a_mean\n",
       "datetime                       \n",
       "2002-07-16 22:10:00    0.134046\n",
       "2002-08-19 09:03:30    0.144239\n",
       "2002-09-16 01:52:30    0.162506\n",
       "2002-10-16 13:17:30    0.144815\n",
       "2002-11-16 01:15:00    0.138069"
      ]
     },
     "execution_count": 13,
     "metadata": {},
     "output_type": "execute_result"
    }
   ],
   "source": [
    "df_aqua.head()"
   ]
  },
  {
   "cell_type": "code",
   "execution_count": 14,
   "metadata": {
    "collapsed": true
   },
   "outputs": [],
   "source": [
    "with open('./pklJar/pooled_params.pkl', 'rb') as fb:\n",
    "    pooled_params_dict = pickle.load(fb)\n",
    "slope = pooled_params_dict['slope']\n",
    "slope = slope.reshape(-1, 1)\n",
    "intercept = pooled_params_dict['intercept']\n",
    "intercept = intercept.reshape(-1, 1)"
   ]
  },
  {
   "cell_type": "code",
   "execution_count": 14,
   "metadata": {},
   "outputs": [
    {
     "data": {
      "text/plain": [
       "array([[11326.71323861],\n",
       "       [11575.60502179],\n",
       "       [13388.84532016],\n",
       "       ...,\n",
       "       [11477.07027525],\n",
       "       [11940.15722534],\n",
       "       [10296.00932882]])"
      ]
     },
     "execution_count": 14,
     "metadata": {},
     "output_type": "execute_result"
    }
   ],
   "source": [
    "slope"
   ]
  },
  {
   "cell_type": "code",
   "execution_count": 15,
   "metadata": {
    "collapsed": true
   },
   "outputs": [],
   "source": [
    "def set_time_axis(ax):\n",
    "    x_minorlocator = mdates.YearLocator()\n",
    "    x_majorformatter = mdates.DateFormatter('%b\\n%Y')\n",
    "    ax.xaxis.set_minor_locator(x_minorlocator)\n",
    "    ax.xaxis.set_tick_params(rotation=0)\n",
    "    ax.xaxis.set_major_formatter(x_majorformatter)\n",
    "    ax.set_xlabel('')\n",
    "    \n",
    "def compute_phyto_C_stats(df_):\n",
    "    bbp_443_ = df_.bbp_443_giop_mean.values.reshape(1,-1)\n",
    "    phyto_c_trace_ = intercept + bbp_443_ * slope\n",
    "    phyto_c_mean = phyto_c_trace_.mean(axis=0)\n",
    "    phyto_c_hpd = pm.hpd(phyto_c_trace_)\n",
    "    df_.insert(loc=1, column='phyto_C_2.5%', value=phyto_c_hpd[:, 0])\n",
    "    df_.insert(loc=2, column='phyto_C_97.5%', value=phyto_c_hpd[:, 1])\n",
    "    df_.insert(loc=2, column='phyto_C_mean', value=phyto_c_mean)"
   ]
  },
  {
   "cell_type": "code",
   "execution_count": 16,
   "metadata": {
    "collapsed": true
   },
   "outputs": [],
   "source": [
    "df_a = pd.concat((df_aqua, df_aqua_bbp), axis=1)"
   ]
  },
  {
   "cell_type": "code",
   "execution_count": 17,
   "metadata": {
    "collapsed": true
   },
   "outputs": [],
   "source": [
    "df_s = pd.concat((df_swf, df_swf_bbp), axis=1)"
   ]
  },
  {
   "cell_type": "code",
   "execution_count": 18,
   "metadata": {
    "collapsed": true
   },
   "outputs": [],
   "source": [
    "df_s.columns = ['s_%s' % col for col in df_s.columns]"
   ]
  },
  {
   "cell_type": "code",
   "execution_count": 19,
   "metadata": {
    "collapsed": true
   },
   "outputs": [],
   "source": [
    "swf_good_per_ends = '2007-12-31'"
   ]
  },
  {
   "cell_type": "code",
   "execution_count": 20,
   "metadata": {
    "collapsed": true
   },
   "outputs": [],
   "source": [
    "df_s = df_s.loc[:swf_good_per_ends]"
   ]
  },
  {
   "cell_type": "code",
   "execution_count": 21,
   "metadata": {},
   "outputs": [
    {
     "name": "stdout",
     "output_type": "stream",
     "text": [
      "<class 'pandas.core.frame.DataFrame'>\n",
      "DatetimeIndex: 122 entries, 1997-11-15 22:47:10 to 2007-12-16 10:50:00\n",
      "Data columns (total 2 columns):\n",
      "s_chl_a_mean           122 non-null float64\n",
      "s_bbp_443_giop_mean    122 non-null float64\n",
      "dtypes: float64(2)\n",
      "memory usage: 2.9 KB\n"
     ]
    }
   ],
   "source": [
    "df_s.info()"
   ]
  },
  {
   "cell_type": "code",
   "execution_count": 22,
   "metadata": {
    "collapsed": true
   },
   "outputs": [],
   "source": [
    "df_a.columns = ['a_%s' % col for col in df_a.columns]"
   ]
  },
  {
   "cell_type": "code",
   "execution_count": 23,
   "metadata": {
    "collapsed": true
   },
   "outputs": [],
   "source": [
    "df_all = pd.concat(\n",
    "                    (df_s.resample('MS', loffset=pd.Timedelta(14, 'd')).first(),\n",
    "                    df_a.resample('MS', loffset=pd.Timedelta(14, 'd')).first()),\n",
    "    axis=1)"
   ]
  },
  {
   "cell_type": "code",
   "execution_count": 24,
   "metadata": {},
   "outputs": [
    {
     "data": {
      "text/html": [
       "<div>\n",
       "<style scoped>\n",
       "    .dataframe tbody tr th:only-of-type {\n",
       "        vertical-align: middle;\n",
       "    }\n",
       "\n",
       "    .dataframe tbody tr th {\n",
       "        vertical-align: top;\n",
       "    }\n",
       "\n",
       "    .dataframe thead th {\n",
       "        text-align: right;\n",
       "    }\n",
       "</style>\n",
       "<table border=\"1\" class=\"dataframe\">\n",
       "  <thead>\n",
       "    <tr style=\"text-align: right;\">\n",
       "      <th></th>\n",
       "      <th>s_chl_a_mean</th>\n",
       "      <th>s_bbp_443_giop_mean</th>\n",
       "      <th>a_chl_a_mean</th>\n",
       "      <th>a_bbp_443_giop_mean</th>\n",
       "    </tr>\n",
       "    <tr>\n",
       "      <th>datetime</th>\n",
       "      <th></th>\n",
       "      <th></th>\n",
       "      <th></th>\n",
       "      <th></th>\n",
       "    </tr>\n",
       "  </thead>\n",
       "  <tbody>\n",
       "    <tr>\n",
       "      <th>1997-11-15</th>\n",
       "      <td>0.128396</td>\n",
       "      <td>0.002114</td>\n",
       "      <td>NaN</td>\n",
       "      <td>NaN</td>\n",
       "    </tr>\n",
       "    <tr>\n",
       "      <th>1997-12-15</th>\n",
       "      <td>0.128360</td>\n",
       "      <td>0.002029</td>\n",
       "      <td>NaN</td>\n",
       "      <td>NaN</td>\n",
       "    </tr>\n",
       "    <tr>\n",
       "      <th>1998-01-15</th>\n",
       "      <td>0.128007</td>\n",
       "      <td>0.001987</td>\n",
       "      <td>NaN</td>\n",
       "      <td>NaN</td>\n",
       "    </tr>\n",
       "    <tr>\n",
       "      <th>1998-02-15</th>\n",
       "      <td>0.126971</td>\n",
       "      <td>0.001973</td>\n",
       "      <td>NaN</td>\n",
       "      <td>NaN</td>\n",
       "    </tr>\n",
       "    <tr>\n",
       "      <th>1998-03-15</th>\n",
       "      <td>0.128490</td>\n",
       "      <td>0.002002</td>\n",
       "      <td>NaN</td>\n",
       "      <td>NaN</td>\n",
       "    </tr>\n",
       "  </tbody>\n",
       "</table>\n",
       "</div>"
      ],
      "text/plain": [
       "            s_chl_a_mean  s_bbp_443_giop_mean  a_chl_a_mean  \\\n",
       "datetime                                                      \n",
       "1997-11-15      0.128396             0.002114           NaN   \n",
       "1997-12-15      0.128360             0.002029           NaN   \n",
       "1998-01-15      0.128007             0.001987           NaN   \n",
       "1998-02-15      0.126971             0.001973           NaN   \n",
       "1998-03-15      0.128490             0.002002           NaN   \n",
       "\n",
       "            a_bbp_443_giop_mean  \n",
       "datetime                         \n",
       "1997-11-15                  NaN  \n",
       "1997-12-15                  NaN  \n",
       "1998-01-15                  NaN  \n",
       "1998-02-15                  NaN  \n",
       "1998-03-15                  NaN  "
      ]
     },
     "execution_count": 24,
     "metadata": {},
     "output_type": "execute_result"
    }
   ],
   "source": [
    "df_all.head()"
   ]
  },
  {
   "cell_type": "code",
   "execution_count": 25,
   "metadata": {},
   "outputs": [
    {
     "data": {
      "text/html": [
       "<div>\n",
       "<style scoped>\n",
       "    .dataframe tbody tr th:only-of-type {\n",
       "        vertical-align: middle;\n",
       "    }\n",
       "\n",
       "    .dataframe tbody tr th {\n",
       "        vertical-align: top;\n",
       "    }\n",
       "\n",
       "    .dataframe thead th {\n",
       "        text-align: right;\n",
       "    }\n",
       "</style>\n",
       "<table border=\"1\" class=\"dataframe\">\n",
       "  <thead>\n",
       "    <tr style=\"text-align: right;\">\n",
       "      <th></th>\n",
       "      <th>s_chl_a_mean</th>\n",
       "      <th>s_bbp_443_giop_mean</th>\n",
       "      <th>a_chl_a_mean</th>\n",
       "      <th>a_bbp_443_giop_mean</th>\n",
       "    </tr>\n",
       "    <tr>\n",
       "      <th>datetime</th>\n",
       "      <th></th>\n",
       "      <th></th>\n",
       "      <th></th>\n",
       "      <th></th>\n",
       "    </tr>\n",
       "  </thead>\n",
       "  <tbody>\n",
       "    <tr>\n",
       "      <th>2018-08-15</th>\n",
       "      <td>NaN</td>\n",
       "      <td>NaN</td>\n",
       "      <td>0.143987</td>\n",
       "      <td>0.001921</td>\n",
       "    </tr>\n",
       "    <tr>\n",
       "      <th>2018-09-15</th>\n",
       "      <td>NaN</td>\n",
       "      <td>NaN</td>\n",
       "      <td>0.144530</td>\n",
       "      <td>0.001958</td>\n",
       "    </tr>\n",
       "    <tr>\n",
       "      <th>2018-10-15</th>\n",
       "      <td>NaN</td>\n",
       "      <td>NaN</td>\n",
       "      <td>0.134381</td>\n",
       "      <td>0.002058</td>\n",
       "    </tr>\n",
       "    <tr>\n",
       "      <th>2018-11-15</th>\n",
       "      <td>NaN</td>\n",
       "      <td>NaN</td>\n",
       "      <td>0.126977</td>\n",
       "      <td>0.002047</td>\n",
       "    </tr>\n",
       "    <tr>\n",
       "      <th>2018-12-15</th>\n",
       "      <td>NaN</td>\n",
       "      <td>NaN</td>\n",
       "      <td>0.135522</td>\n",
       "      <td>0.001954</td>\n",
       "    </tr>\n",
       "  </tbody>\n",
       "</table>\n",
       "</div>"
      ],
      "text/plain": [
       "            s_chl_a_mean  s_bbp_443_giop_mean  a_chl_a_mean  \\\n",
       "datetime                                                      \n",
       "2018-08-15           NaN                  NaN      0.143987   \n",
       "2018-09-15           NaN                  NaN      0.144530   \n",
       "2018-10-15           NaN                  NaN      0.134381   \n",
       "2018-11-15           NaN                  NaN      0.126977   \n",
       "2018-12-15           NaN                  NaN      0.135522   \n",
       "\n",
       "            a_bbp_443_giop_mean  \n",
       "datetime                         \n",
       "2018-08-15             0.001921  \n",
       "2018-09-15             0.001958  \n",
       "2018-10-15             0.002058  \n",
       "2018-11-15             0.002047  \n",
       "2018-12-15             0.001954  "
      ]
     },
     "execution_count": 25,
     "metadata": {},
     "output_type": "execute_result"
    }
   ],
   "source": [
    "df_all.tail()"
   ]
  },
  {
   "cell_type": "code",
   "execution_count": 26,
   "metadata": {},
   "outputs": [
    {
     "data": {
      "text/plain": [
       "<matplotlib.axes._subplots.AxesSubplot at 0x7fdbb05c6668>"
      ]
     },
     "execution_count": 26,
     "metadata": {},
     "output_type": "execute_result"
    },
    {
     "data": {
      "image/png": "[encoded data removed]",
      "text/plain": [
       "<Figure size 864x720 with 2 Axes>"
      ]
     },
     "metadata": {},
     "output_type": "display_data"
    }
   ],
   "source": [
    "_, ax = pl.subplots(nrows=2, figsize=(12, 10))\n",
    "df_all.plot(y=['s_chl_a_mean', 'a_chl_a_mean'], ax=ax[0])\n",
    "df_all.plot(y=['s_bbp_443_giop_mean', 'a_bbp_443_giop_mean'], ax=ax[1])"
   ]
  },
  {
   "cell_type": "code",
   "execution_count": 27,
   "metadata": {
    "collapsed": true
   },
   "outputs": [],
   "source": [
    "df_both=df_all.dropna().copy()"
   ]
  },
  {
   "cell_type": "code",
   "execution_count": 28,
   "metadata": {},
   "outputs": [
    {
     "data": {
      "text/html": [
       "<div>\n",
       "<style scoped>\n",
       "    .dataframe tbody tr th:only-of-type {\n",
       "        vertical-align: middle;\n",
       "    }\n",
       "\n",
       "    .dataframe tbody tr th {\n",
       "        vertical-align: top;\n",
       "    }\n",
       "\n",
       "    .dataframe thead th {\n",
       "        text-align: right;\n",
       "    }\n",
       "</style>\n",
       "<table border=\"1\" class=\"dataframe\">\n",
       "  <thead>\n",
       "    <tr style=\"text-align: right;\">\n",
       "      <th></th>\n",
       "      <th>s_chl_a_mean</th>\n",
       "      <th>s_bbp_443_giop_mean</th>\n",
       "      <th>a_chl_a_mean</th>\n",
       "      <th>a_bbp_443_giop_mean</th>\n",
       "    </tr>\n",
       "    <tr>\n",
       "      <th>datetime</th>\n",
       "      <th></th>\n",
       "      <th></th>\n",
       "      <th></th>\n",
       "      <th></th>\n",
       "    </tr>\n",
       "  </thead>\n",
       "  <tbody>\n",
       "    <tr>\n",
       "      <th>1997-11-15</th>\n",
       "      <td>0.128396</td>\n",
       "      <td>0.002114</td>\n",
       "      <td>NaN</td>\n",
       "      <td>NaN</td>\n",
       "    </tr>\n",
       "    <tr>\n",
       "      <th>1997-12-15</th>\n",
       "      <td>0.128360</td>\n",
       "      <td>0.002029</td>\n",
       "      <td>NaN</td>\n",
       "      <td>NaN</td>\n",
       "    </tr>\n",
       "    <tr>\n",
       "      <th>1998-01-15</th>\n",
       "      <td>0.128007</td>\n",
       "      <td>0.001987</td>\n",
       "      <td>NaN</td>\n",
       "      <td>NaN</td>\n",
       "    </tr>\n",
       "    <tr>\n",
       "      <th>1998-02-15</th>\n",
       "      <td>0.126971</td>\n",
       "      <td>0.001973</td>\n",
       "      <td>NaN</td>\n",
       "      <td>NaN</td>\n",
       "    </tr>\n",
       "    <tr>\n",
       "      <th>1998-03-15</th>\n",
       "      <td>0.128490</td>\n",
       "      <td>0.002002</td>\n",
       "      <td>NaN</td>\n",
       "      <td>NaN</td>\n",
       "    </tr>\n",
       "  </tbody>\n",
       "</table>\n",
       "</div>"
      ],
      "text/plain": [
       "            s_chl_a_mean  s_bbp_443_giop_mean  a_chl_a_mean  \\\n",
       "datetime                                                      \n",
       "1997-11-15      0.128396             0.002114           NaN   \n",
       "1997-12-15      0.128360             0.002029           NaN   \n",
       "1998-01-15      0.128007             0.001987           NaN   \n",
       "1998-02-15      0.126971             0.001973           NaN   \n",
       "1998-03-15      0.128490             0.002002           NaN   \n",
       "\n",
       "            a_bbp_443_giop_mean  \n",
       "datetime                         \n",
       "1997-11-15                  NaN  \n",
       "1997-12-15                  NaN  \n",
       "1998-01-15                  NaN  \n",
       "1998-02-15                  NaN  \n",
       "1998-03-15                  NaN  "
      ]
     },
     "execution_count": 28,
     "metadata": {},
     "output_type": "execute_result"
    }
   ],
   "source": [
    "df_all.head()"
   ]
  },
  {
   "cell_type": "code",
   "execution_count": 29,
   "metadata": {},
   "outputs": [
    {
     "data": {
      "text/html": [
       "<div>\n",
       "<style scoped>\n",
       "    .dataframe tbody tr th:only-of-type {\n",
       "        vertical-align: middle;\n",
       "    }\n",
       "\n",
       "    .dataframe tbody tr th {\n",
       "        vertical-align: top;\n",
       "    }\n",
       "\n",
       "    .dataframe thead th {\n",
       "        text-align: right;\n",
       "    }\n",
       "</style>\n",
       "<table border=\"1\" class=\"dataframe\">\n",
       "  <thead>\n",
       "    <tr style=\"text-align: right;\">\n",
       "      <th></th>\n",
       "      <th>s_chl_a_mean</th>\n",
       "      <th>s_bbp_443_giop_mean</th>\n",
       "      <th>a_chl_a_mean</th>\n",
       "      <th>a_bbp_443_giop_mean</th>\n",
       "    </tr>\n",
       "    <tr>\n",
       "      <th>datetime</th>\n",
       "      <th></th>\n",
       "      <th></th>\n",
       "      <th></th>\n",
       "      <th></th>\n",
       "    </tr>\n",
       "  </thead>\n",
       "  <tbody>\n",
       "    <tr>\n",
       "      <th>2002-07-15</th>\n",
       "      <td>0.150883</td>\n",
       "      <td>0.001945</td>\n",
       "      <td>0.134046</td>\n",
       "      <td>0.001956</td>\n",
       "    </tr>\n",
       "    <tr>\n",
       "      <th>2002-08-15</th>\n",
       "      <td>0.157160</td>\n",
       "      <td>0.002023</td>\n",
       "      <td>0.144239</td>\n",
       "      <td>0.001947</td>\n",
       "    </tr>\n",
       "    <tr>\n",
       "      <th>2002-09-15</th>\n",
       "      <td>0.158189</td>\n",
       "      <td>0.002060</td>\n",
       "      <td>0.162506</td>\n",
       "      <td>0.002015</td>\n",
       "    </tr>\n",
       "    <tr>\n",
       "      <th>2002-10-15</th>\n",
       "      <td>0.141323</td>\n",
       "      <td>0.002060</td>\n",
       "      <td>0.144815</td>\n",
       "      <td>0.002014</td>\n",
       "    </tr>\n",
       "    <tr>\n",
       "      <th>2002-11-15</th>\n",
       "      <td>0.137566</td>\n",
       "      <td>0.002046</td>\n",
       "      <td>0.138069</td>\n",
       "      <td>0.002030</td>\n",
       "    </tr>\n",
       "  </tbody>\n",
       "</table>\n",
       "</div>"
      ],
      "text/plain": [
       "            s_chl_a_mean  s_bbp_443_giop_mean  a_chl_a_mean  \\\n",
       "datetime                                                      \n",
       "2002-07-15      0.150883             0.001945      0.134046   \n",
       "2002-08-15      0.157160             0.002023      0.144239   \n",
       "2002-09-15      0.158189             0.002060      0.162506   \n",
       "2002-10-15      0.141323             0.002060      0.144815   \n",
       "2002-11-15      0.137566             0.002046      0.138069   \n",
       "\n",
       "            a_bbp_443_giop_mean  \n",
       "datetime                         \n",
       "2002-07-15             0.001956  \n",
       "2002-08-15             0.001947  \n",
       "2002-09-15             0.002015  \n",
       "2002-10-15             0.002014  \n",
       "2002-11-15             0.002030  "
      ]
     },
     "execution_count": 29,
     "metadata": {},
     "output_type": "execute_result"
    }
   ],
   "source": [
    "df_both.head()"
   ]
  },
  {
   "cell_type": "code",
   "execution_count": 30,
   "metadata": {
    "collapsed": true
   },
   "outputs": [],
   "source": [
    "df_both.insert(0, 'chl_mean',\n",
    "               df_both[['s_chl_a_mean',\n",
    "                        'a_chl_a_mean']].mean(axis=1))\n",
    "df_both.insert(1, 'bbp443_mean',\n",
    "               df_both[['s_bbp_443_giop_mean',\n",
    "                        'a_bbp_443_giop_mean']].mean(axis=1))"
   ]
  },
  {
   "cell_type": "code",
   "execution_count": 31,
   "metadata": {
    "collapsed": true
   },
   "outputs": [],
   "source": [
    "df_both.insert(1, 'aqua-chl_mean', df_both.a_chl_a_mean - df_both.chl_mean)\n",
    "df_both.insert(1, 'chl_mean-swf', df_both.chl_mean - df_both.s_chl_a_mean)"
   ]
  },
  {
   "cell_type": "code",
   "execution_count": 32,
   "metadata": {
    "collapsed": true
   },
   "outputs": [],
   "source": [
    "df_both.insert(4, 'aqua-bbp443_mean', df_both.a_bbp_443_giop_mean - df_both.bbp443_mean)\n",
    "df_both.insert(4, 'bbp443_mean-swf', df_both.bbp443_mean - df_both.s_bbp_443_giop_mean)"
   ]
  },
  {
   "cell_type": "code",
   "execution_count": 33,
   "metadata": {},
   "outputs": [
    {
     "data": {
      "text/html": [
       "<div>\n",
       "<style scoped>\n",
       "    .dataframe tbody tr th:only-of-type {\n",
       "        vertical-align: middle;\n",
       "    }\n",
       "\n",
       "    .dataframe tbody tr th {\n",
       "        vertical-align: top;\n",
       "    }\n",
       "\n",
       "    .dataframe thead th {\n",
       "        text-align: right;\n",
       "    }\n",
       "</style>\n",
       "<table border=\"1\" class=\"dataframe\">\n",
       "  <thead>\n",
       "    <tr style=\"text-align: right;\">\n",
       "      <th>datetime</th>\n",
       "      <th>2002-07-15 00:00:00</th>\n",
       "      <th>2002-08-15 00:00:00</th>\n",
       "      <th>2002-09-15 00:00:00</th>\n",
       "      <th>2002-10-15 00:00:00</th>\n",
       "      <th>2002-11-15 00:00:00</th>\n",
       "    </tr>\n",
       "  </thead>\n",
       "  <tbody>\n",
       "    <tr>\n",
       "      <th>chl_mean</th>\n",
       "      <td>0.142464</td>\n",
       "      <td>0.150699</td>\n",
       "      <td>0.160347</td>\n",
       "      <td>0.143069</td>\n",
       "      <td>0.137818</td>\n",
       "    </tr>\n",
       "    <tr>\n",
       "      <th>chl_mean-swf</th>\n",
       "      <td>-0.008418</td>\n",
       "      <td>-0.006461</td>\n",
       "      <td>0.002158</td>\n",
       "      <td>0.001746</td>\n",
       "      <td>0.000251</td>\n",
       "    </tr>\n",
       "    <tr>\n",
       "      <th>aqua-chl_mean</th>\n",
       "      <td>-0.008418</td>\n",
       "      <td>-0.006460</td>\n",
       "      <td>0.002159</td>\n",
       "      <td>0.001746</td>\n",
       "      <td>0.000251</td>\n",
       "    </tr>\n",
       "    <tr>\n",
       "      <th>bbp443_mean</th>\n",
       "      <td>0.001951</td>\n",
       "      <td>0.001985</td>\n",
       "      <td>0.002038</td>\n",
       "      <td>0.002037</td>\n",
       "      <td>0.002038</td>\n",
       "    </tr>\n",
       "    <tr>\n",
       "      <th>bbp443_mean-swf</th>\n",
       "      <td>0.000006</td>\n",
       "      <td>-0.000038</td>\n",
       "      <td>-0.000023</td>\n",
       "      <td>-0.000023</td>\n",
       "      <td>-0.000008</td>\n",
       "    </tr>\n",
       "    <tr>\n",
       "      <th>aqua-bbp443_mean</th>\n",
       "      <td>0.000006</td>\n",
       "      <td>-0.000038</td>\n",
       "      <td>-0.000023</td>\n",
       "      <td>-0.000023</td>\n",
       "      <td>-0.000008</td>\n",
       "    </tr>\n",
       "    <tr>\n",
       "      <th>s_chl_a_mean</th>\n",
       "      <td>0.150883</td>\n",
       "      <td>0.157160</td>\n",
       "      <td>0.158189</td>\n",
       "      <td>0.141323</td>\n",
       "      <td>0.137566</td>\n",
       "    </tr>\n",
       "    <tr>\n",
       "      <th>s_bbp_443_giop_mean</th>\n",
       "      <td>0.001945</td>\n",
       "      <td>0.002023</td>\n",
       "      <td>0.002060</td>\n",
       "      <td>0.002060</td>\n",
       "      <td>0.002046</td>\n",
       "    </tr>\n",
       "    <tr>\n",
       "      <th>a_chl_a_mean</th>\n",
       "      <td>0.134046</td>\n",
       "      <td>0.144239</td>\n",
       "      <td>0.162506</td>\n",
       "      <td>0.144815</td>\n",
       "      <td>0.138069</td>\n",
       "    </tr>\n",
       "    <tr>\n",
       "      <th>a_bbp_443_giop_mean</th>\n",
       "      <td>0.001956</td>\n",
       "      <td>0.001947</td>\n",
       "      <td>0.002015</td>\n",
       "      <td>0.002014</td>\n",
       "      <td>0.002030</td>\n",
       "    </tr>\n",
       "  </tbody>\n",
       "</table>\n",
       "</div>"
      ],
      "text/plain": [
       "datetime             2002-07-15  2002-08-15  2002-09-15  2002-10-15  \\\n",
       "chl_mean               0.142464    0.150699    0.160347    0.143069   \n",
       "chl_mean-swf          -0.008418   -0.006461    0.002158    0.001746   \n",
       "aqua-chl_mean         -0.008418   -0.006460    0.002159    0.001746   \n",
       "bbp443_mean            0.001951    0.001985    0.002038    0.002037   \n",
       "bbp443_mean-swf        0.000006   -0.000038   -0.000023   -0.000023   \n",
       "aqua-bbp443_mean       0.000006   -0.000038   -0.000023   -0.000023   \n",
       "s_chl_a_mean           0.150883    0.157160    0.158189    0.141323   \n",
       "s_bbp_443_giop_mean    0.001945    0.002023    0.002060    0.002060   \n",
       "a_chl_a_mean           0.134046    0.144239    0.162506    0.144815   \n",
       "a_bbp_443_giop_mean    0.001956    0.001947    0.002015    0.002014   \n",
       "\n",
       "datetime             2002-11-15  \n",
       "chl_mean               0.137818  \n",
       "chl_mean-swf           0.000251  \n",
       "aqua-chl_mean          0.000251  \n",
       "bbp443_mean            0.002038  \n",
       "bbp443_mean-swf       -0.000008  \n",
       "aqua-bbp443_mean      -0.000008  \n",
       "s_chl_a_mean           0.137566  \n",
       "s_bbp_443_giop_mean    0.002046  \n",
       "a_chl_a_mean           0.138069  \n",
       "a_bbp_443_giop_mean    0.002030  "
      ]
     },
     "execution_count": 33,
     "metadata": {},
     "output_type": "execute_result"
    }
   ],
   "source": [
    "df_both.head().T"
   ]
  },
  {
   "cell_type": "code",
   "execution_count": 34,
   "metadata": {
    "collapsed": true
   },
   "outputs": [],
   "source": [
    "df_all['adj_chl_s'] = df_all.s_chl_a_mean + df_both['chl_mean-swf'].mean()"
   ]
  },
  {
   "cell_type": "code",
   "execution_count": 35,
   "metadata": {
    "collapsed": true
   },
   "outputs": [],
   "source": [
    "df_all['adj_chl_a'] = df_all.a_chl_a_mean - df_both['aqua-chl_mean'].mean()\n",
    "df_all['adj_bbp_s'] = df_all.s_bbp_443_giop_mean + df_both['bbp443_mean-swf'].mean()"
   ]
  },
  {
   "cell_type": "code",
   "execution_count": 36,
   "metadata": {
    "collapsed": true
   },
   "outputs": [],
   "source": [
    "df_all['adj_bbp_a'] = df_all.a_bbp_443_giop_mean - df_both['aqua-bbp443_mean'].mean()"
   ]
  },
  {
   "cell_type": "code",
   "execution_count": 37,
   "metadata": {
    "collapsed": true
   },
   "outputs": [],
   "source": [
    "df_all['chl_adj_mean'] = df_all[['adj_chl_s', 'adj_chl_a']].mean(axis=1)\n",
    "df_all['bbp_adj_mean'] = df_all[['adj_bbp_s', 'adj_bbp_a']].mean(axis=1)"
   ]
  },
  {
   "cell_type": "code",
   "execution_count": 38,
   "metadata": {},
   "outputs": [
    {
     "data": {
      "text/plain": [
       "datetime\n",
       "2018-08-15    0.145831\n",
       "2018-09-15    0.146374\n",
       "2018-10-15    0.136225\n",
       "2018-11-15    0.128821\n",
       "2018-12-15    0.137366\n",
       "Name: adj_chl_a, dtype: float64"
      ]
     },
     "execution_count": 38,
     "metadata": {},
     "output_type": "execute_result"
    }
   ],
   "source": [
    "df_all['adj_chl_a'].tail()"
   ]
  },
  {
   "cell_type": "code",
   "execution_count": 39,
   "metadata": {},
   "outputs": [
    {
     "data": {
      "image/png": "[encoded data removed]",
      "text/plain": [
       "<Figure size 864x720 with 2 Axes>"
      ]
     },
     "metadata": {},
     "output_type": "display_data"
    }
   ],
   "source": [
    "f, ax = pl.subplots(nrows=2, figsize=(12, 10), sharex=True)\n",
    "df_all.plot(y=['s_chl_a_mean', 'a_chl_a_mean', 'chl_adj_mean'], ax=ax[0], legend=False)\n",
    "df_all.plot(y=['s_bbp_443_giop_mean', 'a_bbp_443_giop_mean', 'bbp_adj_mean'], ax=ax[1], legend=False)\n",
    "ax[0].set_ylabel('chl.a $mg^{-3}$')\n",
    "ax[1].set_ylabel('bbp(443) $m^{-1}$')\n",
    "set_time_axis(ax[0])\n",
    "set_time_axis(ax[1])"
   ]
  },
  {
   "cell_type": "code",
   "execution_count": 40,
   "metadata": {
    "collapsed": true
   },
   "outputs": [],
   "source": [
    "df_both = df_all[['chl_adj_mean', 'bbp_adj_mean']].copy()"
   ]
  },
  {
   "cell_type": "code",
   "execution_count": 41,
   "metadata": {
    "collapsed": true
   },
   "outputs": [],
   "source": [
    "phyto_C_trace = df_both.bbp_adj_mean.values.reshape(1,-1) * slope + intercept"
   ]
  },
  {
   "cell_type": "code",
   "execution_count": 42,
   "metadata": {
    "collapsed": true
   },
   "outputs": [],
   "source": [
    "df_both['phyto_C_mean'] = phyto_C_trace.mean(axis=0)"
   ]
  },
  {
   "cell_type": "code",
   "execution_count": 43,
   "metadata": {
    "collapsed": true
   },
   "outputs": [],
   "source": [
    "phyto_C_50ci = pm.hpd(phyto_C_trace, alpha=0.5)\n",
    "phyto_C_95ci = pm.hpd(phyto_C_trace, alpha=0.05)"
   ]
  },
  {
   "cell_type": "code",
   "execution_count": 44,
   "metadata": {
    "collapsed": true
   },
   "outputs": [],
   "source": [
    "df_both['phyto_C_50CI_hi'] = phyto_C_50ci[:, 1]\n",
    "df_both['phyto_C_95CI_hi'] = phyto_C_95ci[:, 1]"
   ]
  },
  {
   "cell_type": "code",
   "execution_count": 45,
   "metadata": {
    "collapsed": true
   },
   "outputs": [],
   "source": [
    "df_both.insert(2, 'phyto_C_50CI_lo', phyto_C_50ci[:, 0])\n",
    "df_both.insert(2, 'phyto_C_95CI_lo', phyto_C_95ci[:, 0])"
   ]
  },
  {
   "cell_type": "code",
   "execution_count": 46,
   "metadata": {},
   "outputs": [
    {
     "data": {
      "text/html": [
       "<div>\n",
       "<style scoped>\n",
       "    .dataframe tbody tr th:only-of-type {\n",
       "        vertical-align: middle;\n",
       "    }\n",
       "\n",
       "    .dataframe tbody tr th {\n",
       "        vertical-align: top;\n",
       "    }\n",
       "\n",
       "    .dataframe thead th {\n",
       "        text-align: right;\n",
       "    }\n",
       "</style>\n",
       "<table border=\"1\" class=\"dataframe\">\n",
       "  <thead>\n",
       "    <tr style=\"text-align: right;\">\n",
       "      <th></th>\n",
       "      <th>chl_adj_mean</th>\n",
       "      <th>bbp_adj_mean</th>\n",
       "      <th>phyto_C_95CI_lo</th>\n",
       "      <th>phyto_C_50CI_lo</th>\n",
       "      <th>phyto_C_mean</th>\n",
       "      <th>phyto_C_50CI_hi</th>\n",
       "      <th>phyto_C_95CI_hi</th>\n",
       "    </tr>\n",
       "    <tr>\n",
       "      <th>datetime</th>\n",
       "      <th></th>\n",
       "      <th></th>\n",
       "      <th></th>\n",
       "      <th></th>\n",
       "      <th></th>\n",
       "      <th></th>\n",
       "      <th></th>\n",
       "    </tr>\n",
       "  </thead>\n",
       "  <tbody>\n",
       "    <tr>\n",
       "      <th>1997-11-15</th>\n",
       "      <td>0.126552</td>\n",
       "      <td>0.002073</td>\n",
       "      <td>22.757247</td>\n",
       "      <td>24.142836</td>\n",
       "      <td>24.841083</td>\n",
       "      <td>25.530049</td>\n",
       "      <td>26.981910</td>\n",
       "    </tr>\n",
       "    <tr>\n",
       "      <th>1997-12-15</th>\n",
       "      <td>0.126516</td>\n",
       "      <td>0.001988</td>\n",
       "      <td>21.980533</td>\n",
       "      <td>23.123099</td>\n",
       "      <td>23.845324</td>\n",
       "      <td>24.430774</td>\n",
       "      <td>25.972896</td>\n",
       "    </tr>\n",
       "    <tr>\n",
       "      <th>1998-01-15</th>\n",
       "      <td>0.126163</td>\n",
       "      <td>0.001946</td>\n",
       "      <td>21.502099</td>\n",
       "      <td>22.655481</td>\n",
       "      <td>23.347797</td>\n",
       "      <td>23.930489</td>\n",
       "      <td>25.382582</td>\n",
       "    </tr>\n",
       "    <tr>\n",
       "      <th>1998-02-15</th>\n",
       "      <td>0.125127</td>\n",
       "      <td>0.001933</td>\n",
       "      <td>21.347144</td>\n",
       "      <td>22.505127</td>\n",
       "      <td>23.187600</td>\n",
       "      <td>23.768797</td>\n",
       "      <td>25.193990</td>\n",
       "    </tr>\n",
       "    <tr>\n",
       "      <th>1998-03-15</th>\n",
       "      <td>0.126646</td>\n",
       "      <td>0.001961</td>\n",
       "      <td>21.685105</td>\n",
       "      <td>22.817465</td>\n",
       "      <td>23.517991</td>\n",
       "      <td>24.100255</td>\n",
       "      <td>25.604928</td>\n",
       "    </tr>\n",
       "  </tbody>\n",
       "</table>\n",
       "</div>"
      ],
      "text/plain": [
       "            chl_adj_mean  bbp_adj_mean  phyto_C_95CI_lo  phyto_C_50CI_lo  \\\n",
       "datetime                                                                   \n",
       "1997-11-15      0.126552      0.002073        22.757247        24.142836   \n",
       "1997-12-15      0.126516      0.001988        21.980533        23.123099   \n",
       "1998-01-15      0.126163      0.001946        21.502099        22.655481   \n",
       "1998-02-15      0.125127      0.001933        21.347144        22.505127   \n",
       "1998-03-15      0.126646      0.001961        21.685105        22.817465   \n",
       "\n",
       "            phyto_C_mean  phyto_C_50CI_hi  phyto_C_95CI_hi  \n",
       "datetime                                                    \n",
       "1997-11-15     24.841083        25.530049        26.981910  \n",
       "1997-12-15     23.845324        24.430774        25.972896  \n",
       "1998-01-15     23.347797        23.930489        25.382582  \n",
       "1998-02-15     23.187600        23.768797        25.193990  \n",
       "1998-03-15     23.517991        24.100255        25.604928  "
      ]
     },
     "execution_count": 46,
     "metadata": {},
     "output_type": "execute_result"
    }
   ],
   "source": [
    "df_both.head()"
   ]
  },
  {
   "cell_type": "code",
   "execution_count": 47,
   "metadata": {
    "collapsed": true
   },
   "outputs": [],
   "source": [
    "chl_ann_cycle = get_monthly_means(df_both[['chl_adj_mean']],\n",
    "                                 year_start=2003, year_end=2011)\n",
    "carb_ann_cycle = get_monthly_means(df_both[['phyto_C_mean']],\n",
    "                                  year_start=2003, year_end=2011)"
   ]
  },
  {
   "cell_type": "code",
   "execution_count": 48,
   "metadata": {},
   "outputs": [
    {
     "data": {
      "text/html": [
       "<div>\n",
       "<style scoped>\n",
       "    .dataframe tbody tr th:only-of-type {\n",
       "        vertical-align: middle;\n",
       "    }\n",
       "\n",
       "    .dataframe tbody tr th {\n",
       "        vertical-align: top;\n",
       "    }\n",
       "\n",
       "    .dataframe thead th {\n",
       "        text-align: right;\n",
       "    }\n",
       "</style>\n",
       "<table border=\"1\" class=\"dataframe\">\n",
       "  <thead>\n",
       "    <tr style=\"text-align: right;\">\n",
       "      <th></th>\n",
       "      <th>chl_adj_mean</th>\n",
       "    </tr>\n",
       "  </thead>\n",
       "  <tbody>\n",
       "    <tr>\n",
       "      <th>1</th>\n",
       "      <td>0.140039</td>\n",
       "    </tr>\n",
       "    <tr>\n",
       "      <th>2</th>\n",
       "      <td>0.145164</td>\n",
       "    </tr>\n",
       "    <tr>\n",
       "      <th>3</th>\n",
       "      <td>0.144552</td>\n",
       "    </tr>\n",
       "    <tr>\n",
       "      <th>4</th>\n",
       "      <td>0.143244</td>\n",
       "    </tr>\n",
       "    <tr>\n",
       "      <th>5</th>\n",
       "      <td>0.141956</td>\n",
       "    </tr>\n",
       "    <tr>\n",
       "      <th>6</th>\n",
       "      <td>0.144788</td>\n",
       "    </tr>\n",
       "    <tr>\n",
       "      <th>7</th>\n",
       "      <td>0.148271</td>\n",
       "    </tr>\n",
       "    <tr>\n",
       "      <th>8</th>\n",
       "      <td>0.148510</td>\n",
       "    </tr>\n",
       "    <tr>\n",
       "      <th>9</th>\n",
       "      <td>0.150857</td>\n",
       "    </tr>\n",
       "    <tr>\n",
       "      <th>10</th>\n",
       "      <td>0.140950</td>\n",
       "    </tr>\n",
       "    <tr>\n",
       "      <th>11</th>\n",
       "      <td>0.135073</td>\n",
       "    </tr>\n",
       "    <tr>\n",
       "      <th>12</th>\n",
       "      <td>0.136113</td>\n",
       "    </tr>\n",
       "  </tbody>\n",
       "</table>\n",
       "</div>"
      ],
      "text/plain": [
       "    chl_adj_mean\n",
       "1       0.140039\n",
       "2       0.145164\n",
       "3       0.144552\n",
       "4       0.143244\n",
       "5       0.141956\n",
       "6       0.144788\n",
       "7       0.148271\n",
       "8       0.148510\n",
       "9       0.150857\n",
       "10      0.140950\n",
       "11      0.135073\n",
       "12      0.136113"
      ]
     },
     "execution_count": 48,
     "metadata": {},
     "output_type": "execute_result"
    }
   ],
   "source": [
    "chl_ann_cycle"
   ]
  },
  {
   "cell_type": "code",
   "execution_count": 49,
   "metadata": {},
   "outputs": [
    {
     "data": {
      "text/html": [
       "<div>\n",
       "<style scoped>\n",
       "    .dataframe tbody tr th:only-of-type {\n",
       "        vertical-align: middle;\n",
       "    }\n",
       "\n",
       "    .dataframe tbody tr th {\n",
       "        vertical-align: top;\n",
       "    }\n",
       "\n",
       "    .dataframe thead th {\n",
       "        text-align: right;\n",
       "    }\n",
       "</style>\n",
       "<table border=\"1\" class=\"dataframe\">\n",
       "  <thead>\n",
       "    <tr style=\"text-align: right;\">\n",
       "      <th></th>\n",
       "      <th>phyto_C_mean</th>\n",
       "    </tr>\n",
       "  </thead>\n",
       "  <tbody>\n",
       "    <tr>\n",
       "      <th>1</th>\n",
       "      <td>23.420878</td>\n",
       "    </tr>\n",
       "    <tr>\n",
       "      <th>2</th>\n",
       "      <td>23.191999</td>\n",
       "    </tr>\n",
       "    <tr>\n",
       "      <th>3</th>\n",
       "      <td>23.241575</td>\n",
       "    </tr>\n",
       "    <tr>\n",
       "      <th>4</th>\n",
       "      <td>23.566412</td>\n",
       "    </tr>\n",
       "    <tr>\n",
       "      <th>5</th>\n",
       "      <td>23.706025</td>\n",
       "    </tr>\n",
       "    <tr>\n",
       "      <th>6</th>\n",
       "      <td>23.462855</td>\n",
       "    </tr>\n",
       "    <tr>\n",
       "      <th>7</th>\n",
       "      <td>23.052000</td>\n",
       "    </tr>\n",
       "    <tr>\n",
       "      <th>8</th>\n",
       "      <td>23.352509</td>\n",
       "    </tr>\n",
       "    <tr>\n",
       "      <th>9</th>\n",
       "      <td>23.849429</td>\n",
       "    </tr>\n",
       "    <tr>\n",
       "      <th>10</th>\n",
       "      <td>24.537112</td>\n",
       "    </tr>\n",
       "    <tr>\n",
       "      <th>11</th>\n",
       "      <td>24.753759</td>\n",
       "    </tr>\n",
       "    <tr>\n",
       "      <th>12</th>\n",
       "      <td>24.138398</td>\n",
       "    </tr>\n",
       "  </tbody>\n",
       "</table>\n",
       "</div>"
      ],
      "text/plain": [
       "    phyto_C_mean\n",
       "1      23.420878\n",
       "2      23.191999\n",
       "3      23.241575\n",
       "4      23.566412\n",
       "5      23.706025\n",
       "6      23.462855\n",
       "7      23.052000\n",
       "8      23.352509\n",
       "9      23.849429\n",
       "10     24.537112\n",
       "11     24.753759\n",
       "12     24.138398"
      ]
     },
     "execution_count": 49,
     "metadata": {},
     "output_type": "execute_result"
    }
   ],
   "source": [
    "carb_ann_cycle"
   ]
  },
  {
   "cell_type": "code",
   "execution_count": 50,
   "metadata": {
    "collapsed": true
   },
   "outputs": [],
   "source": [
    "get_anomaly(df_both, chl_ann_cycle, name='chl_adj_mean', anomaly_name='chl_anomaly')\n",
    "get_anomaly(df_both, carb_ann_cycle, name='phyto_C_mean', anomaly_name='phyto_C_anomaly')"
   ]
  },
  {
   "cell_type": "code",
   "execution_count": 51,
   "metadata": {},
   "outputs": [
    {
     "data": {
      "text/html": [
       "<div>\n",
       "<style scoped>\n",
       "    .dataframe tbody tr th:only-of-type {\n",
       "        vertical-align: middle;\n",
       "    }\n",
       "\n",
       "    .dataframe tbody tr th {\n",
       "        vertical-align: top;\n",
       "    }\n",
       "\n",
       "    .dataframe thead th {\n",
       "        text-align: right;\n",
       "    }\n",
       "</style>\n",
       "<table border=\"1\" class=\"dataframe\">\n",
       "  <thead>\n",
       "    <tr style=\"text-align: right;\">\n",
       "      <th>datetime</th>\n",
       "      <th>1997-11-15 00:00:00</th>\n",
       "      <th>1997-12-15 00:00:00</th>\n",
       "      <th>1998-01-15 00:00:00</th>\n",
       "      <th>1998-02-15 00:00:00</th>\n",
       "      <th>1998-03-15 00:00:00</th>\n",
       "    </tr>\n",
       "  </thead>\n",
       "  <tbody>\n",
       "    <tr>\n",
       "      <th>chl_adj_mean</th>\n",
       "      <td>0.126552</td>\n",
       "      <td>0.126516</td>\n",
       "      <td>0.126163</td>\n",
       "      <td>0.125127</td>\n",
       "      <td>0.126646</td>\n",
       "    </tr>\n",
       "    <tr>\n",
       "      <th>bbp_adj_mean</th>\n",
       "      <td>0.002073</td>\n",
       "      <td>0.001988</td>\n",
       "      <td>0.001946</td>\n",
       "      <td>0.001933</td>\n",
       "      <td>0.001961</td>\n",
       "    </tr>\n",
       "    <tr>\n",
       "      <th>phyto_C_95CI_lo</th>\n",
       "      <td>22.757247</td>\n",
       "      <td>21.980533</td>\n",
       "      <td>21.502099</td>\n",
       "      <td>21.347144</td>\n",
       "      <td>21.685105</td>\n",
       "    </tr>\n",
       "    <tr>\n",
       "      <th>phyto_C_50CI_lo</th>\n",
       "      <td>24.142836</td>\n",
       "      <td>23.123099</td>\n",
       "      <td>22.655481</td>\n",
       "      <td>22.505127</td>\n",
       "      <td>22.817465</td>\n",
       "    </tr>\n",
       "    <tr>\n",
       "      <th>phyto_C_mean</th>\n",
       "      <td>24.841083</td>\n",
       "      <td>23.845324</td>\n",
       "      <td>23.347797</td>\n",
       "      <td>23.187600</td>\n",
       "      <td>23.517991</td>\n",
       "    </tr>\n",
       "    <tr>\n",
       "      <th>phyto_C_50CI_hi</th>\n",
       "      <td>25.530049</td>\n",
       "      <td>24.430774</td>\n",
       "      <td>23.930489</td>\n",
       "      <td>23.768797</td>\n",
       "      <td>24.100255</td>\n",
       "    </tr>\n",
       "    <tr>\n",
       "      <th>phyto_C_95CI_hi</th>\n",
       "      <td>26.981910</td>\n",
       "      <td>25.972896</td>\n",
       "      <td>25.382582</td>\n",
       "      <td>25.193990</td>\n",
       "      <td>25.604928</td>\n",
       "    </tr>\n",
       "    <tr>\n",
       "      <th>chl_anomaly</th>\n",
       "      <td>-0.008520</td>\n",
       "      <td>-0.009597</td>\n",
       "      <td>-0.013876</td>\n",
       "      <td>-0.020037</td>\n",
       "      <td>-0.017906</td>\n",
       "    </tr>\n",
       "    <tr>\n",
       "      <th>phyto_C_anomaly</th>\n",
       "      <td>0.087324</td>\n",
       "      <td>-0.293074</td>\n",
       "      <td>-0.073082</td>\n",
       "      <td>-0.004399</td>\n",
       "      <td>0.276416</td>\n",
       "    </tr>\n",
       "  </tbody>\n",
       "</table>\n",
       "</div>"
      ],
      "text/plain": [
       "datetime         1997-11-15  1997-12-15  1998-01-15  1998-02-15  1998-03-15\n",
       "chl_adj_mean       0.126552    0.126516    0.126163    0.125127    0.126646\n",
       "bbp_adj_mean       0.002073    0.001988    0.001946    0.001933    0.001961\n",
       "phyto_C_95CI_lo   22.757247   21.980533   21.502099   21.347144   21.685105\n",
       "phyto_C_50CI_lo   24.142836   23.123099   22.655481   22.505127   22.817465\n",
       "phyto_C_mean      24.841083   23.845324   23.347797   23.187600   23.517991\n",
       "phyto_C_50CI_hi   25.530049   24.430774   23.930489   23.768797   24.100255\n",
       "phyto_C_95CI_hi   26.981910   25.972896   25.382582   25.193990   25.604928\n",
       "chl_anomaly       -0.008520   -0.009597   -0.013876   -0.020037   -0.017906\n",
       "phyto_C_anomaly    0.087324   -0.293074   -0.073082   -0.004399    0.276416"
      ]
     },
     "execution_count": 51,
     "metadata": {},
     "output_type": "execute_result"
    }
   ],
   "source": [
    "df_both.head().T"
   ]
  },
  {
   "cell_type": "code",
   "execution_count": 52,
   "metadata": {},
   "outputs": [
    {
     "data": {
      "text/html": [
       "<div>\n",
       "<style scoped>\n",
       "    .dataframe tbody tr th:only-of-type {\n",
       "        vertical-align: middle;\n",
       "    }\n",
       "\n",
       "    .dataframe tbody tr th {\n",
       "        vertical-align: top;\n",
       "    }\n",
       "\n",
       "    .dataframe thead th {\n",
       "        text-align: right;\n",
       "    }\n",
       "</style>\n",
       "<table border=\"1\" class=\"dataframe\">\n",
       "  <thead>\n",
       "    <tr style=\"text-align: right;\">\n",
       "      <th></th>\n",
       "      <th>s_chl_a_mean</th>\n",
       "      <th>s_bbp_443_giop_mean</th>\n",
       "      <th>a_chl_a_mean</th>\n",
       "      <th>a_bbp_443_giop_mean</th>\n",
       "      <th>adj_chl_s</th>\n",
       "      <th>adj_chl_a</th>\n",
       "      <th>adj_bbp_s</th>\n",
       "      <th>adj_bbp_a</th>\n",
       "      <th>chl_adj_mean</th>\n",
       "      <th>bbp_adj_mean</th>\n",
       "    </tr>\n",
       "    <tr>\n",
       "      <th>datetime</th>\n",
       "      <th></th>\n",
       "      <th></th>\n",
       "      <th></th>\n",
       "      <th></th>\n",
       "      <th></th>\n",
       "      <th></th>\n",
       "      <th></th>\n",
       "      <th></th>\n",
       "      <th></th>\n",
       "      <th></th>\n",
       "    </tr>\n",
       "  </thead>\n",
       "  <tbody>\n",
       "    <tr>\n",
       "      <th>1997-11-15</th>\n",
       "      <td>0.128396</td>\n",
       "      <td>0.002114</td>\n",
       "      <td>NaN</td>\n",
       "      <td>NaN</td>\n",
       "      <td>0.126552</td>\n",
       "      <td>NaN</td>\n",
       "      <td>0.002073</td>\n",
       "      <td>NaN</td>\n",
       "      <td>0.126552</td>\n",
       "      <td>0.002073</td>\n",
       "    </tr>\n",
       "    <tr>\n",
       "      <th>1997-12-15</th>\n",
       "      <td>0.128360</td>\n",
       "      <td>0.002029</td>\n",
       "      <td>NaN</td>\n",
       "      <td>NaN</td>\n",
       "      <td>0.126516</td>\n",
       "      <td>NaN</td>\n",
       "      <td>0.001988</td>\n",
       "      <td>NaN</td>\n",
       "      <td>0.126516</td>\n",
       "      <td>0.001988</td>\n",
       "    </tr>\n",
       "    <tr>\n",
       "      <th>1998-01-15</th>\n",
       "      <td>0.128007</td>\n",
       "      <td>0.001987</td>\n",
       "      <td>NaN</td>\n",
       "      <td>NaN</td>\n",
       "      <td>0.126163</td>\n",
       "      <td>NaN</td>\n",
       "      <td>0.001946</td>\n",
       "      <td>NaN</td>\n",
       "      <td>0.126163</td>\n",
       "      <td>0.001946</td>\n",
       "    </tr>\n",
       "    <tr>\n",
       "      <th>1998-02-15</th>\n",
       "      <td>0.126971</td>\n",
       "      <td>0.001973</td>\n",
       "      <td>NaN</td>\n",
       "      <td>NaN</td>\n",
       "      <td>0.125127</td>\n",
       "      <td>NaN</td>\n",
       "      <td>0.001933</td>\n",
       "      <td>NaN</td>\n",
       "      <td>0.125127</td>\n",
       "      <td>0.001933</td>\n",
       "    </tr>\n",
       "    <tr>\n",
       "      <th>1998-03-15</th>\n",
       "      <td>0.128490</td>\n",
       "      <td>0.002002</td>\n",
       "      <td>NaN</td>\n",
       "      <td>NaN</td>\n",
       "      <td>0.126646</td>\n",
       "      <td>NaN</td>\n",
       "      <td>0.001961</td>\n",
       "      <td>NaN</td>\n",
       "      <td>0.126646</td>\n",
       "      <td>0.001961</td>\n",
       "    </tr>\n",
       "  </tbody>\n",
       "</table>\n",
       "</div>"
      ],
      "text/plain": [
       "            s_chl_a_mean  s_bbp_443_giop_mean  a_chl_a_mean  \\\n",
       "datetime                                                      \n",
       "1997-11-15      0.128396             0.002114           NaN   \n",
       "1997-12-15      0.128360             0.002029           NaN   \n",
       "1998-01-15      0.128007             0.001987           NaN   \n",
       "1998-02-15      0.126971             0.001973           NaN   \n",
       "1998-03-15      0.128490             0.002002           NaN   \n",
       "\n",
       "            a_bbp_443_giop_mean  adj_chl_s  adj_chl_a  adj_bbp_s  adj_bbp_a  \\\n",
       "datetime                                                                      \n",
       "1997-11-15                  NaN   0.126552        NaN   0.002073        NaN   \n",
       "1997-12-15                  NaN   0.126516        NaN   0.001988        NaN   \n",
       "1998-01-15                  NaN   0.126163        NaN   0.001946        NaN   \n",
       "1998-02-15                  NaN   0.125127        NaN   0.001933        NaN   \n",
       "1998-03-15                  NaN   0.126646        NaN   0.001961        NaN   \n",
       "\n",
       "            chl_adj_mean  bbp_adj_mean  \n",
       "datetime                                \n",
       "1997-11-15      0.126552      0.002073  \n",
       "1997-12-15      0.126516      0.001988  \n",
       "1998-01-15      0.126163      0.001946  \n",
       "1998-02-15      0.125127      0.001933  \n",
       "1998-03-15      0.126646      0.001961  "
      ]
     },
     "execution_count": 52,
     "metadata": {},
     "output_type": "execute_result"
    }
   ],
   "source": [
    "df_all.head()"
   ]
  },
  {
   "cell_type": "code",
   "execution_count": 53,
   "metadata": {},
   "outputs": [
    {
     "data": {
      "text/html": [
       "<div>\n",
       "<style scoped>\n",
       "    .dataframe tbody tr th:only-of-type {\n",
       "        vertical-align: middle;\n",
       "    }\n",
       "\n",
       "    .dataframe tbody tr th {\n",
       "        vertical-align: top;\n",
       "    }\n",
       "\n",
       "    .dataframe thead th {\n",
       "        text-align: right;\n",
       "    }\n",
       "</style>\n",
       "<table border=\"1\" class=\"dataframe\">\n",
       "  <thead>\n",
       "    <tr style=\"text-align: right;\">\n",
       "      <th></th>\n",
       "      <th>chl_adj_mean</th>\n",
       "      <th>bbp_adj_mean</th>\n",
       "      <th>phyto_C_95CI_lo</th>\n",
       "      <th>phyto_C_50CI_lo</th>\n",
       "      <th>phyto_C_mean</th>\n",
       "      <th>phyto_C_50CI_hi</th>\n",
       "      <th>phyto_C_95CI_hi</th>\n",
       "      <th>chl_anomaly</th>\n",
       "      <th>phyto_C_anomaly</th>\n",
       "    </tr>\n",
       "    <tr>\n",
       "      <th>datetime</th>\n",
       "      <th></th>\n",
       "      <th></th>\n",
       "      <th></th>\n",
       "      <th></th>\n",
       "      <th></th>\n",
       "      <th></th>\n",
       "      <th></th>\n",
       "      <th></th>\n",
       "      <th></th>\n",
       "    </tr>\n",
       "  </thead>\n",
       "  <tbody>\n",
       "    <tr>\n",
       "      <th>1997-11-15</th>\n",
       "      <td>0.126552</td>\n",
       "      <td>0.002073</td>\n",
       "      <td>22.757247</td>\n",
       "      <td>24.142836</td>\n",
       "      <td>24.841083</td>\n",
       "      <td>25.530049</td>\n",
       "      <td>26.981910</td>\n",
       "      <td>-0.008520</td>\n",
       "      <td>0.087324</td>\n",
       "    </tr>\n",
       "    <tr>\n",
       "      <th>1997-12-15</th>\n",
       "      <td>0.126516</td>\n",
       "      <td>0.001988</td>\n",
       "      <td>21.980533</td>\n",
       "      <td>23.123099</td>\n",
       "      <td>23.845324</td>\n",
       "      <td>24.430774</td>\n",
       "      <td>25.972896</td>\n",
       "      <td>-0.009597</td>\n",
       "      <td>-0.293074</td>\n",
       "    </tr>\n",
       "    <tr>\n",
       "      <th>1998-01-15</th>\n",
       "      <td>0.126163</td>\n",
       "      <td>0.001946</td>\n",
       "      <td>21.502099</td>\n",
       "      <td>22.655481</td>\n",
       "      <td>23.347797</td>\n",
       "      <td>23.930489</td>\n",
       "      <td>25.382582</td>\n",
       "      <td>-0.013876</td>\n",
       "      <td>-0.073082</td>\n",
       "    </tr>\n",
       "    <tr>\n",
       "      <th>1998-02-15</th>\n",
       "      <td>0.125127</td>\n",
       "      <td>0.001933</td>\n",
       "      <td>21.347144</td>\n",
       "      <td>22.505127</td>\n",
       "      <td>23.187600</td>\n",
       "      <td>23.768797</td>\n",
       "      <td>25.193990</td>\n",
       "      <td>-0.020037</td>\n",
       "      <td>-0.004399</td>\n",
       "    </tr>\n",
       "    <tr>\n",
       "      <th>1998-03-15</th>\n",
       "      <td>0.126646</td>\n",
       "      <td>0.001961</td>\n",
       "      <td>21.685105</td>\n",
       "      <td>22.817465</td>\n",
       "      <td>23.517991</td>\n",
       "      <td>24.100255</td>\n",
       "      <td>25.604928</td>\n",
       "      <td>-0.017906</td>\n",
       "      <td>0.276416</td>\n",
       "    </tr>\n",
       "  </tbody>\n",
       "</table>\n",
       "</div>"
      ],
      "text/plain": [
       "            chl_adj_mean  bbp_adj_mean  phyto_C_95CI_lo  phyto_C_50CI_lo  \\\n",
       "datetime                                                                   \n",
       "1997-11-15      0.126552      0.002073        22.757247        24.142836   \n",
       "1997-12-15      0.126516      0.001988        21.980533        23.123099   \n",
       "1998-01-15      0.126163      0.001946        21.502099        22.655481   \n",
       "1998-02-15      0.125127      0.001933        21.347144        22.505127   \n",
       "1998-03-15      0.126646      0.001961        21.685105        22.817465   \n",
       "\n",
       "            phyto_C_mean  phyto_C_50CI_hi  phyto_C_95CI_hi  chl_anomaly  \\\n",
       "datetime                                                                  \n",
       "1997-11-15     24.841083        25.530049        26.981910    -0.008520   \n",
       "1997-12-15     23.845324        24.430774        25.972896    -0.009597   \n",
       "1998-01-15     23.347797        23.930489        25.382582    -0.013876   \n",
       "1998-02-15     23.187600        23.768797        25.193990    -0.020037   \n",
       "1998-03-15     23.517991        24.100255        25.604928    -0.017906   \n",
       "\n",
       "            phyto_C_anomaly  \n",
       "datetime                     \n",
       "1997-11-15         0.087324  \n",
       "1997-12-15        -0.293074  \n",
       "1998-01-15        -0.073082  \n",
       "1998-02-15        -0.004399  \n",
       "1998-03-15         0.276416  "
      ]
     },
     "execution_count": 53,
     "metadata": {},
     "output_type": "execute_result"
    }
   ],
   "source": [
    "df_both.head()"
   ]
  },
  {
   "cell_type": "code",
   "execution_count": 54,
   "metadata": {
    "collapsed": true
   },
   "outputs": [],
   "source": [
    "def get_sensor(row):\n",
    "    if np.isfinite(row['adj_chl_s'] * row['adj_chl_a']):\n",
    "        return 'both'\n",
    "    else:\n",
    "        if np.isfinite(row['adj_chl_s']):\n",
    "            return 'swf'\n",
    "        else:\n",
    "            return 'aqua'\n",
    "df_both['sensor'] =df_all.apply(get_sensor, axis=1)"
   ]
  },
  {
   "cell_type": "code",
   "execution_count": 55,
   "metadata": {},
   "outputs": [
    {
     "data": {
      "text/html": [
       "<div>\n",
       "<style scoped>\n",
       "    .dataframe tbody tr th:only-of-type {\n",
       "        vertical-align: middle;\n",
       "    }\n",
       "\n",
       "    .dataframe tbody tr th {\n",
       "        vertical-align: top;\n",
       "    }\n",
       "\n",
       "    .dataframe thead th {\n",
       "        text-align: right;\n",
       "    }\n",
       "</style>\n",
       "<table border=\"1\" class=\"dataframe\">\n",
       "  <thead>\n",
       "    <tr style=\"text-align: right;\">\n",
       "      <th></th>\n",
       "      <th>chl_adj_mean</th>\n",
       "      <th>bbp_adj_mean</th>\n",
       "      <th>phyto_C_95CI_lo</th>\n",
       "      <th>phyto_C_50CI_lo</th>\n",
       "      <th>phyto_C_mean</th>\n",
       "      <th>phyto_C_50CI_hi</th>\n",
       "      <th>phyto_C_95CI_hi</th>\n",
       "      <th>chl_anomaly</th>\n",
       "      <th>phyto_C_anomaly</th>\n",
       "      <th>sensor</th>\n",
       "    </tr>\n",
       "    <tr>\n",
       "      <th>datetime</th>\n",
       "      <th></th>\n",
       "      <th></th>\n",
       "      <th></th>\n",
       "      <th></th>\n",
       "      <th></th>\n",
       "      <th></th>\n",
       "      <th></th>\n",
       "      <th></th>\n",
       "      <th></th>\n",
       "      <th></th>\n",
       "    </tr>\n",
       "  </thead>\n",
       "  <tbody>\n",
       "    <tr>\n",
       "      <th>1997-11-15</th>\n",
       "      <td>0.126552</td>\n",
       "      <td>0.002073</td>\n",
       "      <td>22.757247</td>\n",
       "      <td>24.142836</td>\n",
       "      <td>24.841083</td>\n",
       "      <td>25.530049</td>\n",
       "      <td>26.981910</td>\n",
       "      <td>-0.008520</td>\n",
       "      <td>0.087324</td>\n",
       "      <td>swf</td>\n",
       "    </tr>\n",
       "    <tr>\n",
       "      <th>1997-12-15</th>\n",
       "      <td>0.126516</td>\n",
       "      <td>0.001988</td>\n",
       "      <td>21.980533</td>\n",
       "      <td>23.123099</td>\n",
       "      <td>23.845324</td>\n",
       "      <td>24.430774</td>\n",
       "      <td>25.972896</td>\n",
       "      <td>-0.009597</td>\n",
       "      <td>-0.293074</td>\n",
       "      <td>swf</td>\n",
       "    </tr>\n",
       "    <tr>\n",
       "      <th>1998-01-15</th>\n",
       "      <td>0.126163</td>\n",
       "      <td>0.001946</td>\n",
       "      <td>21.502099</td>\n",
       "      <td>22.655481</td>\n",
       "      <td>23.347797</td>\n",
       "      <td>23.930489</td>\n",
       "      <td>25.382582</td>\n",
       "      <td>-0.013876</td>\n",
       "      <td>-0.073082</td>\n",
       "      <td>swf</td>\n",
       "    </tr>\n",
       "    <tr>\n",
       "      <th>1998-02-15</th>\n",
       "      <td>0.125127</td>\n",
       "      <td>0.001933</td>\n",
       "      <td>21.347144</td>\n",
       "      <td>22.505127</td>\n",
       "      <td>23.187600</td>\n",
       "      <td>23.768797</td>\n",
       "      <td>25.193990</td>\n",
       "      <td>-0.020037</td>\n",
       "      <td>-0.004399</td>\n",
       "      <td>swf</td>\n",
       "    </tr>\n",
       "    <tr>\n",
       "      <th>1998-03-15</th>\n",
       "      <td>0.126646</td>\n",
       "      <td>0.001961</td>\n",
       "      <td>21.685105</td>\n",
       "      <td>22.817465</td>\n",
       "      <td>23.517991</td>\n",
       "      <td>24.100255</td>\n",
       "      <td>25.604928</td>\n",
       "      <td>-0.017906</td>\n",
       "      <td>0.276416</td>\n",
       "      <td>swf</td>\n",
       "    </tr>\n",
       "  </tbody>\n",
       "</table>\n",
       "</div>"
      ],
      "text/plain": [
       "            chl_adj_mean  bbp_adj_mean  phyto_C_95CI_lo  phyto_C_50CI_lo  \\\n",
       "datetime                                                                   \n",
       "1997-11-15      0.126552      0.002073        22.757247        24.142836   \n",
       "1997-12-15      0.126516      0.001988        21.980533        23.123099   \n",
       "1998-01-15      0.126163      0.001946        21.502099        22.655481   \n",
       "1998-02-15      0.125127      0.001933        21.347144        22.505127   \n",
       "1998-03-15      0.126646      0.001961        21.685105        22.817465   \n",
       "\n",
       "            phyto_C_mean  phyto_C_50CI_hi  phyto_C_95CI_hi  chl_anomaly  \\\n",
       "datetime                                                                  \n",
       "1997-11-15     24.841083        25.530049        26.981910    -0.008520   \n",
       "1997-12-15     23.845324        24.430774        25.972896    -0.009597   \n",
       "1998-01-15     23.347797        23.930489        25.382582    -0.013876   \n",
       "1998-02-15     23.187600        23.768797        25.193990    -0.020037   \n",
       "1998-03-15     23.517991        24.100255        25.604928    -0.017906   \n",
       "\n",
       "            phyto_C_anomaly sensor  \n",
       "datetime                            \n",
       "1997-11-15         0.087324    swf  \n",
       "1997-12-15        -0.293074    swf  \n",
       "1998-01-15        -0.073082    swf  \n",
       "1998-02-15        -0.004399    swf  \n",
       "1998-03-15         0.276416    swf  "
      ]
     },
     "execution_count": 55,
     "metadata": {},
     "output_type": "execute_result"
    }
   ],
   "source": [
    "df_both.head()"
   ]
  },
  {
   "cell_type": "code",
   "execution_count": 56,
   "metadata": {},
   "outputs": [
    {
     "data": {
      "text/plain": [
       "aqua    132\n",
       "both     66\n",
       "swf      56\n",
       "Name: sensor, dtype: int64"
      ]
     },
     "execution_count": 56,
     "metadata": {},
     "output_type": "execute_result"
    }
   ],
   "source": [
    "df_both.sensor.value_counts()"
   ]
  },
  {
   "cell_type": "code",
   "execution_count": 57,
   "metadata": {
    "collapsed": true
   },
   "outputs": [],
   "source": [
    "df_both.to_pickle('./pklJar/df_consolidated_%s.pkl' % datetime.now())\n",
    "df_all.to_pickle('./pklJar/df_all_%s.pkl' % datetime.now())"
   ]
  }
 ],
 "metadata": {
  "kernelspec": {
   "display_name": "Python [default]",
   "language": "python",
   "name": "python3"
  },
  "language_info": {
   "codemirror_mode": {
    "name": "ipython",
    "version": 3
   },
   "file_extension": ".py",
   "mimetype": "text/x-python",
   "name": "python",
   "nbconvert_exporter": "python",
   "pygments_lexer": "ipython3",
   "version": "3.6.8"
  }
 },
 "nbformat": 4,
 "nbformat_minor": 2
}
