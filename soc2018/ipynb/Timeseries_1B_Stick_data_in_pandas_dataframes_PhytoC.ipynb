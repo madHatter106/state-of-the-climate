{
 "cells": [
  {
   "cell_type": "markdown",
   "metadata": {},
   "source": [
    "This notebook loads data stored in text files, formats and stored into pandas dataframes. Some additional producs are computed and stored in dataframes, including uncertainty band and chl anomaly. The dataframes are then pickled for plotting in a later notebook."
   ]
  },
  {
   "cell_type": "code",
   "execution_count": 1,
   "metadata": {},
   "outputs": [],
   "source": [
    "import pandas as pd\n",
    "import pathlib\n",
    "from datetime import datetime\n",
    "import pickle\n",
    "from scipy.stats import mode\n",
    "import numpy as np\n",
    "from IPython.core.display import HTML, display\n",
    "import matplotlib.pyplot as pl\n",
    "from matplotlib import rcParams\n",
    "import pymc3 as pm"
   ]
  },
  {
   "cell_type": "code",
   "execution_count": 2,
   "metadata": {},
   "outputs": [],
   "source": [
    "%matplotlib inline"
   ]
  },
  {
   "cell_type": "code",
   "execution_count": 97,
   "metadata": {},
   "outputs": [],
   "source": [
    "def convert_secs2dt(sec):\n",
    "    \"\"\"\n",
    "    Converts seconds to python datetime object.\n",
    "    :param sec \n",
    "    :return: datetime object\n",
    "    \"\"\"\n",
    "    zd00 = datetime(2000, 1, 1)\n",
    "    zd70 = datetime(1970, 1, 1)\n",
    "    offset = (zd00 - zd70).total_seconds()\n",
    "    z = datetime.utcfromtimestamp(sec + offset)\n",
    "    return z\n",
    "\n",
    "\n",
    "def get_doy(secs):\n",
    "    \"\"\"\n",
    "    Converts seconds to fractional day of year.\n",
    "    :param secs\n",
    "    :return: fractional day of year \n",
    "    \"\"\"\n",
    "    z = convert_secs2dt(secs)\n",
    "    y = z.year\n",
    "    return (secs + (datetime(2000, 1, 1) - datetime(y, 1, 1)).total_seconds()) / 86400\n",
    "\n",
    "\n",
    "def load_format_data(filepath, minimal=True, columns=None, quantity='chl_a'):\n",
    "    \"\"\"\n",
    "    Loads chlorophyll data into a pandas dataframe,\n",
    "    formats time entries, and creates a datetime index.\n",
    "    :param filepath: string or pathlib object  \n",
    "    :param minimal: if True returns only chl_a_mean; drops the rest.\n",
    "    :return: pandas datetime indexed dataframe\n",
    "    \"\"\"\n",
    "    if columns is None:\n",
    "        columns = ['time', 'nbins', 'mean', 'median', 'stdv']\n",
    "    \n",
    "    df = pd.read_csv(filepath, delim_whitespace=True, names=columns)\n",
    "    df['datetime'] = df.time.apply(convert_secs2dt)\n",
    "    df.set_index('datetime', inplace=True)\n",
    "    if minimal:\n",
    "        df = df[['mean']]\n",
    "    df.rename(columns={'mean': '%s_mean' % quantity}, inplace=True)\n",
    "    return df\n",
    "\n",
    "\n",
    "def regress_phyto_c(df, mean_col_label='bbp_443_giop_mean',\n",
    "                   reg_slope=12128, reg_bias=0.59):\n",
    "    df['phyto_c'] = df[mean_col_label] * reg_slope + reg_bias\n",
    "    return df\n",
    "\n",
    "\n",
    "def get_monthly_means(df, **kwargs):\n",
    "    \"\"\"\n",
    "    Groups data by month and compute annual cycle based on monthly means.\n",
    "    :param df: \n",
    "        datetime indexed pandas dataframe\n",
    "    :param kwargs:\n",
    "        year_start (optional): string, slice start\n",
    "        year_end (optional): string, slice end\n",
    "    :return: \n",
    "        month-indexed pandas dataframe with monthly means\n",
    "    \"\"\"\n",
    "    year_start = kwargs.pop('year_start', df.index.year[0])\n",
    "    year_end = kwargs.pop('year_end', df.index.year[-1])\n",
    "    return df.loc[str(year_start): str(year_end)].groupby(lambda x: x.month).aggregate('mean')\n",
    "\n",
    "\n",
    "def get_anomaly(df, df_ann_cycle, name='chl_a_mean', anomaly_name='anomaly'):\n",
    "    \"\"\"\n",
    "    Computes annomaly by removing monthly mean for a given month\n",
    "    :param df:\n",
    "        pandas dataframe with [name] parameter column\n",
    "    :param df_ann_cycle:\n",
    "        pandas dataframe of length 12 containing monthly means\n",
    "    :param name:\n",
    "        str, label of quantity to get anomaly from\n",
    "    :return:\n",
    "        None\n",
    "    \"\"\"\n",
    "\n",
    "    for month in df_ann_cycle.index:\n",
    "        idx = df.index.month == month\n",
    "        df.loc[idx, anomaly_name] = df.loc[idx, name] - df_ann_cycle.loc[month, name]\n",
    "\n",
    "\n",
    "def test(datadir):\n",
    "    testfile = datadir / 'ar2018.0m_AtlN55_chlor_a.txt'\n",
    "    df_test = load_format_data(testfile, minimal=False)\n",
    "    t0 = df_test.time[0]    \n",
    "    z0 = convert_secs2dt(t0)\n",
    "    zstr0 = z0.strftime('%Y%j%H%M%S')\n",
    "    try:\n",
    "        assert zstr0 + '000' == str(2002197194740000)\n",
    "    except AssertionError as e:\n",
    "        print(e)\n",
    "        print(zstr0)\n",
    "    assert z0.year == 2002\n",
    "    doy0 = get_doy(t0)\n",
    "    assert doy0 == 196.82476851851851\n",
    "    tl = df_test.tail(1).time.values\n",
    "    zl = convert_secs2dt(tl)\n",
    "    zstrl = zl.strftime('%Y%j%H%M%S')\n",
    "    assert zstrl + '000' == str(2016321013320000)\n",
    "    assert zl.year == 2016\n",
    "    doyl = get_doy(tl)\n",
    "    assert doyl == 320.06481481481484\n",
    "    print(\"all tests passed\")"
   ]
  },
  {
   "cell_type": "code",
   "execution_count": 98,
   "metadata": {},
   "outputs": [
    {
     "data": {
      "text/html": [
       "<style>.container {width: 90%}</style>"
      ],
      "text/plain": [
       "<IPython.core.display.HTML object>"
      ]
     },
     "metadata": {},
     "output_type": "display_data"
    }
   ],
   "source": [
    "# Global graphics setup\n",
    "display(HTML(\"<style>.container {width: 90%}</style>\"))\n",
    "plot_colors = {'swf': '#000000',\n",
    "               'aqua': '#348ABD',\n",
    "               'viirs': '#A60628',\n",
    "               'mei': '#467821',\n",
    "               }\n",
    "rcParams['axes.labelsize'] = 15\n",
    "rcParams['xtick.labelsize'] = 15\n",
    "rcParams['ytick.labelsize'] = 15\n",
    "rcParams['font.size'] = 15\n",
    "rcParams['ytick.major.size'] = 8\n",
    "rcParams['ytick.minor.size'] = 3\n",
    "rcParams['xtick.major.size'] = 8\n",
    "rcParams['xtick.minor.size'] = 3\n",
    "rcParams['xtick.top'] = True\n",
    "rcParams['ytick.direction'] = 'in'\n",
    "rcParams['xtick.direction'] = 'in'"
   ]
  },
  {
   "cell_type": "code",
   "execution_count": 99,
   "metadata": {},
   "outputs": [],
   "source": [
    "# Paths\n",
    "home = pathlib.Path.home()\n",
    "dataMain = home / 'DEV-ALL/State_of_the_Climate/soc2018/TIMESERIES/'\n",
    "aquaIOPdir = dataMain / 'ar2018.0IOPm_ar2018.0IOPm/stats'\n",
    "swfIOPdir = dataMain / 'sr2018.0IOPm_sr2018.0IOPm/stats'\n",
    "viirsIOPdir = dataMain / 'vr2018.0IOPm_vr2018.0IOPm/stats'\n",
    "fp_bbp_443_giop_aqua = aquaIOPdir / 'ar2018.0IOPm_eqsst_bbp_443_giop.txt'\n",
    "fp_bbp_443_giop_swf = swfIOPdir / 'sr2018.0IOPm_eqsst_bbp_443_giop.txt'\n",
    "fp_bbp_443_giop_viirs = viirsIOPdir / 'vr2018.0IOPm_eqsst_bbp_443_giop.txt'\n",
    "#test(test_aquadir)"
   ]
  },
  {
   "cell_type": "code",
   "execution_count": 100,
   "metadata": {},
   "outputs": [],
   "source": [
    "df_swf_bbp = load_format_data(fp_bbp_443_giop_swf, quantity='bbp_443_giop')\n",
    "df_aqua_bbp = load_format_data(fp_bbp_443_giop_aqua, quantity='bbp_443_giop')\n",
    "df_viirs_bbp = load_format_data(fp_bbp_443_giop_viirs, quantity='bbp_443_giop')"
   ]
  },
  {
   "cell_type": "code",
   "execution_count": 101,
   "metadata": {},
   "outputs": [],
   "source": [
    "df_bb_nomad = pd.read_pickle('../../../TOA_ML/pickleJar/DevelopmentalDataSets/df_2_bb.pkl')"
   ]
  },
  {
   "cell_type": "code",
   "execution_count": 102,
   "metadata": {},
   "outputs": [],
   "source": [
    "df_bb_nomad.replace(to_replace=-999.0, value=np.NAN, inplace=True)"
   ]
  },
  {
   "cell_type": "code",
   "execution_count": 9,
   "metadata": {},
   "outputs": [
    {
     "data": {
      "image/png": "[encoded data removed]",
      "text/plain": [
       "<Figure size 432x432 with 1 Axes>"
      ]
     },
     "metadata": {
      "needs_background": "light"
     },
     "output_type": "display_data"
    }
   ],
   "source": [
    "_, ax = pl.subplots(figsize=(6, 6))\n",
    "df_bb_nomad.plot(x='bb465', y='bb443', kind='scatter', ax=ax)\n",
    "ax.plot([0, 0.015],[0, 0.015], ls='--', color='k');"
   ]
  },
  {
   "cell_type": "code",
   "execution_count": 10,
   "metadata": {},
   "outputs": [],
   "source": [
    "Xy = df_bb_nomad[['bb465', 'bb443']].dropna()"
   ]
  },
  {
   "cell_type": "code",
   "execution_count": 11,
   "metadata": {},
   "outputs": [],
   "source": [
    "with pm.Model() as m:\n",
    "    intercept = pm.Normal('intercept', 0, sd=1)\n",
    "    slope = pm.Normal('slope', 0, sd=1)\n",
    "    sigma_ = pm.HalfCauchy('sigma', 5)\n",
    "    mu_ = intercept + slope * Xy.bb465.values\n",
    "    likelihood = pm.Normal('likelihood', mu=mu_, sd=sigma_, observed=Xy.bb443.values)"
   ]
  },
  {
   "cell_type": "code",
   "execution_count": 12,
   "metadata": {},
   "outputs": [
    {
     "name": "stderr",
     "output_type": "stream",
     "text": [
      "Auto-assigning NUTS sampler...\n",
      "Initializing NUTS using jitter+adapt_diag...\n",
      "Multiprocess sampling (4 chains in 4 jobs)\n",
      "NUTS: [sigma, slope, intercept]\n",
      "Sampling 4 chains: 100%|██████████| 6000/6000 [00:05<00:00, 1058.85draws/s]\n",
      "The acceptance probability does not match the target. It is 0.9561171312842445, but should be close to 0.8. Try to increase the number of tuning steps.\n",
      "The acceptance probability does not match the target. It is 0.9654356632660664, but should be close to 0.8. Try to increase the number of tuning steps.\n",
      "The acceptance probability does not match the target. It is 0.9439971891803534, but should be close to 0.8. Try to increase the number of tuning steps.\n",
      "The acceptance probability does not match the target. It is 0.9572882346755826, but should be close to 0.8. Try to increase the number of tuning steps.\n",
      "The number of effective samples is smaller than 25% for some parameters.\n"
     ]
    }
   ],
   "source": [
    "with m:\n",
    "    trace = pm.sample(1000)"
   ]
  },
  {
   "cell_type": "code",
   "execution_count": 13,
   "metadata": {},
   "outputs": [
    {
     "data": {
      "image/png": "[encoded data removed]",
      "text/plain": [
       "<Figure size 864x360 with 4 Axes>"
      ]
     },
     "metadata": {
      "needs_background": "light"
     },
     "output_type": "display_data"
    }
   ],
   "source": [
    "pm.plot_posterior(trace);"
   ]
  },
  {
   "cell_type": "code",
   "execution_count": 67,
   "metadata": {},
   "outputs": [],
   "source": [
    "with open('./pklJar/pooled_params.pkl', 'rb') as fb:\n",
    "    pooled_params_dict = pickle.load(fb)"
   ]
  },
  {
   "cell_type": "code",
   "execution_count": 68,
   "metadata": {},
   "outputs": [],
   "source": [
    "slope = pooled_params_dict['slope']"
   ]
  },
  {
   "cell_type": "code",
   "execution_count": 69,
   "metadata": {},
   "outputs": [],
   "source": [
    "slope = slope.reshape(-1, 1)"
   ]
  },
  {
   "cell_type": "code",
   "execution_count": 70,
   "metadata": {},
   "outputs": [],
   "source": [
    "intercept = pooled_params_dict['intercept']"
   ]
  },
  {
   "cell_type": "code",
   "execution_count": 71,
   "metadata": {},
   "outputs": [],
   "source": [
    "intercept = intercept.reshape(-1, 1)"
   ]
  },
  {
   "cell_type": "code",
   "execution_count": 103,
   "metadata": {},
   "outputs": [],
   "source": [
    "def compute_phyto_C_stats(df_):\n",
    "    bbp_443_ = df_.bbp_443_giop_mean.values.reshape(1,-1)\n",
    "    phyto_c_trace_ = intercept + bbp_443_ * slope\n",
    "    phyto_c_mean = phyto_c_trace_.mean(axis=0)\n",
    "    phyto_c_hpd = pm.hpd(phyto_c_trace_)\n",
    "    df_.insert(loc=1, column='phyto_C_2.5%', value=phyto_c_hpd[:, 0])\n",
    "    df_.insert(loc=2, column='phyto_C_97.5%', value=phyto_c_hpd[:, 1])\n",
    "    df_.insert(loc=2, column='phyto_C_mean', value=phyto_c_mean)"
   ]
  },
  {
   "cell_type": "code",
   "execution_count": 104,
   "metadata": {},
   "outputs": [],
   "source": [
    "compute_phyto_C_stats(df_aqua_bbp)"
   ]
  },
  {
   "cell_type": "code",
   "execution_count": 105,
   "metadata": {},
   "outputs": [],
   "source": [
    "compute_phyto_C_stats(df_swf_bbp)"
   ]
  },
  {
   "cell_type": "code",
   "execution_count": 106,
   "metadata": {},
   "outputs": [
    {
     "data": {
      "text/html": [
       "<div>\n",
       "<style scoped>\n",
       "    .dataframe tbody tr th:only-of-type {\n",
       "        vertical-align: middle;\n",
       "    }\n",
       "\n",
       "    .dataframe tbody tr th {\n",
       "        vertical-align: top;\n",
       "    }\n",
       "\n",
       "    .dataframe thead th {\n",
       "        text-align: right;\n",
       "    }\n",
       "</style>\n",
       "<table border=\"1\" class=\"dataframe\">\n",
       "  <thead>\n",
       "    <tr style=\"text-align: right;\">\n",
       "      <th></th>\n",
       "      <th>bbp_443_giop_mean</th>\n",
       "      <th>phyto_C_2.5%</th>\n",
       "      <th>phyto_C_mean</th>\n",
       "      <th>phyto_C_97.5%</th>\n",
       "    </tr>\n",
       "    <tr>\n",
       "      <th>datetime</th>\n",
       "      <th></th>\n",
       "      <th></th>\n",
       "      <th></th>\n",
       "      <th></th>\n",
       "    </tr>\n",
       "  </thead>\n",
       "  <tbody>\n",
       "    <tr>\n",
       "      <th>2002-07-16 22:10:00</th>\n",
       "      <td>0.001823</td>\n",
       "      <td>20.197499</td>\n",
       "      <td>21.901264</td>\n",
       "      <td>23.794579</td>\n",
       "    </tr>\n",
       "    <tr>\n",
       "      <th>2002-08-19 09:03:30</th>\n",
       "      <td>0.001815</td>\n",
       "      <td>20.084285</td>\n",
       "      <td>21.801759</td>\n",
       "      <td>23.661935</td>\n",
       "    </tr>\n",
       "    <tr>\n",
       "      <th>2002-09-16 01:52:30</th>\n",
       "      <td>0.001882</td>\n",
       "      <td>20.848132</td>\n",
       "      <td>22.597096</td>\n",
       "      <td>24.574319</td>\n",
       "    </tr>\n",
       "    <tr>\n",
       "      <th>2002-10-16 13:17:30</th>\n",
       "      <td>0.001882</td>\n",
       "      <td>20.842028</td>\n",
       "      <td>22.594274</td>\n",
       "      <td>24.567595</td>\n",
       "    </tr>\n",
       "    <tr>\n",
       "      <th>2002-11-16 01:15:00</th>\n",
       "      <td>0.001899</td>\n",
       "      <td>21.004253</td>\n",
       "      <td>22.792814</td>\n",
       "      <td>24.764797</td>\n",
       "    </tr>\n",
       "  </tbody>\n",
       "</table>\n",
       "</div>"
      ],
      "text/plain": [
       "                     bbp_443_giop_mean  phyto_C_2.5%  phyto_C_mean  \\\n",
       "datetime                                                             \n",
       "2002-07-16 22:10:00           0.001823     20.197499     21.901264   \n",
       "2002-08-19 09:03:30           0.001815     20.084285     21.801759   \n",
       "2002-09-16 01:52:30           0.001882     20.848132     22.597096   \n",
       "2002-10-16 13:17:30           0.001882     20.842028     22.594274   \n",
       "2002-11-16 01:15:00           0.001899     21.004253     22.792814   \n",
       "\n",
       "                     phyto_C_97.5%  \n",
       "datetime                            \n",
       "2002-07-16 22:10:00      23.794579  \n",
       "2002-08-19 09:03:30      23.661935  \n",
       "2002-09-16 01:52:30      24.574319  \n",
       "2002-10-16 13:17:30      24.567595  \n",
       "2002-11-16 01:15:00      24.764797  "
      ]
     },
     "execution_count": 106,
     "metadata": {},
     "output_type": "execute_result"
    }
   ],
   "source": [
    "df_aqua_bbp.head()"
   ]
  },
  {
   "cell_type": "code",
   "execution_count": 109,
   "metadata": {},
   "outputs": [
    {
     "name": "stdout",
     "output_type": "stream",
     "text": [
      "<class 'pandas.core.frame.DataFrame'>\n",
      "DatetimeIndex: 194 entries, 2002-07-16 22:10:00 to 2018-08-16 13:43:20\n",
      "Data columns (total 4 columns):\n",
      "bbp_443_giop_mean    194 non-null float64\n",
      "phyto_C_2.5%         194 non-null float64\n",
      "phyto_C_mean         194 non-null float64\n",
      "phyto_C_97.5%        194 non-null float64\n",
      "dtypes: float64(4)\n",
      "memory usage: 7.6 KB\n"
     ]
    }
   ],
   "source": [
    "df_aqua_bbp.info()"
   ]
  },
  {
   "cell_type": "code",
   "execution_count": 108,
   "metadata": {},
   "outputs": [
    {
     "name": "stdout",
     "output_type": "stream",
     "text": [
      "<class 'pandas.core.frame.DataFrame'>\n",
      "DatetimeIndex: 194 entries, 2002-07-31 to 2018-08-31\n",
      "Freq: M\n",
      "Data columns (total 4 columns):\n",
      "bbp_443_giop_mean    194 non-null float64\n",
      "phyto_C_2.5%         194 non-null float64\n",
      "phyto_C_mean         194 non-null float64\n",
      "phyto_C_97.5%        194 non-null float64\n",
      "dtypes: float64(4)\n",
      "memory usage: 7.6 KB\n"
     ]
    }
   ],
   "source": [
    "df_aqua_bbp.resample('M').first().info()"
   ]
  },
  {
   "cell_type": "code",
   "execution_count": 110,
   "metadata": {},
   "outputs": [],
   "source": [
    "bbp_443_aqua = df_aqua_bbp.bbp_443_giop_mean.values.reshape(1, -1) * slope + intercept\n",
    "bbp_443_swf = df_swf_bbp.bbp_443_giop_mean.values.reshape(1, -1) * slope + intercept"
   ]
  },
  {
   "cell_type": "markdown",
   "metadata": {},
   "source": [
    "### How to combine estimates ([*cf this*](https://www.fil.ion.ucl.ac.uk/~wpenny/course/bayes.pdf)):\n",
    "This type of updating is relevant to the sensor fusion problem, where we have information\n",
    "about a variable from two different sources and we wish to combine that\n",
    "information.\n",
    "Say, for example, we had two estimates for the amount of carbon in a given compound;\n",
    "method 1 estimates the percentage to be $35 \\pm4$ units and method 2 estimates it to be\n",
    "$40 \\pm7$ units. \n",
    "Before observing the second result we have a prior belief that the mean\n",
    "percentage is $x_0 = 35$ and the variance is $4^2 = 16$ which corresponds to a precision\n",
    "of $\\beta_0 = 0.0625$. Whilst the first result is viewed as the prior, the second result is\n",
    "viewed as the 'data', which has mean $y = 40$ and precision $\\beta_D = 1/7^2 = 0.0204$. Our\n",
    "posterior estimate for the amount of carbon is then estimated as\n",
    "$$m = \\frac{0.0625}{0.0829} \\times 35 + \\frac{0.0204}{0.0829} \\times 40 = 36.2 $$\n",
    "and the posterior standard deviation is $3.5$. If the results of method 2 were chosen as\n",
    "the prior (instead of method 1) we'd get the same result.\n",
    "The equation for the posterior mean can be re-arranged as\n",
    "$$ m = x_0 + \\frac{\\beta_D}{\\beta}(y - x_0)$$\n",
    "showing that the new estimate is the old estimate plus some fraction (which may be viewed as a learning rate) of an error term $e = y-x_0$."
   ]
  },
  {
   "cell_type": "code",
   "execution_count": 111,
   "metadata": {},
   "outputs": [],
   "source": [
    "bbp_443_aqua_50ci = pm.hpd(bbp_443_aqua, alpha=0.5)\n",
    "bbp_443_swf_50ci = pm.hpd(bbp_443_swf, alpha=0.5)"
   ]
  },
  {
   "cell_type": "code",
   "execution_count": 112,
   "metadata": {},
   "outputs": [
    {
     "data": {
      "text/html": [
       "<div>\n",
       "<style scoped>\n",
       "    .dataframe tbody tr th:only-of-type {\n",
       "        vertical-align: middle;\n",
       "    }\n",
       "\n",
       "    .dataframe tbody tr th {\n",
       "        vertical-align: top;\n",
       "    }\n",
       "\n",
       "    .dataframe thead th {\n",
       "        text-align: right;\n",
       "    }\n",
       "</style>\n",
       "<table border=\"1\" class=\"dataframe\">\n",
       "  <thead>\n",
       "    <tr style=\"text-align: right;\">\n",
       "      <th></th>\n",
       "      <th>bbp_443_giop_mean</th>\n",
       "      <th>phyto_C_2.5%</th>\n",
       "      <th>phyto_C_mean</th>\n",
       "      <th>phyto_C_97.5%</th>\n",
       "    </tr>\n",
       "    <tr>\n",
       "      <th>datetime</th>\n",
       "      <th></th>\n",
       "      <th></th>\n",
       "      <th></th>\n",
       "      <th></th>\n",
       "    </tr>\n",
       "  </thead>\n",
       "  <tbody>\n",
       "    <tr>\n",
       "      <th>1997-11-15 22:47:10</th>\n",
       "      <td>0.001788</td>\n",
       "      <td>19.804042</td>\n",
       "      <td>21.490657</td>\n",
       "      <td>23.329433</td>\n",
       "    </tr>\n",
       "    <tr>\n",
       "      <th>1997-12-16 09:42:30</th>\n",
       "      <td>0.001712</td>\n",
       "      <td>18.924558</td>\n",
       "      <td>20.588875</td>\n",
       "      <td>22.316328</td>\n",
       "    </tr>\n",
       "    <tr>\n",
       "      <th>1998-01-16 10:37:10</th>\n",
       "      <td>0.001673</td>\n",
       "      <td>18.483070</td>\n",
       "      <td>20.128751</td>\n",
       "      <td>21.795382</td>\n",
       "    </tr>\n",
       "    <tr>\n",
       "      <th>1998-02-14 22:23:00</th>\n",
       "      <td>0.001660</td>\n",
       "      <td>18.353762</td>\n",
       "      <td>19.980316</td>\n",
       "      <td>21.641513</td>\n",
       "    </tr>\n",
       "    <tr>\n",
       "      <th>1998-03-16 11:46:40</th>\n",
       "      <td>0.001686</td>\n",
       "      <td>18.609830</td>\n",
       "      <td>20.291182</td>\n",
       "      <td>21.958779</td>\n",
       "    </tr>\n",
       "  </tbody>\n",
       "</table>\n",
       "</div>"
      ],
      "text/plain": [
       "                     bbp_443_giop_mean  phyto_C_2.5%  phyto_C_mean  \\\n",
       "datetime                                                             \n",
       "1997-11-15 22:47:10           0.001788     19.804042     21.490657   \n",
       "1997-12-16 09:42:30           0.001712     18.924558     20.588875   \n",
       "1998-01-16 10:37:10           0.001673     18.483070     20.128751   \n",
       "1998-02-14 22:23:00           0.001660     18.353762     19.980316   \n",
       "1998-03-16 11:46:40           0.001686     18.609830     20.291182   \n",
       "\n",
       "                     phyto_C_97.5%  \n",
       "datetime                            \n",
       "1997-11-15 22:47:10      23.329433  \n",
       "1997-12-16 09:42:30      22.316328  \n",
       "1998-01-16 10:37:10      21.795382  \n",
       "1998-02-14 22:23:00      21.641513  \n",
       "1998-03-16 11:46:40      21.958779  "
      ]
     },
     "execution_count": 112,
     "metadata": {},
     "output_type": "execute_result"
    }
   ],
   "source": [
    "df_swf_bbp.head()"
   ]
  },
  {
   "cell_type": "code",
   "execution_count": 113,
   "metadata": {},
   "outputs": [],
   "source": [
    "df_swf_bbp.insert(2, 'phyto_C_25%', bbp_443_swf_50ci[:, 0])"
   ]
  },
  {
   "cell_type": "code",
   "execution_count": 114,
   "metadata": {},
   "outputs": [],
   "source": [
    "df_swf_bbp.insert(4, 'phyto_C_75%', bbp_443_swf_50ci[:, 1])"
   ]
  },
  {
   "cell_type": "code",
   "execution_count": 115,
   "metadata": {},
   "outputs": [],
   "source": [
    "df_aqua_bbp.insert(2, 'phyto_C_25%', bbp_443_aqua_50ci[:, 0])"
   ]
  },
  {
   "cell_type": "code",
   "execution_count": 116,
   "metadata": {},
   "outputs": [],
   "source": [
    "df_aqua_bbp.insert(4, 'phyto_C_75%', bbp_443_aqua_50ci[:, 1])"
   ]
  },
  {
   "cell_type": "code",
   "execution_count": 117,
   "metadata": {},
   "outputs": [
    {
     "data": {
      "text/html": [
       "<div>\n",
       "<style scoped>\n",
       "    .dataframe tbody tr th:only-of-type {\n",
       "        vertical-align: middle;\n",
       "    }\n",
       "\n",
       "    .dataframe tbody tr th {\n",
       "        vertical-align: top;\n",
       "    }\n",
       "\n",
       "    .dataframe thead th {\n",
       "        text-align: right;\n",
       "    }\n",
       "</style>\n",
       "<table border=\"1\" class=\"dataframe\">\n",
       "  <thead>\n",
       "    <tr style=\"text-align: right;\">\n",
       "      <th>datetime</th>\n",
       "      <th>1997-11-15 22:47:10</th>\n",
       "      <th>1997-12-16 09:42:30</th>\n",
       "      <th>1998-01-16 10:37:10</th>\n",
       "      <th>1998-02-14 22:23:00</th>\n",
       "      <th>1998-03-16 11:46:40</th>\n",
       "    </tr>\n",
       "  </thead>\n",
       "  <tbody>\n",
       "    <tr>\n",
       "      <th>bbp_443_giop_mean</th>\n",
       "      <td>0.001788</td>\n",
       "      <td>0.001712</td>\n",
       "      <td>0.001673</td>\n",
       "      <td>0.001660</td>\n",
       "      <td>0.001686</td>\n",
       "    </tr>\n",
       "    <tr>\n",
       "      <th>phyto_C_2.5%</th>\n",
       "      <td>19.804042</td>\n",
       "      <td>18.924558</td>\n",
       "      <td>18.483070</td>\n",
       "      <td>18.353762</td>\n",
       "      <td>18.609830</td>\n",
       "    </tr>\n",
       "    <tr>\n",
       "      <th>phyto_C_25%</th>\n",
       "      <td>20.946457</td>\n",
       "      <td>19.993809</td>\n",
       "      <td>19.562847</td>\n",
       "      <td>19.359291</td>\n",
       "      <td>19.714802</td>\n",
       "    </tr>\n",
       "    <tr>\n",
       "      <th>phyto_C_mean</th>\n",
       "      <td>21.490657</td>\n",
       "      <td>20.588875</td>\n",
       "      <td>20.128751</td>\n",
       "      <td>19.980316</td>\n",
       "      <td>20.291182</td>\n",
       "    </tr>\n",
       "    <tr>\n",
       "      <th>phyto_C_75%</th>\n",
       "      <td>22.115385</td>\n",
       "      <td>21.110110</td>\n",
       "      <td>20.657379</td>\n",
       "      <td>20.447693</td>\n",
       "      <td>20.818037</td>\n",
       "    </tr>\n",
       "    <tr>\n",
       "      <th>phyto_C_97.5%</th>\n",
       "      <td>23.329433</td>\n",
       "      <td>22.316328</td>\n",
       "      <td>21.795382</td>\n",
       "      <td>21.641513</td>\n",
       "      <td>21.958779</td>\n",
       "    </tr>\n",
       "  </tbody>\n",
       "</table>\n",
       "</div>"
      ],
      "text/plain": [
       "datetime           1997-11-15 22:47:10  1997-12-16 09:42:30  \\\n",
       "bbp_443_giop_mean             0.001788             0.001712   \n",
       "phyto_C_2.5%                 19.804042            18.924558   \n",
       "phyto_C_25%                  20.946457            19.993809   \n",
       "phyto_C_mean                 21.490657            20.588875   \n",
       "phyto_C_75%                  22.115385            21.110110   \n",
       "phyto_C_97.5%                23.329433            22.316328   \n",
       "\n",
       "datetime           1998-01-16 10:37:10  1998-02-14 22:23:00  \\\n",
       "bbp_443_giop_mean             0.001673             0.001660   \n",
       "phyto_C_2.5%                 18.483070            18.353762   \n",
       "phyto_C_25%                  19.562847            19.359291   \n",
       "phyto_C_mean                 20.128751            19.980316   \n",
       "phyto_C_75%                  20.657379            20.447693   \n",
       "phyto_C_97.5%                21.795382            21.641513   \n",
       "\n",
       "datetime           1998-03-16 11:46:40  \n",
       "bbp_443_giop_mean             0.001686  \n",
       "phyto_C_2.5%                 18.609830  \n",
       "phyto_C_25%                  19.714802  \n",
       "phyto_C_mean                 20.291182  \n",
       "phyto_C_75%                  20.818037  \n",
       "phyto_C_97.5%                21.958779  "
      ]
     },
     "execution_count": 117,
     "metadata": {},
     "output_type": "execute_result"
    }
   ],
   "source": [
    "df_swf_bbp.head().T"
   ]
  },
  {
   "cell_type": "code",
   "execution_count": 118,
   "metadata": {},
   "outputs": [
    {
     "data": {
      "text/html": [
       "<div>\n",
       "<style scoped>\n",
       "    .dataframe tbody tr th:only-of-type {\n",
       "        vertical-align: middle;\n",
       "    }\n",
       "\n",
       "    .dataframe tbody tr th {\n",
       "        vertical-align: top;\n",
       "    }\n",
       "\n",
       "    .dataframe thead th {\n",
       "        text-align: right;\n",
       "    }\n",
       "</style>\n",
       "<table border=\"1\" class=\"dataframe\">\n",
       "  <thead>\n",
       "    <tr style=\"text-align: right;\">\n",
       "      <th>datetime</th>\n",
       "      <th>2002-07-16 22:10:00</th>\n",
       "      <th>2002-08-19 09:03:30</th>\n",
       "      <th>2002-09-16 01:52:30</th>\n",
       "      <th>2002-10-16 13:17:30</th>\n",
       "      <th>2002-11-16 01:15:00</th>\n",
       "    </tr>\n",
       "  </thead>\n",
       "  <tbody>\n",
       "    <tr>\n",
       "      <th>bbp_443_giop_mean</th>\n",
       "      <td>0.001823</td>\n",
       "      <td>0.001815</td>\n",
       "      <td>0.001882</td>\n",
       "      <td>0.001882</td>\n",
       "      <td>0.001899</td>\n",
       "    </tr>\n",
       "    <tr>\n",
       "      <th>phyto_C_2.5%</th>\n",
       "      <td>20.197499</td>\n",
       "      <td>20.084285</td>\n",
       "      <td>20.848132</td>\n",
       "      <td>20.842028</td>\n",
       "      <td>21.004253</td>\n",
       "    </tr>\n",
       "    <tr>\n",
       "      <th>phyto_C_25%</th>\n",
       "      <td>21.343615</td>\n",
       "      <td>21.245797</td>\n",
       "      <td>21.968674</td>\n",
       "      <td>21.966110</td>\n",
       "      <td>22.146285</td>\n",
       "    </tr>\n",
       "    <tr>\n",
       "      <th>phyto_C_mean</th>\n",
       "      <td>21.901264</td>\n",
       "      <td>21.801759</td>\n",
       "      <td>22.597096</td>\n",
       "      <td>22.594274</td>\n",
       "      <td>22.792814</td>\n",
       "    </tr>\n",
       "    <tr>\n",
       "      <th>phyto_C_75%</th>\n",
       "      <td>22.538910</td>\n",
       "      <td>22.434313</td>\n",
       "      <td>23.204997</td>\n",
       "      <td>23.202138</td>\n",
       "      <td>23.393081</td>\n",
       "    </tr>\n",
       "    <tr>\n",
       "      <th>phyto_C_97.5%</th>\n",
       "      <td>23.794579</td>\n",
       "      <td>23.661935</td>\n",
       "      <td>24.574319</td>\n",
       "      <td>24.567595</td>\n",
       "      <td>24.764797</td>\n",
       "    </tr>\n",
       "  </tbody>\n",
       "</table>\n",
       "</div>"
      ],
      "text/plain": [
       "datetime           2002-07-16 22:10:00  2002-08-19 09:03:30  \\\n",
       "bbp_443_giop_mean             0.001823             0.001815   \n",
       "phyto_C_2.5%                 20.197499            20.084285   \n",
       "phyto_C_25%                  21.343615            21.245797   \n",
       "phyto_C_mean                 21.901264            21.801759   \n",
       "phyto_C_75%                  22.538910            22.434313   \n",
       "phyto_C_97.5%                23.794579            23.661935   \n",
       "\n",
       "datetime           2002-09-16 01:52:30  2002-10-16 13:17:30  \\\n",
       "bbp_443_giop_mean             0.001882             0.001882   \n",
       "phyto_C_2.5%                 20.848132            20.842028   \n",
       "phyto_C_25%                  21.968674            21.966110   \n",
       "phyto_C_mean                 22.597096            22.594274   \n",
       "phyto_C_75%                  23.204997            23.202138   \n",
       "phyto_C_97.5%                24.574319            24.567595   \n",
       "\n",
       "datetime           2002-11-16 01:15:00  \n",
       "bbp_443_giop_mean             0.001899  \n",
       "phyto_C_2.5%                 21.004253  \n",
       "phyto_C_25%                  22.146285  \n",
       "phyto_C_mean                 22.792814  \n",
       "phyto_C_75%                  23.393081  \n",
       "phyto_C_97.5%                24.764797  "
      ]
     },
     "execution_count": 118,
     "metadata": {},
     "output_type": "execute_result"
    }
   ],
   "source": [
    "df_aqua_bbp.head().T"
   ]
  },
  {
   "cell_type": "code",
   "execution_count": 119,
   "metadata": {},
   "outputs": [],
   "source": [
    "# Compute annual cycle and monthly anomalies\n",
    "aqua_ann_cycle = get_monthly_means(df_aqua_bbp[['phyto_C_mean']],\n",
    "                                   year_start=2003, year_end=2011)\n",
    "for dfi in [df_swf_bbp, df_aqua_bbp]:\n",
    "        get_anomaly(dfi, aqua_ann_cycle, name='phyto_C_mean', anomaly_name='phyto_C_anomaly')"
   ]
  },
  {
   "cell_type": "code",
   "execution_count": 204,
   "metadata": {},
   "outputs": [
    {
     "data": {
      "text/html": [
       "<div>\n",
       "<style scoped>\n",
       "    .dataframe tbody tr th:only-of-type {\n",
       "        vertical-align: middle;\n",
       "    }\n",
       "\n",
       "    .dataframe tbody tr th {\n",
       "        vertical-align: top;\n",
       "    }\n",
       "\n",
       "    .dataframe thead th {\n",
       "        text-align: right;\n",
       "    }\n",
       "</style>\n",
       "<table border=\"1\" class=\"dataframe\">\n",
       "  <thead>\n",
       "    <tr style=\"text-align: right;\">\n",
       "      <th></th>\n",
       "      <th>phyto_C_mean</th>\n",
       "    </tr>\n",
       "  </thead>\n",
       "  <tbody>\n",
       "    <tr>\n",
       "      <th>1</th>\n",
       "      <td>21.535771</td>\n",
       "    </tr>\n",
       "    <tr>\n",
       "      <th>2</th>\n",
       "      <td>21.165246</td>\n",
       "    </tr>\n",
       "    <tr>\n",
       "      <th>3</th>\n",
       "      <td>21.150857</td>\n",
       "    </tr>\n",
       "    <tr>\n",
       "      <th>4</th>\n",
       "      <td>21.549036</td>\n",
       "    </tr>\n",
       "    <tr>\n",
       "      <th>5</th>\n",
       "      <td>21.710918</td>\n",
       "    </tr>\n",
       "    <tr>\n",
       "      <th>6</th>\n",
       "      <td>21.437494</td>\n",
       "    </tr>\n",
       "    <tr>\n",
       "      <th>7</th>\n",
       "      <td>20.916025</td>\n",
       "    </tr>\n",
       "    <tr>\n",
       "      <th>8</th>\n",
       "      <td>21.142859</td>\n",
       "    </tr>\n",
       "    <tr>\n",
       "      <th>9</th>\n",
       "      <td>21.653285</td>\n",
       "    </tr>\n",
       "    <tr>\n",
       "      <th>10</th>\n",
       "      <td>22.508804</td>\n",
       "    </tr>\n",
       "    <tr>\n",
       "      <th>11</th>\n",
       "      <td>22.978847</td>\n",
       "    </tr>\n",
       "    <tr>\n",
       "      <th>12</th>\n",
       "      <td>22.383893</td>\n",
       "    </tr>\n",
       "  </tbody>\n",
       "</table>\n",
       "</div>"
      ],
      "text/plain": [
       "    phyto_C_mean\n",
       "1      21.535771\n",
       "2      21.165246\n",
       "3      21.150857\n",
       "4      21.549036\n",
       "5      21.710918\n",
       "6      21.437494\n",
       "7      20.916025\n",
       "8      21.142859\n",
       "9      21.653285\n",
       "10     22.508804\n",
       "11     22.978847\n",
       "12     22.383893"
      ]
     },
     "execution_count": 204,
     "metadata": {},
     "output_type": "execute_result"
    }
   ],
   "source": [
    "aqua_ann_cycle"
   ]
  },
  {
   "cell_type": "code",
   "execution_count": 121,
   "metadata": {},
   "outputs": [
    {
     "data": {
      "text/html": [
       "<div>\n",
       "<style scoped>\n",
       "    .dataframe tbody tr th:only-of-type {\n",
       "        vertical-align: middle;\n",
       "    }\n",
       "\n",
       "    .dataframe tbody tr th {\n",
       "        vertical-align: top;\n",
       "    }\n",
       "\n",
       "    .dataframe thead th {\n",
       "        text-align: right;\n",
       "    }\n",
       "</style>\n",
       "<table border=\"1\" class=\"dataframe\">\n",
       "  <thead>\n",
       "    <tr style=\"text-align: right;\">\n",
       "      <th></th>\n",
       "      <th>bbp_443_giop_mean</th>\n",
       "      <th>phyto_C_2.5%</th>\n",
       "      <th>phyto_C_25%</th>\n",
       "      <th>phyto_C_mean</th>\n",
       "      <th>phyto_C_75%</th>\n",
       "      <th>phyto_C_97.5%</th>\n",
       "      <th>phyto_C_anomaly</th>\n",
       "    </tr>\n",
       "    <tr>\n",
       "      <th>datetime</th>\n",
       "      <th></th>\n",
       "      <th></th>\n",
       "      <th></th>\n",
       "      <th></th>\n",
       "      <th></th>\n",
       "      <th></th>\n",
       "      <th></th>\n",
       "    </tr>\n",
       "  </thead>\n",
       "  <tbody>\n",
       "    <tr>\n",
       "      <th>1997-11-15 22:47:10</th>\n",
       "      <td>0.001788</td>\n",
       "      <td>19.804042</td>\n",
       "      <td>20.946457</td>\n",
       "      <td>21.490657</td>\n",
       "      <td>22.115385</td>\n",
       "      <td>23.329433</td>\n",
       "      <td>-1.488190</td>\n",
       "    </tr>\n",
       "    <tr>\n",
       "      <th>1997-12-16 09:42:30</th>\n",
       "      <td>0.001712</td>\n",
       "      <td>18.924558</td>\n",
       "      <td>19.993809</td>\n",
       "      <td>20.588875</td>\n",
       "      <td>21.110110</td>\n",
       "      <td>22.316328</td>\n",
       "      <td>-1.795018</td>\n",
       "    </tr>\n",
       "    <tr>\n",
       "      <th>1998-01-16 10:37:10</th>\n",
       "      <td>0.001673</td>\n",
       "      <td>18.483070</td>\n",
       "      <td>19.562847</td>\n",
       "      <td>20.128751</td>\n",
       "      <td>20.657379</td>\n",
       "      <td>21.795382</td>\n",
       "      <td>-1.407020</td>\n",
       "    </tr>\n",
       "    <tr>\n",
       "      <th>1998-02-14 22:23:00</th>\n",
       "      <td>0.001660</td>\n",
       "      <td>18.353762</td>\n",
       "      <td>19.359291</td>\n",
       "      <td>19.980316</td>\n",
       "      <td>20.447693</td>\n",
       "      <td>21.641513</td>\n",
       "      <td>-1.184930</td>\n",
       "    </tr>\n",
       "    <tr>\n",
       "      <th>1998-03-16 11:46:40</th>\n",
       "      <td>0.001686</td>\n",
       "      <td>18.609830</td>\n",
       "      <td>19.714802</td>\n",
       "      <td>20.291182</td>\n",
       "      <td>20.818037</td>\n",
       "      <td>21.958779</td>\n",
       "      <td>-0.859675</td>\n",
       "    </tr>\n",
       "  </tbody>\n",
       "</table>\n",
       "</div>"
      ],
      "text/plain": [
       "                     bbp_443_giop_mean  phyto_C_2.5%  phyto_C_25%  \\\n",
       "datetime                                                            \n",
       "1997-11-15 22:47:10           0.001788     19.804042    20.946457   \n",
       "1997-12-16 09:42:30           0.001712     18.924558    19.993809   \n",
       "1998-01-16 10:37:10           0.001673     18.483070    19.562847   \n",
       "1998-02-14 22:23:00           0.001660     18.353762    19.359291   \n",
       "1998-03-16 11:46:40           0.001686     18.609830    19.714802   \n",
       "\n",
       "                     phyto_C_mean  phyto_C_75%  phyto_C_97.5%  phyto_C_anomaly  \n",
       "datetime                                                                        \n",
       "1997-11-15 22:47:10     21.490657    22.115385      23.329433        -1.488190  \n",
       "1997-12-16 09:42:30     20.588875    21.110110      22.316328        -1.795018  \n",
       "1998-01-16 10:37:10     20.128751    20.657379      21.795382        -1.407020  \n",
       "1998-02-14 22:23:00     19.980316    20.447693      21.641513        -1.184930  \n",
       "1998-03-16 11:46:40     20.291182    20.818037      21.958779        -0.859675  "
      ]
     },
     "execution_count": 121,
     "metadata": {},
     "output_type": "execute_result"
    }
   ],
   "source": [
    "df_swf_bbp.head()"
   ]
  },
  {
   "cell_type": "code",
   "execution_count": 122,
   "metadata": {},
   "outputs": [
    {
     "data": {
      "text/html": [
       "<div>\n",
       "<style scoped>\n",
       "    .dataframe tbody tr th:only-of-type {\n",
       "        vertical-align: middle;\n",
       "    }\n",
       "\n",
       "    .dataframe tbody tr th {\n",
       "        vertical-align: top;\n",
       "    }\n",
       "\n",
       "    .dataframe thead th {\n",
       "        text-align: right;\n",
       "    }\n",
       "</style>\n",
       "<table border=\"1\" class=\"dataframe\">\n",
       "  <thead>\n",
       "    <tr style=\"text-align: right;\">\n",
       "      <th></th>\n",
       "      <th>bbp_443_giop_mean</th>\n",
       "      <th>phyto_C_2.5%</th>\n",
       "      <th>phyto_C_25%</th>\n",
       "      <th>phyto_C_mean</th>\n",
       "      <th>phyto_C_75%</th>\n",
       "      <th>phyto_C_97.5%</th>\n",
       "      <th>phyto_C_anomaly</th>\n",
       "    </tr>\n",
       "    <tr>\n",
       "      <th>datetime</th>\n",
       "      <th></th>\n",
       "      <th></th>\n",
       "      <th></th>\n",
       "      <th></th>\n",
       "      <th></th>\n",
       "      <th></th>\n",
       "      <th></th>\n",
       "    </tr>\n",
       "  </thead>\n",
       "  <tbody>\n",
       "    <tr>\n",
       "      <th>2002-07-16 22:10:00</th>\n",
       "      <td>0.001823</td>\n",
       "      <td>20.197499</td>\n",
       "      <td>21.343615</td>\n",
       "      <td>21.901264</td>\n",
       "      <td>22.538910</td>\n",
       "      <td>23.794579</td>\n",
       "      <td>0.985239</td>\n",
       "    </tr>\n",
       "    <tr>\n",
       "      <th>2002-08-19 09:03:30</th>\n",
       "      <td>0.001815</td>\n",
       "      <td>20.084285</td>\n",
       "      <td>21.245797</td>\n",
       "      <td>21.801759</td>\n",
       "      <td>22.434313</td>\n",
       "      <td>23.661935</td>\n",
       "      <td>0.658900</td>\n",
       "    </tr>\n",
       "    <tr>\n",
       "      <th>2002-09-16 01:52:30</th>\n",
       "      <td>0.001882</td>\n",
       "      <td>20.848132</td>\n",
       "      <td>21.968674</td>\n",
       "      <td>22.597096</td>\n",
       "      <td>23.204997</td>\n",
       "      <td>24.574319</td>\n",
       "      <td>0.943811</td>\n",
       "    </tr>\n",
       "    <tr>\n",
       "      <th>2002-10-16 13:17:30</th>\n",
       "      <td>0.001882</td>\n",
       "      <td>20.842028</td>\n",
       "      <td>21.966110</td>\n",
       "      <td>22.594274</td>\n",
       "      <td>23.202138</td>\n",
       "      <td>24.567595</td>\n",
       "      <td>0.085470</td>\n",
       "    </tr>\n",
       "    <tr>\n",
       "      <th>2002-11-16 01:15:00</th>\n",
       "      <td>0.001899</td>\n",
       "      <td>21.004253</td>\n",
       "      <td>22.146285</td>\n",
       "      <td>22.792814</td>\n",
       "      <td>23.393081</td>\n",
       "      <td>24.764797</td>\n",
       "      <td>-0.186034</td>\n",
       "    </tr>\n",
       "  </tbody>\n",
       "</table>\n",
       "</div>"
      ],
      "text/plain": [
       "                     bbp_443_giop_mean  phyto_C_2.5%  phyto_C_25%  \\\n",
       "datetime                                                            \n",
       "2002-07-16 22:10:00           0.001823     20.197499    21.343615   \n",
       "2002-08-19 09:03:30           0.001815     20.084285    21.245797   \n",
       "2002-09-16 01:52:30           0.001882     20.848132    21.968674   \n",
       "2002-10-16 13:17:30           0.001882     20.842028    21.966110   \n",
       "2002-11-16 01:15:00           0.001899     21.004253    22.146285   \n",
       "\n",
       "                     phyto_C_mean  phyto_C_75%  phyto_C_97.5%  phyto_C_anomaly  \n",
       "datetime                                                                        \n",
       "2002-07-16 22:10:00     21.901264    22.538910      23.794579         0.985239  \n",
       "2002-08-19 09:03:30     21.801759    22.434313      23.661935         0.658900  \n",
       "2002-09-16 01:52:30     22.597096    23.204997      24.574319         0.943811  \n",
       "2002-10-16 13:17:30     22.594274    23.202138      24.567595         0.085470  \n",
       "2002-11-16 01:15:00     22.792814    23.393081      24.764797        -0.186034  "
      ]
     },
     "execution_count": 122,
     "metadata": {},
     "output_type": "execute_result"
    }
   ],
   "source": [
    "df_aqua_bbp.head()"
   ]
  },
  {
   "cell_type": "code",
   "execution_count": 224,
   "metadata": {},
   "outputs": [],
   "source": [
    "# Create a new dataframe to compute and store an \"uncertainty\" band based on SWF/Aqua overlapping data.\n",
    "column = 'bbp_443_giop_mean'\n",
    "df_swf_aqua = pd.concat((df_swf_bbp[[column]], df_aqua_bbp[[column]]), axis=1)\n",
    "df_swf_aqua.columns=['swf_%s' % column, 'aqua_%s' % column]"
   ]
  },
  {
   "cell_type": "code",
   "execution_count": 225,
   "metadata": {},
   "outputs": [],
   "source": [
    "df_swf_aqua = df_swf_aqua.resample('MS', loffset=pd.Timedelta(14, 'd')).first().dropna()"
   ]
  },
  {
   "cell_type": "code",
   "execution_count": 226,
   "metadata": {},
   "outputs": [
    {
     "data": {
      "text/html": [
       "<div>\n",
       "<style scoped>\n",
       "    .dataframe tbody tr th:only-of-type {\n",
       "        vertical-align: middle;\n",
       "    }\n",
       "\n",
       "    .dataframe tbody tr th {\n",
       "        vertical-align: top;\n",
       "    }\n",
       "\n",
       "    .dataframe thead th {\n",
       "        text-align: right;\n",
       "    }\n",
       "</style>\n",
       "<table border=\"1\" class=\"dataframe\">\n",
       "  <thead>\n",
       "    <tr style=\"text-align: right;\">\n",
       "      <th></th>\n",
       "      <th>swf_bbp_443_giop_mean</th>\n",
       "      <th>aqua_bbp_443_giop_mean</th>\n",
       "    </tr>\n",
       "    <tr>\n",
       "      <th>datetime</th>\n",
       "      <th></th>\n",
       "      <th></th>\n",
       "    </tr>\n",
       "  </thead>\n",
       "  <tbody>\n",
       "    <tr>\n",
       "      <th>2002-07-15</th>\n",
       "      <td>0.001632</td>\n",
       "      <td>0.001823</td>\n",
       "    </tr>\n",
       "    <tr>\n",
       "      <th>2002-08-15</th>\n",
       "      <td>0.001704</td>\n",
       "      <td>0.001815</td>\n",
       "    </tr>\n",
       "    <tr>\n",
       "      <th>2002-09-15</th>\n",
       "      <td>0.001742</td>\n",
       "      <td>0.001882</td>\n",
       "    </tr>\n",
       "    <tr>\n",
       "      <th>2002-10-15</th>\n",
       "      <td>0.001741</td>\n",
       "      <td>0.001882</td>\n",
       "    </tr>\n",
       "    <tr>\n",
       "      <th>2002-11-15</th>\n",
       "      <td>0.001729</td>\n",
       "      <td>0.001899</td>\n",
       "    </tr>\n",
       "  </tbody>\n",
       "</table>\n",
       "</div>"
      ],
      "text/plain": [
       "            swf_bbp_443_giop_mean  aqua_bbp_443_giop_mean\n",
       "datetime                                                 \n",
       "2002-07-15               0.001632                0.001823\n",
       "2002-08-15               0.001704                0.001815\n",
       "2002-09-15               0.001742                0.001882\n",
       "2002-10-15               0.001741                0.001882\n",
       "2002-11-15               0.001729                0.001899"
      ]
     },
     "execution_count": 226,
     "metadata": {},
     "output_type": "execute_result"
    }
   ],
   "source": [
    "df_swf_aqua.head()"
   ]
  },
  {
   "cell_type": "code",
   "execution_count": 227,
   "metadata": {},
   "outputs": [
    {
     "data": {
      "text/html": [
       "<div>\n",
       "<style scoped>\n",
       "    .dataframe tbody tr th:only-of-type {\n",
       "        vertical-align: middle;\n",
       "    }\n",
       "\n",
       "    .dataframe tbody tr th {\n",
       "        vertical-align: top;\n",
       "    }\n",
       "\n",
       "    .dataframe thead th {\n",
       "        text-align: right;\n",
       "    }\n",
       "</style>\n",
       "<table border=\"1\" class=\"dataframe\">\n",
       "  <thead>\n",
       "    <tr style=\"text-align: right;\">\n",
       "      <th></th>\n",
       "      <th>swf_bbp_443_giop_mean</th>\n",
       "      <th>aqua_bbp_443_giop_mean</th>\n",
       "      <th>mean</th>\n",
       "      <th>diff</th>\n",
       "      <th>diff_pos</th>\n",
       "      <th>diff_neg</th>\n",
       "    </tr>\n",
       "    <tr>\n",
       "      <th>datetime</th>\n",
       "      <th></th>\n",
       "      <th></th>\n",
       "      <th></th>\n",
       "      <th></th>\n",
       "      <th></th>\n",
       "      <th></th>\n",
       "    </tr>\n",
       "  </thead>\n",
       "  <tbody>\n",
       "    <tr>\n",
       "      <th>2002-07-15</th>\n",
       "      <td>0.001632</td>\n",
       "      <td>0.001823</td>\n",
       "      <td>0.001727</td>\n",
       "      <td>0.000192</td>\n",
       "      <td>0.001834</td>\n",
       "      <td>0.001620</td>\n",
       "    </tr>\n",
       "    <tr>\n",
       "      <th>2002-08-15</th>\n",
       "      <td>0.001704</td>\n",
       "      <td>0.001815</td>\n",
       "      <td>0.001759</td>\n",
       "      <td>0.000111</td>\n",
       "      <td>0.001866</td>\n",
       "      <td>0.001652</td>\n",
       "    </tr>\n",
       "    <tr>\n",
       "      <th>2002-09-15</th>\n",
       "      <td>0.001742</td>\n",
       "      <td>0.001882</td>\n",
       "      <td>0.001812</td>\n",
       "      <td>0.000140</td>\n",
       "      <td>0.001919</td>\n",
       "      <td>0.001705</td>\n",
       "    </tr>\n",
       "    <tr>\n",
       "      <th>2002-10-15</th>\n",
       "      <td>0.001741</td>\n",
       "      <td>0.001882</td>\n",
       "      <td>0.001811</td>\n",
       "      <td>0.000141</td>\n",
       "      <td>0.001919</td>\n",
       "      <td>0.001704</td>\n",
       "    </tr>\n",
       "    <tr>\n",
       "      <th>2002-11-15</th>\n",
       "      <td>0.001729</td>\n",
       "      <td>0.001899</td>\n",
       "      <td>0.001814</td>\n",
       "      <td>0.000170</td>\n",
       "      <td>0.001921</td>\n",
       "      <td>0.001707</td>\n",
       "    </tr>\n",
       "  </tbody>\n",
       "</table>\n",
       "</div>"
      ],
      "text/plain": [
       "            swf_bbp_443_giop_mean  aqua_bbp_443_giop_mean      mean      diff  \\\n",
       "datetime                                                                        \n",
       "2002-07-15               0.001632                0.001823  0.001727  0.000192   \n",
       "2002-08-15               0.001704                0.001815  0.001759  0.000111   \n",
       "2002-09-15               0.001742                0.001882  0.001812  0.000140   \n",
       "2002-10-15               0.001741                0.001882  0.001811  0.000141   \n",
       "2002-11-15               0.001729                0.001899  0.001814  0.000170   \n",
       "\n",
       "            diff_pos  diff_neg  \n",
       "datetime                        \n",
       "2002-07-15  0.001834  0.001620  \n",
       "2002-08-15  0.001866  0.001652  \n",
       "2002-09-15  0.001919  0.001705  \n",
       "2002-10-15  0.001919  0.001704  \n",
       "2002-11-15  0.001921  0.001707  "
      ]
     },
     "execution_count": 227,
     "metadata": {},
     "output_type": "execute_result"
    }
   ],
   "source": [
    "df_swf_aqua.dropna(inplace=True)\n",
    "df_swf_aqua['mean'] = df_swf_aqua.mean(axis=1)\n",
    "df_swf_aqua['diff'] = np.abs(df_swf_aqua['swf_%s' % column].values - df_swf_aqua['aqua_%s' % column].values)\n",
    "df_swf_aqua['diff_pos'] = df_swf_aqua['mean'] + df_swf_aqua['diff'].mean()\n",
    "df_swf_aqua['diff_neg'] = df_swf_aqua['mean'] - df_swf_aqua['diff'].mean()\n",
    "df_swf_aqua.head()"
   ]
  },
  {
   "cell_type": "code",
   "execution_count": 228,
   "metadata": {},
   "outputs": [],
   "source": [
    "# exclude SeaWiFS 'bad' years\n",
    "swf_good_per_ends = '2007-12-31'\n",
    "df_swf_aqua = df_swf_aqua.loc[:swf_good_per_ends, :]\n",
    "df_swf_bbp = df_swf_bbp.loc[:swf_good_per_ends, :]"
   ]
  },
  {
   "cell_type": "code",
   "execution_count": 229,
   "metadata": {},
   "outputs": [
    {
     "data": {
      "text/html": [
       "<div>\n",
       "<style scoped>\n",
       "    .dataframe tbody tr th:only-of-type {\n",
       "        vertical-align: middle;\n",
       "    }\n",
       "\n",
       "    .dataframe tbody tr th {\n",
       "        vertical-align: top;\n",
       "    }\n",
       "\n",
       "    .dataframe thead th {\n",
       "        text-align: right;\n",
       "    }\n",
       "</style>\n",
       "<table border=\"1\" class=\"dataframe\">\n",
       "  <thead>\n",
       "    <tr style=\"text-align: right;\">\n",
       "      <th></th>\n",
       "      <th>swf_bbp_443_giop_mean</th>\n",
       "      <th>aqua_bbp_443_giop_mean</th>\n",
       "      <th>mean</th>\n",
       "      <th>diff</th>\n",
       "      <th>diff_pos</th>\n",
       "      <th>diff_neg</th>\n",
       "    </tr>\n",
       "    <tr>\n",
       "      <th>datetime</th>\n",
       "      <th></th>\n",
       "      <th></th>\n",
       "      <th></th>\n",
       "      <th></th>\n",
       "      <th></th>\n",
       "      <th></th>\n",
       "    </tr>\n",
       "  </thead>\n",
       "  <tbody>\n",
       "    <tr>\n",
       "      <th>2002-07-15</th>\n",
       "      <td>0.001632</td>\n",
       "      <td>0.001823</td>\n",
       "      <td>0.001727</td>\n",
       "      <td>0.000192</td>\n",
       "      <td>0.001834</td>\n",
       "      <td>0.001620</td>\n",
       "    </tr>\n",
       "    <tr>\n",
       "      <th>2002-08-15</th>\n",
       "      <td>0.001704</td>\n",
       "      <td>0.001815</td>\n",
       "      <td>0.001759</td>\n",
       "      <td>0.000111</td>\n",
       "      <td>0.001866</td>\n",
       "      <td>0.001652</td>\n",
       "    </tr>\n",
       "    <tr>\n",
       "      <th>2002-09-15</th>\n",
       "      <td>0.001742</td>\n",
       "      <td>0.001882</td>\n",
       "      <td>0.001812</td>\n",
       "      <td>0.000140</td>\n",
       "      <td>0.001919</td>\n",
       "      <td>0.001705</td>\n",
       "    </tr>\n",
       "    <tr>\n",
       "      <th>2002-10-15</th>\n",
       "      <td>0.001741</td>\n",
       "      <td>0.001882</td>\n",
       "      <td>0.001811</td>\n",
       "      <td>0.000141</td>\n",
       "      <td>0.001919</td>\n",
       "      <td>0.001704</td>\n",
       "    </tr>\n",
       "    <tr>\n",
       "      <th>2002-11-15</th>\n",
       "      <td>0.001729</td>\n",
       "      <td>0.001899</td>\n",
       "      <td>0.001814</td>\n",
       "      <td>0.000170</td>\n",
       "      <td>0.001921</td>\n",
       "      <td>0.001707</td>\n",
       "    </tr>\n",
       "  </tbody>\n",
       "</table>\n",
       "</div>"
      ],
      "text/plain": [
       "            swf_bbp_443_giop_mean  aqua_bbp_443_giop_mean      mean      diff  \\\n",
       "datetime                                                                        \n",
       "2002-07-15               0.001632                0.001823  0.001727  0.000192   \n",
       "2002-08-15               0.001704                0.001815  0.001759  0.000111   \n",
       "2002-09-15               0.001742                0.001882  0.001812  0.000140   \n",
       "2002-10-15               0.001741                0.001882  0.001811  0.000141   \n",
       "2002-11-15               0.001729                0.001899  0.001814  0.000170   \n",
       "\n",
       "            diff_pos  diff_neg  \n",
       "datetime                        \n",
       "2002-07-15  0.001834  0.001620  \n",
       "2002-08-15  0.001866  0.001652  \n",
       "2002-09-15  0.001919  0.001705  \n",
       "2002-10-15  0.001919  0.001704  \n",
       "2002-11-15  0.001921  0.001707  "
      ]
     },
     "execution_count": 229,
     "metadata": {},
     "output_type": "execute_result"
    }
   ],
   "source": [
    "df_swf_aqua.head()"
   ]
  },
  {
   "cell_type": "code",
   "execution_count": 230,
   "metadata": {},
   "outputs": [
    {
     "name": "stdout",
     "output_type": "stream",
     "text": [
      "<class 'pandas.core.frame.DataFrame'>\n",
      "DatetimeIndex: 66 entries, 2002-07-15 to 2007-12-15\n",
      "Data columns (total 6 columns):\n",
      "swf_bbp_443_giop_mean     66 non-null float64\n",
      "aqua_bbp_443_giop_mean    66 non-null float64\n",
      "mean                      66 non-null float64\n",
      "diff                      66 non-null float64\n",
      "diff_pos                  66 non-null float64\n",
      "diff_neg                  66 non-null float64\n",
      "dtypes: float64(6)\n",
      "memory usage: 3.6 KB\n"
     ]
    }
   ],
   "source": [
    "df_swf_aqua.info()"
   ]
  },
  {
   "cell_type": "code",
   "execution_count": 231,
   "metadata": {},
   "outputs": [
    {
     "name": "stdout",
     "output_type": "stream",
     "text": [
      "<class 'pandas.core.frame.DataFrame'>\n",
      "DatetimeIndex: 122 entries, 1997-11-15 22:47:10 to 2007-12-16 10:50:00\n",
      "Data columns (total 8 columns):\n",
      "bbp_443_giop_mean        122 non-null float64\n",
      "phyto_C_2.5%             122 non-null float64\n",
      "phyto_C_25%              122 non-null float64\n",
      "phyto_C_mean             122 non-null float64\n",
      "phyto_C_75%              122 non-null float64\n",
      "phyto_C_97.5%            122 non-null float64\n",
      "phyto_C_anomaly          122 non-null float64\n",
      "bbp_443_aqua_adjusted    122 non-null float64\n",
      "dtypes: float64(8)\n",
      "memory usage: 8.6 KB\n"
     ]
    }
   ],
   "source": [
    "df_swf_bbp.info()"
   ]
  },
  {
   "cell_type": "code",
   "execution_count": 232,
   "metadata": {},
   "outputs": [
    {
     "name": "stdout",
     "output_type": "stream",
     "text": [
      "<class 'pandas.core.frame.DataFrame'>\n",
      "DatetimeIndex: 194 entries, 2002-07-16 22:10:00 to 2018-08-16 13:43:20\n",
      "Data columns (total 8 columns):\n",
      "bbp_443_giop_mean       194 non-null float64\n",
      "phyto_C_2.5%            194 non-null float64\n",
      "phyto_C_25%             194 non-null float64\n",
      "phyto_C_mean            194 non-null float64\n",
      "phyto_C_75%             194 non-null float64\n",
      "phyto_C_97.5%           194 non-null float64\n",
      "phyto_C_anomaly         194 non-null float64\n",
      "bbp_443_swf_adjusted    194 non-null float64\n",
      "dtypes: float64(8)\n",
      "memory usage: 18.6 KB\n"
     ]
    }
   ],
   "source": [
    "df_aqua_bbp.info()"
   ]
  },
  {
   "cell_type": "code",
   "execution_count": 233,
   "metadata": {},
   "outputs": [],
   "source": [
    "with open('./pklJar/pooled_params.pkl', 'rb') as fb:\n",
    "    mdl_dict = pickle.load(fb)"
   ]
  },
  {
   "cell_type": "code",
   "execution_count": 234,
   "metadata": {},
   "outputs": [],
   "source": [
    "intercept = mdl_dict['intercept'].reshape(1, -1)\n",
    "slope = mdl_dict['slope'].reshape(1, -1)"
   ]
  },
  {
   "cell_type": "code",
   "execution_count": 235,
   "metadata": {},
   "outputs": [],
   "source": [
    "swf_adj=(df_swf_aqua['mean'] - df_swf_aqua.swf_bbp_443_giop_mean).mean()"
   ]
  },
  {
   "cell_type": "code",
   "execution_count": 236,
   "metadata": {},
   "outputs": [],
   "source": [
    "aqua_adj=(df_swf_aqua.aqua_bbp_443_giop_mean - df_swf_aqua['mean']).mean()"
   ]
  },
  {
   "cell_type": "code",
   "execution_count": 237,
   "metadata": {},
   "outputs": [
    {
     "data": {
      "text/plain": [
       "(5.354212121212122e-05, 5.35421212121212e-05)"
      ]
     },
     "execution_count": 237,
     "metadata": {},
     "output_type": "execute_result"
    }
   ],
   "source": [
    "swf_adj, aqua_adj"
   ]
  },
  {
   "cell_type": "code",
   "execution_count": 238,
   "metadata": {},
   "outputs": [],
   "source": [
    "df_swf_bbp['bbp_443_aqua_adjusted'] = df_swf_bbp.bbp_443_giop_mean + swf_adj"
   ]
  },
  {
   "cell_type": "code",
   "execution_count": 239,
   "metadata": {},
   "outputs": [],
   "source": [
    "df_aqua_bbp['bbp_443_swf_adjusted'] = df_aqua_bbp.bbp_443_giop_mean - aqua_adj"
   ]
  },
  {
   "cell_type": "code",
   "execution_count": 240,
   "metadata": {},
   "outputs": [],
   "source": [
    "df_mean = pd.concat((df_swf_bbp.bbp_443_aqua_adjusted.resample('MS', loffset=pd.Timedelta(14, 'd')).first(),\n",
    "                     df_aqua_bbp.bbp_443_swf_adjusted.resample('MS', loffset=pd.Timedelta(14, 'd')).first()),axis=1\n",
    "                     )"
   ]
  },
  {
   "cell_type": "code",
   "execution_count": 241,
   "metadata": {},
   "outputs": [
    {
     "data": {
      "text/html": [
       "<div>\n",
       "<style scoped>\n",
       "    .dataframe tbody tr th:only-of-type {\n",
       "        vertical-align: middle;\n",
       "    }\n",
       "\n",
       "    .dataframe tbody tr th {\n",
       "        vertical-align: top;\n",
       "    }\n",
       "\n",
       "    .dataframe thead th {\n",
       "        text-align: right;\n",
       "    }\n",
       "</style>\n",
       "<table border=\"1\" class=\"dataframe\">\n",
       "  <thead>\n",
       "    <tr style=\"text-align: right;\">\n",
       "      <th></th>\n",
       "      <th>bbp_443_aqua_adjusted</th>\n",
       "      <th>bbp_443_swf_adjusted</th>\n",
       "    </tr>\n",
       "    <tr>\n",
       "      <th>datetime</th>\n",
       "      <th></th>\n",
       "      <th></th>\n",
       "    </tr>\n",
       "  </thead>\n",
       "  <tbody>\n",
       "    <tr>\n",
       "      <th>2018-04-15</th>\n",
       "      <td>NaN</td>\n",
       "      <td>0.001746</td>\n",
       "    </tr>\n",
       "    <tr>\n",
       "      <th>2018-05-15</th>\n",
       "      <td>NaN</td>\n",
       "      <td>0.001760</td>\n",
       "    </tr>\n",
       "    <tr>\n",
       "      <th>2018-06-15</th>\n",
       "      <td>NaN</td>\n",
       "      <td>0.001744</td>\n",
       "    </tr>\n",
       "    <tr>\n",
       "      <th>2018-07-15</th>\n",
       "      <td>NaN</td>\n",
       "      <td>0.001714</td>\n",
       "    </tr>\n",
       "    <tr>\n",
       "      <th>2018-08-15</th>\n",
       "      <td>NaN</td>\n",
       "      <td>0.001739</td>\n",
       "    </tr>\n",
       "  </tbody>\n",
       "</table>\n",
       "</div>"
      ],
      "text/plain": [
       "            bbp_443_aqua_adjusted  bbp_443_swf_adjusted\n",
       "datetime                                               \n",
       "2018-04-15                    NaN              0.001746\n",
       "2018-05-15                    NaN              0.001760\n",
       "2018-06-15                    NaN              0.001744\n",
       "2018-07-15                    NaN              0.001714\n",
       "2018-08-15                    NaN              0.001739"
      ]
     },
     "execution_count": 241,
     "metadata": {},
     "output_type": "execute_result"
    }
   ],
   "source": [
    "df_mean.tail()"
   ]
  },
  {
   "cell_type": "code",
   "execution_count": 242,
   "metadata": {},
   "outputs": [],
   "source": [
    "df_mean['mean_adjustd_bbp443'] = df_mean.mean(axis=1)"
   ]
  },
  {
   "cell_type": "code",
   "execution_count": 243,
   "metadata": {},
   "outputs": [],
   "source": [
    "trace_C_mean_phyto = df_mean.mean_adjustd_bbp443.values.reshape(-1, 1) * slope + intercept"
   ]
  },
  {
   "cell_type": "code",
   "execution_count": 244,
   "metadata": {},
   "outputs": [],
   "source": [
    "df_mean['adjusted_phyto_C_mean'] = trace_C_mean_phyto.mean(axis=1)"
   ]
  },
  {
   "cell_type": "code",
   "execution_count": 245,
   "metadata": {},
   "outputs": [],
   "source": [
    "df_mean['adj_C_2.5%'], df_mean['adj_C_97.5%'] = pm.hpd(trace_C_mean_phyto.T)[:, 0], pm.hpd(trace_C_mean_phyto.T)[:, 1]"
   ]
  },
  {
   "cell_type": "code",
   "execution_count": 246,
   "metadata": {},
   "outputs": [],
   "source": [
    "df_mean.insert(5, 'adj_C_25%', pm.hpd(trace_C_mean_phyto.T, alpha=0.5)[:, 0] )\n",
    "df_mean.insert(6, 'adj_C_75%', pm.hpd(trace_C_mean_phyto.T, alpha=0.5)[:, 1] )"
   ]
  },
  {
   "cell_type": "code",
   "execution_count": 247,
   "metadata": {},
   "outputs": [
    {
     "data": {
      "text/html": [
       "<div>\n",
       "<style scoped>\n",
       "    .dataframe tbody tr th:only-of-type {\n",
       "        vertical-align: middle;\n",
       "    }\n",
       "\n",
       "    .dataframe tbody tr th {\n",
       "        vertical-align: top;\n",
       "    }\n",
       "\n",
       "    .dataframe thead th {\n",
       "        text-align: right;\n",
       "    }\n",
       "</style>\n",
       "<table border=\"1\" class=\"dataframe\">\n",
       "  <thead>\n",
       "    <tr style=\"text-align: right;\">\n",
       "      <th></th>\n",
       "      <th>bbp_443_aqua_adjusted</th>\n",
       "      <th>bbp_443_swf_adjusted</th>\n",
       "      <th>mean_adjustd_bbp443</th>\n",
       "      <th>adjusted_phyto_C_mean</th>\n",
       "      <th>adj_C_2.5%</th>\n",
       "      <th>adj_C_25%</th>\n",
       "      <th>adj_C_75%</th>\n",
       "      <th>adj_C_97.5%</th>\n",
       "    </tr>\n",
       "    <tr>\n",
       "      <th>datetime</th>\n",
       "      <th></th>\n",
       "      <th></th>\n",
       "      <th></th>\n",
       "      <th></th>\n",
       "      <th></th>\n",
       "      <th></th>\n",
       "      <th></th>\n",
       "      <th></th>\n",
       "    </tr>\n",
       "  </thead>\n",
       "  <tbody>\n",
       "    <tr>\n",
       "      <th>1997-11-15</th>\n",
       "      <td>0.001842</td>\n",
       "      <td>NaN</td>\n",
       "      <td>0.001842</td>\n",
       "      <td>22.120413</td>\n",
       "      <td>20.385325</td>\n",
       "      <td>21.552935</td>\n",
       "      <td>22.762124</td>\n",
       "      <td>24.021646</td>\n",
       "    </tr>\n",
       "    <tr>\n",
       "      <th>1997-12-15</th>\n",
       "      <td>0.001765</td>\n",
       "      <td>NaN</td>\n",
       "      <td>0.001765</td>\n",
       "      <td>21.218630</td>\n",
       "      <td>19.559207</td>\n",
       "      <td>20.546520</td>\n",
       "      <td>21.699756</td>\n",
       "      <td>23.046890</td>\n",
       "    </tr>\n",
       "    <tr>\n",
       "      <th>1998-01-15</th>\n",
       "      <td>0.001726</td>\n",
       "      <td>NaN</td>\n",
       "      <td>0.001726</td>\n",
       "      <td>20.758506</td>\n",
       "      <td>19.085081</td>\n",
       "      <td>20.162330</td>\n",
       "      <td>21.287907</td>\n",
       "      <td>22.512791</td>\n",
       "    </tr>\n",
       "    <tr>\n",
       "      <th>1998-02-15</th>\n",
       "      <td>0.001713</td>\n",
       "      <td>NaN</td>\n",
       "      <td>0.001713</td>\n",
       "      <td>20.610071</td>\n",
       "      <td>18.944551</td>\n",
       "      <td>20.015984</td>\n",
       "      <td>21.132228</td>\n",
       "      <td>22.340050</td>\n",
       "    </tr>\n",
       "    <tr>\n",
       "      <th>1998-03-15</th>\n",
       "      <td>0.001740</td>\n",
       "      <td>NaN</td>\n",
       "      <td>0.001740</td>\n",
       "      <td>20.920938</td>\n",
       "      <td>19.345028</td>\n",
       "      <td>20.307371</td>\n",
       "      <td>21.442327</td>\n",
       "      <td>22.798734</td>\n",
       "    </tr>\n",
       "  </tbody>\n",
       "</table>\n",
       "</div>"
      ],
      "text/plain": [
       "            bbp_443_aqua_adjusted  bbp_443_swf_adjusted  mean_adjustd_bbp443  \\\n",
       "datetime                                                                       \n",
       "1997-11-15               0.001842                   NaN             0.001842   \n",
       "1997-12-15               0.001765                   NaN             0.001765   \n",
       "1998-01-15               0.001726                   NaN             0.001726   \n",
       "1998-02-15               0.001713                   NaN             0.001713   \n",
       "1998-03-15               0.001740                   NaN             0.001740   \n",
       "\n",
       "            adjusted_phyto_C_mean  adj_C_2.5%  adj_C_25%  adj_C_75%  \\\n",
       "datetime                                                              \n",
       "1997-11-15              22.120413   20.385325  21.552935  22.762124   \n",
       "1997-12-15              21.218630   19.559207  20.546520  21.699756   \n",
       "1998-01-15              20.758506   19.085081  20.162330  21.287907   \n",
       "1998-02-15              20.610071   18.944551  20.015984  21.132228   \n",
       "1998-03-15              20.920938   19.345028  20.307371  21.442327   \n",
       "\n",
       "            adj_C_97.5%  \n",
       "datetime                 \n",
       "1997-11-15    24.021646  \n",
       "1997-12-15    23.046890  \n",
       "1998-01-15    22.512791  \n",
       "1998-02-15    22.340050  \n",
       "1998-03-15    22.798734  "
      ]
     },
     "execution_count": 247,
     "metadata": {},
     "output_type": "execute_result"
    }
   ],
   "source": [
    "df_mean.head()"
   ]
  },
  {
   "cell_type": "code",
   "execution_count": 248,
   "metadata": {},
   "outputs": [],
   "source": [
    "trace_C_swf = df_swf_aqua.iloc[:, 0].values.reshape(-1, 1) * slope + intercept\n",
    "trace_C_aqua = df_swf_aqua.iloc[:, 1].values.reshape(-1, 1) * slope + intercept\n",
    "trace_C_mean = df_swf_aqua.iloc[:, 2].values.reshape(-1, 1) * slope + intercept"
   ]
  },
  {
   "cell_type": "code",
   "execution_count": 249,
   "metadata": {},
   "outputs": [],
   "source": [
    "trace_dict = {'swf': trace_C_swf, \n",
    "             'aqua': trace_C_aqua,\n",
    "             'mean': trace_C_mean,\n",
    "             }\n",
    "with open('./pklJar/trace.pkl', 'wb') as fb:\n",
    "    pickle.dump(trace_dict, fb, protocol=pickle.HIGHEST_PROTOCOL)"
   ]
  },
  {
   "cell_type": "code",
   "execution_count": 250,
   "metadata": {},
   "outputs": [],
   "source": [
    "df_swf_aqua.insert(3, 'mean_phyto_C', trace_C_mean.mean(axis=1))"
   ]
  },
  {
   "cell_type": "code",
   "execution_count": 251,
   "metadata": {},
   "outputs": [],
   "source": [
    "df_swf_aqua.insert(4, 'mean_minus_swf_C', trace_C_mean.mean(axis=1) - trace_C_swf.mean(axis=1))\n",
    "df_swf_aqua.insert(5, 'aqua_minus_mean_C', trace_C_aqua.mean(axis=1) - trace_C_mean.mean(axis=1))"
   ]
  },
  {
   "cell_type": "code",
   "execution_count": 252,
   "metadata": {},
   "outputs": [],
   "source": [
    "datadict = {'aqua': df_aqua_bbp,\n",
    "           'swf': df_swf_bbp,\n",
    "           'swf_aqua': df_swf_aqua,\n",
    "            'mean': df_mean,\n",
    "           }\n",
    "with open('./pklJar/dict_df_phytoC.pkl', 'wb') as fb:\n",
    "    pickle.dump(datadict, fb, protocol=pickle.HIGHEST_PROTOCOL)"
   ]
  },
  {
   "cell_type": "code",
   "execution_count": 253,
   "metadata": {},
   "outputs": [],
   "source": [
    "mean_common_time_ser_phytoC = pd.DataFrame(np.c_[trace_C_swf, trace_C_aqua].mean(axis=1),\n",
    "                                           index = df_swf_aqua.index, columns=['mean_phyto_C'])"
   ]
  },
  {
   "cell_type": "code",
   "execution_count": 254,
   "metadata": {},
   "outputs": [],
   "source": [
    "precision_C_swf = 1 / trace_C_swf.var(axis=1)\n",
    "mean_C_swf = trace_C_swf.mean(axis=1)\n",
    "precision_C_aqua = 1 / trace_C_aqua.var(axis=1)\n",
    "mean_C_aqua = trace_C_aqua.mean(axis=1)\n",
    "precision_C_sum = precision_C_aqua + precision_C_swf"
   ]
  },
  {
   "cell_type": "code",
   "execution_count": 255,
   "metadata": {},
   "outputs": [],
   "source": [
    "mean_common_time_ser_phytoC['sensor_fusion'] = (mean_C_swf * precision_C_swf +\n",
    "                                                mean_C_aqua * precision_C_aqua\n",
    "                                               ) / precision_C_sum"
   ]
  },
  {
   "cell_type": "code",
   "execution_count": 256,
   "metadata": {},
   "outputs": [
    {
     "data": {
      "image/png": "[encoded data removed]",
      "text/plain": [
       "<Figure size 432x288 with 1 Axes>"
      ]
     },
     "metadata": {
      "needs_background": "light"
     },
     "output_type": "display_data"
    }
   ],
   "source": [
    "pl.hist(trace_C_aqua[0])\n",
    "pl.hist(trace_C_swf[0], color='r', alpha=0.5)\n",
    "pl.axvline(x=mean_common_time_ser_phytoC.iloc[0, 0], color='k');"
   ]
  },
  {
   "cell_type": "code",
   "execution_count": 257,
   "metadata": {},
   "outputs": [
    {
     "data": {
      "text/plain": [
       "mean_phyto_C     20.774066\n",
       "sensor_fusion    20.654132\n",
       "Name: 2002-07-15 00:00:00, dtype: float64"
      ]
     },
     "execution_count": 257,
     "metadata": {},
     "output_type": "execute_result"
    }
   ],
   "source": [
    "mean_common_time_ser_phytoC.iloc[0]"
   ]
  },
  {
   "cell_type": "code",
   "execution_count": 258,
   "metadata": {},
   "outputs": [],
   "source": [
    "mean_common_time_ser_phytoC.to_pickle('./pklJar/df_mean_common_TS_phytoC.pkl')"
   ]
  },
  {
   "cell_type": "code",
   "execution_count": null,
   "metadata": {},
   "outputs": [],
   "source": []
  }
 ],
 "metadata": {
  "kernelspec": {
   "display_name": "Python [default]",
   "language": "python",
   "name": "python3"
  },
  "language_info": {
   "codemirror_mode": {
    "name": "ipython",
    "version": 3
   },
   "file_extension": ".py",
   "mimetype": "text/x-python",
   "name": "python",
   "nbconvert_exporter": "python",
   "pygments_lexer": "ipython3",
   "version": "3.6.6"
  }
 },
 "nbformat": 4,
 "nbformat_minor": 2
}
