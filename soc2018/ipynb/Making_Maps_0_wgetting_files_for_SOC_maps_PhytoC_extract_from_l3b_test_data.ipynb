{
 "cells": [
  {
   "cell_type": "code",
   "execution_count": 34,
   "metadata": {
    "collapsed": true
   },
   "outputs": [],
   "source": [
    "import subprocess\n",
    "import pathlib\n",
    "import wget\n",
    "import tqdm\n",
    "import os"
   ]
  },
  {
   "cell_type": "code",
   "execution_count": 47,
   "metadata": {
    "collapsed": true
   },
   "outputs": [],
   "source": [
    "#datapath = '/accounts/ekarakoy/DATA/SOC/SOC_2018/Aqua_MC/IOP/'\n",
    "datapath = '/accounts/ekarakoy/Desktop/test_data/'\n",
    "l3m_ext_MC = '.L3m_MC_bbp_443_giop_9km.nc'\n",
    "l3m_ext_MO = '.L3m_MO_bbp_443_giop_9km.nc'\n",
    "url = 'https://oceandata.sci.gsfc.nasa.gov/cgi/getfile/'\n",
    "url2 = 'http://oceandata101/cgi/gethiddenfile/'\n",
    "prod = 'bbp_443_giop'\n",
    "outpath = '/accounts/ekarakoy/Desktop/test_data/'"
   ]
  },
  {
   "cell_type": "code",
   "execution_count": 44,
   "metadata": {},
   "outputs": [],
   "source": [
    "with open('../at_data_files') as f:\n",
    "    lines = [line for line in f.readlines()]\n",
    "    mc_file_list = [line.strip('\\n') for line in lines if 'MC' in line]\n",
    "    mo_file_list = [line.strip('\\n') for line in lines if 'MO' in line]"
   ]
  },
  {
   "cell_type": "code",
   "execution_count": 45,
   "metadata": {},
   "outputs": [
    {
     "data": {
      "text/plain": [
       "['A20030012011031.L3b_MC_AT168.nc',\n",
       " 'A20030322011059.L3b_MC_AT168.nc',\n",
       " 'A20030602011090.L3b_MC_AT168.nc',\n",
       " 'A20030912011120.L3b_MC_AT168.nc',\n",
       " 'A20031212011151.L3b_MC_AT168.nc',\n",
       " 'A20031522011181.L3b_MC_AT168.nc',\n",
       " 'A20031822011212.L3b_MC_AT168.nc',\n",
       " 'A20032132011243.L3b_MC_AT168.nc',\n",
       " 'A20032442011273.L3b_MC_AT168.nc',\n",
       " 'A20032742011304.L3b_MC_AT168.nc',\n",
       " 'A20033052011334.L3b_MC_AT168.nc',\n",
       " 'A20033352011365.L3b_MC_AT168.nc ']"
      ]
     },
     "execution_count": 45,
     "metadata": {},
     "output_type": "execute_result"
    }
   ],
   "source": [
    "mc_file_list"
   ]
  },
  {
   "cell_type": "code",
   "execution_count": 46,
   "metadata": {},
   "outputs": [
    {
     "data": {
      "text/plain": [
       "['A20180012018031.L3b_MO_AT168.nc',\n",
       " 'A20180322018059.L3b_MO_AT168.nc',\n",
       " 'A20180602018090.L3b_MO_AT168.nc',\n",
       " 'A20180912018120.L3b_MO_AT168.nc',\n",
       " 'A20181212018151.L3b_MO_AT168.nc',\n",
       " 'A20181522018181.L3b_MO_AT168.nc',\n",
       " 'A20181822018212.L3b_MO_AT168.nc',\n",
       " 'A20182132018243.L3b_MO_AT168.nc',\n",
       " 'A20182442018273.L3b_MO_AT168.nc',\n",
       " 'A20182742018304.L3b_MO_AT168.nc',\n",
       " 'A20183052018334.L3b_MO_AT168.nc',\n",
       " 'A20183352018365.L3b_MO_AT168.nc']"
      ]
     },
     "execution_count": 46,
     "metadata": {},
     "output_type": "execute_result"
    }
   ],
   "source": [
    "mo_file_list"
   ]
  },
  {
   "cell_type": "code",
   "execution_count": 48,
   "metadata": {
    "collapsed": true
   },
   "outputs": [],
   "source": [
    "mc_l3_conv_dict = {k:f\"{k.split('.')[0]}{l3m_ext_MC}\" for k in mc_file_list}\n",
    "mo_l3_conv_dict = {k:f\"{k.split('.')[0]}{l3m_ext_MO}\" for k in mo_file_list}"
   ]
  },
  {
   "cell_type": "code",
   "execution_count": 49,
   "metadata": {},
   "outputs": [
    {
     "data": {
      "text/plain": [
       "{'A20030012011031.L3b_MC_AT168.nc': 'A20030012011031.L3m_MC_bbp_443_giop_9km.nc',\n",
       " 'A20030322011059.L3b_MC_AT168.nc': 'A20030322011059.L3m_MC_bbp_443_giop_9km.nc',\n",
       " 'A20030602011090.L3b_MC_AT168.nc': 'A20030602011090.L3m_MC_bbp_443_giop_9km.nc',\n",
       " 'A20030912011120.L3b_MC_AT168.nc': 'A20030912011120.L3m_MC_bbp_443_giop_9km.nc',\n",
       " 'A20031212011151.L3b_MC_AT168.nc': 'A20031212011151.L3m_MC_bbp_443_giop_9km.nc',\n",
       " 'A20031522011181.L3b_MC_AT168.nc': 'A20031522011181.L3m_MC_bbp_443_giop_9km.nc',\n",
       " 'A20031822011212.L3b_MC_AT168.nc': 'A20031822011212.L3m_MC_bbp_443_giop_9km.nc',\n",
       " 'A20032132011243.L3b_MC_AT168.nc': 'A20032132011243.L3m_MC_bbp_443_giop_9km.nc',\n",
       " 'A20032442011273.L3b_MC_AT168.nc': 'A20032442011273.L3m_MC_bbp_443_giop_9km.nc',\n",
       " 'A20032742011304.L3b_MC_AT168.nc': 'A20032742011304.L3m_MC_bbp_443_giop_9km.nc',\n",
       " 'A20033052011334.L3b_MC_AT168.nc': 'A20033052011334.L3m_MC_bbp_443_giop_9km.nc',\n",
       " 'A20033352011365.L3b_MC_AT168.nc ': 'A20033352011365.L3m_MC_bbp_443_giop_9km.nc'}"
      ]
     },
     "execution_count": 49,
     "metadata": {},
     "output_type": "execute_result"
    }
   ],
   "source": [
    "mc_l3_conv_dict"
   ]
  },
  {
   "cell_type": "code",
   "execution_count": 50,
   "metadata": {},
   "outputs": [
    {
     "data": {
      "text/plain": [
       "{'A20180012018031.L3b_MO_AT168.nc': 'A20180012018031.L3m_MO_bbp_443_giop_9km.nc',\n",
       " 'A20180322018059.L3b_MO_AT168.nc': 'A20180322018059.L3m_MO_bbp_443_giop_9km.nc',\n",
       " 'A20180602018090.L3b_MO_AT168.nc': 'A20180602018090.L3m_MO_bbp_443_giop_9km.nc',\n",
       " 'A20180912018120.L3b_MO_AT168.nc': 'A20180912018120.L3m_MO_bbp_443_giop_9km.nc',\n",
       " 'A20181212018151.L3b_MO_AT168.nc': 'A20181212018151.L3m_MO_bbp_443_giop_9km.nc',\n",
       " 'A20181522018181.L3b_MO_AT168.nc': 'A20181522018181.L3m_MO_bbp_443_giop_9km.nc',\n",
       " 'A20181822018212.L3b_MO_AT168.nc': 'A20181822018212.L3m_MO_bbp_443_giop_9km.nc',\n",
       " 'A20182132018243.L3b_MO_AT168.nc': 'A20182132018243.L3m_MO_bbp_443_giop_9km.nc',\n",
       " 'A20182442018273.L3b_MO_AT168.nc': 'A20182442018273.L3m_MO_bbp_443_giop_9km.nc',\n",
       " 'A20182742018304.L3b_MO_AT168.nc': 'A20182742018304.L3m_MO_bbp_443_giop_9km.nc',\n",
       " 'A20183052018334.L3b_MO_AT168.nc': 'A20183052018334.L3m_MO_bbp_443_giop_9km.nc',\n",
       " 'A20183352018365.L3b_MO_AT168.nc': 'A20183352018365.L3m_MO_bbp_443_giop_9km.nc'}"
      ]
     },
     "execution_count": 50,
     "metadata": {},
     "output_type": "execute_result"
    }
   ],
   "source": [
    "mo_l3_conv_dict"
   ]
  },
  {
   "cell_type": "code",
   "execution_count": 52,
   "metadata": {},
   "outputs": [],
   "source": [
    "def convert(l3_conv_dict):\n",
    "    for l3b, l3m in l3_conv_dict.items():\n",
    "        path_l3b = pathlib.PosixPath(f'{datapath}{l3b}')\n",
    "        path_l3m = pathlib.PosixPath(f'{datapath}{l3m}')\n",
    "        cmd_list = ''.join(['smigen', f' ifile={path_l3b.as_posix()}',\n",
    "                           f' ofile={path_l3m.as_posix()}', f' prod={prod}'])\n",
    "        print(f'l3b: {path_l3b.name}')\n",
    "        print(f'l3m: {path_l3m.name}')\n",
    "        if path_l3b.exists():\n",
    "            print(f'{path_l3b.name} found - skipping download')\n",
    "        else: \n",
    "            try:\n",
    "                print(f'downloading {path_l3b.name}')\n",
    "                wget.download(f'{url2}{l3b}', out=f'{path_l3b.as_posix()}')\n",
    "            except HTTPError:\n",
    "                print(f'{file} not found on server', flush=True)\n",
    "        if path_l3m.exists():\n",
    "            print(f'{path_l3m.name} found - skipping conversion')\n",
    "            continue\n",
    "        else:\n",
    "            print(f'converting {l3b} to {l3m}')\n",
    "            subprocess.run(cmd_list, shell=True)\n",
    "    print('done!')"
   ]
  },
  {
   "cell_type": "code",
   "execution_count": null,
   "metadata": {},
   "outputs": [],
   "source": [
    "convert(mc_l3_conv_dict)"
   ]
  },
  {
   "cell_type": "code",
   "execution_count": 61,
   "metadata": {},
   "outputs": [
    {
     "name": "stdout",
     "output_type": "stream",
     "text": [
      "l3b: A20180012018031.L3b_MO_AT168.nc\n",
      "l3m: A20180012018031.L3m_MO_bbp_443_giop_9km.nc\n",
      "downloading A20180012018031.L3b_MO_AT168.nc\n",
      "converting A20180012018031.L3b_MO_AT168.nc to A20180012018031.L3m_MO_bbp_443_giop_9km.nc\n",
      "l3b: A20180322018059.L3b_MO_AT168.nc\n",
      "l3m: A20180322018059.L3m_MO_bbp_443_giop_9km.nc\n",
      "downloading A20180322018059.L3b_MO_AT168.nc\n",
      "converting A20180322018059.L3b_MO_AT168.nc to A20180322018059.L3m_MO_bbp_443_giop_9km.nc\n",
      "l3b: A20180602018090.L3b_MO_AT168.nc\n",
      "l3m: A20180602018090.L3m_MO_bbp_443_giop_9km.nc\n",
      "downloading A20180602018090.L3b_MO_AT168.nc\n",
      "converting A20180602018090.L3b_MO_AT168.nc to A20180602018090.L3m_MO_bbp_443_giop_9km.nc\n",
      "l3b: A20180912018120.L3b_MO_AT168.nc\n",
      "l3m: A20180912018120.L3m_MO_bbp_443_giop_9km.nc\n",
      "downloading A20180912018120.L3b_MO_AT168.nc\n",
      "converting A20180912018120.L3b_MO_AT168.nc to A20180912018120.L3m_MO_bbp_443_giop_9km.nc\n",
      "l3b: A20181212018151.L3b_MO_AT168.nc\n",
      "l3m: A20181212018151.L3m_MO_bbp_443_giop_9km.nc\n",
      "downloading A20181212018151.L3b_MO_AT168.nc\n",
      "converting A20181212018151.L3b_MO_AT168.nc to A20181212018151.L3m_MO_bbp_443_giop_9km.nc\n",
      "l3b: A20181522018181.L3b_MO_AT168.nc\n",
      "l3m: A20181522018181.L3m_MO_bbp_443_giop_9km.nc\n",
      "downloading A20181522018181.L3b_MO_AT168.nc\n",
      "converting A20181522018181.L3b_MO_AT168.nc to A20181522018181.L3m_MO_bbp_443_giop_9km.nc\n",
      "l3b: A20181822018212.L3b_MO_AT168.nc\n",
      "l3m: A20181822018212.L3m_MO_bbp_443_giop_9km.nc\n",
      "downloading A20181822018212.L3b_MO_AT168.nc\n",
      "converting A20181822018212.L3b_MO_AT168.nc to A20181822018212.L3m_MO_bbp_443_giop_9km.nc\n",
      "l3b: A20182132018243.L3b_MO_AT168.nc\n",
      "l3m: A20182132018243.L3m_MO_bbp_443_giop_9km.nc\n",
      "downloading A20182132018243.L3b_MO_AT168.nc\n",
      "converting A20182132018243.L3b_MO_AT168.nc to A20182132018243.L3m_MO_bbp_443_giop_9km.nc\n",
      "l3b: A20182442018273.L3b_MO_AT168.nc\n",
      "l3m: A20182442018273.L3m_MO_bbp_443_giop_9km.nc\n",
      "downloading A20182442018273.L3b_MO_AT168.nc\n",
      "converting A20182442018273.L3b_MO_AT168.nc to A20182442018273.L3m_MO_bbp_443_giop_9km.nc\n",
      "l3b: A20182742018304.L3b_MO_AT168.nc\n",
      "l3m: A20182742018304.L3m_MO_bbp_443_giop_9km.nc\n",
      "downloading A20182742018304.L3b_MO_AT168.nc\n",
      "converting A20182742018304.L3b_MO_AT168.nc to A20182742018304.L3m_MO_bbp_443_giop_9km.nc\n",
      "l3b: A20183052018334.L3b_MO_AT168.nc\n",
      "l3m: A20183052018334.L3m_MO_bbp_443_giop_9km.nc\n",
      "downloading A20183052018334.L3b_MO_AT168.nc\n",
      "converting A20183052018334.L3b_MO_AT168.nc to A20183052018334.L3m_MO_bbp_443_giop_9km.nc\n",
      "l3b: A20183352018365.L3b_MO_AT168.nc\n",
      "l3m: A20183352018365.L3m_MO_bbp_443_giop_9km.nc\n",
      "downloading A20183352018365.L3b_MO_AT168.nc\n",
      "converting A20183352018365.L3b_MO_AT168.nc to A20183352018365.L3m_MO_bbp_443_giop_9km.nc\n",
      "done!\n"
     ]
    }
   ],
   "source": [
    "convert(mo_l3_conv_dict)"
   ]
  },
  {
   "cell_type": "code",
   "execution_count": null,
   "metadata": {
    "collapsed": true
   },
   "outputs": [],
   "source": []
  }
 ],
 "metadata": {
  "kernelspec": {
   "display_name": "Python 3",
   "language": "python",
   "name": "python3"
  },
  "language_info": {
   "codemirror_mode": {
    "name": "ipython",
    "version": 3
   },
   "file_extension": ".py",
   "mimetype": "text/x-python",
   "name": "python",
   "nbconvert_exporter": "python",
   "pygments_lexer": "ipython3",
   "version": "3.6.7"
  }
 },
 "nbformat": 4,
 "nbformat_minor": 2
}
