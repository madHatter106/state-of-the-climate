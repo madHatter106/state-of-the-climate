{
 "cells": [
  {
   "cell_type": "code",
   "execution_count": 24,
   "metadata": {},
   "outputs": [],
   "source": [
    "from IPython.core.display import HTML, display\n",
    "import pickle\n",
    "import pandas as pd\n",
    "import numpy as np\n",
    "\n",
    "import pymc3 as pm\n",
    "\n",
    "import matplotlib.pyplot as pl\n",
    "import matplotlib.cm as cm"
   ]
  },
  {
   "cell_type": "code",
   "execution_count": 2,
   "metadata": {},
   "outputs": [
    {
     "data": {
      "text/html": [
       "<style>.container{width: 90%}</style>"
      ],
      "text/plain": [
       "<IPython.core.display.HTML object>"
      ]
     },
     "metadata": {},
     "output_type": "display_data"
    }
   ],
   "source": [
    "%matplotlib inline\n",
    "display(HTML(\"<style>.container{width: 90%}</style>\"))"
   ]
  },
  {
   "cell_type": "code",
   "execution_count": 5,
   "metadata": {},
   "outputs": [],
   "source": [
    "with open('./pklJar/dict_df_phytoC.pkl', 'rb') as f:\n",
    "    datadict = pickle.load(f)\n",
    "    df_aqua = datadict['aqua']\n",
    "    df_swf = datadict['swf']\n",
    "    df_swf_aqua = datadict['swf_aqua']\n",
    "    df_mean = datadict['mean']"
   ]
  },
  {
   "cell_type": "code",
   "execution_count": 7,
   "metadata": {},
   "outputs": [
    {
     "data": {
      "text/html": [
       "<div>\n",
       "<style scoped>\n",
       "    .dataframe tbody tr th:only-of-type {\n",
       "        vertical-align: middle;\n",
       "    }\n",
       "\n",
       "    .dataframe tbody tr th {\n",
       "        vertical-align: top;\n",
       "    }\n",
       "\n",
       "    .dataframe thead th {\n",
       "        text-align: right;\n",
       "    }\n",
       "</style>\n",
       "<table border=\"1\" class=\"dataframe\">\n",
       "  <thead>\n",
       "    <tr style=\"text-align: right;\">\n",
       "      <th>datetime</th>\n",
       "      <th>2002-07-16 22:10:00</th>\n",
       "      <th>2002-08-19 09:03:30</th>\n",
       "      <th>2002-09-16 01:52:30</th>\n",
       "      <th>2002-10-16 13:17:30</th>\n",
       "      <th>2002-11-16 01:15:00</th>\n",
       "    </tr>\n",
       "  </thead>\n",
       "  <tbody>\n",
       "    <tr>\n",
       "      <th>bbp_443_giop_mean</th>\n",
       "      <td>0.001823</td>\n",
       "      <td>0.001815</td>\n",
       "      <td>0.001882</td>\n",
       "      <td>0.001882</td>\n",
       "      <td>0.001899</td>\n",
       "    </tr>\n",
       "    <tr>\n",
       "      <th>phyto_C_2.5%</th>\n",
       "      <td>20.197499</td>\n",
       "      <td>20.084285</td>\n",
       "      <td>20.848132</td>\n",
       "      <td>20.842028</td>\n",
       "      <td>21.004253</td>\n",
       "    </tr>\n",
       "    <tr>\n",
       "      <th>phyto_C_25%</th>\n",
       "      <td>21.343615</td>\n",
       "      <td>21.245797</td>\n",
       "      <td>21.968674</td>\n",
       "      <td>21.966110</td>\n",
       "      <td>22.146285</td>\n",
       "    </tr>\n",
       "    <tr>\n",
       "      <th>phyto_C_mean</th>\n",
       "      <td>21.901264</td>\n",
       "      <td>21.801759</td>\n",
       "      <td>22.597096</td>\n",
       "      <td>22.594274</td>\n",
       "      <td>22.792814</td>\n",
       "    </tr>\n",
       "    <tr>\n",
       "      <th>phyto_C_75%</th>\n",
       "      <td>22.538910</td>\n",
       "      <td>22.434313</td>\n",
       "      <td>23.204997</td>\n",
       "      <td>23.202138</td>\n",
       "      <td>23.393081</td>\n",
       "    </tr>\n",
       "    <tr>\n",
       "      <th>phyto_C_97.5%</th>\n",
       "      <td>23.794579</td>\n",
       "      <td>23.661935</td>\n",
       "      <td>24.574319</td>\n",
       "      <td>24.567595</td>\n",
       "      <td>24.764797</td>\n",
       "    </tr>\n",
       "    <tr>\n",
       "      <th>phyto_C_anomaly</th>\n",
       "      <td>0.985239</td>\n",
       "      <td>0.658900</td>\n",
       "      <td>0.943811</td>\n",
       "      <td>0.085470</td>\n",
       "      <td>-0.186034</td>\n",
       "    </tr>\n",
       "    <tr>\n",
       "      <th>bbp_443_swf_adjusted</th>\n",
       "      <td>0.001770</td>\n",
       "      <td>0.001761</td>\n",
       "      <td>0.001829</td>\n",
       "      <td>0.001829</td>\n",
       "      <td>0.001845</td>\n",
       "    </tr>\n",
       "  </tbody>\n",
       "</table>\n",
       "</div>"
      ],
      "text/plain": [
       "datetime              2002-07-16 22:10:00  2002-08-19 09:03:30  \\\n",
       "bbp_443_giop_mean                0.001823             0.001815   \n",
       "phyto_C_2.5%                    20.197499            20.084285   \n",
       "phyto_C_25%                     21.343615            21.245797   \n",
       "phyto_C_mean                    21.901264            21.801759   \n",
       "phyto_C_75%                     22.538910            22.434313   \n",
       "phyto_C_97.5%                   23.794579            23.661935   \n",
       "phyto_C_anomaly                  0.985239             0.658900   \n",
       "bbp_443_swf_adjusted             0.001770             0.001761   \n",
       "\n",
       "datetime              2002-09-16 01:52:30  2002-10-16 13:17:30  \\\n",
       "bbp_443_giop_mean                0.001882             0.001882   \n",
       "phyto_C_2.5%                    20.848132            20.842028   \n",
       "phyto_C_25%                     21.968674            21.966110   \n",
       "phyto_C_mean                    22.597096            22.594274   \n",
       "phyto_C_75%                     23.204997            23.202138   \n",
       "phyto_C_97.5%                   24.574319            24.567595   \n",
       "phyto_C_anomaly                  0.943811             0.085470   \n",
       "bbp_443_swf_adjusted             0.001829             0.001829   \n",
       "\n",
       "datetime              2002-11-16 01:15:00  \n",
       "bbp_443_giop_mean                0.001899  \n",
       "phyto_C_2.5%                    21.004253  \n",
       "phyto_C_25%                     22.146285  \n",
       "phyto_C_mean                    22.792814  \n",
       "phyto_C_75%                     23.393081  \n",
       "phyto_C_97.5%                   24.764797  \n",
       "phyto_C_anomaly                 -0.186034  \n",
       "bbp_443_swf_adjusted             0.001845  "
      ]
     },
     "execution_count": 7,
     "metadata": {},
     "output_type": "execute_result"
    }
   ],
   "source": [
    "df_aqua.head().T"
   ]
  },
  {
   "cell_type": "code",
   "execution_count": 14,
   "metadata": {},
   "outputs": [],
   "source": [
    "df_aqua_r = df_aqua[['phyto_C_mean']].resample('MS', loffset=pd.Timedelta(14, 'd')).first()"
   ]
  },
  {
   "cell_type": "code",
   "execution_count": 15,
   "metadata": {},
   "outputs": [
    {
     "data": {
      "text/html": [
       "<div>\n",
       "<style scoped>\n",
       "    .dataframe tbody tr th:only-of-type {\n",
       "        vertical-align: middle;\n",
       "    }\n",
       "\n",
       "    .dataframe tbody tr th {\n",
       "        vertical-align: top;\n",
       "    }\n",
       "\n",
       "    .dataframe thead th {\n",
       "        text-align: right;\n",
       "    }\n",
       "</style>\n",
       "<table border=\"1\" class=\"dataframe\">\n",
       "  <thead>\n",
       "    <tr style=\"text-align: right;\">\n",
       "      <th></th>\n",
       "      <th>phyto_C_mean</th>\n",
       "    </tr>\n",
       "    <tr>\n",
       "      <th>datetime</th>\n",
       "      <th></th>\n",
       "    </tr>\n",
       "  </thead>\n",
       "  <tbody>\n",
       "    <tr>\n",
       "      <th>2002-07-15</th>\n",
       "      <td>21.901264</td>\n",
       "    </tr>\n",
       "    <tr>\n",
       "      <th>2002-08-15</th>\n",
       "      <td>21.801759</td>\n",
       "    </tr>\n",
       "    <tr>\n",
       "      <th>2002-09-15</th>\n",
       "      <td>22.597096</td>\n",
       "    </tr>\n",
       "    <tr>\n",
       "      <th>2002-10-15</th>\n",
       "      <td>22.594274</td>\n",
       "    </tr>\n",
       "    <tr>\n",
       "      <th>2002-11-15</th>\n",
       "      <td>22.792814</td>\n",
       "    </tr>\n",
       "  </tbody>\n",
       "</table>\n",
       "</div>"
      ],
      "text/plain": [
       "            phyto_C_mean\n",
       "datetime                \n",
       "2002-07-15     21.901264\n",
       "2002-08-15     21.801759\n",
       "2002-09-15     22.597096\n",
       "2002-10-15     22.594274\n",
       "2002-11-15     22.792814"
      ]
     },
     "execution_count": 15,
     "metadata": {},
     "output_type": "execute_result"
    }
   ],
   "source": [
    "df_aqua_r.head()"
   ]
  },
  {
   "cell_type": "code",
   "execution_count": 16,
   "metadata": {},
   "outputs": [],
   "source": [
    "idx = df_aqua_r.index.searchsorted(pd.to_datetime('2017-12-15'))"
   ]
  },
  {
   "cell_type": "code",
   "execution_count": 38,
   "metadata": {},
   "outputs": [],
   "source": [
    "def dates_to_idx(timelist):\n",
    "    reference_time = pd.to_datetime('1958-03-15')\n",
    "    t = (timelist - reference_time) / pd.Timedelta(1, \"Y\")\n",
    "    return np.asarray(t)\n",
    "\n",
    "t = dates_to_idx(df_aqua_r.index)\n",
    "\n",
    "# normalize CO2 levels\n",
    "y = df_aqua_r.phyto_C_mean.values\n",
    "first_co2 = y[0]\n",
    "std_co2 = np.std(y)\n",
    "y_n = (y - first_co2) / std_co2\n",
    "\n",
    "df_aqua_r = df_aqua_r.assign(t = t)\n",
    "df_aqua_r = df_aqua_r.assign(y_n = y_n)"
   ]
  },
  {
   "cell_type": "code",
   "execution_count": 39,
   "metadata": {},
   "outputs": [],
   "source": [
    "train_set = df_aqua_r.loc[:'2017-12-15']\n",
    "test_set = df_aqua_r.loc['2018-01-15':]"
   ]
  },
  {
   "cell_type": "code",
   "execution_count": 40,
   "metadata": {},
   "outputs": [
    {
     "data": {
      "text/html": [
       "<div>\n",
       "<style scoped>\n",
       "    .dataframe tbody tr th:only-of-type {\n",
       "        vertical-align: middle;\n",
       "    }\n",
       "\n",
       "    .dataframe tbody tr th {\n",
       "        vertical-align: top;\n",
       "    }\n",
       "\n",
       "    .dataframe thead th {\n",
       "        text-align: right;\n",
       "    }\n",
       "</style>\n",
       "<table border=\"1\" class=\"dataframe\">\n",
       "  <thead>\n",
       "    <tr style=\"text-align: right;\">\n",
       "      <th></th>\n",
       "      <th>phyto_C_mean</th>\n",
       "      <th>t</th>\n",
       "      <th>y_n</th>\n",
       "    </tr>\n",
       "    <tr>\n",
       "      <th>datetime</th>\n",
       "      <th></th>\n",
       "      <th></th>\n",
       "      <th></th>\n",
       "    </tr>\n",
       "  </thead>\n",
       "  <tbody>\n",
       "    <tr>\n",
       "      <th>2018-01-15</th>\n",
       "      <td>21.513005</td>\n",
       "      <td>59.839696</td>\n",
       "      <td>-0.544847</td>\n",
       "    </tr>\n",
       "    <tr>\n",
       "      <th>2018-02-15</th>\n",
       "      <td>20.960197</td>\n",
       "      <td>59.924571</td>\n",
       "      <td>-1.320607</td>\n",
       "    </tr>\n",
       "    <tr>\n",
       "      <th>2018-03-15</th>\n",
       "      <td>21.110279</td>\n",
       "      <td>60.001232</td>\n",
       "      <td>-1.109997</td>\n",
       "    </tr>\n",
       "    <tr>\n",
       "      <th>2018-04-15</th>\n",
       "      <td>21.622626</td>\n",
       "      <td>60.086107</td>\n",
       "      <td>-0.391016</td>\n",
       "    </tr>\n",
       "    <tr>\n",
       "      <th>2018-05-15</th>\n",
       "      <td>21.784587</td>\n",
       "      <td>60.168244</td>\n",
       "      <td>-0.163735</td>\n",
       "    </tr>\n",
       "  </tbody>\n",
       "</table>\n",
       "</div>"
      ],
      "text/plain": [
       "            phyto_C_mean          t       y_n\n",
       "datetime                                     \n",
       "2018-01-15     21.513005  59.839696 -0.544847\n",
       "2018-02-15     20.960197  59.924571 -1.320607\n",
       "2018-03-15     21.110279  60.001232 -1.109997\n",
       "2018-04-15     21.622626  60.086107 -0.391016\n",
       "2018-05-15     21.784587  60.168244 -0.163735"
      ]
     },
     "execution_count": 40,
     "metadata": {},
     "output_type": "execute_result"
    }
   ],
   "source": [
    "test_set.head()"
   ]
  },
  {
   "cell_type": "markdown",
   "metadata": {},
   "source": [
    "$$f(t)\\sim GP_{slow}(0, k_1(t, t')) + GP_{med}(0, k_2(t, t')) + GP_{per}(0, k_3(t,t')) + GP_{noise}(0, k_n(t, t'))%$$"
   ]
  },
  {
   "cell_type": "code",
   "execution_count": 37,
   "metadata": {},
   "outputs": [
    {
     "data": {
      "image/png": "[encoded data removed]",
      "text/plain": [
       "<Figure size 576x288 with 1 Axes>"
      ]
     },
     "metadata": {
      "needs_background": "light"
     },
     "output_type": "display_data"
    }
   ],
   "source": [
    "\n",
    "x = np.linspace(0, 150, 5000)\n",
    "priors = [\n",
    "    (\"l_pdecay\",  pm.Gamma.dist(alpha=10, beta=0.075)),\n",
    "    (\"p_psmooth\", pm.Gamma.dist(alpha=4,  beta=3)),\n",
    "    (\"period\",    pm.Normal.dist(mu=1.0,  sd=0.05)),\n",
    "    (\"l_med\",     pm.Gamma.dist(alpha=2,  beta=0.75)),\n",
    "    (\"α\",         pm.Gamma.dist(alpha=5,  beta=2)),\n",
    "    (\"l_trend\",   pm.Gamma.dist(alpha=4,  beta=0.1)),\n",
    "    (\"l_noise\",   pm.Gamma.dist(alpha=2,  beta=4))]\n",
    "colorlist = cm.Dark2(np.linspace(0, 1, len(priors)))\n",
    "f, ax = pl.subplots(figsize=(8, 4))\n",
    "ax.set_title('Lengthscale and period priors')\n",
    "ax.set_xlim((-1, 8))\n",
    "ax.set_ylim((0, 2))\n",
    "ax.set_ylabel('Probability')\n",
    "ax.set_xlabel('Years')\n",
    "for color, prior in zip(colorlist, priors):\n",
    "    pl.plot(x, np.exp(prior[1].logp(x).eval()), label=prior[0],\n",
    "           lw=3, color=color)\n",
    "ax.legend();"
   ]
  },
  {
   "cell_type": "markdown",
   "metadata": {},
   "source": [
    "* l_pdecay: The periodic decay. The smaller this parameter is, the faster the periodicity goes away. I doubt that the seasonality of the CO2 will be going away any time soon (hopefully), and there’s no evidence for that in the data. Most of the prior mass is from 60 to >140 years.\n",
    "* l_psmooth: The smoothness of the periodic component. It controls how “sinusoidal” the periodicity is. The plot of the data shows that seasonality is not an exact sine wave, but its not terribly different from one. We use a Gamma whose mode is at one, and doesn’t have too large of a variance, with most of the prior mass from around 0.5 and 2.\n",
    "period: The period. We put a very strong prior on p, the period that is centered at one. R+W fix p=1, since the period is annual.\n",
    "* l_med: This is the lengthscale for the short to medium long variations. This prior has most of its mass below 6 years.\n",
    "* α: This is the shape parameter. This prior is centered at 3, since we’re expecting there to be some more variation than could be explained by an exponentiated quadratic.\n",
    "* l_trend: The lengthscale of the long term trend. It has a wide prior with mass on a decade scale. Most of the mass is between 10 to 60 years.\n",
    "* l_noise: The lengthscale of the noise covariance. This noise should be very rapid, in the scale of several months to at most a year or two.\n",
    "\n",
    "We know beforehand which GP components should have a larger magnitude, so we include this information in the scale parameters.\n",
    "\n"
   ]
  },
  {
   "cell_type": "code",
   "execution_count": null,
   "metadata": {},
   "outputs": [],
   "source": [
    "x = np.linspace(0, 4, 5000)\n",
    "priors = [\n",
    "    (\"n_per\", pm.HalfCauchy.dist(beta=2)),\n",
    "    (\"n_med\", pm.HalfCauchy.dist(beta=1.0)),\n",
    "    (\"n_trend\", pm.HalfCauchy.dist(beta=3)),\n",
    "    (\"sig\", pm.HalfNormal.dist(sd=0.25)),\n",
    "    (\"n_noise\", pm.HalfNormal.dist(sd=0.5))\n",
    "]"
   ]
  },
  {
   "cell_type": "markdown",
   "metadata": {},
   "source": [
    "* n_per: Scale of the periodic or seasonal component.\n",
    "* n_med: Scale of the short to medium term component.\n",
    "* n_trend: Scale of the long term trend.\n",
    "* sig: Scale of the white noise.\n",
    "* n_noise: Scale of correlated, short term noise."
   ]
  },
  {
   "cell_type": "code",
   "execution_count": 41,
   "metadata": {},
   "outputs": [],
   "source": [
    "t = train_set.t.values[:, None]\n",
    "y = train_set.y_n.values"
   ]
  },
  {
   "cell_type": "code",
   "execution_count": 43,
   "metadata": {},
   "outputs": [
    {
     "name": "stderr",
     "output_type": "stream",
     "text": [
      "/accounts/ekarakoy/anaconda3/envs/machine_learning/lib/python3.6/site-packages/theano/tensor/basic.py:6592: FutureWarning: Using a non-tuple sequence for multidimensional indexing is deprecated; use `arr[tuple(seq)]` instead of `arr[seq]`. In the future this will be interpreted as an array index, `arr[np.array(seq)]`, which will result either in an error or a different result.\n",
      "  result[diagonal_slice] = x\n"
     ]
    }
   ],
   "source": [
    "with pm.Model() as model:\n",
    "    # seasonal model\n",
    "    n_per = pm.HalfCauchy(\"n_per\", beta=2, testval=1)\n",
    "    l_pdecay = pm.Gamma(\"l_pdecay\", alpha=10, beta=0.075)\n",
    "    period = pm.Normal(\"period\", mu=1, sd=0.05)\n",
    "    l_psmooth = pm.Gamma(\"l_psmooth\", alpha=4, beta=3)\n",
    "    cov_seasonal = n_per ** 2 * pm.gp.cov.Periodic(1, period, l_psmooth)\\\n",
    "                * pm.gp.cov.Matern52(1, l_pdecay)\n",
    "    gp_seasonal = pm.gp.Marginal(cov_func=cov_seasonal)\n",
    "    \n",
    "    # small/medium term irregularities model\n",
    "    n_med = pm.HalfCauchy(\"n_med\", beta=0.5, testval=0.1)\n",
    "    l_med = pm.Gamma(\"l_med\", alpha=2, beta=0.75)\n",
    "    alpha = pm.Gamma(\"alpha\", alpha=5, beta=2)\n",
    "    cov_medium = n_med ** 2 * pm.gp.cov.RatQuad(1, l_med, alpha)\n",
    "    gp_medium = pm.gp.Marginal(cov_func=cov_medium)\n",
    "    \n",
    "    #long term trend model\n",
    "    n_trend = pm.HalfCauchy(\"n_trend\", beta=2, testval=2)\n",
    "    l_trend = pm.Gamma(\"l_trend\", alpha=4, beta=0.1)\n",
    "    cov_trend = n_trend ** 2 * pm.gp.cov.ExpQuad(1, l_trend)\n",
    "    gp_trend = pm.gp.Marginal(cov_func=cov_trend)\n",
    "    \n",
    "    # noise model\n",
    "    n_noise = pm.HalfNormal(\"n_noise\", sd=0.5, testval=0.05)\n",
    "    l_noise = pm.Gamma(\"l_noise\", alpha=2, beta=4)\n",
    "    sig = pm.HalfNormal(\"sig\", sd=0.25, testval=0.05)\n",
    "    cov_noise = n_noise ** 2 * pm.gp.cov.Matern32(1, l_noise) + pm.gp.cov.WhiteNoise(sig)\n",
    "    \n",
    "    gp = gp_seasonal + gp_medium + gp_trend\n",
    "    y_ = gp.marginal_likelihood(\"y\", X=t, y=y, noise=cov_noise)"
   ]
  },
  {
   "cell_type": "code",
   "execution_count": 44,
   "metadata": {},
   "outputs": [
    {
     "data": {
      "image/svg+xml": [
       "<?xml version=\"1.0\" encoding=\"UTF-8\" standalone=\"no\"?>\n",
       "<!DOCTYPE svg PUBLIC \"-//W3C//DTD SVG 1.1//EN\"\n",
       " \"http://www.w3.org/Graphics/SVG/1.1/DTD/svg11.dtd\">\n",
       "<!-- Generated by graphviz version 2.38.0 (20140413.2041)\n",
       " -->\n",
       "<!-- Title: %3 Pages: 1 -->\n",
       "<svg width=\"2108pt\" height=\"155pt\"\n",
       " viewBox=\"0.00 0.00 2107.64 155.00\" xmlns=\"http://www.w3.org/2000/svg\" xmlns:xlink=\"http://www.w3.org/1999/xlink\">\n",
       "<g id=\"graph0\" class=\"graph\" transform=\"scale(1 1) rotate(0) translate(4 151)\">\n",
       "<title>%3</title>\n",
       "<polygon fill=\"white\" stroke=\"none\" points=\"-4,4 -4,-151 2103.64,-151 2103.64,4 -4,4\"/>\n",
       "<g id=\"clust1\" class=\"cluster\"><title>cluster186</title>\n",
       "<path fill=\"none\" stroke=\"black\" d=\"M1004.19,-8C1004.19,-8 1126.19,-8 1126.19,-8 1132.19,-8 1138.19,-14 1138.19,-20 1138.19,-20 1138.19,-71 1138.19,-71 1138.19,-77 1132.19,-83 1126.19,-83 1126.19,-83 1004.19,-83 1004.19,-83 998.193,-83 992.193,-77 992.193,-71 992.193,-71 992.193,-20 992.193,-20 992.193,-14 998.193,-8 1004.19,-8\"/>\n",
       "<text text-anchor=\"middle\" x=\"1119.69\" y=\"-15.8\" font-family=\"Times,serif\" font-size=\"14.00\">186</text>\n",
       "</g>\n",
       "<!-- n_per -->\n",
       "<g id=\"node1\" class=\"node\"><title>n_per</title>\n",
       "<ellipse fill=\"none\" stroke=\"black\" cx=\"83.1926\" cy=\"-129\" rx=\"83.3857\" ry=\"18\"/>\n",
       "<text text-anchor=\"middle\" x=\"83.1926\" y=\"-125.3\" font-family=\"Times,serif\" font-size=\"14.00\">n_per ~ HalfCauchy</text>\n",
       "</g>\n",
       "<!-- y -->\n",
       "<g id=\"node13\" class=\"node\"><title>y</title>\n",
       "<ellipse fill=\"lightgrey\" stroke=\"black\" cx=\"1065.19\" cy=\"-57\" rx=\"64.9885\" ry=\"18\"/>\n",
       "<text text-anchor=\"middle\" x=\"1065.19\" y=\"-53.3\" font-family=\"Times,serif\" font-size=\"14.00\">y ~ MvNormal</text>\n",
       "</g>\n",
       "<!-- n_per&#45;&gt;y -->\n",
       "<g id=\"edge1\" class=\"edge\"><title>n_per&#45;&gt;y</title>\n",
       "<path fill=\"none\" stroke=\"black\" d=\"M141.428,-116.12C152.598,-114.159 164.229,-112.334 175.193,-111 475.786,-74.4189 836.698,-62.7964 990.203,-59.3491\"/>\n",
       "<polygon fill=\"black\" stroke=\"black\" points=\"990.532,-62.8428 1000.45,-59.1242 990.378,-55.8445 990.532,-62.8428\"/>\n",
       "</g>\n",
       "<!-- alpha -->\n",
       "<g id=\"node2\" class=\"node\"><title>alpha</title>\n",
       "<ellipse fill=\"none\" stroke=\"black\" cx=\"252.193\" cy=\"-129\" rx=\"68.4888\" ry=\"18\"/>\n",
       "<text text-anchor=\"middle\" x=\"252.193\" y=\"-125.3\" font-family=\"Times,serif\" font-size=\"14.00\">alpha ~ Gamma</text>\n",
       "</g>\n",
       "<!-- alpha&#45;&gt;y -->\n",
       "<g id=\"edge2\" class=\"edge\"><title>alpha&#45;&gt;y</title>\n",
       "<path fill=\"none\" stroke=\"black\" d=\"M300.463,-116.218C309.943,-114.223 319.845,-112.361 329.193,-111 569.194,-76.0543 856.737,-63.8095 990.249,-59.8015\"/>\n",
       "<polygon fill=\"black\" stroke=\"black\" points=\"990.474,-63.2965 1000.37,-59.5048 990.269,-56.2995 990.474,-63.2965\"/>\n",
       "</g>\n",
       "<!-- l_pdecay -->\n",
       "<g id=\"node3\" class=\"node\"><title>l_pdecay</title>\n",
       "<ellipse fill=\"none\" stroke=\"black\" cx=\"419.193\" cy=\"-129\" rx=\"81.4863\" ry=\"18\"/>\n",
       "<text text-anchor=\"middle\" x=\"419.193\" y=\"-125.3\" font-family=\"Times,serif\" font-size=\"14.00\">l_pdecay ~ Gamma</text>\n",
       "</g>\n",
       "<!-- l_pdecay&#45;&gt;y -->\n",
       "<g id=\"edge3\" class=\"edge\"><title>l_pdecay&#45;&gt;y</title>\n",
       "<path fill=\"none\" stroke=\"black\" d=\"M477.16,-116.242C487.787,-114.317 498.802,-112.473 509.193,-111 681.716,-86.5358 886.001,-70.3016 992.444,-62.7979\"/>\n",
       "<polygon fill=\"black\" stroke=\"black\" points=\"992.704,-66.2884 1002.44,-62.099 992.215,-59.3055 992.704,-66.2884\"/>\n",
       "</g>\n",
       "<!-- l_trend -->\n",
       "<g id=\"node4\" class=\"node\"><title>l_trend</title>\n",
       "<ellipse fill=\"none\" stroke=\"black\" cx=\"592.193\" cy=\"-129\" rx=\"74.187\" ry=\"18\"/>\n",
       "<text text-anchor=\"middle\" x=\"592.193\" y=\"-125.3\" font-family=\"Times,serif\" font-size=\"14.00\">l_trend ~ Gamma</text>\n",
       "</g>\n",
       "<!-- l_trend&#45;&gt;y -->\n",
       "<g id=\"edge4\" class=\"edge\"><title>l_trend&#45;&gt;y</title>\n",
       "<path fill=\"none\" stroke=\"black\" d=\"M645.672,-116.498C655.47,-114.547 665.622,-112.628 675.193,-111 787.044,-91.9671 917.872,-75.3271 996.003,-65.983\"/>\n",
       "<polygon fill=\"black\" stroke=\"black\" points=\"996.686,-69.4266 1006.2,-64.769 995.858,-62.4757 996.686,-69.4266\"/>\n",
       "</g>\n",
       "<!-- l_psmooth -->\n",
       "<g id=\"node5\" class=\"node\"><title>l_psmooth</title>\n",
       "<ellipse fill=\"none\" stroke=\"black\" cx=\"771.193\" cy=\"-129\" rx=\"87.1846\" ry=\"18\"/>\n",
       "<text text-anchor=\"middle\" x=\"771.193\" y=\"-125.3\" font-family=\"Times,serif\" font-size=\"14.00\">l_psmooth ~ Gamma</text>\n",
       "</g>\n",
       "<!-- l_psmooth&#45;&gt;y -->\n",
       "<g id=\"edge5\" class=\"edge\"><title>l_psmooth&#45;&gt;y</title>\n",
       "<path fill=\"none\" stroke=\"black\" d=\"M826.147,-114.916C877.828,-102.611 954.908,-84.2581 1007.47,-71.7429\"/>\n",
       "<polygon fill=\"black\" stroke=\"black\" points=\"1008.4,-75.1201 1017.32,-69.399 1006.78,-68.3105 1008.4,-75.1201\"/>\n",
       "</g>\n",
       "<!-- n_trend -->\n",
       "<g id=\"node6\" class=\"node\"><title>n_trend</title>\n",
       "<ellipse fill=\"none\" stroke=\"black\" cx=\"966.193\" cy=\"-129\" rx=\"89.8845\" ry=\"18\"/>\n",
       "<text text-anchor=\"middle\" x=\"966.193\" y=\"-125.3\" font-family=\"Times,serif\" font-size=\"14.00\">n_trend ~ HalfCauchy</text>\n",
       "</g>\n",
       "<!-- n_trend&#45;&gt;y -->\n",
       "<g id=\"edge6\" class=\"edge\"><title>n_trend&#45;&gt;y</title>\n",
       "<path fill=\"none\" stroke=\"black\" d=\"M989.404,-111.588C1002.78,-102.13 1019.77,-90.1198 1034.27,-79.868\"/>\n",
       "<polygon fill=\"black\" stroke=\"black\" points=\"1036.32,-82.6988 1042.47,-74.0676 1032.28,-76.9832 1036.32,-82.6988\"/>\n",
       "</g>\n",
       "<!-- n_noise -->\n",
       "<g id=\"node7\" class=\"node\"><title>n_noise</title>\n",
       "<ellipse fill=\"none\" stroke=\"black\" cx=\"1165.19\" cy=\"-129\" rx=\"90.9839\" ry=\"18\"/>\n",
       "<text text-anchor=\"middle\" x=\"1165.19\" y=\"-125.3\" font-family=\"Times,serif\" font-size=\"14.00\">n_noise ~ HalfNormal</text>\n",
       "</g>\n",
       "<!-- n_noise&#45;&gt;y -->\n",
       "<g id=\"edge7\" class=\"edge\"><title>n_noise&#45;&gt;y</title>\n",
       "<path fill=\"none\" stroke=\"black\" d=\"M1141.75,-111.588C1128.23,-102.13 1111.08,-90.1198 1096.43,-79.868\"/>\n",
       "<polygon fill=\"black\" stroke=\"black\" points=\"1098.35,-76.935 1088.15,-74.0676 1094.33,-82.6696 1098.35,-76.935\"/>\n",
       "</g>\n",
       "<!-- period -->\n",
       "<g id=\"node8\" class=\"node\"><title>period</title>\n",
       "<ellipse fill=\"none\" stroke=\"black\" cx=\"1344.19\" cy=\"-129\" rx=\"70.3881\" ry=\"18\"/>\n",
       "<text text-anchor=\"middle\" x=\"1344.19\" y=\"-125.3\" font-family=\"Times,serif\" font-size=\"14.00\">period ~ Normal</text>\n",
       "</g>\n",
       "<!-- period&#45;&gt;y -->\n",
       "<g id=\"edge8\" class=\"edge\"><title>period&#45;&gt;y</title>\n",
       "<path fill=\"none\" stroke=\"black\" d=\"M1295.91,-115.887C1247.52,-103.744 1173.03,-85.0566 1121.86,-72.218\"/>\n",
       "<polygon fill=\"black\" stroke=\"black\" points=\"1122.5,-68.7708 1111.95,-69.732 1120.8,-75.5604 1122.5,-68.7708\"/>\n",
       "</g>\n",
       "<!-- n_med -->\n",
       "<g id=\"node9\" class=\"node\"><title>n_med</title>\n",
       "<ellipse fill=\"none\" stroke=\"black\" cx=\"1519.19\" cy=\"-129\" rx=\"87.1846\" ry=\"18\"/>\n",
       "<text text-anchor=\"middle\" x=\"1519.19\" y=\"-125.3\" font-family=\"Times,serif\" font-size=\"14.00\">n_med ~ HalfCauchy</text>\n",
       "</g>\n",
       "<!-- n_med&#45;&gt;y -->\n",
       "<g id=\"edge9\" class=\"edge\"><title>n_med&#45;&gt;y</title>\n",
       "<path fill=\"none\" stroke=\"black\" d=\"M1455.98,-116.544C1445.05,-114.639 1433.8,-112.724 1423.19,-111 1321.97,-94.5479 1204.29,-77.5296 1132.29,-67.3552\"/>\n",
       "<polygon fill=\"black\" stroke=\"black\" points=\"1132.39,-63.8357 1122,-65.9046 1131.42,-70.7671 1132.39,-63.8357\"/>\n",
       "</g>\n",
       "<!-- l_noise -->\n",
       "<g id=\"node10\" class=\"node\"><title>l_noise</title>\n",
       "<ellipse fill=\"none\" stroke=\"black\" cx=\"1699.19\" cy=\"-129\" rx=\"74.9875\" ry=\"18\"/>\n",
       "<text text-anchor=\"middle\" x=\"1699.19\" y=\"-125.3\" font-family=\"Times,serif\" font-size=\"14.00\">l_noise ~ Gamma</text>\n",
       "</g>\n",
       "<!-- l_noise&#45;&gt;y -->\n",
       "<g id=\"edge10\" class=\"edge\"><title>l_noise&#45;&gt;y</title>\n",
       "<path fill=\"none\" stroke=\"black\" d=\"M1645.57,-116.286C1635.51,-114.333 1625.05,-112.469 1615.19,-111 1445.32,-85.6951 1244.04,-69.862 1138.37,-62.6291\"/>\n",
       "<polygon fill=\"black\" stroke=\"black\" points=\"1138.35,-59.1198 1128.14,-61.9351 1137.88,-66.1038 1138.35,-59.1198\"/>\n",
       "</g>\n",
       "<!-- l_med -->\n",
       "<g id=\"node11\" class=\"node\"><title>l_med</title>\n",
       "<ellipse fill=\"none\" stroke=\"black\" cx=\"1863.19\" cy=\"-129\" rx=\"71.4873\" ry=\"18\"/>\n",
       "<text text-anchor=\"middle\" x=\"1863.19\" y=\"-125.3\" font-family=\"Times,serif\" font-size=\"14.00\">l_med ~ Gamma</text>\n",
       "</g>\n",
       "<!-- l_med&#45;&gt;y -->\n",
       "<g id=\"edge11\" class=\"edge\"><title>l_med&#45;&gt;y</title>\n",
       "<path fill=\"none\" stroke=\"black\" d=\"M1812.59,-116.165C1802.88,-114.2 1792.75,-112.362 1783.19,-111 1550.07,-77.7824 1271.21,-64.7521 1140.18,-60.1865\"/>\n",
       "<polygon fill=\"black\" stroke=\"black\" points=\"1139.98,-56.6777 1129.87,-59.834 1139.74,-63.6736 1139.98,-56.6777\"/>\n",
       "</g>\n",
       "<!-- sig -->\n",
       "<g id=\"node12\" class=\"node\"><title>sig</title>\n",
       "<ellipse fill=\"none\" stroke=\"black\" cx=\"2026.19\" cy=\"-129\" rx=\"73.387\" ry=\"18\"/>\n",
       "<text text-anchor=\"middle\" x=\"2026.19\" y=\"-125.3\" font-family=\"Times,serif\" font-size=\"14.00\">sig ~ HalfNormal</text>\n",
       "</g>\n",
       "<!-- sig&#45;&gt;y -->\n",
       "<g id=\"edge12\" class=\"edge\"><title>sig&#45;&gt;y</title>\n",
       "<path fill=\"none\" stroke=\"black\" d=\"M1974.14,-116.164C1963.92,-114.174 1953.25,-112.327 1943.19,-111 1647.57,-72.0029 1292.11,-61.6611 1140.09,-58.949\"/>\n",
       "<polygon fill=\"black\" stroke=\"black\" points=\"1139.99,-55.447 1129.93,-58.7739 1139.87,-62.4459 1139.99,-55.447\"/>\n",
       "</g>\n",
       "</g>\n",
       "</svg>\n"
      ],
      "text/plain": [
       "<graphviz.dot.Digraph at 0x7f4a448d0da0>"
      ]
     },
     "execution_count": 44,
     "metadata": {},
     "output_type": "execute_result"
    }
   ],
   "source": [
    "pm.model_to_graphviz(model=model)"
   ]
  },
  {
   "cell_type": "code",
   "execution_count": 46,
   "metadata": {},
   "outputs": [
    {
     "name": "stderr",
     "output_type": "stream",
     "text": [
      "/accounts/ekarakoy/anaconda3/envs/machine_learning/lib/python3.6/site-packages/theano/tensor/basic.py:6592: FutureWarning: Using a non-tuple sequence for multidimensional indexing is deprecated; use `arr[tuple(seq)]` instead of `arr[seq]`. In the future this will be interpreted as an array index, `arr[np.array(seq)]`, which will result either in an error or a different result.\n",
      "  result[diagonal_slice] = x\n"
     ]
    }
   ],
   "source": [
    "priors = pm.sample_prior_predictive(model=model)"
   ]
  },
  {
   "cell_type": "code",
   "execution_count": 48,
   "metadata": {},
   "outputs": [
    {
     "name": "stderr",
     "output_type": "stream",
     "text": [
      "/accounts/ekarakoy/anaconda3/envs/machine_learning/lib/python3.6/site-packages/theano/tensor/basic.py:6592: FutureWarning: Using a non-tuple sequence for multidimensional indexing is deprecated; use `arr[tuple(seq)]` instead of `arr[seq]`. In the future this will be interpreted as an array index, `arr[np.array(seq)]`, which will result either in an error or a different result.\n",
      "  result[diagonal_slice] = x\n",
      "/accounts/ekarakoy/anaconda3/envs/machine_learning/lib/python3.6/site-packages/theano/tensor/basic.py:6592: FutureWarning: Using a non-tuple sequence for multidimensional indexing is deprecated; use `arr[tuple(seq)]` instead of `arr[seq]`. In the future this will be interpreted as an array index, `arr[np.array(seq)]`, which will result either in an error or a different result.\n",
      "  result[diagonal_slice] = x\n",
      "/accounts/ekarakoy/anaconda3/envs/machine_learning/lib/python3.6/site-packages/theano/tensor/basic.py:6592: FutureWarning: Using a non-tuple sequence for multidimensional indexing is deprecated; use `arr[tuple(seq)]` instead of `arr[seq]`. In the future this will be interpreted as an array index, `arr[np.array(seq)]`, which will result either in an error or a different result.\n",
      "  result[diagonal_slice] = x\n",
      "/accounts/ekarakoy/anaconda3/envs/machine_learning/lib/python3.6/site-packages/theano/tensor/basic.py:6592: FutureWarning: Using a non-tuple sequence for multidimensional indexing is deprecated; use `arr[tuple(seq)]` instead of `arr[seq]`. In the future this will be interpreted as an array index, `arr[np.array(seq)]`, which will result either in an error or a different result.\n",
      "  result[diagonal_slice] = x\n",
      "/accounts/ekarakoy/anaconda3/envs/machine_learning/lib/python3.6/site-packages/theano/tensor/basic.py:6592: FutureWarning: Using a non-tuple sequence for multidimensional indexing is deprecated; use `arr[tuple(seq)]` instead of `arr[seq]`. In the future this will be interpreted as an array index, `arr[np.array(seq)]`, which will result either in an error or a different result.\n",
      "  result[diagonal_slice] = x\n",
      "/accounts/ekarakoy/anaconda3/envs/machine_learning/lib/python3.6/site-packages/theano/tensor/basic.py:6592: FutureWarning: Using a non-tuple sequence for multidimensional indexing is deprecated; use `arr[tuple(seq)]` instead of `arr[seq]`. In the future this will be interpreted as an array index, `arr[np.array(seq)]`, which will result either in an error or a different result.\n",
      "  result[diagonal_slice] = x\n",
      "/accounts/ekarakoy/anaconda3/envs/machine_learning/lib/python3.6/site-packages/theano/tensor/basic.py:6592: FutureWarning: Using a non-tuple sequence for multidimensional indexing is deprecated; use `arr[tuple(seq)]` instead of `arr[seq]`. In the future this will be interpreted as an array index, `arr[np.array(seq)]`, which will result either in an error or a different result.\n",
      "  result[diagonal_slice] = x\n",
      "/accounts/ekarakoy/anaconda3/envs/machine_learning/lib/python3.6/site-packages/theano/tensor/basic.py:6592: FutureWarning: Using a non-tuple sequence for multidimensional indexing is deprecated; use `arr[tuple(seq)]` instead of `arr[seq]`. In the future this will be interpreted as an array index, `arr[np.array(seq)]`, which will result either in an error or a different result.\n",
      "  result[diagonal_slice] = x\n",
      "/accounts/ekarakoy/anaconda3/envs/machine_learning/lib/python3.6/site-packages/theano/tensor/basic.py:6592: FutureWarning: Using a non-tuple sequence for multidimensional indexing is deprecated; use `arr[tuple(seq)]` instead of `arr[seq]`. In the future this will be interpreted as an array index, `arr[np.array(seq)]`, which will result either in an error or a different result.\n",
      "  result[diagonal_slice] = x\n",
      "/accounts/ekarakoy/anaconda3/envs/machine_learning/lib/python3.6/site-packages/theano/tensor/basic.py:6592: FutureWarning: Using a non-tuple sequence for multidimensional indexing is deprecated; use `arr[tuple(seq)]` instead of `arr[seq]`. In the future this will be interpreted as an array index, `arr[np.array(seq)]`, which will result either in an error or a different result.\n",
      "  result[diagonal_slice] = x\n",
      "/accounts/ekarakoy/anaconda3/envs/machine_learning/lib/python3.6/site-packages/theano/tensor/basic.py:6592: FutureWarning: Using a non-tuple sequence for multidimensional indexing is deprecated; use `arr[tuple(seq)]` instead of `arr[seq]`. In the future this will be interpreted as an array index, `arr[np.array(seq)]`, which will result either in an error or a different result.\n",
      "  result[diagonal_slice] = x\n",
      "  0%|          | 0/5000 [00:00<?, ?it/s]/accounts/ekarakoy/anaconda3/envs/machine_learning/lib/python3.6/site-packages/theano/tensor/basic.py:6592: FutureWarning: Using a non-tuple sequence for multidimensional indexing is deprecated; use `arr[tuple(seq)]` instead of `arr[seq]`. In the future this will be interpreted as an array index, `arr[np.array(seq)]`, which will result either in an error or a different result.\n",
      "  result[diagonal_slice] = x\n",
      "logp = -81.726, ||grad|| = 0.63762: 100%|██████████| 547/547 [01:21<00:00,  6.73it/s] \n"
     ]
    }
   ],
   "source": [
    "with model:\n",
    "    mp = pm.find_MAP(include_transformed=True)"
   ]
  },
  {
   "cell_type": "code",
   "execution_count": null,
   "metadata": {},
   "outputs": [],
   "source": [
    "# display the results, dont show transformed parameter values\n",
    "sorted([name+\":\"+str(mp[name]) for name in mp.keys() if not name.endswith(\"_\")])"
   ]
  }
 ],
 "metadata": {
  "kernelspec": {
   "display_name": "Python [conda env:machine_learning]",
   "language": "python",
   "name": "conda-env-machine_learning-py"
  },
  "language_info": {
   "codemirror_mode": {
    "name": "ipython",
    "version": 3
   },
   "file_extension": ".py",
   "mimetype": "text/x-python",
   "name": "python",
   "nbconvert_exporter": "python",
   "pygments_lexer": "ipython3",
   "version": "3.6.6"
  }
 },
 "nbformat": 4,
 "nbformat_minor": 2
}
