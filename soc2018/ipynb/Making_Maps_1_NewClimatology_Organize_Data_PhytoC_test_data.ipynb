{
 "cells": [
  {
   "cell_type": "markdown",
   "metadata": {},
   "source": [
    "This notebook shows how to put the data together into a coherent structure before creating the CHL, CHL anomay, SST anomaly and CHL-SST anomaly sign relation maps. The specific operations described here include:\n",
    "* Build lists containing full_paths of NC files; one list per sensor (aqua/viirs) and type (monthly/climatology)\n",
    "* Build Dictionaries of .NC files keyed by month\n",
    "* Collect all dictionaries in a single dictionary\n",
    "* Pickle (serialize) the dictionary into a binary file"
   ]
  },
  {
   "cell_type": "code",
   "execution_count": 1,
   "metadata": {},
   "outputs": [],
   "source": [
    "import pathlib\n",
    "import re\n",
    "from datetime import datetime as dt\n",
    "import pickle\n",
    "from IPython.core.display import HTML, display\n",
    "import os"
   ]
  },
  {
   "cell_type": "code",
   "execution_count": 2,
   "metadata": {},
   "outputs": [
    {
     "data": {
      "text/html": [
       "<style>.container {width: 90% !important}</style>"
      ],
      "text/plain": [
       "<IPython.core.display.HTML object>"
      ]
     },
     "metadata": {},
     "output_type": "display_data"
    }
   ],
   "source": [
    "%matplotlib inline\n",
    "display(HTML(\"<style>.container {width: 90% !important}</style>\"))"
   ]
  },
  {
   "cell_type": "code",
   "execution_count": 3,
   "metadata": {},
   "outputs": [],
   "source": [
    "# HELPER FUNCTIONS\n",
    "\n",
    "def get_string(res, return_str=True):\n",
    "    \"\"\"Converts datetime string with year and doy to abbreviated month, day and year format\"\"\"\n",
    "    res_str_list = [dt.strptime(resi, '%Y%j').strftime('%b-%d-%Y') for resi in res]\n",
    "    if return_str:\n",
    "        return f'{res_str_list[0]} - {res_str_list[1]}'\n",
    "    else:\n",
    "        return res_str_list\n",
    "\n",
    "\n",
    "def build_monthly_dict(file_list, verbose=True):\n",
    "    \"\"\"Build dictionaries from lists of climatologies and monthlies\"\"\"\n",
    "    # regex to retrieve date range from filenames\n",
    "    date_pat = re.compile(r'[AV]?(\\d{7})')\n",
    "    # loop in parallel through monthlies and climatology lists\n",
    "    # both lists were sorted to ensure corresponding months\n",
    "    monthly_dict = {}\n",
    "    for file in file_list:\n",
    "        # extract list of dates beginning and ending dates  in year and doy format\n",
    "        #     from filename.\n",
    "        dates = date_pat.findall(file.as_posix())\n",
    "        # get convert date range strings to abbrev. month, day, year\n",
    "        date_rng_str = get_string(dates)\n",
    "        # assert that both dates have same abbrev month:\n",
    "        assert date_rng_str.count(date_rng_str[:3]) == 2\n",
    "        # set dictionary key as abbreviated month name\n",
    "        monthly_dict[date_rng_str[:3]] = file\n",
    "        if verbose:\n",
    "            print(f' {date_rng_str} => {file.as_posix()}')\n",
    "    return monthly_dict"
   ]
  },
  {
   "cell_type": "code",
   "execution_count": 5,
   "metadata": {},
   "outputs": [],
   "source": [
    "home = pathlib.Path.home()\n",
    "data_main_dir = home / 'DATA/SOC/SOC_2018'\n",
    "aqua_mc_dir = data_main_dir / 'Aqua_MC'\n",
    "aqua_mo_dir = data_main_dir / 'Aqua_MO'\n",
    "aqua_mc_chl_dir = aqua_mc_dir / 'CHLOR_A_2003_2017'\n",
    "aqua_mc_sst_dir = aqua_mc_dir / 'SST_2003_2017'\n",
    "aqua_mc_bbp_dir = aqua_mc_dir / 'BBP_443_GIOP_2003_2017'\n",
    "aqua_mo_chl_dir = aqua_mo_dir / 'chlor_a'\n",
    "aqua_mo_sst_dir = aqua_mo_dir / 'sst'\n",
    "aqua_mo_bbp_dir = aqua_mo_dir / 'bbp_443_giop/test_data'"
   ]
  },
  {
   "cell_type": "code",
   "execution_count": 6,
   "metadata": {},
   "outputs": [],
   "source": [
    "assert os.path.exists(aqua_mc_chl_dir)\n",
    "assert os.path.exists(aqua_mc_sst_dir)\n",
    "assert os.path.exists(aqua_mc_bbp_dir)\n",
    "assert os.path.exists(aqua_mo_chl_dir)\n",
    "assert os.path.exists(aqua_mo_sst_dir)\n",
    "assert os.path.exists(aqua_mo_bbp_dir)"
   ]
  },
  {
   "cell_type": "markdown",
   "metadata": {},
   "source": [
    "<u>Build lists of paths</u>"
   ]
  },
  {
   "cell_type": "code",
   "execution_count": 11,
   "metadata": {},
   "outputs": [],
   "source": [
    "# sst climatology from aqua\n",
    "aqua_mc_sst_list = sorted([file for file in aqua_mc_sst_dir.glob('*L3m*')])\n",
    "# chl climatology from aqua\n",
    "aqua_mc_chl_list = sorted([file for file in aqua_mc_chl_dir.glob('*L3m*')])\n",
    "# bbp climatology from aqua\n",
    "aqua_mc_bbp_list = sorted([file for file in aqua_mc_bbp_dir.glob('*L3m*')])\n",
    "# sst monthlies from aqua\n",
    "aqua_mo_sst_list = sorted([file for file in aqua_mo_sst_dir.glob('*MO*')])\n",
    "# chl monthlies from aqua\n",
    "aqua_mo_chl_list = sorted([file for file in aqua_mo_chl_dir.glob('*MO*')])\n",
    "# bbp monthlies from aqua\n",
    "aqua_mo_bbp_list = sorted([file for file in aqua_mo_bbp_dir.glob('*MO*')])"
   ]
  },
  {
   "cell_type": "code",
   "execution_count": 12,
   "metadata": {},
   "outputs": [
    {
     "data": {
      "text/plain": [
       "[PosixPath('/accounts/ekarakoy/DATA/SOC/SOC_2018/Aqua_MO/bbp_443_giop/test_data/A20180012018031.L3m_MO_bbp_443_giop_9km.nc'),\n",
       " PosixPath('/accounts/ekarakoy/DATA/SOC/SOC_2018/Aqua_MO/bbp_443_giop/test_data/A20180322018059.L3m_MO_bbp_443_giop_9km.nc'),\n",
       " PosixPath('/accounts/ekarakoy/DATA/SOC/SOC_2018/Aqua_MO/bbp_443_giop/test_data/A20180602018090.L3m_MO_bbp_443_giop_9km.nc'),\n",
       " PosixPath('/accounts/ekarakoy/DATA/SOC/SOC_2018/Aqua_MO/bbp_443_giop/test_data/A20180912018120.L3m_MO_bbp_443_giop_9km.nc'),\n",
       " PosixPath('/accounts/ekarakoy/DATA/SOC/SOC_2018/Aqua_MO/bbp_443_giop/test_data/A20181212018151.L3m_MO_bbp_443_giop_9km.nc'),\n",
       " PosixPath('/accounts/ekarakoy/DATA/SOC/SOC_2018/Aqua_MO/bbp_443_giop/test_data/A20181522018181.L3m_MO_bbp_443_giop_9km.nc'),\n",
       " PosixPath('/accounts/ekarakoy/DATA/SOC/SOC_2018/Aqua_MO/bbp_443_giop/test_data/A20181822018212.L3m_MO_bbp_443_giop_9km.nc'),\n",
       " PosixPath('/accounts/ekarakoy/DATA/SOC/SOC_2018/Aqua_MO/bbp_443_giop/test_data/A20182132018243.L3m_MO_bbp_443_giop_9km.nc'),\n",
       " PosixPath('/accounts/ekarakoy/DATA/SOC/SOC_2018/Aqua_MO/bbp_443_giop/test_data/A20182442018273.L3m_MO_bbp_443_giop_9km.nc'),\n",
       " PosixPath('/accounts/ekarakoy/DATA/SOC/SOC_2018/Aqua_MO/bbp_443_giop/test_data/A20182742018304.L3m_MO_bbp_443_giop_9km.nc'),\n",
       " PosixPath('/accounts/ekarakoy/DATA/SOC/SOC_2018/Aqua_MO/bbp_443_giop/test_data/A20183052018334.L3m_MO_bbp_443_giop_9km.nc'),\n",
       " PosixPath('/accounts/ekarakoy/DATA/SOC/SOC_2018/Aqua_MO/bbp_443_giop/test_data/A20183352018365.L3m_MO_bbp_443_giop_9km.nc')]"
      ]
     },
     "execution_count": 12,
     "metadata": {},
     "output_type": "execute_result"
    }
   ],
   "source": [
    "aqua_mo_bbp_list"
   ]
  },
  {
   "cell_type": "markdown",
   "metadata": {},
   "source": [
    "<u>Build dictionaries of NC files</u>\n",
    "\n",
    "verbose option is on by default for visual inspection"
   ]
  },
  {
   "cell_type": "code",
   "execution_count": 13,
   "metadata": {},
   "outputs": [
    {
     "name": "stdout",
     "output_type": "stream",
     "text": [
      " Jan-01-2003 - Jan-31-2017 => /accounts/ekarakoy/DATA/SOC/SOC_2018/Aqua_MC/CHLOR_A_2003_2017/A20030012017031.L3m_MC_chl_9km.nc\n",
      " Feb-01-2003 - Feb-28-2017 => /accounts/ekarakoy/DATA/SOC/SOC_2018/Aqua_MC/CHLOR_A_2003_2017/A20030322017059.L3m_MC_chl_9km.nc\n",
      " Mar-01-2003 - Mar-31-2017 => /accounts/ekarakoy/DATA/SOC/SOC_2018/Aqua_MC/CHLOR_A_2003_2017/A20030602017090.L3m_MC_chl_9km.nc\n",
      " Apr-01-2003 - Apr-30-2017 => /accounts/ekarakoy/DATA/SOC/SOC_2018/Aqua_MC/CHLOR_A_2003_2017/A20030912017120.L3m_MC_chl_9km.nc\n",
      " May-01-2003 - May-31-2017 => /accounts/ekarakoy/DATA/SOC/SOC_2018/Aqua_MC/CHLOR_A_2003_2017/A20031212017151.L3m_MC_chl_9km.nc\n",
      " Jun-01-2003 - Jun-30-2017 => /accounts/ekarakoy/DATA/SOC/SOC_2018/Aqua_MC/CHLOR_A_2003_2017/A20031522017181.L3m_MC_chl_9km.nc\n",
      " Jul-01-2003 - Jul-31-2017 => /accounts/ekarakoy/DATA/SOC/SOC_2018/Aqua_MC/CHLOR_A_2003_2017/A20031822017212.L3m_MC_chl_9km.nc\n",
      " Aug-01-2003 - Aug-31-2017 => /accounts/ekarakoy/DATA/SOC/SOC_2018/Aqua_MC/CHLOR_A_2003_2017/A20032132017243.L3m_MC_chl_9km.nc\n",
      " Sep-01-2003 - Sep-30-2017 => /accounts/ekarakoy/DATA/SOC/SOC_2018/Aqua_MC/CHLOR_A_2003_2017/A20032442017273.L3m_MC_chl_9km.nc\n",
      " Oct-01-2003 - Oct-31-2017 => /accounts/ekarakoy/DATA/SOC/SOC_2018/Aqua_MC/CHLOR_A_2003_2017/A20032742017304.L3m_MC_chl_9km.nc\n",
      " Nov-01-2003 - Nov-30-2017 => /accounts/ekarakoy/DATA/SOC/SOC_2018/Aqua_MC/CHLOR_A_2003_2017/A20033052017334.L3m_MC_chl_9km.nc\n",
      " Dec-01-2003 - Dec-31-2017 => /accounts/ekarakoy/DATA/SOC/SOC_2018/Aqua_MC/CHLOR_A_2003_2017/A20033352017365.L3m_MC_chl_9km.nc\n"
     ]
    }
   ],
   "source": [
    "# Aqua chl climatology dictionary\n",
    "a_mc_chl_dict = build_monthly_dict(aqua_mc_chl_list)"
   ]
  },
  {
   "cell_type": "code",
   "execution_count": 14,
   "metadata": {},
   "outputs": [
    {
     "name": "stdout",
     "output_type": "stream",
     "text": [
      " Jan-01-2018 - Jan-31-2018 => /accounts/ekarakoy/DATA/SOC/SOC_2018/Aqua_MO/chlor_a/A20180012018031.L3m_MO_CHL_chlor_a_9km.nc\n",
      " Feb-01-2018 - Feb-28-2018 => /accounts/ekarakoy/DATA/SOC/SOC_2018/Aqua_MO/chlor_a/A20180322018059.L3m_MO_CHL_chlor_a_9km.nc\n",
      " Mar-01-2018 - Mar-31-2018 => /accounts/ekarakoy/DATA/SOC/SOC_2018/Aqua_MO/chlor_a/A20180602018090.L3m_MO_CHL_chlor_a_9km.nc\n",
      " Apr-01-2018 - Apr-30-2018 => /accounts/ekarakoy/DATA/SOC/SOC_2018/Aqua_MO/chlor_a/A20180912018120.L3m_MO_CHL_chlor_a_9km.nc\n",
      " May-01-2018 - May-31-2018 => /accounts/ekarakoy/DATA/SOC/SOC_2018/Aqua_MO/chlor_a/A20181212018151.L3m_MO_CHL_chlor_a_9km.nc\n",
      " Jun-01-2018 - Jun-30-2018 => /accounts/ekarakoy/DATA/SOC/SOC_2018/Aqua_MO/chlor_a/A20181522018181.L3m_MO_CHL_chlor_a_9km.nc\n",
      " Jul-01-2018 - Jul-31-2018 => /accounts/ekarakoy/DATA/SOC/SOC_2018/Aqua_MO/chlor_a/A20181822018212.L3m_MO_CHL_chlor_a_9km.nc\n",
      " Aug-01-2018 - Aug-31-2018 => /accounts/ekarakoy/DATA/SOC/SOC_2018/Aqua_MO/chlor_a/A20182132018243.L3m_MO_CHL_chlor_a_9km.nc\n",
      " Sep-01-2018 - Sep-30-2018 => /accounts/ekarakoy/DATA/SOC/SOC_2018/Aqua_MO/chlor_a/A20182442018273.L3m_MO_CHL_chlor_a_9km.nc\n",
      " Oct-01-2018 - Oct-31-2018 => /accounts/ekarakoy/DATA/SOC/SOC_2018/Aqua_MO/chlor_a/A20182742018304.L3m_MO_CHL_chlor_a_9km.nc\n",
      " Nov-01-2018 - Nov-30-2018 => /accounts/ekarakoy/DATA/SOC/SOC_2018/Aqua_MO/chlor_a/A20183052018334.L3m_MO_CHL_chlor_a_9km.nc\n",
      " Dec-01-2018 - Dec-31-2018 => /accounts/ekarakoy/DATA/SOC/SOC_2018/Aqua_MO/chlor_a/A20183352018365.L3m_MO_CHL_chlor_a_9km.nc\n"
     ]
    }
   ],
   "source": [
    "# Aqua chl monthlies\n",
    "a_mo_chl_dict = build_monthly_dict(aqua_mo_chl_list)"
   ]
  },
  {
   "cell_type": "code",
   "execution_count": 15,
   "metadata": {},
   "outputs": [
    {
     "name": "stdout",
     "output_type": "stream",
     "text": [
      " Jan-01-2003 - Jan-31-2017 => /accounts/ekarakoy/DATA/SOC/SOC_2018/Aqua_MC/BBP_443_GIOP_2003_2017/A20030012017031.L3m_MC_bbp_443_giop_9km.nc\n",
      " Feb-01-2003 - Feb-28-2017 => /accounts/ekarakoy/DATA/SOC/SOC_2018/Aqua_MC/BBP_443_GIOP_2003_2017/A20030322017059.L3m_MC_bbp_443_giop_9km.nc\n",
      " Mar-01-2003 - Mar-31-2017 => /accounts/ekarakoy/DATA/SOC/SOC_2018/Aqua_MC/BBP_443_GIOP_2003_2017/A20030602017090.L3m_MC_bbp_443_giop_9km.nc\n",
      " Apr-01-2003 - Apr-30-2017 => /accounts/ekarakoy/DATA/SOC/SOC_2018/Aqua_MC/BBP_443_GIOP_2003_2017/A20030912017120.L3m_MC_bbp_443_giop_9km.nc\n",
      " May-01-2003 - May-31-2017 => /accounts/ekarakoy/DATA/SOC/SOC_2018/Aqua_MC/BBP_443_GIOP_2003_2017/A20031212017151.L3m_MC_bbp_443_giop_9km.nc\n",
      " Jun-01-2003 - Jun-30-2017 => /accounts/ekarakoy/DATA/SOC/SOC_2018/Aqua_MC/BBP_443_GIOP_2003_2017/A20031522017181.L3m_MC_bbp_443_giop_9km.nc\n",
      " Jul-01-2003 - Jul-31-2017 => /accounts/ekarakoy/DATA/SOC/SOC_2018/Aqua_MC/BBP_443_GIOP_2003_2017/A20031822017212.L3m_MC_bbp_443_giop_9km.nc\n",
      " Aug-01-2003 - Aug-31-2017 => /accounts/ekarakoy/DATA/SOC/SOC_2018/Aqua_MC/BBP_443_GIOP_2003_2017/A20032132017243.L3m_MC_bbp_443_giop_9km.nc\n",
      " Sep-01-2003 - Sep-30-2017 => /accounts/ekarakoy/DATA/SOC/SOC_2018/Aqua_MC/BBP_443_GIOP_2003_2017/A20032442017273.L3m_MC_bbp_443_giop_9km.nc\n",
      " Oct-01-2003 - Oct-31-2017 => /accounts/ekarakoy/DATA/SOC/SOC_2018/Aqua_MC/BBP_443_GIOP_2003_2017/A20032742017304.L3m_MC_bbp_443_giop_9km.nc\n",
      " Nov-01-2003 - Nov-30-2017 => /accounts/ekarakoy/DATA/SOC/SOC_2018/Aqua_MC/BBP_443_GIOP_2003_2017/A20033052017334.L3m_MC_bbp_443_giop_9km.nc\n",
      " Dec-01-2003 - Dec-31-2017 => /accounts/ekarakoy/DATA/SOC/SOC_2018/Aqua_MC/BBP_443_GIOP_2003_2017/A20033352017365.L3m_MC_bbp_443_giop_9km.nc\n"
     ]
    }
   ],
   "source": [
    "# Aqua bbp climatology\n",
    "a_mc_bbp_dict = build_monthly_dict(aqua_mc_bbp_list)"
   ]
  },
  {
   "cell_type": "code",
   "execution_count": 16,
   "metadata": {},
   "outputs": [
    {
     "data": {
      "text/plain": [
       "[PosixPath('/accounts/ekarakoy/DATA/SOC/SOC_2018/Aqua_MO/bbp_443_giop/test_data/A20180012018031.L3m_MO_bbp_443_giop_9km.nc'),\n",
       " PosixPath('/accounts/ekarakoy/DATA/SOC/SOC_2018/Aqua_MO/bbp_443_giop/test_data/A20180322018059.L3m_MO_bbp_443_giop_9km.nc'),\n",
       " PosixPath('/accounts/ekarakoy/DATA/SOC/SOC_2018/Aqua_MO/bbp_443_giop/test_data/A20180602018090.L3m_MO_bbp_443_giop_9km.nc'),\n",
       " PosixPath('/accounts/ekarakoy/DATA/SOC/SOC_2018/Aqua_MO/bbp_443_giop/test_data/A20180912018120.L3m_MO_bbp_443_giop_9km.nc'),\n",
       " PosixPath('/accounts/ekarakoy/DATA/SOC/SOC_2018/Aqua_MO/bbp_443_giop/test_data/A20181212018151.L3m_MO_bbp_443_giop_9km.nc'),\n",
       " PosixPath('/accounts/ekarakoy/DATA/SOC/SOC_2018/Aqua_MO/bbp_443_giop/test_data/A20181522018181.L3m_MO_bbp_443_giop_9km.nc'),\n",
       " PosixPath('/accounts/ekarakoy/DATA/SOC/SOC_2018/Aqua_MO/bbp_443_giop/test_data/A20181822018212.L3m_MO_bbp_443_giop_9km.nc'),\n",
       " PosixPath('/accounts/ekarakoy/DATA/SOC/SOC_2018/Aqua_MO/bbp_443_giop/test_data/A20182132018243.L3m_MO_bbp_443_giop_9km.nc'),\n",
       " PosixPath('/accounts/ekarakoy/DATA/SOC/SOC_2018/Aqua_MO/bbp_443_giop/test_data/A20182442018273.L3m_MO_bbp_443_giop_9km.nc'),\n",
       " PosixPath('/accounts/ekarakoy/DATA/SOC/SOC_2018/Aqua_MO/bbp_443_giop/test_data/A20182742018304.L3m_MO_bbp_443_giop_9km.nc'),\n",
       " PosixPath('/accounts/ekarakoy/DATA/SOC/SOC_2018/Aqua_MO/bbp_443_giop/test_data/A20183052018334.L3m_MO_bbp_443_giop_9km.nc'),\n",
       " PosixPath('/accounts/ekarakoy/DATA/SOC/SOC_2018/Aqua_MO/bbp_443_giop/test_data/A20183352018365.L3m_MO_bbp_443_giop_9km.nc')]"
      ]
     },
     "execution_count": 16,
     "metadata": {},
     "output_type": "execute_result"
    }
   ],
   "source": [
    "aqua_mo_bbp_list"
   ]
  },
  {
   "cell_type": "code",
   "execution_count": 17,
   "metadata": {},
   "outputs": [
    {
     "name": "stdout",
     "output_type": "stream",
     "text": [
      " Jan-01-2018 - Jan-31-2018 => /accounts/ekarakoy/DATA/SOC/SOC_2018/Aqua_MO/bbp_443_giop/test_data/A20180012018031.L3m_MO_bbp_443_giop_9km.nc\n",
      " Feb-01-2018 - Feb-28-2018 => /accounts/ekarakoy/DATA/SOC/SOC_2018/Aqua_MO/bbp_443_giop/test_data/A20180322018059.L3m_MO_bbp_443_giop_9km.nc\n",
      " Mar-01-2018 - Mar-31-2018 => /accounts/ekarakoy/DATA/SOC/SOC_2018/Aqua_MO/bbp_443_giop/test_data/A20180602018090.L3m_MO_bbp_443_giop_9km.nc\n",
      " Apr-01-2018 - Apr-30-2018 => /accounts/ekarakoy/DATA/SOC/SOC_2018/Aqua_MO/bbp_443_giop/test_data/A20180912018120.L3m_MO_bbp_443_giop_9km.nc\n",
      " May-01-2018 - May-31-2018 => /accounts/ekarakoy/DATA/SOC/SOC_2018/Aqua_MO/bbp_443_giop/test_data/A20181212018151.L3m_MO_bbp_443_giop_9km.nc\n",
      " Jun-01-2018 - Jun-30-2018 => /accounts/ekarakoy/DATA/SOC/SOC_2018/Aqua_MO/bbp_443_giop/test_data/A20181522018181.L3m_MO_bbp_443_giop_9km.nc\n",
      " Jul-01-2018 - Jul-31-2018 => /accounts/ekarakoy/DATA/SOC/SOC_2018/Aqua_MO/bbp_443_giop/test_data/A20181822018212.L3m_MO_bbp_443_giop_9km.nc\n",
      " Aug-01-2018 - Aug-31-2018 => /accounts/ekarakoy/DATA/SOC/SOC_2018/Aqua_MO/bbp_443_giop/test_data/A20182132018243.L3m_MO_bbp_443_giop_9km.nc\n",
      " Sep-01-2018 - Sep-30-2018 => /accounts/ekarakoy/DATA/SOC/SOC_2018/Aqua_MO/bbp_443_giop/test_data/A20182442018273.L3m_MO_bbp_443_giop_9km.nc\n",
      " Oct-01-2018 - Oct-31-2018 => /accounts/ekarakoy/DATA/SOC/SOC_2018/Aqua_MO/bbp_443_giop/test_data/A20182742018304.L3m_MO_bbp_443_giop_9km.nc\n",
      " Nov-01-2018 - Nov-30-2018 => /accounts/ekarakoy/DATA/SOC/SOC_2018/Aqua_MO/bbp_443_giop/test_data/A20183052018334.L3m_MO_bbp_443_giop_9km.nc\n",
      " Dec-01-2018 - Dec-31-2018 => /accounts/ekarakoy/DATA/SOC/SOC_2018/Aqua_MO/bbp_443_giop/test_data/A20183352018365.L3m_MO_bbp_443_giop_9km.nc\n"
     ]
    }
   ],
   "source": [
    "# Pairing Aqua bbp climatology with aqua bbp monthlies\n",
    "a_mo_bbp_dict = build_monthly_dict(aqua_mo_bbp_list)"
   ]
  },
  {
   "cell_type": "code",
   "execution_count": 18,
   "metadata": {},
   "outputs": [
    {
     "name": "stdout",
     "output_type": "stream",
     "text": [
      " Jan-01-2003 - Jan-31-2017 => /accounts/ekarakoy/DATA/SOC/SOC_2018/Aqua_MC/SST_2003_2017/A20030012017031.L3m_MC_sst_9km.nc\n",
      " Feb-01-2003 - Feb-28-2017 => /accounts/ekarakoy/DATA/SOC/SOC_2018/Aqua_MC/SST_2003_2017/A20030322017059.L3m_MC_sst_9km.nc\n",
      " Mar-01-2003 - Mar-31-2017 => /accounts/ekarakoy/DATA/SOC/SOC_2018/Aqua_MC/SST_2003_2017/A20030602017090.L3m_MC_sst_9km.nc\n",
      " Apr-01-2003 - Apr-30-2017 => /accounts/ekarakoy/DATA/SOC/SOC_2018/Aqua_MC/SST_2003_2017/A20030912017120.L3m_MC_sst_9km.nc\n",
      " May-01-2003 - May-31-2017 => /accounts/ekarakoy/DATA/SOC/SOC_2018/Aqua_MC/SST_2003_2017/A20031212017151.L3m_MC_sst_9km.nc\n",
      " Jun-01-2003 - Jun-30-2017 => /accounts/ekarakoy/DATA/SOC/SOC_2018/Aqua_MC/SST_2003_2017/A20031522017181.L3m_MC_sst_9km.nc\n",
      " Jul-01-2003 - Jul-31-2017 => /accounts/ekarakoy/DATA/SOC/SOC_2018/Aqua_MC/SST_2003_2017/A20031822017212.L3m_MC_sst_9km.nc\n",
      " Aug-01-2003 - Aug-31-2017 => /accounts/ekarakoy/DATA/SOC/SOC_2018/Aqua_MC/SST_2003_2017/A20032132017243.L3m_MC_sst_9km.nc\n",
      " Sep-01-2003 - Sep-30-2017 => /accounts/ekarakoy/DATA/SOC/SOC_2018/Aqua_MC/SST_2003_2017/A20032442017273.L3m_MC_sst_9km.nc\n",
      " Oct-01-2003 - Oct-31-2017 => /accounts/ekarakoy/DATA/SOC/SOC_2018/Aqua_MC/SST_2003_2017/A20032742017304.L3m_MC_sst_9km.nc\n",
      " Nov-01-2003 - Nov-30-2017 => /accounts/ekarakoy/DATA/SOC/SOC_2018/Aqua_MC/SST_2003_2017/A20033052017334.L3m_MC_sst_9km.nc\n",
      " Dec-01-2003 - Dec-31-2017 => /accounts/ekarakoy/DATA/SOC/SOC_2018/Aqua_MC/SST_2003_2017/A20033352017365.L3m_MC_sst_9km.nc\n"
     ]
    }
   ],
   "source": [
    "# Aqua SST climatology\n",
    "a_mc_sst_dict = build_monthly_dict(aqua_mc_sst_list)"
   ]
  },
  {
   "cell_type": "code",
   "execution_count": 19,
   "metadata": {},
   "outputs": [
    {
     "name": "stdout",
     "output_type": "stream",
     "text": [
      " Jan-01-2018 - Jan-31-2018 => /accounts/ekarakoy/DATA/SOC/SOC_2018/Aqua_MO/sst/A20180012018031.L3m_MO_SST_sst_9km.nc\n",
      " Feb-01-2018 - Feb-28-2018 => /accounts/ekarakoy/DATA/SOC/SOC_2018/Aqua_MO/sst/A20180322018059.L3m_MO_SST_sst_9km.nc\n",
      " Mar-01-2018 - Mar-31-2018 => /accounts/ekarakoy/DATA/SOC/SOC_2018/Aqua_MO/sst/A20180602018090.L3m_MO_SST_sst_9km.nc\n",
      " Apr-01-2018 - Apr-30-2018 => /accounts/ekarakoy/DATA/SOC/SOC_2018/Aqua_MO/sst/A20180912018120.L3m_MO_SST_sst_9km.nc\n",
      " May-01-2018 - May-31-2018 => /accounts/ekarakoy/DATA/SOC/SOC_2018/Aqua_MO/sst/A20181212018151.L3m_MO_SST_sst_9km.nc\n",
      " Jun-01-2018 - Jun-30-2018 => /accounts/ekarakoy/DATA/SOC/SOC_2018/Aqua_MO/sst/A20181522018181.L3m_MO_SST_sst_9km.nc\n",
      " Jul-01-2018 - Jul-31-2018 => /accounts/ekarakoy/DATA/SOC/SOC_2018/Aqua_MO/sst/A20181822018212.L3m_MO_SST_sst_9km.nc\n",
      " Aug-01-2018 - Aug-31-2018 => /accounts/ekarakoy/DATA/SOC/SOC_2018/Aqua_MO/sst/A20182132018243.L3m_MO_SST_sst_9km.nc\n",
      " Sep-01-2018 - Sep-30-2018 => /accounts/ekarakoy/DATA/SOC/SOC_2018/Aqua_MO/sst/A20182442018273.L3m_MO_SST_sst_9km.nc\n",
      " Oct-01-2018 - Oct-31-2018 => /accounts/ekarakoy/DATA/SOC/SOC_2018/Aqua_MO/sst/A20182742018304.L3m_MO_SST_sst_9km.nc\n",
      " Nov-01-2018 - Nov-30-2018 => /accounts/ekarakoy/DATA/SOC/SOC_2018/Aqua_MO/sst/A20183052018334.L3m_MO_SST_sst_9km.nc\n",
      " Dec-01-2018 - Dec-31-2018 => /accounts/ekarakoy/DATA/SOC/SOC_2018/Aqua_MO/sst/A20183352018365.L3m_MO_SST_sst_9km.nc\n"
     ]
    }
   ],
   "source": [
    "# Pairing aqua sst climatology with aqua sst monthlies\n",
    "a_mo_sst_dict = build_monthly_dict(aqua_mo_sst_list)"
   ]
  },
  {
   "cell_type": "markdown",
   "metadata": {},
   "source": [
    "Use the code above to make a dictionary for both Aqua_MC and VIIRS_MO, both of which keyed by month"
   ]
  },
  {
   "cell_type": "code",
   "execution_count": 20,
   "metadata": {},
   "outputs": [],
   "source": [
    "with open('../PklJar/smi_dicts_2018_9km_test_MC_2003_2017.pkl' , 'wb') as fp:\n",
    "    smi_dict = {'aqua_chl_mc': a_mc_chl_dict,\n",
    "                'aqua_chl_mo': a_mo_chl_dict,\n",
    "                'aqua_sst_mc': a_mc_sst_dict,\n",
    "                'aqua_sst_mo': a_mo_sst_dict,\n",
    "                'aqua_bbp_mc': a_mc_bbp_dict,\n",
    "                'aqua_bbp_mo': a_mo_bbp_dict,\n",
    "             }\n",
    "    pickle.dump(smi_dict, fp, protocol=pickle.HIGHEST_PROTOCOL)"
   ]
  },
  {
   "cell_type": "code",
   "execution_count": null,
   "metadata": {
    "collapsed": true
   },
   "outputs": [],
   "source": []
  }
 ],
 "metadata": {
  "kernelspec": {
   "display_name": "Python [default]",
   "language": "python",
   "name": "python3"
  },
  "language_info": {
   "codemirror_mode": {
    "name": "ipython",
    "version": 3
   },
   "file_extension": ".py",
   "mimetype": "text/x-python",
   "name": "python",
   "nbconvert_exporter": "python",
   "pygments_lexer": "ipython3",
   "version": "3.6.8"
  }
 },
 "nbformat": 4,
 "nbformat_minor": 2
}
