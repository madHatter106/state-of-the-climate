{
 "cells": [
  {
   "cell_type": "markdown",
   "metadata": {},
   "source": [
    "This notebook downloads L3m data to ultimately create geographic distribution maps of various products to be featured int the report. Files to be downloaded are listed in a text file. The names are parsed for sensor and product identification for the purpose of building reference dictionaries. Note that there's a bit more processing for the monthlies because the list specifies L3bs and I am interested in L3ms.\n",
    "\n",
    "$\\Rightarrow$Uses anaconda kernel"
   ]
  },
  {
   "cell_type": "code",
   "execution_count": 1,
   "metadata": {},
   "outputs": [],
   "source": [
    "from matplotlib import __version__ as vmpl"
   ]
  },
  {
   "cell_type": "code",
   "execution_count": 2,
   "metadata": {},
   "outputs": [
    {
     "data": {
      "text/plain": [
       "'3.0.2'"
      ]
     },
     "execution_count": 2,
     "metadata": {},
     "output_type": "execute_result"
    }
   ],
   "source": [
    "vmpl"
   ]
  },
  {
   "cell_type": "code",
   "execution_count": 3,
   "metadata": {},
   "outputs": [],
   "source": [
    "import os\n",
    "import wget\n",
    "import pathlib\n",
    "from requests.exceptions import HTTPError"
   ]
  },
  {
   "cell_type": "code",
   "execution_count": 4,
   "metadata": {},
   "outputs": [],
   "source": [
    "from datetime import datetime as DT"
   ]
  },
  {
   "cell_type": "code",
   "execution_count": 5,
   "metadata": {},
   "outputs": [],
   "source": [
    "def conv_l3b_name_2_l3m_name(fname):\n",
    "    if 'SST' in fname:\n",
    "        rep_str = '_sst'\n",
    "    else:\n",
    "        rep_str = '_chlor_a'\n",
    "    rep_str1_out = 'L3b'\n",
    "    rep_str1_in = 'L3m'\n",
    "    rep_str2_out = '.nc'\n",
    "    rep_str2_in = rep_str + '_4km.nc'\n",
    "    return fname.replace(rep_str1_out,\n",
    "                         rep_str1_in).replace(rep_str2_out,\n",
    "                                              rep_str2_in)    \n",
    "\n",
    "\n",
    "def wget_file_list(file_dict, key_list, main_dir):\n",
    "    \"\"\"\n",
    "    Takes a dictionary of files (files_dict), a \n",
    "    list of products (key_list) and a target directory \n",
    "    (main_dir).\n",
    "    Downloads and saves data into product-specific \n",
    "    subdirectories created (if nonexistent) in a main_dir.\n",
    "    \"\"\"\n",
    "    for type_ in key_list:\n",
    "        out_dir = os.path.join(main_dir, type_)\n",
    "        if not os.path.exists(out_dir):\n",
    "            os.makedirs(out_dir)\n",
    "        for file in file_dict[type_]:\n",
    "            out_path = os.path.join(out_dir, file)\n",
    "            try:\n",
    "                wget.download(f'{url}{file}', out=f'{out_path}')\n",
    "            except HTTPError:\n",
    "                print(f'{file} not found on server')"
   ]
  },
  {
   "cell_type": "code",
   "execution_count": 6,
   "metadata": {},
   "outputs": [],
   "source": [
    "url = 'https://oceandata.sci.gsfc.nasa.gov/cgi/getfile/'\n",
    "url_hidden = 'https://oceandata.sci/gsfc.nasa/cgi/gethiddenfile'\n",
    "current_year = DT.now().year"
   ]
  },
  {
   "cell_type": "code",
   "execution_count": 11,
   "metadata": {},
   "outputs": [],
   "source": [
    "home = pathlib.Path.home()\n",
    "out_main_dir = (home / 'DATA/SOC/Aqua_MC/').as_posix()\n",
    "mc_ls_path = '../mc_list.txt'\n",
    "mo_ls_path = '../mo_list_l3b.txt' # this is what was in T's email. Reqs. conv. to l3m."
   ]
  },
  {
   "cell_type": "markdown",
   "metadata": {},
   "source": [
    "<u>Download and stash climatology</u>"
   ]
  },
  {
   "cell_type": "code",
   "execution_count": 12,
   "metadata": {},
   "outputs": [
    {
     "ename": "FileNotFoundError",
     "evalue": "[Errno 2] No such file or directory: '../mc_list.txt'",
     "output_type": "error",
     "traceback": [
      "\u001b[0;31m---------------------------------------------------------------------------\u001b[0m",
      "\u001b[0;31mFileNotFoundError\u001b[0m                         Traceback (most recent call last)",
      "\u001b[0;32m<ipython-input-12-6828f62fc461>\u001b[0m in \u001b[0;36m<module>\u001b[0;34m()\u001b[0m\n\u001b[1;32m      1\u001b[0m \u001b[0mmc_dict\u001b[0m \u001b[0;34m=\u001b[0m \u001b[0mdict\u001b[0m\u001b[0;34m(\u001b[0m\u001b[0mchlor_a\u001b[0m\u001b[0;34m=\u001b[0m\u001b[0;34m[\u001b[0m\u001b[0;34m]\u001b[0m\u001b[0;34m,\u001b[0m \u001b[0msst\u001b[0m\u001b[0;34m=\u001b[0m\u001b[0;34m[\u001b[0m\u001b[0;34m]\u001b[0m\u001b[0;34m)\u001b[0m\u001b[0;34m\u001b[0m\u001b[0;34m\u001b[0m\u001b[0m\n\u001b[0;32m----> 2\u001b[0;31m \u001b[0;32mwith\u001b[0m \u001b[0mopen\u001b[0m\u001b[0;34m(\u001b[0m\u001b[0mmc_ls_path\u001b[0m\u001b[0;34m,\u001b[0m \u001b[0;34m'r'\u001b[0m\u001b[0;34m)\u001b[0m \u001b[0;32mas\u001b[0m \u001b[0mf\u001b[0m\u001b[0;34m:\u001b[0m\u001b[0;34m\u001b[0m\u001b[0;34m\u001b[0m\u001b[0m\n\u001b[0m\u001b[1;32m      3\u001b[0m     \u001b[0;32mfor\u001b[0m \u001b[0mline\u001b[0m \u001b[0;32min\u001b[0m \u001b[0mf\u001b[0m\u001b[0;34m:\u001b[0m\u001b[0;34m\u001b[0m\u001b[0;34m\u001b[0m\u001b[0m\n\u001b[1;32m      4\u001b[0m         \u001b[0;32mif\u001b[0m \u001b[0;34m'chlor_a'\u001b[0m \u001b[0;32min\u001b[0m \u001b[0mline\u001b[0m\u001b[0;34m:\u001b[0m\u001b[0;34m\u001b[0m\u001b[0;34m\u001b[0m\u001b[0m\n\u001b[1;32m      5\u001b[0m             \u001b[0mmc_dict\u001b[0m\u001b[0;34m[\u001b[0m\u001b[0;34m'chlor_a'\u001b[0m\u001b[0;34m]\u001b[0m\u001b[0;34m.\u001b[0m\u001b[0mappend\u001b[0m\u001b[0;34m(\u001b[0m\u001b[0mline\u001b[0m\u001b[0;34m.\u001b[0m\u001b[0mstrip\u001b[0m\u001b[0;34m(\u001b[0m\u001b[0;34m)\u001b[0m\u001b[0;34m.\u001b[0m\u001b[0mreplace\u001b[0m\u001b[0;34m(\u001b[0m\u001b[0;34m'4km'\u001b[0m\u001b[0;34m,\u001b[0m \u001b[0;34m'9km'\u001b[0m\u001b[0;34m)\u001b[0m\u001b[0;34m)\u001b[0m\u001b[0;34m\u001b[0m\u001b[0;34m\u001b[0m\u001b[0m\n",
      "\u001b[0;31mFileNotFoundError\u001b[0m: [Errno 2] No such file or directory: '../mc_list.txt'"
     ]
    }
   ],
   "source": [
    "mc_dict = dict(chlor_a=[], sst=[])\n",
    "with open(mc_ls_path, 'r') as f:\n",
    "    for line in f:\n",
    "        if 'chlor_a' in line:\n",
    "            mc_dict['chlor_a'].append(line.strip().replace('4km', '9km'))\n",
    "        else:\n",
    "            mc_dict['sst'].append(line.strip().replace('4km', '9km'))"
   ]
  },
  {
   "cell_type": "code",
   "execution_count": 13,
   "metadata": {},
   "outputs": [
    {
     "data": {
      "text/plain": [
       "['A20030012011031.L3m_MC_CHL_chlor_a_9km.nc',\n",
       " 'A20030322011059.L3m_MC_CHL_chlor_a_9km.nc',\n",
       " 'A20030602011090.L3m_MC_CHL_chlor_a_9km.nc',\n",
       " 'A20030912011120.L3m_MC_CHL_chlor_a_9km.nc',\n",
       " 'A20031212011151.L3m_MC_CHL_chlor_a_9km.nc',\n",
       " 'A20031522011181.L3m_MC_CHL_chlor_a_9km.nc',\n",
       " 'A20031822011212.L3m_MC_CHL_chlor_a_9km.nc',\n",
       " 'A20032132011243.L3m_MC_CHL_chlor_a_9km.nc',\n",
       " 'A20032442011273.L3m_MC_CHL_chlor_a_9km.nc',\n",
       " 'A20032742011304.L3m_MC_CHL_chlor_a_9km.nc',\n",
       " 'A20033052011334.L3m_MC_CHL_chlor_a_9km.nc',\n",
       " 'A20033352011365.L3m_MC_CHL_chlor_a_9km.nc']"
      ]
     },
     "execution_count": 13,
     "metadata": {},
     "output_type": "execute_result"
    }
   ],
   "source": [
    "mc_dict['chlor_a']"
   ]
  },
  {
   "cell_type": "code",
   "execution_count": 14,
   "metadata": {},
   "outputs": [
    {
     "data": {
      "text/plain": [
       "['A20030012011031.L3m_MC_SST_sst_9km.nc',\n",
       " 'A20030322011059.L3m_MC_SST_sst_9km.nc',\n",
       " 'A20030602011090.L3m_MC_SST_sst_9km.nc',\n",
       " 'A20030912011120.L3m_MC_SST_sst_9km.nc',\n",
       " 'A20031212011151.L3m_MC_SST_sst_9km.nc',\n",
       " 'A20031522011181.L3m_MC_SST_sst_9km.nc',\n",
       " 'A20031822011212.L3m_MC_SST_sst_9km.nc',\n",
       " 'A20032132011243.L3m_MC_SST_sst_9km.nc',\n",
       " 'A20032442011273.L3m_MC_SST_sst_9km.nc',\n",
       " 'A20032742011304.L3m_MC_SST_sst_9km.nc',\n",
       " 'A20033052011334.L3m_MC_SST_sst_9km.nc',\n",
       " 'A20033352011365.L3m_MC_SST_sst_9km.nc']"
      ]
     },
     "execution_count": 14,
     "metadata": {},
     "output_type": "execute_result"
    }
   ],
   "source": [
    "mc_dict['sst']"
   ]
  },
  {
   "cell_type": "code",
   "execution_count": 17,
   "metadata": {
    "collapsed": true
   },
   "outputs": [],
   "source": [
    "wget_file_list(mc_dict, ['chlor_a', 'sst'], out_main_dir)"
   ]
  },
  {
   "cell_type": "markdown",
   "metadata": {},
   "source": [
    "<u>Download and stash monthlies</u>"
   ]
  },
  {
   "cell_type": "code",
   "execution_count": 8,
   "metadata": {},
   "outputs": [
    {
     "ename": "FileNotFoundError",
     "evalue": "[Errno 2] No such file or directory: '../mo_list_l3b.txt'",
     "output_type": "error",
     "traceback": [
      "\u001b[0;31m---------------------------------------------------------------------------\u001b[0m",
      "\u001b[0;31mFileNotFoundError\u001b[0m                         Traceback (most recent call last)",
      "\u001b[0;32m<ipython-input-8-fa6fc58b846a>\u001b[0m in \u001b[0;36m<module>\u001b[0;34m()\u001b[0m\n\u001b[1;32m      2\u001b[0m \u001b[0mviirs_mo_dict\u001b[0m\u001b[0;34m=\u001b[0m\u001b[0mdict\u001b[0m\u001b[0;34m(\u001b[0m\u001b[0mchlor_a\u001b[0m\u001b[0;34m=\u001b[0m\u001b[0;34m[\u001b[0m\u001b[0;34m]\u001b[0m\u001b[0;34m,\u001b[0m \u001b[0msst\u001b[0m\u001b[0;34m=\u001b[0m\u001b[0;34m[\u001b[0m\u001b[0;34m]\u001b[0m\u001b[0;34m)\u001b[0m\u001b[0;34m\u001b[0m\u001b[0;34m\u001b[0m\u001b[0m\n\u001b[1;32m      3\u001b[0m \u001b[0;34m\u001b[0m\u001b[0m\n\u001b[0;32m----> 4\u001b[0;31m \u001b[0;32mwith\u001b[0m \u001b[0mopen\u001b[0m\u001b[0;34m(\u001b[0m\u001b[0;34m'../mo_list_l3b.txt'\u001b[0m\u001b[0;34m)\u001b[0m \u001b[0;32mas\u001b[0m \u001b[0mf\u001b[0m\u001b[0;34m:\u001b[0m\u001b[0;34m\u001b[0m\u001b[0;34m\u001b[0m\u001b[0m\n\u001b[0m\u001b[1;32m      5\u001b[0m     \u001b[0;32mfor\u001b[0m \u001b[0mline\u001b[0m \u001b[0;32min\u001b[0m \u001b[0mf\u001b[0m\u001b[0;34m:\u001b[0m\u001b[0;34m\u001b[0m\u001b[0;34m\u001b[0m\u001b[0m\n\u001b[1;32m      6\u001b[0m         \u001b[0;31m# change resolution specified\u001b[0m\u001b[0;34m\u001b[0m\u001b[0;34m\u001b[0m\u001b[0;34m\u001b[0m\u001b[0m\n",
      "\u001b[0;31mFileNotFoundError\u001b[0m: [Errno 2] No such file or directory: '../mo_list_l3b.txt'"
     ]
    }
   ],
   "source": [
    "aqua_mo_dict=dict(chlor_a=[], sst=[])\n",
    "viirs_mo_dict=dict(chlor_a=[], sst=[])\n",
    "\n",
    "with open('../mo_list_l3b.txt') as f:\n",
    "    for line in f:\n",
    "        # change resolution specified\n",
    "        fname = conv_l3b_name_2_l3m_name(line.strip()).replace('4km', '9km')\n",
    "        if 'chlor_a' in fname:\n",
    "            aqua_mo_dict['chlor_a'].append(fname)\n",
    "            # only Aqua files are listed=>change file name to reflect VIIRS equivalent\n",
    "            viirs_mo_dict['chlor_a'].append(fname.replace('A2017',\n",
    "                                                          'V2017').replace('MO',\n",
    "                                                                           'MO_SNPP'))\n",
    "        else:\n",
    "            aqua_mo_dict['sst'].append(fname)\n",
    "            viirs_mo_dict['sst'].append(fname.replace('A2017',\n",
    "                                                      'V2017').replace('MO',\n",
    "                                                                       'MO_SNPP'))\n",
    "        "
   ]
  },
  {
   "cell_type": "code",
   "execution_count": 37,
   "metadata": {},
   "outputs": [
    {
     "data": {
      "text/plain": [
       "['A20170012017031.L3m_MO_CHL_chlor_a_9km.nc',\n",
       " 'A20170322017059.L3m_MO_CHL_chlor_a_9km.nc',\n",
       " 'A20170602017090.L3m_MO_CHL_chlor_a_9km.nc',\n",
       " 'A20170912017120.L3m_MO_CHL_chlor_a_9km.nc',\n",
       " 'A20171212017151.L3m_MO_CHL_chlor_a_9km.nc',\n",
       " 'A20171522017181.L3m_MO_CHL_chlor_a_9km.nc',\n",
       " 'A20171822017212.L3m_MO_CHL_chlor_a_9km.nc',\n",
       " 'A20172132017243.L3m_MO_CHL_chlor_a_9km.nc',\n",
       " 'A20172442017273.L3m_MO_CHL_chlor_a_9km.nc',\n",
       " 'A20172742017304.L3m_MO_CHL_chlor_a_9km.nc',\n",
       " 'A20173052017334.L3m_MO_CHL_chlor_a_9km.nc',\n",
       " 'A20173352017365.L3m_MO_CHL_chlor_a_9km.nc']"
      ]
     },
     "execution_count": 37,
     "metadata": {},
     "output_type": "execute_result"
    }
   ],
   "source": [
    "aqua_mo_dict['chlor_a']"
   ]
  },
  {
   "cell_type": "code",
   "execution_count": 38,
   "metadata": {},
   "outputs": [
    {
     "data": {
      "text/plain": [
       "['A20170012017031.L3m_MO_SST_sst_9km.nc',\n",
       " 'A20170322017059.L3m_MO_SST_sst_9km.nc',\n",
       " 'A20170602017090.L3m_MO_SST_sst_9km.nc',\n",
       " 'A20170912017120.L3m_MO_SST_sst_9km.nc',\n",
       " 'A20171212017151.L3m_MO_SST_sst_9km.nc',\n",
       " 'A20171522017181.L3m_MO_SST_sst_9km.nc',\n",
       " 'A20171822017212.L3m_MO_SST_sst_9km.nc',\n",
       " 'A20172132017243.L3m_MO_SST_sst_9km.nc',\n",
       " 'A20172442017273.L3m_MO_SST_sst_9km.nc',\n",
       " 'A20172742017304.L3m_MO_SST_sst_9km.nc',\n",
       " 'A20173052017334.L3m_MO_SST_sst_9km.nc']"
      ]
     },
     "execution_count": 38,
     "metadata": {},
     "output_type": "execute_result"
    }
   ],
   "source": [
    "aqua_mo_dict['sst']"
   ]
  },
  {
   "cell_type": "code",
   "execution_count": 10,
   "metadata": {},
   "outputs": [
    {
     "ename": "NameError",
     "evalue": "name 'aqua_mo_dict' is not defined",
     "output_type": "error",
     "traceback": [
      "\u001b[0;31m---------------------------------------------------------------------------\u001b[0m",
      "\u001b[0;31mNameError\u001b[0m                                 Traceback (most recent call last)",
      "\u001b[0;32m<ipython-input-10-265a03464b39>\u001b[0m in \u001b[0;36m<module>\u001b[0;34m()\u001b[0m\n\u001b[1;32m      1\u001b[0m \u001b[0;31m# download Aqua and VIIRS chl and sst monthlies\u001b[0m\u001b[0;34m\u001b[0m\u001b[0;34m\u001b[0m\u001b[0;34m\u001b[0m\u001b[0m\n\u001b[0;32m----> 2\u001b[0;31m wget_file_list(aqua_mo_dict, ['chlor_a', 'sst'],\n\u001b[0m\u001b[1;32m      3\u001b[0m                '/accounts/ekarakoy/DATA/SOC/Aqua_MO/')\n\u001b[1;32m      4\u001b[0m \u001b[0;34m\u001b[0m\u001b[0m\n\u001b[1;32m      5\u001b[0m \u001b[0;31m#wget_file_list(viirs_mo_dict, ['chlor_a', 'sst'],\u001b[0m\u001b[0;34m\u001b[0m\u001b[0;34m\u001b[0m\u001b[0;34m\u001b[0m\u001b[0m\n",
      "\u001b[0;31mNameError\u001b[0m: name 'aqua_mo_dict' is not defined"
     ]
    }
   ],
   "source": [
    "# download Aqua and VIIRS chl and sst monthlies\n",
    "wget_file_list(aqua_mo_dict, ['chlor_a', 'sst'],\n",
    "               '/accounts/ekarakoy/DATA/SOC/Aqua_MO/')\n",
    "\n",
    "#wget_file_list(viirs_mo_dict, ['chlor_a', 'sst'],\n",
    "#               '/accounts/ekarakoy/DATA/SOC/VIIRS_9km/')"
   ]
  },
  {
   "cell_type": "code",
   "execution_count": null,
   "metadata": {},
   "outputs": [],
   "source": []
  }
 ],
 "metadata": {
  "kernelspec": {
   "display_name": "Python [conda env:anaconda3]",
   "language": "python",
   "name": "conda-env-anaconda3-py"
  },
  "language_info": {
   "codemirror_mode": {
    "name": "ipython",
    "version": 3
   },
   "file_extension": ".py",
   "mimetype": "text/x-python",
   "name": "python",
   "nbconvert_exporter": "python",
   "pygments_lexer": "ipython3",
   "version": "3.6.7"
  }
 },
 "nbformat": 4,
 "nbformat_minor": 2
}
