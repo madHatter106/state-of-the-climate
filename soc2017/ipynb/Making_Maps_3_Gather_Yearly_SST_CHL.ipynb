{
 "cells": [
  {
   "cell_type": "markdown",
   "metadata": {},
   "source": [
    "This notebook is similar to the previous notebook but creates a dataset containing just the yearly data and saves it to netcdf"
   ]
  },
  {
   "cell_type": "code",
   "execution_count": 1,
   "metadata": {
    "collapsed": true
   },
   "outputs": [],
   "source": [
    "import pickle\n",
    "from datetime import datetime as DT\n",
    "\n",
    "import numpy as np\n",
    "from numpy import testing as npt\n",
    "from tqdm import tqdm_notebook\n",
    "from netCDF4 import Dataset as ds\n",
    "import xarray as xr"
   ]
  },
  {
   "cell_type": "code",
   "execution_count": 2,
   "metadata": {
    "collapsed": true
   },
   "outputs": [],
   "source": [
    "with open('../PklJar/smi_dicts_2017_9km.pkl', 'rb') as fp:\n",
    "    files_dict = pickle.load(fp)"
   ]
  },
  {
   "cell_type": "code",
   "execution_count": 4,
   "metadata": {},
   "outputs": [
    {
     "data": {
      "text/plain": [
       "dict_keys(['aqua_chl_mc', 'viirs_chl_mo', 'aqua_chl_mo', 'aqua_sst_mc', 'aqua_sst_mo'])"
      ]
     },
     "execution_count": 4,
     "metadata": {},
     "output_type": "execute_result"
    }
   ],
   "source": [
    "files_dict.keys()"
   ]
  },
  {
   "cell_type": "code",
   "execution_count": 5,
   "metadata": {},
   "outputs": [
    {
     "data": {
      "text/plain": [
       "{'Apr': PosixPath('/accounts/ekarakoy/DATA/SOC/Aqua_9km/sst/A20170912017120.L3m_MO_SST_sst_9km.nc'),\n",
       " 'Aug': PosixPath('/accounts/ekarakoy/DATA/SOC/Aqua_9km/sst/A20172132017243.L3m_MO_SST_sst_9km.nc'),\n",
       " 'Dec': PosixPath('/accounts/ekarakoy/DATA/SOC/Aqua_9km/sst/A20173352017365.L3m_MO_SST_sst_9km.nc'),\n",
       " 'Feb': PosixPath('/accounts/ekarakoy/DATA/SOC/Aqua_9km/sst/A20170322017059.L3m_MO_SST_sst_9km.nc'),\n",
       " 'Jan': PosixPath('/accounts/ekarakoy/DATA/SOC/Aqua_9km/sst/A20170012017031.L3m_MO_SST_sst_9km.nc'),\n",
       " 'Jul': PosixPath('/accounts/ekarakoy/DATA/SOC/Aqua_9km/sst/A20171822017212.L3m_MO_SST_sst_9km.nc'),\n",
       " 'Jun': PosixPath('/accounts/ekarakoy/DATA/SOC/Aqua_9km/sst/A20171522017181.L3m_MO_SST_sst_9km.nc'),\n",
       " 'Mar': PosixPath('/accounts/ekarakoy/DATA/SOC/Aqua_9km/sst/A20170602017090.L3m_MO_SST_sst_9km.nc'),\n",
       " 'May': PosixPath('/accounts/ekarakoy/DATA/SOC/Aqua_9km/sst/A20171212017151.L3m_MO_SST_sst_9km.nc'),\n",
       " 'Nov': PosixPath('/accounts/ekarakoy/DATA/SOC/Aqua_9km/sst/A20173052017334.L3m_MO_SST_sst_9km.nc'),\n",
       " 'Oct': PosixPath('/accounts/ekarakoy/DATA/SOC/Aqua_9km/sst/A20172742017304.L3m_MO_SST_sst_9km.nc'),\n",
       " 'Sep': PosixPath('/accounts/ekarakoy/DATA/SOC/Aqua_9km/sst/A20172442017273.L3m_MO_SST_sst_9km.nc')}"
      ]
     },
     "execution_count": 5,
     "metadata": {},
     "output_type": "execute_result"
    }
   ],
   "source": [
    "files_dict['aqua_sst_mo']"
   ]
  },
  {
   "cell_type": "code",
   "execution_count": 6,
   "metadata": {
    "collapsed": true
   },
   "outputs": [],
   "source": [
    "def get_nc_data(file, prod):\n",
    "    \n",
    "    with ds(file) as data_ds:\n",
    "        data_prod = data_ds[prod][:]\n",
    "        lat = data_ds['lat'][:]\n",
    "        lon = data_ds['lon'][:]\n",
    "    return data_prod, lat, lon\n",
    "        \n",
    "            \n",
    "def get_monthlies(data_dict, prod='chlor_a', **kwargs):\n",
    "    lat_dim = kwargs.pop('lat_dim', 2160)\n",
    "    lon_dim = kwargs.pop('lon_dim', 4320)\n",
    "    time_dim = kwargs.pop('time_dim', 12)\n",
    "    year = kwargs.pop('year', 2016)\n",
    "    data_prod = np.ma.zeros((time_dim, lat_dim, lon_dim))\n",
    "    time_array = np.empty(time_dim, dtype=np.datetime64)\n",
    "    months = data_dict.keys()\n",
    "    for i, month in enumerate(tqdm_notebook(months)):\n",
    "        data_prod[i], lat, lon = get_nc_data(data_dict[month], prod)            \n",
    "    time_array = np.array([DT.strptime('%s-%d' %(month, year),\n",
    "                                       '%b-%Y') for month in months],\n",
    "                          dtype='datetime64[ns]')\n",
    "    return {prod: data_prod, 'lat': lat,\n",
    "            'lon': lon, 'time': time_array}\n",
    "\n",
    "\n",
    "def make_dataarray(data_dict, prod='chlor_a', **kwargs):\n",
    "    units = kwargs.pop('units', None)\n",
    "    name = kwargs.pop('name', prod)\n",
    "    coords = kwargs.pop('coords', ['time', 'lat', 'lon'])\n",
    "    xr_data = xr.DataArray(data_dict[prod], \n",
    "                           coords=[data_dict[val] for val in coords],\n",
    "                           dims = [key for key in coords])\n",
    "    if units:\n",
    "        xr_data.attrs['units'] = units\n",
    "    xr_data.name = name\n",
    "    return xr_data\n",
    "\n",
    "\n",
    "def make_dataset(*data_array_list):\n",
    "    xr_ds = xr.Dataset({data_array.name: data_array for data_array in data_array_list \n",
    "                        })\n",
    "    return xr_ds"
   ]
  },
  {
   "cell_type": "code",
   "execution_count": 9,
   "metadata": {},
   "outputs": [
    {
     "data": {
      "application/vnd.jupyter.widget-view+json": {
       "model_id": "8a9e8d5706374e788bfab622cf70e7a7"
      }
     },
     "metadata": {},
     "output_type": "display_data"
    },
    {
     "name": "stdout",
     "output_type": "stream",
     "text": [
      "\n"
     ]
    }
   ],
   "source": [
    "# make dictionary of monthlies\n",
    "viirs_chl_dict = get_monthlies(files_dict['viirs_chl_mo'], year=2017)\n",
    "aqua_sst_dict = get_monthlies(files_dict['aqua_sst_mo'], prod='sst', year=2017)\n",
    "aqua_chl_dict = get_monthlies(files_dict['aqua_chl_mo'], year=2017)"
   ]
  },
  {
   "cell_type": "code",
   "execution_count": 11,
   "metadata": {
    "collapsed": true
   },
   "outputs": [],
   "source": [
    "# make dataarrayes from dictionary of monthlies\n",
    "xr_aqua_sst_da = make_dataarray(aqua_sst_dict, prod='sst', units='deg C')\n",
    "xr_vi_chl_da = make_dataarray(viirs_chl_dict, prod='chlor_a', units='mg m^-3')\n",
    "xr_aqua_chl_da = make_dataarray(aqua_chl_dict, prod='chlor_a', units='mg m^-3')"
   ]
  },
  {
   "cell_type": "code",
   "execution_count": 13,
   "metadata": {
    "collapsed": true
   },
   "outputs": [],
   "source": [
    "# compute yearly mean\n",
    "xr_aqua_sst_time_mean = xr_aqua_sst_da.mean(dim='time')\n",
    "xr_vi_chl_time_mean = xr_vi_chl_da.mean(dim='time')\n",
    "xr_aqua_chl_time_mean = xr_aqua_chl_da.mean(dim='time')"
   ]
  },
  {
   "cell_type": "code",
   "execution_count": 18,
   "metadata": {
    "collapsed": true
   },
   "outputs": [],
   "source": [
    "# fill attributes\n",
    "xr_vi_chl_time_mean.name='year_avg_viirs_chl'\n",
    "xr_vi_chl_time_mean.attrs['units'] = 'mg m^-3'\n",
    "xr_aqua_chl_time_mean.name='year_avg_aqua_chl'\n",
    "xr_aqua_chl_time_mean.attrs['units'] = 'mg m^-3'\n",
    "xr_aqua_sst_time_mean.name='year_avg_aqua_sst'\n",
    "xr_aqua_sst_time_mean.attrs['units'] = 'deg C'"
   ]
  },
  {
   "cell_type": "code",
   "execution_count": 19,
   "metadata": {},
   "outputs": [
    {
     "data": {
      "text/plain": [
       "<xarray.DataArray 'year_avg_aqua_sst' (lat: 2160, lon: 4320)>\n",
       "array([[ nan,  nan,  nan, ...,  nan,  nan,  nan],\n",
       "       [ nan,  nan,  nan, ...,  nan,  nan,  nan],\n",
       "       [ nan,  nan,  nan, ...,  nan,  nan,  nan],\n",
       "       ..., \n",
       "       [ nan,  nan,  nan, ...,  nan,  nan,  nan],\n",
       "       [ nan,  nan,  nan, ...,  nan,  nan,  nan],\n",
       "       [ nan,  nan,  nan, ...,  nan,  nan,  nan]])\n",
       "Coordinates:\n",
       "  * lat      (lat) float32 89.9583 89.875 89.7917 89.7083 89.625 89.5417 ...\n",
       "  * lon      (lon) float32 -179.958 -179.875 -179.792 -179.708 -179.625 ...\n",
       "Attributes:\n",
       "    units:    deg C"
      ]
     },
     "execution_count": 19,
     "metadata": {},
     "output_type": "execute_result"
    }
   ],
   "source": [
    "xr_aqua_sst_time_mean"
   ]
  },
  {
   "cell_type": "code",
   "execution_count": 21,
   "metadata": {
    "collapsed": true
   },
   "outputs": [],
   "source": [
    "# aggregate into dataset\n",
    "xr_ds = make_dataset(xr_aqua_sst_da, xr_vi_chl_da, xr_aqua_chl_da,\n",
    "                     xr_vi_chl_time_mean, xr_aqua_sst_time_mean, xr_aqua_chl_time_mean)"
   ]
  },
  {
   "cell_type": "code",
   "execution_count": 23,
   "metadata": {
    "collapsed": true
   },
   "outputs": [],
   "source": [
    "# save\n",
    "xr_ds.to_netcdf('./xr_sst_chl.nc')"
   ]
  }
 ],
 "metadata": {
  "kernelspec": {
   "display_name": "Python 3",
   "language": "python",
   "name": "python3"
  },
  "language_info": {
   "codemirror_mode": {
    "name": "ipython",
    "version": 3
   },
   "file_extension": ".py",
   "mimetype": "text/x-python",
   "name": "python",
   "nbconvert_exporter": "python",
   "pygments_lexer": "ipython3",
   "version": "3.6.4"
  }
 },
 "nbformat": 4,
 "nbformat_minor": 2
}
