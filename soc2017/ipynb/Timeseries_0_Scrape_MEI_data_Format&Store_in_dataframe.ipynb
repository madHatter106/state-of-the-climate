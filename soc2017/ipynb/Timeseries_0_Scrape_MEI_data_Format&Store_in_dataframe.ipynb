{
 "cells": [
  {
   "cell_type": "markdown",
   "metadata": {},
   "source": [
    "This notebook describes the scraping of MEI data from the NOAA page."
   ]
  },
  {
   "cell_type": "code",
   "execution_count": 1,
   "metadata": {},
   "outputs": [
    {
     "data": {
      "text/html": [
       "<style>.container {width:90% !important}</style>"
      ],
      "text/plain": [
       "<IPython.core.display.HTML object>"
      ]
     },
     "metadata": {},
     "output_type": "display_data"
    }
   ],
   "source": [
    "import pandas as pd\n",
    "import re\n",
    "from IPython.core.display import HTML, display\n",
    "from bs4 import BeautifulSoup as bs\n",
    "import requests\n",
    "display(HTML(\"<style>.container {width:90% !important}</style>\"))"
   ]
  },
  {
   "cell_type": "code",
   "execution_count": 6,
   "metadata": {
    "collapsed": true
   },
   "outputs": [],
   "source": [
    "url = 'https://www.esrl.noaa.gov/psd/enso/mei/table.html'\n",
    "response = requests.get(url)\n",
    "textsoup = bs(response.text, 'html5lib')"
   ]
  },
  {
   "cell_type": "code",
   "execution_count": 2,
   "metadata": {
    "collapsed": true
   },
   "outputs": [],
   "source": [
    "table_re = re.compile(r'(^YEAR.+|^19.+|^20.+)')"
   ]
  },
  {
   "cell_type": "code",
   "execution_count": 5,
   "metadata": {},
   "outputs": [
    {
     "data": {
      "text/plain": [
       "['MEI Index (current update: 6 March 2018)',\n",
       " '',\n",
       " 'Bimonthly MEI values (in 1/1000 of standard deviations), starting with Dec1949/Jan1950, thru last',\n",
       " 'month.  More information on the MEI can be found on the MEI homepage.',\n",
       " 'Missing values are left blank.  Note that values can still change with each monthly update, even ',\n",
       " 'though such changes are typically smaller than +/-0.1.  All values are normalized for each bimonthly',\n",
       " 'season so that the 44 values from 1950 to 1993 have an average of zero and a standard deviation of \"1\".  ',\n",
       " \"Responses to 'FAQs' can be found below this table:\",\n",
       " '',\n",
       " 'YEAR    DECJAN  JANFEB  FEBMAR  MARAPR  APRMAY  MAYJUN  JUNJUL  JULAUG  AUGSEP  SEPOCT  OCTNOV  NOVDEC',\n",
       " '1950\\t-1.03\\t-1.133\\t-1.312\\t-1.098\\t-1.445\\t-1.376\\t-1.267\\t-1.03\\t-.597\\t-.406\\t-1.138\\t-1.235',\n",
       " '1951\\t-1.049\\t-1.152\\t-1.204\\t-.544\\t-.374\\t.319\\t.676\\t.842\\t.773\\t.768\\t.726\\t.504',\n",
       " '1952\\t.433\\t.138\\t.047\\t.198\\t-.307\\t-.722\\t-.307\\t-.358\\t.347\\t.306\\t-.328\\t-.098']"
      ]
     },
     "execution_count": 5,
     "metadata": {},
     "output_type": "execute_result"
    }
   ],
   "source": [
    "tbl_str.splitlines()"
   ]
  },
  {
   "cell_type": "code",
   "execution_count": 3,
   "metadata": {
    "collapsed": true
   },
   "outputs": [],
   "source": [
    "# This is an improperly formatted html page lacking in proper tags for the table.\n",
    "# Below, I resort to \"manual\" scraping.\n",
    "headerFound = False\n",
    "cntr = 0\n",
    "for sti in textsoup.stripped_strings:\n",
    "    for s in sti.splitlines():\n",
    "        if table_re.match(s):\n",
    "            mylist = re.sub('\\t|\\s+', ',', table_re.findall(s)[0]).split(',')\n",
    "            if headerFound:\n",
    "                df = df.append({col: elem for col, elem in zip(df.columns, mylist)}, ignore_index=True)\n",
    "            else:\n",
    "                df = pd.DataFrame(columns=mylist)\n",
    "                headerFound=True"
   ]
  },
  {
   "cell_type": "code",
   "execution_count": 86,
   "metadata": {
    "collapsed": true
   },
   "outputs": [],
   "source": [
    "df.iloc[:, 1:] = df.iloc[:, 1:].astype('float')"
   ]
  },
  {
   "cell_type": "code",
   "execution_count": 4,
   "metadata": {},
   "outputs": [
    {
     "data": {
      "text/html": [
       "<div>\n",
       "<style scoped>\n",
       "    .dataframe tbody tr th:only-of-type {\n",
       "        vertical-align: middle;\n",
       "    }\n",
       "\n",
       "    .dataframe tbody tr th {\n",
       "        vertical-align: top;\n",
       "    }\n",
       "\n",
       "    .dataframe thead th {\n",
       "        text-align: right;\n",
       "    }\n",
       "</style>\n",
       "<table border=\"1\" class=\"dataframe\">\n",
       "  <thead>\n",
       "    <tr style=\"text-align: right;\">\n",
       "      <th></th>\n",
       "      <th>YEAR</th>\n",
       "      <th>DECJAN</th>\n",
       "      <th>JANFEB</th>\n",
       "      <th>FEBMAR</th>\n",
       "      <th>MARAPR</th>\n",
       "      <th>APRMAY</th>\n",
       "      <th>MAYJUN</th>\n",
       "      <th>JUNJUL</th>\n",
       "      <th>JULAUG</th>\n",
       "      <th>AUGSEP</th>\n",
       "      <th>SEPOCT</th>\n",
       "      <th>OCTNOV</th>\n",
       "      <th>NOVDEC</th>\n",
       "    </tr>\n",
       "  </thead>\n",
       "  <tbody>\n",
       "    <tr>\n",
       "      <th>0</th>\n",
       "      <td>1950</td>\n",
       "      <td>-1.03</td>\n",
       "      <td>-1.163</td>\n",
       "      <td>-1.312</td>\n",
       "      <td>-1.098</td>\n",
       "      <td>-1.445</td>\n",
       "      <td>-1.376</td>\n",
       "      <td>-1.267</td>\n",
       "      <td>-1.03</td>\n",
       "      <td>-.597</td>\n",
       "      <td>-.406</td>\n",
       "      <td>-1.138</td>\n",
       "      <td>-1.235</td>\n",
       "    </tr>\n",
       "    <tr>\n",
       "      <th>1</th>\n",
       "      <td>1951</td>\n",
       "      <td>-1.049</td>\n",
       "      <td>-1.183</td>\n",
       "      <td>-1.204</td>\n",
       "      <td>-.544</td>\n",
       "      <td>-.374</td>\n",
       "      <td>.319</td>\n",
       "      <td>.676</td>\n",
       "      <td>.842</td>\n",
       "      <td>.773</td>\n",
       "      <td>.768</td>\n",
       "      <td>.726</td>\n",
       "      <td>.504</td>\n",
       "    </tr>\n",
       "    <tr>\n",
       "      <th>2</th>\n",
       "      <td>1952</td>\n",
       "      <td>.433</td>\n",
       "      <td>.117</td>\n",
       "      <td>.047</td>\n",
       "      <td>.198</td>\n",
       "      <td>-.307</td>\n",
       "      <td>-.722</td>\n",
       "      <td>-.307</td>\n",
       "      <td>-.358</td>\n",
       "      <td>.347</td>\n",
       "      <td>.306</td>\n",
       "      <td>-.328</td>\n",
       "      <td>-.098</td>\n",
       "    </tr>\n",
       "    <tr>\n",
       "      <th>3</th>\n",
       "      <td>1953</td>\n",
       "      <td>.044</td>\n",
       "      <td>.377</td>\n",
       "      <td>.257</td>\n",
       "      <td>.668</td>\n",
       "      <td>.773</td>\n",
       "      <td>.226</td>\n",
       "      <td>.379</td>\n",
       "      <td>.228</td>\n",
       "      <td>.527</td>\n",
       "      <td>.124</td>\n",
       "      <td>.099</td>\n",
       "      <td>.351</td>\n",
       "    </tr>\n",
       "    <tr>\n",
       "      <th>4</th>\n",
       "      <td>1954</td>\n",
       "      <td>-.036</td>\n",
       "      <td>-.048</td>\n",
       "      <td>.147</td>\n",
       "      <td>-.634</td>\n",
       "      <td>-1.478</td>\n",
       "      <td>-1.528</td>\n",
       "      <td>-1.356</td>\n",
       "      <td>-1.446</td>\n",
       "      <td>-1.138</td>\n",
       "      <td>-1.32</td>\n",
       "      <td>-1.113</td>\n",
       "      <td>-1.088</td>\n",
       "    </tr>\n",
       "  </tbody>\n",
       "</table>\n",
       "</div>"
      ],
      "text/plain": [
       "   YEAR  DECJAN  JANFEB  FEBMAR  MARAPR  APRMAY  MAYJUN  JUNJUL  JULAUG  \\\n",
       "0  1950   -1.03  -1.163  -1.312  -1.098  -1.445  -1.376  -1.267   -1.03   \n",
       "1  1951  -1.049  -1.183  -1.204   -.544   -.374    .319    .676    .842   \n",
       "2  1952    .433    .117    .047    .198   -.307   -.722   -.307   -.358   \n",
       "3  1953    .044    .377    .257    .668    .773    .226    .379    .228   \n",
       "4  1954   -.036   -.048    .147   -.634  -1.478  -1.528  -1.356  -1.446   \n",
       "\n",
       "   AUGSEP SEPOCT  OCTNOV  NOVDEC  \n",
       "0   -.597  -.406  -1.138  -1.235  \n",
       "1    .773   .768    .726    .504  \n",
       "2    .347   .306   -.328   -.098  \n",
       "3    .527   .124    .099    .351  \n",
       "4  -1.138  -1.32  -1.113  -1.088  "
      ]
     },
     "execution_count": 4,
     "metadata": {},
     "output_type": "execute_result"
    }
   ],
   "source": [
    "df.head()"
   ]
  },
  {
   "cell_type": "code",
   "execution_count": 5,
   "metadata": {},
   "outputs": [
    {
     "name": "stdout",
     "output_type": "stream",
     "text": [
      "<class 'pandas.core.frame.DataFrame'>\n",
      "RangeIndex: 69 entries, 0 to 68\n",
      "Data columns (total 13 columns):\n",
      "YEAR      69 non-null object\n",
      "DECJAN    69 non-null object\n",
      "JANFEB    68 non-null object\n",
      "FEBMAR    68 non-null object\n",
      "MARAPR    68 non-null object\n",
      "APRMAY    68 non-null object\n",
      "MAYJUN    68 non-null object\n",
      "JUNJUL    68 non-null object\n",
      "JULAUG    68 non-null object\n",
      "AUGSEP    68 non-null object\n",
      "SEPOCT    68 non-null object\n",
      "OCTNOV    68 non-null object\n",
      "NOVDEC    68 non-null object\n",
      "dtypes: object(13)\n",
      "memory usage: 7.1+ KB\n"
     ]
    }
   ],
   "source": [
    "df.info()"
   ]
  },
  {
   "cell_type": "markdown",
   "metadata": {},
   "source": [
    "The next bit is to unpack the bimonthly data format and get a dataframe containing monthly data (columns) for each year (rows)"
   ]
  },
  {
   "cell_type": "code",
   "execution_count": 11,
   "metadata": {
    "collapsed": true
   },
   "outputs": [],
   "source": [
    "# set up a shifted (by one year) column for the DECJAN data\n",
    "df['DECJAN_SH'] = df.DECJAN.shift(-1)"
   ]
  },
  {
   "cell_type": "code",
   "execution_count": 12,
   "metadata": {},
   "outputs": [
    {
     "data": {
      "text/html": [
       "<div>\n",
       "<style scoped>\n",
       "    .dataframe tbody tr th:only-of-type {\n",
       "        vertical-align: middle;\n",
       "    }\n",
       "\n",
       "    .dataframe tbody tr th {\n",
       "        vertical-align: top;\n",
       "    }\n",
       "\n",
       "    .dataframe thead th {\n",
       "        text-align: right;\n",
       "    }\n",
       "</style>\n",
       "<table border=\"1\" class=\"dataframe\">\n",
       "  <thead>\n",
       "    <tr style=\"text-align: right;\">\n",
       "      <th></th>\n",
       "      <th>YEAR</th>\n",
       "      <th>DECJAN</th>\n",
       "      <th>JANFEB</th>\n",
       "      <th>FEBMAR</th>\n",
       "      <th>MARAPR</th>\n",
       "      <th>APRMAY</th>\n",
       "      <th>MAYJUN</th>\n",
       "      <th>JUNJUL</th>\n",
       "      <th>JULAUG</th>\n",
       "      <th>AUGSEP</th>\n",
       "      <th>SEPOCT</th>\n",
       "      <th>OCTNOV</th>\n",
       "      <th>NOVDEC</th>\n",
       "      <th>DECJAN_SH</th>\n",
       "    </tr>\n",
       "  </thead>\n",
       "  <tbody>\n",
       "    <tr>\n",
       "      <th>0</th>\n",
       "      <td>1950</td>\n",
       "      <td>-1.03</td>\n",
       "      <td>-1.163</td>\n",
       "      <td>-1.312</td>\n",
       "      <td>-1.098</td>\n",
       "      <td>-1.445</td>\n",
       "      <td>-1.376</td>\n",
       "      <td>-1.267</td>\n",
       "      <td>-1.03</td>\n",
       "      <td>-.597</td>\n",
       "      <td>-.406</td>\n",
       "      <td>-1.138</td>\n",
       "      <td>-1.235</td>\n",
       "      <td>-1.049</td>\n",
       "    </tr>\n",
       "    <tr>\n",
       "      <th>1</th>\n",
       "      <td>1951</td>\n",
       "      <td>-1.049</td>\n",
       "      <td>-1.183</td>\n",
       "      <td>-1.204</td>\n",
       "      <td>-.544</td>\n",
       "      <td>-.374</td>\n",
       "      <td>.319</td>\n",
       "      <td>.676</td>\n",
       "      <td>.842</td>\n",
       "      <td>.773</td>\n",
       "      <td>.768</td>\n",
       "      <td>.726</td>\n",
       "      <td>.504</td>\n",
       "      <td>.433</td>\n",
       "    </tr>\n",
       "    <tr>\n",
       "      <th>2</th>\n",
       "      <td>1952</td>\n",
       "      <td>.433</td>\n",
       "      <td>.117</td>\n",
       "      <td>.047</td>\n",
       "      <td>.198</td>\n",
       "      <td>-.307</td>\n",
       "      <td>-.722</td>\n",
       "      <td>-.307</td>\n",
       "      <td>-.358</td>\n",
       "      <td>.347</td>\n",
       "      <td>.306</td>\n",
       "      <td>-.328</td>\n",
       "      <td>-.098</td>\n",
       "      <td>.044</td>\n",
       "    </tr>\n",
       "    <tr>\n",
       "      <th>3</th>\n",
       "      <td>1953</td>\n",
       "      <td>.044</td>\n",
       "      <td>.377</td>\n",
       "      <td>.257</td>\n",
       "      <td>.668</td>\n",
       "      <td>.773</td>\n",
       "      <td>.226</td>\n",
       "      <td>.379</td>\n",
       "      <td>.228</td>\n",
       "      <td>.527</td>\n",
       "      <td>.124</td>\n",
       "      <td>.099</td>\n",
       "      <td>.351</td>\n",
       "      <td>-.036</td>\n",
       "    </tr>\n",
       "    <tr>\n",
       "      <th>4</th>\n",
       "      <td>1954</td>\n",
       "      <td>-.036</td>\n",
       "      <td>-.048</td>\n",
       "      <td>.147</td>\n",
       "      <td>-.634</td>\n",
       "      <td>-1.478</td>\n",
       "      <td>-1.528</td>\n",
       "      <td>-1.356</td>\n",
       "      <td>-1.446</td>\n",
       "      <td>-1.138</td>\n",
       "      <td>-1.32</td>\n",
       "      <td>-1.113</td>\n",
       "      <td>-1.088</td>\n",
       "      <td>-.74</td>\n",
       "    </tr>\n",
       "  </tbody>\n",
       "</table>\n",
       "</div>"
      ],
      "text/plain": [
       "   YEAR  DECJAN  JANFEB  FEBMAR  MARAPR  APRMAY  MAYJUN  JUNJUL  JULAUG  \\\n",
       "0  1950   -1.03  -1.163  -1.312  -1.098  -1.445  -1.376  -1.267   -1.03   \n",
       "1  1951  -1.049  -1.183  -1.204   -.544   -.374    .319    .676    .842   \n",
       "2  1952    .433    .117    .047    .198   -.307   -.722   -.307   -.358   \n",
       "3  1953    .044    .377    .257    .668    .773    .226    .379    .228   \n",
       "4  1954   -.036   -.048    .147   -.634  -1.478  -1.528  -1.356  -1.446   \n",
       "\n",
       "   AUGSEP SEPOCT  OCTNOV  NOVDEC DECJAN_SH  \n",
       "0   -.597  -.406  -1.138  -1.235    -1.049  \n",
       "1    .773   .768    .726    .504      .433  \n",
       "2    .347   .306   -.328   -.098      .044  \n",
       "3    .527   .124    .099    .351     -.036  \n",
       "4  -1.138  -1.32  -1.113  -1.088      -.74  "
      ]
     },
     "execution_count": 12,
     "metadata": {},
     "output_type": "execute_result"
    }
   ],
   "source": [
    "df.head()"
   ]
  },
  {
   "cell_type": "code",
   "execution_count": 13,
   "metadata": {
    "collapsed": true
   },
   "outputs": [],
   "source": [
    "# average data for overlapping months rolling mean over overlapping months. Skip the first DECJAN column\n",
    "df2 = df.rolling(window=2, axis=1).mean().iloc[:, 2:]"
   ]
  },
  {
   "cell_type": "code",
   "execution_count": 14,
   "metadata": {
    "collapsed": true
   },
   "outputs": [],
   "source": [
    "# change the column names to single month - use abbrev. 3-letter names.\n",
    "df2.rename(columns={k: k[:3] for k in df.columns}, inplace=True)"
   ]
  },
  {
   "cell_type": "code",
   "execution_count": 15,
   "metadata": {
    "collapsed": true
   },
   "outputs": [],
   "source": [
    "# reintroduce the YEAR column\n",
    "df2.insert(0, 'YEAR', df.YEAR)"
   ]
  },
  {
   "cell_type": "code",
   "execution_count": 16,
   "metadata": {},
   "outputs": [
    {
     "data": {
      "text/html": [
       "<div>\n",
       "<style scoped>\n",
       "    .dataframe tbody tr th:only-of-type {\n",
       "        vertical-align: middle;\n",
       "    }\n",
       "\n",
       "    .dataframe tbody tr th {\n",
       "        vertical-align: top;\n",
       "    }\n",
       "\n",
       "    .dataframe thead th {\n",
       "        text-align: right;\n",
       "    }\n",
       "</style>\n",
       "<table border=\"1\" class=\"dataframe\">\n",
       "  <thead>\n",
       "    <tr style=\"text-align: right;\">\n",
       "      <th></th>\n",
       "      <th>YEAR</th>\n",
       "      <th>JAN</th>\n",
       "      <th>FEB</th>\n",
       "      <th>MAR</th>\n",
       "      <th>APR</th>\n",
       "      <th>MAY</th>\n",
       "      <th>JUN</th>\n",
       "      <th>JUL</th>\n",
       "      <th>AUG</th>\n",
       "      <th>SEP</th>\n",
       "      <th>OCT</th>\n",
       "      <th>NOV</th>\n",
       "      <th>DEC</th>\n",
       "    </tr>\n",
       "  </thead>\n",
       "  <tbody>\n",
       "    <tr>\n",
       "      <th>0</th>\n",
       "      <td>1950</td>\n",
       "      <td>-1.0965</td>\n",
       "      <td>-1.2375</td>\n",
       "      <td>-1.2050</td>\n",
       "      <td>-1.2715</td>\n",
       "      <td>-1.4105</td>\n",
       "      <td>-1.3215</td>\n",
       "      <td>-1.1485</td>\n",
       "      <td>-0.8135</td>\n",
       "      <td>-0.5015</td>\n",
       "      <td>-0.7720</td>\n",
       "      <td>-1.1865</td>\n",
       "      <td>-1.1420</td>\n",
       "    </tr>\n",
       "    <tr>\n",
       "      <th>1</th>\n",
       "      <td>1951</td>\n",
       "      <td>-1.1160</td>\n",
       "      <td>-1.1935</td>\n",
       "      <td>-0.8740</td>\n",
       "      <td>-0.4590</td>\n",
       "      <td>-0.0275</td>\n",
       "      <td>0.4975</td>\n",
       "      <td>0.7590</td>\n",
       "      <td>0.8075</td>\n",
       "      <td>0.7705</td>\n",
       "      <td>0.7470</td>\n",
       "      <td>0.6150</td>\n",
       "      <td>0.4685</td>\n",
       "    </tr>\n",
       "    <tr>\n",
       "      <th>2</th>\n",
       "      <td>1952</td>\n",
       "      <td>0.2750</td>\n",
       "      <td>0.0820</td>\n",
       "      <td>0.1225</td>\n",
       "      <td>-0.0545</td>\n",
       "      <td>-0.5145</td>\n",
       "      <td>-0.5145</td>\n",
       "      <td>-0.3325</td>\n",
       "      <td>-0.0055</td>\n",
       "      <td>0.3265</td>\n",
       "      <td>-0.0110</td>\n",
       "      <td>-0.2130</td>\n",
       "      <td>-0.0270</td>\n",
       "    </tr>\n",
       "    <tr>\n",
       "      <th>3</th>\n",
       "      <td>1953</td>\n",
       "      <td>0.2105</td>\n",
       "      <td>0.3170</td>\n",
       "      <td>0.4625</td>\n",
       "      <td>0.7205</td>\n",
       "      <td>0.4995</td>\n",
       "      <td>0.3025</td>\n",
       "      <td>0.3035</td>\n",
       "      <td>0.3775</td>\n",
       "      <td>0.3255</td>\n",
       "      <td>0.1115</td>\n",
       "      <td>0.2250</td>\n",
       "      <td>0.1575</td>\n",
       "    </tr>\n",
       "    <tr>\n",
       "      <th>4</th>\n",
       "      <td>1954</td>\n",
       "      <td>-0.0420</td>\n",
       "      <td>0.0495</td>\n",
       "      <td>-0.2435</td>\n",
       "      <td>-1.0560</td>\n",
       "      <td>-1.5030</td>\n",
       "      <td>-1.4420</td>\n",
       "      <td>-1.4010</td>\n",
       "      <td>-1.2920</td>\n",
       "      <td>-1.2290</td>\n",
       "      <td>-1.2165</td>\n",
       "      <td>-1.1005</td>\n",
       "      <td>-0.9140</td>\n",
       "    </tr>\n",
       "  </tbody>\n",
       "</table>\n",
       "</div>"
      ],
      "text/plain": [
       "   YEAR     JAN     FEB     MAR     APR     MAY     JUN     JUL     AUG  \\\n",
       "0  1950 -1.0965 -1.2375 -1.2050 -1.2715 -1.4105 -1.3215 -1.1485 -0.8135   \n",
       "1  1951 -1.1160 -1.1935 -0.8740 -0.4590 -0.0275  0.4975  0.7590  0.8075   \n",
       "2  1952  0.2750  0.0820  0.1225 -0.0545 -0.5145 -0.5145 -0.3325 -0.0055   \n",
       "3  1953  0.2105  0.3170  0.4625  0.7205  0.4995  0.3025  0.3035  0.3775   \n",
       "4  1954 -0.0420  0.0495 -0.2435 -1.0560 -1.5030 -1.4420 -1.4010 -1.2920   \n",
       "\n",
       "      SEP     OCT     NOV     DEC  \n",
       "0 -0.5015 -0.7720 -1.1865 -1.1420  \n",
       "1  0.7705  0.7470  0.6150  0.4685  \n",
       "2  0.3265 -0.0110 -0.2130 -0.0270  \n",
       "3  0.3255  0.1115  0.2250  0.1575  \n",
       "4 -1.2290 -1.2165 -1.1005 -0.9140  "
      ]
     },
     "execution_count": 16,
     "metadata": {},
     "output_type": "execute_result"
    }
   ],
   "source": [
    "df2.head()"
   ]
  },
  {
   "cell_type": "code",
   "execution_count": 17,
   "metadata": {
    "collapsed": true
   },
   "outputs": [],
   "source": [
    "# format column names to match satellite dataframes used in subsequent notebooks\n",
    "df2.rename(columns={k: '%s%s' %(k[0],k[1:].lower()) for k in df2.columns},inplace=True)"
   ]
  },
  {
   "cell_type": "code",
   "execution_count": 18,
   "metadata": {},
   "outputs": [
    {
     "data": {
      "text/html": [
       "<div>\n",
       "<style scoped>\n",
       "    .dataframe tbody tr th:only-of-type {\n",
       "        vertical-align: middle;\n",
       "    }\n",
       "\n",
       "    .dataframe tbody tr th {\n",
       "        vertical-align: top;\n",
       "    }\n",
       "\n",
       "    .dataframe thead th {\n",
       "        text-align: right;\n",
       "    }\n",
       "</style>\n",
       "<table border=\"1\" class=\"dataframe\">\n",
       "  <thead>\n",
       "    <tr style=\"text-align: right;\">\n",
       "      <th></th>\n",
       "      <th>Year</th>\n",
       "      <th>Jan</th>\n",
       "      <th>Feb</th>\n",
       "      <th>Mar</th>\n",
       "      <th>Apr</th>\n",
       "      <th>May</th>\n",
       "      <th>Jun</th>\n",
       "      <th>Jul</th>\n",
       "      <th>Aug</th>\n",
       "      <th>Sep</th>\n",
       "      <th>Oct</th>\n",
       "      <th>Nov</th>\n",
       "      <th>Dec</th>\n",
       "    </tr>\n",
       "  </thead>\n",
       "  <tbody>\n",
       "    <tr>\n",
       "      <th>0</th>\n",
       "      <td>1950</td>\n",
       "      <td>-1.0965</td>\n",
       "      <td>-1.2375</td>\n",
       "      <td>-1.2050</td>\n",
       "      <td>-1.2715</td>\n",
       "      <td>-1.4105</td>\n",
       "      <td>-1.3215</td>\n",
       "      <td>-1.1485</td>\n",
       "      <td>-0.8135</td>\n",
       "      <td>-0.5015</td>\n",
       "      <td>-0.7720</td>\n",
       "      <td>-1.1865</td>\n",
       "      <td>-1.1420</td>\n",
       "    </tr>\n",
       "    <tr>\n",
       "      <th>1</th>\n",
       "      <td>1951</td>\n",
       "      <td>-1.1160</td>\n",
       "      <td>-1.1935</td>\n",
       "      <td>-0.8740</td>\n",
       "      <td>-0.4590</td>\n",
       "      <td>-0.0275</td>\n",
       "      <td>0.4975</td>\n",
       "      <td>0.7590</td>\n",
       "      <td>0.8075</td>\n",
       "      <td>0.7705</td>\n",
       "      <td>0.7470</td>\n",
       "      <td>0.6150</td>\n",
       "      <td>0.4685</td>\n",
       "    </tr>\n",
       "    <tr>\n",
       "      <th>2</th>\n",
       "      <td>1952</td>\n",
       "      <td>0.2750</td>\n",
       "      <td>0.0820</td>\n",
       "      <td>0.1225</td>\n",
       "      <td>-0.0545</td>\n",
       "      <td>-0.5145</td>\n",
       "      <td>-0.5145</td>\n",
       "      <td>-0.3325</td>\n",
       "      <td>-0.0055</td>\n",
       "      <td>0.3265</td>\n",
       "      <td>-0.0110</td>\n",
       "      <td>-0.2130</td>\n",
       "      <td>-0.0270</td>\n",
       "    </tr>\n",
       "    <tr>\n",
       "      <th>3</th>\n",
       "      <td>1953</td>\n",
       "      <td>0.2105</td>\n",
       "      <td>0.3170</td>\n",
       "      <td>0.4625</td>\n",
       "      <td>0.7205</td>\n",
       "      <td>0.4995</td>\n",
       "      <td>0.3025</td>\n",
       "      <td>0.3035</td>\n",
       "      <td>0.3775</td>\n",
       "      <td>0.3255</td>\n",
       "      <td>0.1115</td>\n",
       "      <td>0.2250</td>\n",
       "      <td>0.1575</td>\n",
       "    </tr>\n",
       "    <tr>\n",
       "      <th>4</th>\n",
       "      <td>1954</td>\n",
       "      <td>-0.0420</td>\n",
       "      <td>0.0495</td>\n",
       "      <td>-0.2435</td>\n",
       "      <td>-1.0560</td>\n",
       "      <td>-1.5030</td>\n",
       "      <td>-1.4420</td>\n",
       "      <td>-1.4010</td>\n",
       "      <td>-1.2920</td>\n",
       "      <td>-1.2290</td>\n",
       "      <td>-1.2165</td>\n",
       "      <td>-1.1005</td>\n",
       "      <td>-0.9140</td>\n",
       "    </tr>\n",
       "  </tbody>\n",
       "</table>\n",
       "</div>"
      ],
      "text/plain": [
       "   Year     Jan     Feb     Mar     Apr     May     Jun     Jul     Aug  \\\n",
       "0  1950 -1.0965 -1.2375 -1.2050 -1.2715 -1.4105 -1.3215 -1.1485 -0.8135   \n",
       "1  1951 -1.1160 -1.1935 -0.8740 -0.4590 -0.0275  0.4975  0.7590  0.8075   \n",
       "2  1952  0.2750  0.0820  0.1225 -0.0545 -0.5145 -0.5145 -0.3325 -0.0055   \n",
       "3  1953  0.2105  0.3170  0.4625  0.7205  0.4995  0.3025  0.3035  0.3775   \n",
       "4  1954 -0.0420  0.0495 -0.2435 -1.0560 -1.5030 -1.4420 -1.4010 -1.2920   \n",
       "\n",
       "      Sep     Oct     Nov     Dec  \n",
       "0 -0.5015 -0.7720 -1.1865 -1.1420  \n",
       "1  0.7705  0.7470  0.6150  0.4685  \n",
       "2  0.3265 -0.0110 -0.2130 -0.0270  \n",
       "3  0.3255  0.1115  0.2250  0.1575  \n",
       "4 -1.2290 -1.2165 -1.1005 -0.9140  "
      ]
     },
     "execution_count": 18,
     "metadata": {},
     "output_type": "execute_result"
    }
   ],
   "source": [
    "df2.head()"
   ]
  },
  {
   "cell_type": "code",
   "execution_count": 19,
   "metadata": {
    "collapsed": true
   },
   "outputs": [],
   "source": [
    "# create a new dataframe such that the data is index by yearmonth\n",
    "# first, create a new column containing months\n",
    "df3 = pd.melt(df2, id_vars=[\"Year\"], var_name=\"Month\", value_name=\"MEI\",)"
   ]
  },
  {
   "cell_type": "code",
   "execution_count": 20,
   "metadata": {},
   "outputs": [
    {
     "data": {
      "text/html": [
       "<div>\n",
       "<style scoped>\n",
       "    .dataframe tbody tr th:only-of-type {\n",
       "        vertical-align: middle;\n",
       "    }\n",
       "\n",
       "    .dataframe tbody tr th {\n",
       "        vertical-align: top;\n",
       "    }\n",
       "\n",
       "    .dataframe thead th {\n",
       "        text-align: right;\n",
       "    }\n",
       "</style>\n",
       "<table border=\"1\" class=\"dataframe\">\n",
       "  <thead>\n",
       "    <tr style=\"text-align: right;\">\n",
       "      <th></th>\n",
       "      <th>Year</th>\n",
       "      <th>Month</th>\n",
       "      <th>MEI</th>\n",
       "    </tr>\n",
       "  </thead>\n",
       "  <tbody>\n",
       "    <tr>\n",
       "      <th>0</th>\n",
       "      <td>1950</td>\n",
       "      <td>Jan</td>\n",
       "      <td>-1.0965</td>\n",
       "    </tr>\n",
       "    <tr>\n",
       "      <th>1</th>\n",
       "      <td>1951</td>\n",
       "      <td>Jan</td>\n",
       "      <td>-1.1160</td>\n",
       "    </tr>\n",
       "    <tr>\n",
       "      <th>2</th>\n",
       "      <td>1952</td>\n",
       "      <td>Jan</td>\n",
       "      <td>0.2750</td>\n",
       "    </tr>\n",
       "    <tr>\n",
       "      <th>3</th>\n",
       "      <td>1953</td>\n",
       "      <td>Jan</td>\n",
       "      <td>0.2105</td>\n",
       "    </tr>\n",
       "    <tr>\n",
       "      <th>4</th>\n",
       "      <td>1954</td>\n",
       "      <td>Jan</td>\n",
       "      <td>-0.0420</td>\n",
       "    </tr>\n",
       "  </tbody>\n",
       "</table>\n",
       "</div>"
      ],
      "text/plain": [
       "   Year Month     MEI\n",
       "0  1950   Jan -1.0965\n",
       "1  1951   Jan -1.1160\n",
       "2  1952   Jan  0.2750\n",
       "3  1953   Jan  0.2105\n",
       "4  1954   Jan -0.0420"
      ]
     },
     "execution_count": 20,
     "metadata": {},
     "output_type": "execute_result"
    }
   ],
   "source": [
    "df3.head()"
   ]
  },
  {
   "cell_type": "code",
   "execution_count": 21,
   "metadata": {
    "collapsed": true
   },
   "outputs": [],
   "source": [
    "# create a new column where year and month are aggregated\n",
    "df3['date'] = df3[['Year', 'Month']].apply(lambda x: ' '.join(x), axis=1)"
   ]
  },
  {
   "cell_type": "code",
   "execution_count": 22,
   "metadata": {},
   "outputs": [
    {
     "data": {
      "text/html": [
       "<div>\n",
       "<style scoped>\n",
       "    .dataframe tbody tr th:only-of-type {\n",
       "        vertical-align: middle;\n",
       "    }\n",
       "\n",
       "    .dataframe tbody tr th {\n",
       "        vertical-align: top;\n",
       "    }\n",
       "\n",
       "    .dataframe thead th {\n",
       "        text-align: right;\n",
       "    }\n",
       "</style>\n",
       "<table border=\"1\" class=\"dataframe\">\n",
       "  <thead>\n",
       "    <tr style=\"text-align: right;\">\n",
       "      <th></th>\n",
       "      <th>Year</th>\n",
       "      <th>Month</th>\n",
       "      <th>MEI</th>\n",
       "      <th>date</th>\n",
       "    </tr>\n",
       "  </thead>\n",
       "  <tbody>\n",
       "    <tr>\n",
       "      <th>0</th>\n",
       "      <td>1950</td>\n",
       "      <td>Jan</td>\n",
       "      <td>-1.0965</td>\n",
       "      <td>1950 Jan</td>\n",
       "    </tr>\n",
       "    <tr>\n",
       "      <th>1</th>\n",
       "      <td>1951</td>\n",
       "      <td>Jan</td>\n",
       "      <td>-1.1160</td>\n",
       "      <td>1951 Jan</td>\n",
       "    </tr>\n",
       "    <tr>\n",
       "      <th>2</th>\n",
       "      <td>1952</td>\n",
       "      <td>Jan</td>\n",
       "      <td>0.2750</td>\n",
       "      <td>1952 Jan</td>\n",
       "    </tr>\n",
       "    <tr>\n",
       "      <th>3</th>\n",
       "      <td>1953</td>\n",
       "      <td>Jan</td>\n",
       "      <td>0.2105</td>\n",
       "      <td>1953 Jan</td>\n",
       "    </tr>\n",
       "    <tr>\n",
       "      <th>4</th>\n",
       "      <td>1954</td>\n",
       "      <td>Jan</td>\n",
       "      <td>-0.0420</td>\n",
       "      <td>1954 Jan</td>\n",
       "    </tr>\n",
       "  </tbody>\n",
       "</table>\n",
       "</div>"
      ],
      "text/plain": [
       "   Year Month     MEI      date\n",
       "0  1950   Jan -1.0965  1950 Jan\n",
       "1  1951   Jan -1.1160  1951 Jan\n",
       "2  1952   Jan  0.2750  1952 Jan\n",
       "3  1953   Jan  0.2105  1953 Jan\n",
       "4  1954   Jan -0.0420  1954 Jan"
      ]
     },
     "execution_count": 22,
     "metadata": {},
     "output_type": "execute_result"
    }
   ],
   "source": [
    "df3.head()"
   ]
  },
  {
   "cell_type": "code",
   "execution_count": 23,
   "metadata": {
    "collapsed": true
   },
   "outputs": [],
   "source": [
    "# convert date column data into datetime objects\n",
    "df3['datetime'] = pd.to_datetime(df3.date, format='%Y %b')"
   ]
  },
  {
   "cell_type": "code",
   "execution_count": 24,
   "metadata": {
    "collapsed": true
   },
   "outputs": [],
   "source": [
    "# set datetime column as index\n",
    "df3 = df3.set_index('datetime').sort_index()"
   ]
  },
  {
   "cell_type": "code",
   "execution_count": 25,
   "metadata": {},
   "outputs": [
    {
     "data": {
      "text/html": [
       "<div>\n",
       "<style scoped>\n",
       "    .dataframe tbody tr th:only-of-type {\n",
       "        vertical-align: middle;\n",
       "    }\n",
       "\n",
       "    .dataframe tbody tr th {\n",
       "        vertical-align: top;\n",
       "    }\n",
       "\n",
       "    .dataframe thead th {\n",
       "        text-align: right;\n",
       "    }\n",
       "</style>\n",
       "<table border=\"1\" class=\"dataframe\">\n",
       "  <thead>\n",
       "    <tr style=\"text-align: right;\">\n",
       "      <th></th>\n",
       "      <th>MEI</th>\n",
       "    </tr>\n",
       "    <tr>\n",
       "      <th>datetime</th>\n",
       "      <th></th>\n",
       "    </tr>\n",
       "  </thead>\n",
       "  <tbody>\n",
       "    <tr>\n",
       "      <th>1997-01-01</th>\n",
       "      <td>-0.5505</td>\n",
       "    </tr>\n",
       "    <tr>\n",
       "      <th>1997-02-01</th>\n",
       "      <td>-0.4365</td>\n",
       "    </tr>\n",
       "    <tr>\n",
       "      <th>1997-03-01</th>\n",
       "      <td>0.1455</td>\n",
       "    </tr>\n",
       "    <tr>\n",
       "      <th>1997-04-01</th>\n",
       "      <td>0.8415</td>\n",
       "    </tr>\n",
       "    <tr>\n",
       "      <th>1997-05-01</th>\n",
       "      <td>1.7135</td>\n",
       "    </tr>\n",
       "  </tbody>\n",
       "</table>\n",
       "</div>"
      ],
      "text/plain": [
       "               MEI\n",
       "datetime          \n",
       "1997-01-01 -0.5505\n",
       "1997-02-01 -0.4365\n",
       "1997-03-01  0.1455\n",
       "1997-04-01  0.8415\n",
       "1997-05-01  1.7135"
      ]
     },
     "execution_count": 25,
     "metadata": {},
     "output_type": "execute_result"
    }
   ],
   "source": [
    "# drop unneeded columns\n",
    "# collect data from 1997 on to match satellite data\n",
    "df3.drop(['Year', 'Month', 'date'], axis=1, inplace=True)\n",
    "df3 = df3['1997':]\n",
    "df3.head()"
   ]
  },
  {
   "cell_type": "code",
   "execution_count": 147,
   "metadata": {
    "collapsed": true
   },
   "outputs": [],
   "source": [
    "# pickle this final dataframe\n",
    "df3.to_pickle('./PklJar/dfMEI.pkl')"
   ]
  }
 ],
 "metadata": {
  "kernelspec": {
   "display_name": "Python 3",
   "language": "python",
   "name": "python3"
  },
  "language_info": {
   "codemirror_mode": {
    "name": "ipython",
    "version": 3
   },
   "file_extension": ".py",
   "mimetype": "text/x-python",
   "name": "python",
   "nbconvert_exporter": "python",
   "pygments_lexer": "ipython3",
   "version": "3.6.4"
  }
 },
 "nbformat": 4,
 "nbformat_minor": 1
}
